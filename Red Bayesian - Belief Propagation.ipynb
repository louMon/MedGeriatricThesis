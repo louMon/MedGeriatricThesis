{
 "cells": [
  {
   "cell_type": "code",
   "execution_count": 2,
   "metadata": {
    "collapsed": true
   },
   "outputs": [],
   "source": [
    "from pgmpy.models import BayesianModel\n",
    "from pgmpy.factors.discrete import TabularCPD\n",
    "from pgmpy.inference import BeliefPropagation\n",
    "from pgmpy.factors.discrete import DiscreteFactor"
   ]
  },
  {
   "cell_type": "code",
   "execution_count": 3,
   "metadata": {
    "collapsed": true
   },
   "outputs": [],
   "source": [
    "G = BayesianModel([('diff', 'grade'), ('intel', 'grade'),\n",
    "                 ('intel', 'SAT'), ('grade', 'letter')])"
   ]
  },
  {
   "cell_type": "code",
   "execution_count": 4,
   "metadata": {
    "collapsed": true
   },
   "outputs": [],
   "source": [
    "diff_cpd = TabularCPD('diff', 2, [[0.2], [0.8]])"
   ]
  },
  {
   "cell_type": "code",
   "execution_count": 5,
   "metadata": {
    "collapsed": true
   },
   "outputs": [],
   "source": [
    "intel_cpd = TabularCPD('intel', 3, [[0.5], [0.3], [0.2]])"
   ]
  },
  {
   "cell_type": "code",
   "execution_count": 20,
   "metadata": {
    "collapsed": true
   },
   "outputs": [],
   "source": [
    "grade_cpd = TabularCPD('grade', 3,\n",
    "                        [[0.1, 0.1, 0.1, 0.1, 0.1, 0.1],\n",
    "                         [0.1, 0.1, 0.1, 0.1, 0.1, 0.1],\n",
    "                         [0.8, 0.8, 0.8, 0.8, 0.8, 0.8]],\n",
    "                        evidence=['diff', 'intel'],\n",
    "                        evidence_card=[2, 3])"
   ]
  },
  {
   "cell_type": "code",
   "execution_count": 21,
   "metadata": {
    "collapsed": true
   },
   "outputs": [],
   "source": [
    "sat_cpd = TabularCPD('SAT', 2,\n",
    "                      [[0.1, 0.2, 0.7],\n",
    "                       [0.9, 0.8, 0.3]],\n",
    "                      evidence=['intel'], evidence_card=[3])"
   ]
  },
  {
   "cell_type": "code",
   "execution_count": 22,
   "metadata": {
    "collapsed": true
   },
   "outputs": [],
   "source": [
    "letter_cpd = TabularCPD('letter', 2,\n",
    "                         [[0.1, 0.4, 0.8],\n",
    "                          [0.9, 0.6, 0.2]],\n",
    "                         evidence=['grade'], evidence_card=[3])"
   ]
  },
  {
   "cell_type": "code",
   "execution_count": 23,
   "metadata": {
    "collapsed": true
   },
   "outputs": [],
   "source": [
    "G.add_cpds(diff_cpd, intel_cpd, grade_cpd, sat_cpd, letter_cpd)"
   ]
  },
  {
   "cell_type": "code",
   "execution_count": 24,
   "metadata": {
    "collapsed": true
   },
   "outputs": [],
   "source": [
    "bp = BeliefPropagation(G)"
   ]
  },
  {
   "cell_type": "code",
   "execution_count": 25,
   "metadata": {
    "collapsed": false
   },
   "outputs": [
    {
     "data": {
      "text/plain": [
       "<pgmpy.inference.ExactInference.BeliefPropagation at 0x7f9b71155d30>"
      ]
     },
     "execution_count": 25,
     "metadata": {},
     "output_type": "execute_result"
    }
   ],
   "source": [
    "bp"
   ]
  },
  {
   "cell_type": "code",
   "execution_count": null,
   "metadata": {
    "collapsed": true
   },
   "outputs": [],
   "source": []
  },
  {
   "cell_type": "code",
   "execution_count": 19,
   "metadata": {
    "collapsed": false
   },
   "outputs": [
    {
     "data": {
      "text/plain": [
       "'3.5.2 |Anaconda custom (64-bit)| (default, Jul  2 2016, 17:53:06) \\n[GCC 4.4.7 20120313 (Red Hat 4.4.7-1)]'"
      ]
     },
     "execution_count": 19,
     "metadata": {},
     "output_type": "execute_result"
    }
   ],
   "source": [
    "import sys\n",
    "sys.version"
   ]
  },
  {
   "cell_type": "code",
   "execution_count": 11,
   "metadata": {
    "collapsed": false
   },
   "outputs": [],
   "source": [
    "bp.calibrate()"
   ]
  },
  {
   "cell_type": "code",
   "execution_count": 12,
   "metadata": {
    "collapsed": false
   },
   "outputs": [
    {
     "data": {
      "text/plain": [
       "{('SAT',\n",
       "  'intel'): <DiscreteFactor representing phi(SAT:2, intel:3) at 0x7f9b711b16a0>,\n",
       " ('grade',\n",
       "  'diff',\n",
       "  'intel'): <DiscreteFactor representing phi(grade:3, diff:2, intel:3) at 0x7f9b711b1748>,\n",
       " ('grade',\n",
       "  'letter'): <DiscreteFactor representing phi(grade:3, letter:2) at 0x7f9b711b17b8>}"
      ]
     },
     "execution_count": 12,
     "metadata": {},
     "output_type": "execute_result"
    }
   ],
   "source": [
    "bp.get_clique_beliefs()"
   ]
  },
  {
   "cell_type": "code",
   "execution_count": 13,
   "metadata": {
    "collapsed": false
   },
   "outputs": [
    {
     "data": {
      "text/plain": [
       "[('grade', 'diff', 'intel'), ('SAT', 'intel'), ('grade', 'letter')]"
      ]
     },
     "execution_count": 13,
     "metadata": {},
     "output_type": "execute_result"
    }
   ],
   "source": [
    "bp.get_cliques()"
   ]
  },
  {
   "cell_type": "code",
   "execution_count": 14,
   "metadata": {
    "collapsed": false
   },
   "outputs": [],
   "source": [
    "bayesian_model = BayesianModel([('A', 'J'), ('R', 'J'), ('J', 'Q'),\n",
    "                                 ('J', 'L'), ('G', 'L')])\n",
    "cpd_a = TabularCPD('A', 2, [[0.2], [0.8]])\n",
    "\n",
    "cpd_r = TabularCPD('R', 2, [[0.4], [0.6]])\n",
    "\n",
    "cpd_j = TabularCPD('J', 2,\n",
    "                    [[0.9, 0.6, 0.7, 0.1],\n",
    "                     [0.1, 0.4, 0.3, 0.9]],\n",
    "                    ['R', 'A'], [2, 2])\n",
    "\n",
    "cpd_q = TabularCPD('Q', 2,\n",
    "                    [[0.9, 0.2],\n",
    "                     [0.1, 0.8]],\n",
    "                    ['J'], [2])\n",
    "\n",
    "cpd_l = TabularCPD('L', 2,\n",
    "                    [[0.9, 0.45, 0.8, 0.1],\n",
    "                     [0.1, 0.55, 0.2, 0.9]],\n",
    "                    ['G', 'J'], [2, 2])\n",
    "\n",
    "cpd_g = TabularCPD('G', 2, [[0.6], [0.4]])\n",
    "\n",
    "bayesian_model.add_cpds(cpd_a, cpd_r, cpd_j, cpd_q, cpd_l, cpd_g)\n",
    "\n",
    "belief_propagation = BeliefPropagation(bayesian_model)\n"
   ]
  },
  {
   "cell_type": "code",
   "execution_count": 15,
   "metadata": {
    "collapsed": false
   },
   "outputs": [
    {
     "data": {
      "text/plain": [
       "<pgmpy.inference.ExactInference.BeliefPropagation at 0x7f9b71155940>"
      ]
     },
     "execution_count": 15,
     "metadata": {},
     "output_type": "execute_result"
    }
   ],
   "source": [
    "belief_propagation"
   ]
  },
  {
   "cell_type": "code",
   "execution_count": 26,
   "metadata": {
    "collapsed": false
   },
   "outputs": [],
   "source": [
    "p=belief_propagation.map_query(variables=['J', 'Q'],\n",
    "                              evidence={'A': 0, 'R': 0, 'G': 0, 'L': 1})\n"
   ]
  },
  {
   "cell_type": "code",
   "execution_count": 27,
   "metadata": {
    "collapsed": false
   },
   "outputs": [
    {
     "data": {
      "text/plain": [
       "{'J': 0, 'Q': 0}"
      ]
     },
     "execution_count": 27,
     "metadata": {},
     "output_type": "execute_result"
    }
   ],
   "source": [
    "p"
   ]
  },
  {
   "cell_type": "code",
   "execution_count": 84,
   "metadata": {
    "collapsed": true
   },
   "outputs": [],
   "source": [
    "index = p['J']"
   ]
  },
  {
   "cell_type": "code",
   "execution_count": 85,
   "metadata": {
    "collapsed": false
   },
   "outputs": [
    {
     "data": {
      "text/plain": [
       "0"
      ]
     },
     "execution_count": 85,
     "metadata": {},
     "output_type": "execute_result"
    }
   ],
   "source": [
    "index"
   ]
  },
  {
   "cell_type": "code",
   "execution_count": 89,
   "metadata": {
    "collapsed": false,
    "scrolled": true
   },
   "outputs": [],
   "source": [
    "p=belief_propagation.query(variables=['J', 'Q'],\n",
    "                              evidence={'A': 0, 'R': 0, 'G': 0, 'L': 1})\n",
    "array= p['J'].values"
   ]
  },
  {
   "cell_type": "code",
   "execution_count": 90,
   "metadata": {
    "collapsed": false
   },
   "outputs": [
    {
     "data": {
      "text/plain": [
       "0.62068965517241381"
      ]
     },
     "execution_count": 90,
     "metadata": {},
     "output_type": "execute_result"
    }
   ],
   "source": [
    "array[index]"
   ]
  },
  {
   "cell_type": "code",
   "execution_count": 2,
   "metadata": {
    "collapsed": false
   },
   "outputs": [],
   "source": [
    "from pgmpy.inference import VariableElimination\n",
    "from pgmpy.models import BayesianModel\n",
    "import numpy as np\n",
    "import pandas as pd\n",
    "values = pd.DataFrame(np.random.randint(low=0, high=2, size=(1000, 5)),\n",
    "                       columns=['A', 'B', 'C', 'D', 'E'])\n",
    "model = BayesianModel([('A', 'B'), ('C', 'B'), ('C', 'D'), ('B', 'E')])\n",
    "model.fit(values)\n",
    "inference = VariableElimination(model)\n",
    "phi_query = inference.query(['A', 'B'])"
   ]
  },
  {
   "cell_type": "code",
   "execution_count": 3,
   "metadata": {
    "collapsed": false
   },
   "outputs": [
    {
     "name": "stdout",
     "output_type": "stream",
     "text": [
      "[ 0.524  0.476]\n"
     ]
    }
   ],
   "source": [
    "print(phi_query['A'].values)"
   ]
  },
  {
   "cell_type": "code",
   "execution_count": null,
   "metadata": {
    "collapsed": true
   },
   "outputs": [],
   "source": []
  }
 ],
 "metadata": {
  "kernelspec": {
   "display_name": "Python [anaconda3]",
   "language": "python",
   "name": "Python [anaconda3]"
  },
  "language_info": {
   "codemirror_mode": {
    "name": "ipython",
    "version": 3
   },
   "file_extension": ".py",
   "mimetype": "text/x-python",
   "name": "python",
   "nbconvert_exporter": "python",
   "pygments_lexer": "ipython3",
   "version": "3.5.2"
  }
 },
 "nbformat": 4,
 "nbformat_minor": 0
}
