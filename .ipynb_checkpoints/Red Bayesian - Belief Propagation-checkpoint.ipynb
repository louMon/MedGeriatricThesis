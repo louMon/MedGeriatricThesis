{
 "cells": [
  {
   "cell_type": "code",
   "execution_count": 31,
   "metadata": {
    "collapsed": true
   },
   "outputs": [],
   "source": [
    "from pgmpy.models import BayesianModel\n",
    "from pgmpy.factors.discrete import TabularCPD\n",
    "from pgmpy.inference import BeliefPropagation\n",
    "from pgmpy.factors.discrete import DiscreteFactor"
   ]
  },
  {
   "cell_type": "code",
   "execution_count": 32,
   "metadata": {
    "collapsed": true
   },
   "outputs": [],
   "source": [
    "G = BayesianModel([('diff', 'grade'), ('intel', 'grade'),\n",
    "                 ('intel', 'SAT'), ('grade', 'letter')])"
   ]
  },
  {
   "cell_type": "code",
   "execution_count": 33,
   "metadata": {
    "collapsed": true
   },
   "outputs": [],
   "source": [
    "diff_cpd = TabularCPD('diff', 2, [[0.2], [0.8]])"
   ]
  },
  {
   "cell_type": "code",
   "execution_count": 34,
   "metadata": {
    "collapsed": true
   },
   "outputs": [],
   "source": [
    "intel_cpd = TabularCPD('intel', 3, [[0.5], [0.3], [0.2]])"
   ]
  },
  {
   "cell_type": "code",
   "execution_count": 35,
   "metadata": {
    "collapsed": true
   },
   "outputs": [],
   "source": [
    "grade_cpd = TabularCPD('grade', 3,\n",
    "                        [[0.1, 0.1, 0.1, 0.1, 0.1, 0.1],\n",
    "                         [0.1, 0.1, 0.1, 0.1, 0.1, 0.1],\n",
    "                         [0.8, 0.8, 0.8, 0.8, 0.8, 0.8]],\n",
    "                        evidence=['diff', 'intel'],\n",
    "                        evidence_card=[2, 3])"
   ]
  },
  {
   "cell_type": "code",
   "execution_count": 36,
   "metadata": {
    "collapsed": true
   },
   "outputs": [],
   "source": [
    "sat_cpd = TabularCPD('SAT', 2,\n",
    "                      [[0.1, 0.2, 0.7],\n",
    "                       [0.9, 0.8, 0.3]],\n",
    "                      evidence=['intel'], evidence_card=[3])"
   ]
  },
  {
   "cell_type": "code",
   "execution_count": 37,
   "metadata": {
    "collapsed": true
   },
   "outputs": [],
   "source": [
    "letter_cpd = TabularCPD('letter', 2,\n",
    "                         [[0.1, 0.4, 0.8],\n",
    "                          [0.9, 0.6, 0.2]],\n",
    "                         evidence=['grade'], evidence_card=[3])"
   ]
  },
  {
   "cell_type": "code",
   "execution_count": 38,
   "metadata": {
    "collapsed": true
   },
   "outputs": [],
   "source": [
    "G.add_cpds(diff_cpd, intel_cpd, grade_cpd, sat_cpd, letter_cpd)"
   ]
  },
  {
   "cell_type": "code",
   "execution_count": 39,
   "metadata": {
    "collapsed": true
   },
   "outputs": [],
   "source": [
    "bp = BeliefPropagation(G)"
   ]
  },
  {
   "cell_type": "code",
   "execution_count": 40,
   "metadata": {
    "collapsed": false
   },
   "outputs": [],
   "source": [
    "bp.calibrate()"
   ]
  },
  {
   "cell_type": "code",
   "execution_count": 41,
   "metadata": {
    "collapsed": false
   },
   "outputs": [
    {
     "data": {
      "text/plain": [
       "{('SAT',\n",
       "  'intel'): <DiscreteFactor representing phi(SAT:2, intel:3) at 0x7f038cfbc2e8>,\n",
       " ('grade',\n",
       "  'intel',\n",
       "  'diff'): <DiscreteFactor representing phi(grade:3, intel:3, diff:2) at 0x7f038cfbc9b0>,\n",
       " ('grade',\n",
       "  'letter'): <DiscreteFactor representing phi(grade:3, letter:2) at 0x7f038cfbc438>}"
      ]
     },
     "execution_count": 41,
     "metadata": {},
     "output_type": "execute_result"
    }
   ],
   "source": [
    "bp.get_clique_beliefs()"
   ]
  },
  {
   "cell_type": "code",
   "execution_count": 42,
   "metadata": {
    "collapsed": false
   },
   "outputs": [
    {
     "data": {
      "text/plain": [
       "[('SAT', 'intel'), ('grade', 'letter'), ('grade', 'intel', 'diff')]"
      ]
     },
     "execution_count": 42,
     "metadata": {},
     "output_type": "execute_result"
    }
   ],
   "source": [
    "bp.get_cliques()"
   ]
  },
  {
   "cell_type": "code",
   "execution_count": 43,
   "metadata": {
    "collapsed": false
   },
   "outputs": [],
   "source": [
    "bayesian_model = BayesianModel([('A', 'J'), ('R', 'J'), ('J', 'Q'),\n",
    "                                 ('J', 'L'), ('G', 'L')])\n",
    "cpd_a = TabularCPD('A', 2, [[0.2], [0.8]])\n",
    "cpd_r = TabularCPD('R', 2, [[0.4], [0.6]])\n",
    "cpd_j = TabularCPD('J', 2,\n",
    "                    [[0.9, 0.6, 0.7, 0.1],\n",
    "                     [0.1, 0.4, 0.3, 0.9]],\n",
    "                    ['R', 'A'], [2, 2])\n",
    "cpd_q = TabularCPD('Q', 2,\n",
    "                    [[0.9, 0.2],\n",
    "                     [0.1, 0.8]],\n",
    "                    ['J'], [2])\n",
    "cpd_l = TabularCPD('L', 2,\n",
    "                    [[0.9, 0.45, 0.8, 0.1],\n",
    "                     [0.1, 0.55, 0.2, 0.9]],\n",
    "                    ['G', 'J'], [2, 2])\n",
    "cpd_g = TabularCPD('G', 2, [[0.6], [0.4]])\n",
    "bayesian_model.add_cpds(cpd_a, cpd_r, cpd_j, cpd_q, cpd_l, cpd_g)\n",
    "belief_propagation = BeliefPropagation(bayesian_model)\n"
   ]
  },
  {
   "cell_type": "code",
   "execution_count": 81,
   "metadata": {
    "collapsed": false
   },
   "outputs": [],
   "source": [
    "p=belief_propagation.map_query(variables=['J', 'Q'],\n",
    "                              evidence={'A': 0, 'R': 0, 'G': 0, 'L': 1})\n"
   ]
  },
  {
   "cell_type": "code",
   "execution_count": 84,
   "metadata": {
    "collapsed": true
   },
   "outputs": [],
   "source": [
    "index = p['J']"
   ]
  },
  {
   "cell_type": "code",
   "execution_count": 85,
   "metadata": {
    "collapsed": false
   },
   "outputs": [
    {
     "data": {
      "text/plain": [
       "0"
      ]
     },
     "execution_count": 85,
     "metadata": {},
     "output_type": "execute_result"
    }
   ],
   "source": [
    "index"
   ]
  },
  {
   "cell_type": "code",
   "execution_count": 89,
   "metadata": {
    "collapsed": false,
    "scrolled": true
   },
   "outputs": [],
   "source": [
    "p=belief_propagation.query(variables=['J', 'Q'],\n",
    "                              evidence={'A': 0, 'R': 0, 'G': 0, 'L': 1})\n",
    "array= p['J'].values"
   ]
  },
  {
   "cell_type": "code",
   "execution_count": 90,
   "metadata": {
    "collapsed": false
   },
   "outputs": [
    {
     "data": {
      "text/plain": [
       "0.62068965517241381"
      ]
     },
     "execution_count": 90,
     "metadata": {},
     "output_type": "execute_result"
    }
   ],
   "source": [
    "array[index]"
   ]
  },
  {
   "cell_type": "code",
   "execution_count": 59,
   "metadata": {
    "collapsed": false
   },
   "outputs": [],
   "source": [
    "from pgmpy.inference import VariableElimination\n",
    "from pgmpy.models import BayesianModel\n",
    "import numpy as np\n",
    "import pandas as pd\n",
    "values = pd.DataFrame(np.random.randint(low=0, high=2, size=(1000, 5)),\n",
    "                       columns=['A', 'B', 'C', 'D', 'E'])\n",
    "model = BayesianModel([('A', 'B'), ('C', 'B'), ('C', 'D'), ('B', 'E')])\n",
    "model.fit(values)\n",
    "inference = VariableElimination(model)\n",
    "phi_query = inference.query(['A', 'B'])"
   ]
  },
  {
   "cell_type": "code",
   "execution_count": 73,
   "metadata": {
    "collapsed": false
   },
   "outputs": [
    {
     "name": "stdout",
     "output_type": "stream",
     "text": [
      "[ 0.514  0.486]\n"
     ]
    }
   ],
   "source": [
    "print(phi_query['A'].values)"
   ]
  },
  {
   "cell_type": "code",
   "execution_count": null,
   "metadata": {
    "collapsed": true
   },
   "outputs": [],
   "source": []
  },
  {
   "cell_type": "code",
   "execution_count": null,
   "metadata": {
    "collapsed": true
   },
   "outputs": [],
   "source": []
  }
 ],
 "metadata": {
  "kernelspec": {
   "display_name": "Python [anaconda3]",
   "language": "python",
   "name": "Python [anaconda3]"
  },
  "language_info": {
   "codemirror_mode": {
    "name": "ipython",
    "version": 3
   },
   "file_extension": ".py",
   "mimetype": "text/x-python",
   "name": "python",
   "nbconvert_exporter": "python",
   "pygments_lexer": "ipython3",
   "version": "3.5.2"
  }
 },
 "nbformat": 4,
 "nbformat_minor": 0
}
