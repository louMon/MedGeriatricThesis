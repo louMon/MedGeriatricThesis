{
 "cells": [
  {
   "cell_type": "code",
   "execution_count": 1,
   "metadata": {
    "collapsed": true
   },
   "outputs": [],
   "source": [
    "from pgmpy.models import BayesianModel\n",
    "from pgmpy.factors.discrete import TabularCPD\n",
    "from pgmpy.inference import BeliefPropagation\n",
    "from pgmpy.factors.discrete import DiscreteFactor\n",
    "from utils import *\n",
    "import pandas as pd\n",
    "import numpy as np\n"
   ]
  },
  {
   "cell_type": "code",
   "execution_count": 60,
   "metadata": {
    "collapsed": false
   },
   "outputs": [],
   "source": [
    "def formQuery(arrAll, arrChoose):\n",
    "    query=\"\"\n",
    "    arrBit = []\n",
    "    for idx,val in enumerate(arr):\n",
    "        if(arr[idx] in arrChoose):\n",
    "            arrBit.append(1)\n",
    "        else:\n",
    "            arrBit.append(0)\n",
    "    for idx,val in enumerate(arr):\n",
    "        if(idx == (len(arr) -1)):\n",
    "            query+= str(arr[idx]) + '==' + str(arrBit[idx])\n",
    "        else:\n",
    "            query+= str(arr[idx]) + '==' + str(arrBit[idx])+ ' & '\n",
    "    return query\n",
    "    "
   ]
  },
  {
   "cell_type": "code",
   "execution_count": 61,
   "metadata": {
    "collapsed": true
   },
   "outputs": [],
   "source": [
    "def formProbabilidades(arrEstados, arrProbabilidades):\n",
    "    probabilidad_string=\"\"\n",
    "    dicc = {}\n",
    "    for idx,val in enumerate(arrEstados):\n",
    "        dicc[val] = [arrProbabilidades[idx]]\n",
    "    return dicc\n",
    "    "
   ]
  },
  {
   "cell_type": "code",
   "execution_count": 62,
   "metadata": {
    "collapsed": false
   },
   "outputs": [
    {
     "data": {
      "text/plain": [
       "{'Alta': [0.2], 'Baja': [0.1], 'Normal': [0.7]}"
      ]
     },
     "execution_count": 62,
     "metadata": {},
     "output_type": "execute_result"
    }
   ],
   "source": [
    "dicc = formProbabilidades(['Alta','Normal','Baja'],[0.20,0.70,0.10])\n",
    "dicc"
   ]
  },
  {
   "cell_type": "code",
   "execution_count": 59,
   "metadata": {
    "collapsed": false
   },
   "outputs": [
    {
     "data": {
      "text/plain": [
       "'MR_amlodipino==1 & MR_captopril==0 & MR_carvedilol==1'"
      ]
     },
     "execution_count": 59,
     "metadata": {},
     "output_type": "execute_result"
    }
   ],
   "source": [
    "\n",
    "query = formQuery(['MR_amlodipino','MR_captopril','MR_carvedilol'],['MR_amlodipino', 'MR_carvedilol'] )\n",
    "query"
   ]
  },
  {
   "cell_type": "code",
   "execution_count": 64,
   "metadata": {
    "collapsed": true
   },
   "outputs": [],
   "source": [
    "arrProbabilidades = [[0.20,0.70,0.10],[0.10,0.80,0.10],[0.05,0.85,0.10],[0.20,0.80,0.10],[0.25,0.75,0.00],\n",
    "                     [0.20,0.70,0.10],[0.10,0.80,0.10],[0.05,0.95,0.00],[0.10,0.80,0.10],[0.10,0.80,0.10],\n",
    "                     [0.20,0.75,0.05],[0.15,0.80,0.05],[0.10,0.80,0.10]]"
   ]
  },
  {
   "cell_type": "code",
   "execution_count": null,
   "metadata": {
    "collapsed": true
   },
   "outputs": [],
   "source": []
  },
  {
   "cell_type": "code",
   "execution_count": null,
   "metadata": {
    "collapsed": true
   },
   "outputs": [],
   "source": [
    "def generateProbabilisticTable(arrEvidenciaEstados, arrEvidenciaVariables, arrVaribles, arrProbabilidades):\n",
    "    df_ANT_presion_arterial = createCombinationDataframe([2,2,2,2,2,3,2,3,2,2,2],['MR_amlodipino','MR_captopril' ,'MR_carvedilol','MR_enalapril','MR_furosemida','MR_hidroclorothiazida','MR_losartan','MR_metropolol','MR_prazosin','MR_propanolol','MR_verapamilo']) \n",
    "    df_presion_arterial= initProbabilisticDataframe([2,2,2,2,2,3,2,3,2,2,2],['Alta','Normal','Baja'],[0.33,0.34,0.33])\n",
    "    \n",
    "    #single evidence\n",
    "    for i,val in enumerate(arrEvidenciaVariables):\n",
    "        query_string = formQuery(arrEvidenciaVariables, arrEvidenciaVariables[i])\n",
    "        ef_evidence  = df.query(query_string)\n",
    "        arr_index    = getIndexToSet(ef_evidence.index)\n",
    "        \n",
    "    \n",
    "    dicc_amlodipino  = {'Alta': [0.20],'Normal': [0.70],'Baja': [0.10]}\n",
    "    dicc_captopril   = {'Alta': [0.10],'Normal': [0.80],'Baja': [0.10]}\n",
    "    dicc_carvedilol  = {'Alta': [0.05],'Normal': [0.85],'Baja': [0.10]}\n",
    "    dicc_enalapril   = {'Alta': [0.20],'Normal': [0.80],'Baja': [0.00]}\n",
    "    dicc_furosemida  = {'Alta': [0.25],'Normal': [0.75],'Baja': [0.00]}\n",
    "    dicc_hidroclorothiazida = {'Alta': [0.20],'Normal': [0.70],'Baja': [0.10]}\n",
    "    dicc_losartan    = {'Alta': [0.10],'Normal': [0.80],'Baja': [0.10]}\n",
    "    dicc_metropolol  = {'Alta': [0.05],'Normal': [0.95],'Baja': [0.00]}\n",
    "    dicc_prazosin    = {'Alta': [0.20],'Normal': [0.75],'Baja': [0.05]}\n",
    "    dicc_prazosin    = {'Alta': [0.15],'Normal': [0.80],'Baja': [0.05]}\n",
    "    dicc_verapamilo  = {'Alta': [0.10],'Normal': [0.80],'Baja': [0.10]}\n",
    "    \n",
    "    setProbabilisticValue(df_presion_arterial, dicc_amlodipino, arrIndex_amlodipino )\n",
    "    setProbabilisticValue(df_presion_arterial, dicc_captopril, arrIndex_captopril )\n",
    "    setProbabilisticValue(df_presion_arterial, dicc_carvedilol, arrIndex_carvedilol )\n",
    "    setProbabilisticValue(df_presion_arterial, dicc_enalapril, arrIndex_enalapril )\n",
    "    setProbabilisticValue(df_presion_arterial, dicc_furosemida , arrIndex_furosemida )\n",
    "    setProbabilisticValue(df_presion_arterial, dicc_hidroclorothiazida, arrIndex_hidroclorothiazida )\n",
    "    setProbabilisticValue(df_presion_arterial, dicc_losartan , arrIndex_losartan )\n",
    "    setProbabilisticValue(df_presion_arterial, dicc_metropolol, arrIndex_metropolol )\n",
    "    setProbabilisticValue(df_presion_arterial, dicc_prazosin, arrIndex_prazosin )\n",
    "    setProbabilisticValue(df_presion_arterial, dicc_prazosin, arrIndex_propanolol )\n",
    "    setProbabilisticValue(df_presion_arterial, dicc_verapamilo, arrIndex_verapamilo )\n",
    "    \n",
    "    values_presion_arterial=getListaEvidencia(df_presion_arterial)\n",
    "    "
   ]
  },
  {
   "cell_type": "code",
   "execution_count": null,
   "metadata": {
    "collapsed": true
   },
   "outputs": [],
   "source": [
    "    EF_amlodipino = df_ANT_presion_arterial.query('MR_amlodipino==1 & MR_captopril==0 & MR_carvedilol==0 & MR_enalapril==0 & MR_furosemida==0 & MR_hidroclorothiazida==0 & MR_losartan==0 & MR_metropolol==0 & MR_prazosin==0 & MR_propanolol==0 & MR_verapamilo==0')\n",
    "    EF_captopril  = df_ANT_presion_arterial.query('MR_amlodipino==0 & MR_captopril==1 & MR_carvedilol==0 & MR_enalapril==0 & MR_furosemida==0 & MR_hidroclorothiazida==0 & MR_losartan==0 & MR_metropolol==0 & MR_prazosin==0 & MR_propanolol==0 & MR_verapamilo==0')\n",
    "    EF_carvedilol = df_ANT_presion_arterial.query('MR_amlodipino==0 & MR_captopril==0 & MR_carvedilol==1 & MR_enalapril==0 & MR_furosemida==0 & MR_hidroclorothiazida==0 & MR_losartan==0 & MR_metropolol==0 & MR_prazosin==0 & MR_propanolol==0 & MR_verapamilo==0')\n",
    "    EF_enalapril  = df_ANT_presion_arterial.query('MR_amlodipino==0 & MR_captopril==0 & MR_carvedilol==0 & MR_enalapril==1 & MR_furosemida==0 & MR_hidroclorothiazida==0 & MR_losartan==0 & MR_metropolol==0 & MR_prazosin==0 & MR_propanolol==0 & MR_verapamilo==0')\n",
    "    EF_furosemida = df_ANT_presion_arterial.query('MR_amlodipino==0 & MR_captopril==0 & MR_carvedilol==0 & MR_enalapril==0 & MR_furosemida==1 & MR_hidroclorothiazida==0 & MR_losartan==0 & MR_metropolol==0 & MR_prazosin==0 & MR_propanolol==0 & MR_verapamilo==0')\n",
    "    EF_hidroclorothiazida = df_ANT_presion_arterial.query('MR_amlodipino==0 & MR_captopril==0 & MR_carvedilol==0 & MR_enalapril==0 & MR_furosemida==0 & MR_hidroclorothiazida==1 & MR_losartan==0 & MR_metropolol==0 & MR_prazosin==0 & MR_propanolol==0 & MR_verapamilo==0')\n",
    "    EF_losartan   = df_ANT_presion_arterial.query('MR_amlodipino==0 & MR_captopril==0 & MR_carvedilol==0 & MR_enalapril==0 & MR_furosemida==0 & MR_hidroclorothiazida==0 & MR_losartan==1 & MR_metropolol==0 & MR_prazosin==0 & MR_propanolol==0 & MR_verapamilo==0')\n",
    "    EF_metropolol = df_ANT_presion_arterial.query('MR_amlodipino==0 & MR_captopril==0 & MR_carvedilol==0 & MR_enalapril==0 & MR_furosemida==0 & MR_hidroclorothiazida==0 & MR_losartan==0 & MR_metropolol==1 & MR_prazosin==0 & MR_propanolol==0 & MR_verapamilo==0')\n",
    "    EF_prazosin   = df_ANT_presion_arterial.query('MR_amlodipino==0 & MR_captopril==0 & MR_carvedilol==0 & MR_enalapril==0 & MR_furosemida==0 & MR_hidroclorothiazida==0 & MR_losartan==0 & MR_metropolol==0 & MR_prazosin==1 & MR_propanolol==0 & MR_verapamilo==0')\n",
    "    EF_propanolol = df_ANT_presion_arterial.query('MR_amlodipino==0 & MR_captopril==0 & MR_carvedilol==0 & MR_enalapril==0 & MR_furosemida==0 & MR_hidroclorothiazida==0 & MR_losartan==0 & MR_metropolol==0 & MR_prazosin==0 & MR_propanolol==1 & MR_verapamilo==0')\n",
    "    EF_verapamilo = df_ANT_presion_arterial.query('MR_amlodipino==0 & MR_captopril==0 & MR_carvedilol==0 & MR_enalapril==0 & MR_furosemida==0 & MR_hidroclorothiazida==0 & MR_losartan==0 & MR_metropolol==0 & MR_prazosin==0 & MR_propanolol==0 & MR_verapamilo==1')\n",
    "    \n",
    "    arrIndex_amlodipino = getIndexToSet(EF_amlodipino.index)\n",
    "    arrIndex_captopril = getIndexToSet(EF_captopril.index)\n",
    "    arrIndex_carvedilol = getIndexToSet(EF_carvedilol.index)\n",
    "    arrIndex_enalapril = getIndexToSet(EF_enalapril.index)\n",
    "    arrIndex_furosemida = getIndexToSet(EF_furosemida.index)\n",
    "    arrIndex_hidroclorothiazida = getIndexToSet(EF_hidroclorothiazida.index)\n",
    "    arrIndex_losartan = getIndexToSet(EF_losartan.index)\n",
    "    arrIndex_metropolol = getIndexToSet(EF_metropolol.index)\n",
    "    arrIndex_prazosin= getIndexToSet(EF_prazosin.index)\n",
    "    arrIndex_propanolol = getIndexToSet(EF_propanolol.index)\n",
    "    arrIndex_verapamilo = getIndexToSet(EF_verapamilo.index)"
   ]
  },
  {
   "cell_type": "code",
   "execution_count": null,
   "metadata": {
    "collapsed": true
   },
   "outputs": [],
   "source": []
  },
  {
   "cell_type": "code",
   "execution_count": null,
   "metadata": {
    "collapsed": true
   },
   "outputs": [],
   "source": [
    "\n"
   ]
  },
  {
   "cell_type": "code",
   "execution_count": null,
   "metadata": {
    "collapsed": true
   },
   "outputs": [],
   "source": []
  },
  {
   "cell_type": "code",
   "execution_count": null,
   "metadata": {
    "collapsed": true
   },
   "outputs": [],
   "source": []
  }
 ],
 "metadata": {
  "kernelspec": {
   "display_name": "Python [anaconda3]",
   "language": "python",
   "name": "Python [anaconda3]"
  },
  "language_info": {
   "codemirror_mode": {
    "name": "ipython",
    "version": 3
   },
   "file_extension": ".py",
   "mimetype": "text/x-python",
   "name": "python",
   "nbconvert_exporter": "python",
   "pygments_lexer": "ipython3",
   "version": "3.5.2"
  }
 },
 "nbformat": 4,
 "nbformat_minor": 0
}
