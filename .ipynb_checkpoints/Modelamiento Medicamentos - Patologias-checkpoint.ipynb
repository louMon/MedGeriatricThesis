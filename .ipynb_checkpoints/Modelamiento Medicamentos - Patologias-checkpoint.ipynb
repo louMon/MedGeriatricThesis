{
 "cells": [
  {
   "cell_type": "markdown",
   "metadata": {},
   "source": [
    "# Red Bayesiana para predecir la combinacion de medicamentos mas adecuada en pacientes geriatricos\n",
    "El objetivo del presente proyecto es poder crear una red Bayesiana, la cual modele probabilisticamente un dominio para predicción de medicamentos para diversas patologias y segun la naturaleza del paciente. \n",
    "A continuacion, se muestran algunas de las variables aleatórias involucradas en el dominio\n",
    "\n",
    "## Variables destinadas a los antecedentes del paciente geriatrico\n",
    "\n",
    "<b>EP_Insuficiencia_Cardiaca</b>: Background o Antecedentes de enfermedades de los pacientes geriatricos(Presente, Ausente)\n",
    "\n",
    "<b>EP_Asma_Bronquial</b>: Background o Antecedentes de enfermedades de los pacientes geriatricos. (Presente, Ausente)\n",
    "\n",
    "<b>EP_Diabetes</b>: Background o Antecedentes de enfermedades de los pacientes geriatricos. (Presente,Ausente)\n",
    "\n",
    "<b>EP_Gota</b>: Background o Antecedentes de enfermedades de los pacientes geriatricos. (Presente,Ausente)\n",
    "\n",
    "<b>MP_Ibuprofeno</b>: Background o Antecedentes de los medicamentos que consumen los pacientes geriatricos. (Prescrito,No Prescrito)\n",
    "\n",
    "## Variables destinadas a los posibles medicamentos a recetar\n",
    "\n",
    "<b>MR_metropolol</b>: Metropolol (Prescribir Normal, Prescribir condicion Diabetes, No Prescribir)\n",
    "\n",
    "<b>MR_hidroclorothiazida</b>: Hidroclorothiazida (Prescribir Normal, Prescribir condicion Diabetes, No Prescribir)\n",
    "\n",
    "<b>MR_amlodipino</b>: Amlodipino (Prescribir, No Prescribir)\n",
    "\n",
    "<b>MR_losartan</b>: Losartan (Prescribir, No Prescribir)\n",
    "\n",
    "<b>MR_metropolol</b>: Metropolol (Prescribir, No Prescribir)\n",
    "\n",
    "<b>MR_enalapril</b>: Enalapril (Prescribir, No Prescribir)\n",
    "\n",
    "<b>MR_furosemida</b>: Furosemida (Prescribir, No Prescribir)\n",
    "\n",
    "<b>MR_prazosin</b>: Prazosin (Prescribir, No Prescribir)\n",
    "\n",
    "<b>MR_verapamilo</b>: Verapamilo (Prescribir, No Prescribir)\n",
    "\n",
    "<b>MR_propanolol</b>: Propanolol (Prescribir, No Prescribir)\n",
    "\n",
    "<b>MR_carvedilol</b>: Carvedilol (Prescribir, No Prescribir)\n",
    "\n",
    "\n",
    "## Variables destinadas a los sintomas y efectos secundarios resultantes\n",
    "\n",
    "<b>SA_angina_de_pecho</b>: Angina de Pecho (Presente, Ausente)\n",
    "\n",
    "<b>SA_presion_arterial</b>: Presion arterial (Alta, Normal,Baja)\n",
    "\n",
    "<b>SA_danho_rinhones</b>: Danho en Rinhones (Presente, Ausente)\n"
   ]
  },
  {
   "cell_type": "code",
   "execution_count": 1,
   "metadata": {
    "collapsed": false
   },
   "outputs": [],
   "source": [
    "from pgmpy.models import BayesianModel\n",
    "from pgmpy.factors.discrete import TabularCPD\n",
    "from pgmpy.inference import BeliefPropagation\n",
    "from pgmpy.factors.discrete import DiscreteFactor\n",
    "from utils import *\n",
    "import pandas as pd\n",
    "import numpy as np\n"
   ]
  },
  {
   "cell_type": "markdown",
   "metadata": {},
   "source": [
    "\n",
    "# Creacion de la tabla de verdad que brinda evidencia de los medicamentos hacia algun sintoma\n",
    "\n"
   ]
  },
  {
   "cell_type": "markdown",
   "metadata": {},
   "source": [
    "Base: Numero que indica la cantidad a repetirse\n",
    "\n",
    "Por ejemplo:\n",
    "\n",
    "- tamanho base 4: [ 1 1 0 0 ]               \n",
    "\n",
    "- tamanho base 8: [ 1 1 1 1 0 0 0 0]      \n",
    "\n",
    "- tamanho base 6: [ 2 2 1 1 0 0]       "
   ]
  },
  {
   "cell_type": "code",
   "execution_count": 2,
   "metadata": {
    "collapsed": false,
    "scrolled": false
   },
   "outputs": [
    {
     "data": {
      "text/plain": [
       "(4608, 11)"
      ]
     },
     "execution_count": 2,
     "metadata": {},
     "output_type": "execute_result"
    }
   ],
   "source": [
    "#Colocar los medicamentos de izquierda a derecha \n",
    "df_ANT_presion_arterial = createCombinationDataframe([2,2,2,2,2,3,2,3,2,2,2],['MR_amlodipino','MR_captopril' ,'MR_carvedilol','MR_enalapril','MR_furosemida','MR_hidroclorothiazida','MR_losartan','MR_metropolol','MR_prazosin','MR_propanolol','MR_verapamilo']) \n",
    "\n",
    "df_ANT_presion_arterial.shape"
   ]
  },
  {
   "cell_type": "code",
   "execution_count": 3,
   "metadata": {
    "collapsed": false
   },
   "outputs": [
    {
     "data": {
      "text/html": [
       "<div>\n",
       "<table border=\"1\" class=\"dataframe\">\n",
       "  <thead>\n",
       "    <tr style=\"text-align: right;\">\n",
       "      <th></th>\n",
       "      <th>MR_amlodipino</th>\n",
       "      <th>MR_captopril</th>\n",
       "      <th>MR_carvedilol</th>\n",
       "      <th>MR_enalapril</th>\n",
       "      <th>MR_furosemida</th>\n",
       "      <th>MR_hidroclorothiazida</th>\n",
       "      <th>MR_losartan</th>\n",
       "      <th>MR_metropolol</th>\n",
       "      <th>MR_prazosin</th>\n",
       "      <th>MR_propanolol</th>\n",
       "      <th>MR_verapamilo</th>\n",
       "    </tr>\n",
       "  </thead>\n",
       "  <tbody>\n",
       "    <tr>\n",
       "      <th>4598</th>\n",
       "      <td>1</td>\n",
       "      <td>0</td>\n",
       "      <td>0</td>\n",
       "      <td>1</td>\n",
       "      <td>0</td>\n",
       "      <td>0</td>\n",
       "      <td>0</td>\n",
       "      <td>0</td>\n",
       "      <td>0</td>\n",
       "      <td>0</td>\n",
       "      <td>0</td>\n",
       "    </tr>\n",
       "    <tr>\n",
       "      <th>4599</th>\n",
       "      <td>0</td>\n",
       "      <td>0</td>\n",
       "      <td>0</td>\n",
       "      <td>1</td>\n",
       "      <td>0</td>\n",
       "      <td>0</td>\n",
       "      <td>0</td>\n",
       "      <td>0</td>\n",
       "      <td>0</td>\n",
       "      <td>0</td>\n",
       "      <td>0</td>\n",
       "    </tr>\n",
       "    <tr>\n",
       "      <th>4600</th>\n",
       "      <td>1</td>\n",
       "      <td>1</td>\n",
       "      <td>1</td>\n",
       "      <td>0</td>\n",
       "      <td>0</td>\n",
       "      <td>0</td>\n",
       "      <td>0</td>\n",
       "      <td>0</td>\n",
       "      <td>0</td>\n",
       "      <td>0</td>\n",
       "      <td>0</td>\n",
       "    </tr>\n",
       "    <tr>\n",
       "      <th>4601</th>\n",
       "      <td>0</td>\n",
       "      <td>1</td>\n",
       "      <td>1</td>\n",
       "      <td>0</td>\n",
       "      <td>0</td>\n",
       "      <td>0</td>\n",
       "      <td>0</td>\n",
       "      <td>0</td>\n",
       "      <td>0</td>\n",
       "      <td>0</td>\n",
       "      <td>0</td>\n",
       "    </tr>\n",
       "    <tr>\n",
       "      <th>4602</th>\n",
       "      <td>1</td>\n",
       "      <td>0</td>\n",
       "      <td>1</td>\n",
       "      <td>0</td>\n",
       "      <td>0</td>\n",
       "      <td>0</td>\n",
       "      <td>0</td>\n",
       "      <td>0</td>\n",
       "      <td>0</td>\n",
       "      <td>0</td>\n",
       "      <td>0</td>\n",
       "    </tr>\n",
       "    <tr>\n",
       "      <th>4603</th>\n",
       "      <td>0</td>\n",
       "      <td>0</td>\n",
       "      <td>1</td>\n",
       "      <td>0</td>\n",
       "      <td>0</td>\n",
       "      <td>0</td>\n",
       "      <td>0</td>\n",
       "      <td>0</td>\n",
       "      <td>0</td>\n",
       "      <td>0</td>\n",
       "      <td>0</td>\n",
       "    </tr>\n",
       "    <tr>\n",
       "      <th>4604</th>\n",
       "      <td>1</td>\n",
       "      <td>1</td>\n",
       "      <td>0</td>\n",
       "      <td>0</td>\n",
       "      <td>0</td>\n",
       "      <td>0</td>\n",
       "      <td>0</td>\n",
       "      <td>0</td>\n",
       "      <td>0</td>\n",
       "      <td>0</td>\n",
       "      <td>0</td>\n",
       "    </tr>\n",
       "    <tr>\n",
       "      <th>4605</th>\n",
       "      <td>0</td>\n",
       "      <td>1</td>\n",
       "      <td>0</td>\n",
       "      <td>0</td>\n",
       "      <td>0</td>\n",
       "      <td>0</td>\n",
       "      <td>0</td>\n",
       "      <td>0</td>\n",
       "      <td>0</td>\n",
       "      <td>0</td>\n",
       "      <td>0</td>\n",
       "    </tr>\n",
       "    <tr>\n",
       "      <th>4606</th>\n",
       "      <td>1</td>\n",
       "      <td>0</td>\n",
       "      <td>0</td>\n",
       "      <td>0</td>\n",
       "      <td>0</td>\n",
       "      <td>0</td>\n",
       "      <td>0</td>\n",
       "      <td>0</td>\n",
       "      <td>0</td>\n",
       "      <td>0</td>\n",
       "      <td>0</td>\n",
       "    </tr>\n",
       "    <tr>\n",
       "      <th>4607</th>\n",
       "      <td>0</td>\n",
       "      <td>0</td>\n",
       "      <td>0</td>\n",
       "      <td>0</td>\n",
       "      <td>0</td>\n",
       "      <td>0</td>\n",
       "      <td>0</td>\n",
       "      <td>0</td>\n",
       "      <td>0</td>\n",
       "      <td>0</td>\n",
       "      <td>0</td>\n",
       "    </tr>\n",
       "  </tbody>\n",
       "</table>\n",
       "</div>"
      ],
      "text/plain": [
       "      MR_amlodipino  MR_captopril  MR_carvedilol  MR_enalapril  MR_furosemida  \\\n",
       "4598              1             0              0             1              0   \n",
       "4599              0             0              0             1              0   \n",
       "4600              1             1              1             0              0   \n",
       "4601              0             1              1             0              0   \n",
       "4602              1             0              1             0              0   \n",
       "4603              0             0              1             0              0   \n",
       "4604              1             1              0             0              0   \n",
       "4605              0             1              0             0              0   \n",
       "4606              1             0              0             0              0   \n",
       "4607              0             0              0             0              0   \n",
       "\n",
       "      MR_hidroclorothiazida  MR_losartan  MR_metropolol  MR_prazosin  \\\n",
       "4598                      0            0              0            0   \n",
       "4599                      0            0              0            0   \n",
       "4600                      0            0              0            0   \n",
       "4601                      0            0              0            0   \n",
       "4602                      0            0              0            0   \n",
       "4603                      0            0              0            0   \n",
       "4604                      0            0              0            0   \n",
       "4605                      0            0              0            0   \n",
       "4606                      0            0              0            0   \n",
       "4607                      0            0              0            0   \n",
       "\n",
       "      MR_propanolol  MR_verapamilo  \n",
       "4598              0              0  \n",
       "4599              0              0  \n",
       "4600              0              0  \n",
       "4601              0              0  \n",
       "4602              0              0  \n",
       "4603              0              0  \n",
       "4604              0              0  \n",
       "4605              0              0  \n",
       "4606              0              0  \n",
       "4607              0              0  "
      ]
     },
     "execution_count": 3,
     "metadata": {},
     "output_type": "execute_result"
    }
   ],
   "source": [
    "df_ANT_presion_arterial.tail(10)"
   ]
  },
  {
   "cell_type": "markdown",
   "metadata": {},
   "source": [
    "# Seteo de probabilidades\n",
    "\n",
    "<b>Combinaciones de 4 a mas medicamentos:</b> La probabilidad de la presencia del sintoma es muy alta\n",
    "\n",
    "<b>Combinaciones entre 2 a 3:</b> La probabilidad de la ausencia del sintoma variara de acuerdo a la efectividad del medicamento y a la naturaleza del paciente\n",
    "\n",
    "<b>Solo un medicamento: </b> La probabilidad de la ausencia del sintoma variara de acuerdo a la efectividad del medicamento y a la naturaleza del paciente"
   ]
  },
  {
   "cell_type": "markdown",
   "metadata": {},
   "source": [
    "<b>Genera dataframe de las probabilidades de presencia o ausencia del sintoma</b> "
   ]
  },
  {
   "cell_type": "code",
   "execution_count": 4,
   "metadata": {
    "collapsed": false
   },
   "outputs": [
    {
     "data": {
      "text/html": [
       "<div>\n",
       "<table border=\"1\" class=\"dataframe\">\n",
       "  <thead>\n",
       "    <tr style=\"text-align: right;\">\n",
       "      <th></th>\n",
       "      <th>Alta</th>\n",
       "      <th>Normal</th>\n",
       "      <th>Baja</th>\n",
       "    </tr>\n",
       "  </thead>\n",
       "  <tbody>\n",
       "    <tr>\n",
       "      <th>0</th>\n",
       "      <td>0.33</td>\n",
       "      <td>0.34</td>\n",
       "      <td>0.33</td>\n",
       "    </tr>\n",
       "    <tr>\n",
       "      <th>1</th>\n",
       "      <td>0.33</td>\n",
       "      <td>0.34</td>\n",
       "      <td>0.33</td>\n",
       "    </tr>\n",
       "    <tr>\n",
       "      <th>2</th>\n",
       "      <td>0.33</td>\n",
       "      <td>0.34</td>\n",
       "      <td>0.33</td>\n",
       "    </tr>\n",
       "    <tr>\n",
       "      <th>3</th>\n",
       "      <td>0.33</td>\n",
       "      <td>0.34</td>\n",
       "      <td>0.33</td>\n",
       "    </tr>\n",
       "    <tr>\n",
       "      <th>4</th>\n",
       "      <td>0.33</td>\n",
       "      <td>0.34</td>\n",
       "      <td>0.33</td>\n",
       "    </tr>\n",
       "    <tr>\n",
       "      <th>5</th>\n",
       "      <td>0.33</td>\n",
       "      <td>0.34</td>\n",
       "      <td>0.33</td>\n",
       "    </tr>\n",
       "    <tr>\n",
       "      <th>6</th>\n",
       "      <td>0.33</td>\n",
       "      <td>0.34</td>\n",
       "      <td>0.33</td>\n",
       "    </tr>\n",
       "    <tr>\n",
       "      <th>7</th>\n",
       "      <td>0.33</td>\n",
       "      <td>0.34</td>\n",
       "      <td>0.33</td>\n",
       "    </tr>\n",
       "    <tr>\n",
       "      <th>8</th>\n",
       "      <td>0.33</td>\n",
       "      <td>0.34</td>\n",
       "      <td>0.33</td>\n",
       "    </tr>\n",
       "    <tr>\n",
       "      <th>9</th>\n",
       "      <td>0.33</td>\n",
       "      <td>0.34</td>\n",
       "      <td>0.33</td>\n",
       "    </tr>\n",
       "  </tbody>\n",
       "</table>\n",
       "</div>"
      ],
      "text/plain": [
       "   Alta  Normal  Baja\n",
       "0  0.33    0.34  0.33\n",
       "1  0.33    0.34  0.33\n",
       "2  0.33    0.34  0.33\n",
       "3  0.33    0.34  0.33\n",
       "4  0.33    0.34  0.33\n",
       "5  0.33    0.34  0.33\n",
       "6  0.33    0.34  0.33\n",
       "7  0.33    0.34  0.33\n",
       "8  0.33    0.34  0.33\n",
       "9  0.33    0.34  0.33"
      ]
     },
     "execution_count": 4,
     "metadata": {},
     "output_type": "execute_result"
    }
   ],
   "source": [
    "df_presion_arterial= initProbabilisticDataframe([2,2,2,2,2,3,2,3,2,2,2],['Alta','Normal','Baja'],[0.33,0.34,0.33])\n",
    "df_presion_arterial.head(10)"
   ]
  },
  {
   "cell_type": "markdown",
   "metadata": {},
   "source": [
    "<b>Coloca una nueva distribucion de probabilidades a los sintomas, segun sea la efectividad de cada medicamento</b> "
   ]
  },
  {
   "cell_type": "code",
   "execution_count": 5,
   "metadata": {
    "collapsed": false
   },
   "outputs": [],
   "source": [
    "EF_amlodipino = df_ANT_presion_arterial.query('MR_amlodipino>0 & MR_captopril==0 & MR_carvedilol==0 & '+\n",
    "                                      'MR_enalapril==0 & MR_furosemida==0 & MR_hidroclorothiazida==0 &'+\n",
    "                                      'MR_losartan==0 & MR_metropolol==0 & MR_prazosin==0 & MR_propanolol==0 &'+\n",
    "                                      'MR_verapamilo==0')\n",
    "EF_captopril = df_ANT_presion_arterial.query('MR_amlodipino==0 & MR_captopril>0 & MR_carvedilol==0 & '+\n",
    "                                      'MR_enalapril==0 & MR_furosemida==0 & MR_hidroclorothiazida==0 &'+\n",
    "                                      'MR_losartan==0 & MR_metropolol==0 & MR_prazosin==0 & MR_propanolol==0 &'+\n",
    "                                      'MR_verapamilo==0')\n",
    "EF_carvedilol = df_ANT_presion_arterial.query('MR_amlodipino==0 & MR_captopril==0 & MR_carvedilol>0 & '+\n",
    "                                      'MR_enalapril==0 & MR_furosemida==0 & MR_hidroclorothiazida==0 &'+\n",
    "                                      'MR_losartan==0 & MR_metropolol==0 & MR_prazosin==0 & MR_propanolol==0 &'+\n",
    "                                      'MR_verapamilo==0')\n",
    "EF_enalapril = df_ANT_presion_arterial.query('MR_amlodipino==0 & MR_captopril==0 & MR_carvedilol==0 & '+\n",
    "                                      'MR_enalapril>0 & MR_furosemida==0 & MR_hidroclorothiazida==0 &'+\n",
    "                                      'MR_losartan==0 & MR_metropolol==0 & MR_prazosin==0 & MR_propanolol==0 &'+\n",
    "                                      'MR_verapamilo==0')\n",
    "EF_furosemida = df_ANT_presion_arterial.query('MR_amlodipino==0 & MR_captopril==0 & MR_carvedilol==0 & '+\n",
    "                                      'MR_enalapril==0 & MR_furosemida>0 & MR_hidroclorothiazida==0 &'+\n",
    "                                      'MR_losartan==0 & MR_metropolol==0 & MR_prazosin==0 & MR_propanolol==0 &'+\n",
    "                                      'MR_verapamilo==0')\n",
    "EF_hidroclorothiazida = df_ANT_presion_arterial.query('MR_amlodipino==0 & MR_captopril==0 & MR_carvedilol==0 & '+\n",
    "                                      'MR_enalapril==0 & MR_furosemida==0 & MR_hidroclorothiazida>0 &'+\n",
    "                                      'MR_losartan==0 & MR_metropolol==0 & MR_prazosin==0 & MR_propanolol==0 &'+\n",
    "                                      'MR_verapamilo==0')\n",
    "EF_losartan = df_ANT_presion_arterial.query('MR_amlodipino==0 & MR_captopril==0 & MR_carvedilol==0 & '+\n",
    "                                      'MR_enalapril==0 & MR_furosemida==0 & MR_hidroclorothiazida==0 &'+\n",
    "                                      'MR_losartan>0 & MR_metropolol==0 & MR_prazosin==0 & MR_propanolol==0 &'+\n",
    "                                      'MR_verapamilo==0')\n",
    "EF_metropolol = df_ANT_presion_arterial.query('MR_amlodipino==0 & MR_captopril==0 & MR_carvedilol==0 & '+\n",
    "                                      'MR_enalapril==0 & MR_furosemida==0 & MR_hidroclorothiazida==0 &'+\n",
    "                                      'MR_losartan==0 & MR_metropolol>0 & MR_prazosin==0 & MR_propanolol==0 &'+\n",
    "                                      'MR_verapamilo==0')\n",
    "EF_prazosin = df_ANT_presion_arterial.query('MR_amlodipino==0 & MR_captopril==0 & MR_carvedilol==0 & '+\n",
    "                                      'MR_enalapril==0 & MR_furosemida==0 & MR_hidroclorothiazida==0 &'+\n",
    "                                      'MR_losartan==0 & MR_metropolol==0 & MR_prazosin>0 & MR_propanolol==0 &'+\n",
    "                                      'MR_verapamilo==0')\n",
    "EF_propanolol = df_ANT_presion_arterial.query('MR_amlodipino==0 & MR_captopril==0 & MR_carvedilol==0 & '+\n",
    "                                      'MR_enalapril==0 & MR_furosemida==0 & MR_hidroclorothiazida==0 &'+\n",
    "                                      'MR_losartan==0 & MR_metropolol==0 & MR_prazosin==0 & MR_propanolol>0 &'+\n",
    "                                      'MR_verapamilo==0')\n",
    "EF_verapamilo = df_ANT_presion_arterial.query('MR_amlodipino==0 & MR_captopril==0 & MR_carvedilol==0 & '+\n",
    "                                      'MR_enalapril==0 & MR_furosemida==0 & MR_hidroclorothiazida==0 &'+\n",
    "                                      'MR_losartan==0 & MR_metropolol==0 & MR_prazosin==0 & MR_propanolol==0 &'+\n",
    "                                      'MR_verapamilo>0')"
   ]
  },
  {
   "cell_type": "code",
   "execution_count": 10,
   "metadata": {
    "collapsed": false
   },
   "outputs": [],
   "source": [
    "arrIndex_amlodipino = getIndexToSet(EF_amlodipino.index)\n",
    "arrIndex_captopril = getIndexToSet(EF_captopril.index)\n",
    "arrIndex_carvedilol = getIndexToSet(EF_carvedilol.index)\n",
    "arrIndex_enalapril = getIndexToSet(EF_enalapril.index)\n",
    "arrIndex_furosemida = getIndexToSet(EF_furosemida.index)\n",
    "arrIndex_hidroclorothiazida = getIndexToSet(EF_hidroclorothiazida.index)\n",
    "arrIndex_losartan = getIndexToSet(EF_losartan.index)\n",
    "arrIndex_metropolol = getIndexToSet(EF_metropolol.index)\n",
    "arrIndex_prazosin= getIndexToSet(EF_prazosin.index)\n",
    "arrIndex_propanolol = getIndexToSet(EF_propanolol.index)\n",
    "arrIndex_verapamilo = getIndexToSet(EF_verapamilo.index)"
   ]
  },
  {
   "cell_type": "code",
   "execution_count": 11,
   "metadata": {
    "collapsed": true
   },
   "outputs": [],
   "source": [
    "dicc_amlodipino  = {'Alta': [0.20],'Normal': [0.70],'Baja': [0.10]}\n",
    "dicc_captopril   = {'Alta': [0.10],'Normal': [0.80],'Baja': [0.10]}\n",
    "dicc_carvedilol  = {'Alta': [0.05],'Normal': [0.85],'Baja': [0.10]}\n",
    "dicc_enalapril   = {'Alta': [0.20],'Normal': [0.80],'Baja': [0.00]}\n",
    "dicc_furosemida  = {'Alta': [0.25],'Normal': [0.75],'Baja': [0.00]}\n",
    "dicc_hidroclorothiazida = {'Alta': [0.20],'Normal': [0.70],'Baja': [0.10]}\n",
    "dicc_losartan    = {'Alta': [0.10],'Normal': [0.80],'Baja': [0.10]}\n",
    "dicc_metropolol  = {'Alta': [0.05],'Normal': [0.95],'Baja': [0.00]}\n",
    "dicc_prazosin    = {'Alta': [0.20],'Normal': [0.75],'Baja': [0.05]}\n",
    "dicc_prazosin    = {'Alta': [0.15],'Normal': [0.80],'Baja': [0.05]}\n",
    "dicc_verapamilo  = {'Alta': [0.10],'Normal': [0.80],'Baja': [0.10]}\n"
   ]
  },
  {
   "cell_type": "code",
   "execution_count": 12,
   "metadata": {
    "collapsed": false
   },
   "outputs": [],
   "source": [
    "setProbabilisticValue(df_presion_arterial, dicc_amlodipino, arrIndex_amlodipino )\n",
    "setProbabilisticValue(df_presion_arterial, dicc_captopril, arrIndex_captopril )\n",
    "setProbabilisticValue(df_presion_arterial, dicc_carvedilol, arrIndex_carvedilol )\n",
    "setProbabilisticValue(df_presion_arterial, dicc_enalapril, arrIndex_enalapril )\n",
    "setProbabilisticValue(df_presion_arterial, dicc_furosemida , arrIndex_furosemida )\n",
    "setProbabilisticValue(df_presion_arterial, dicc_hidroclorothiazida, arrIndex_hidroclorothiazida )\n",
    "setProbabilisticValue(df_presion_arterial, dicc_losartan , arrIndex_losartan )\n",
    "setProbabilisticValue(df_presion_arterial, dicc_metropolol, arrIndex_metropolol )\n",
    "setProbabilisticValue(df_presion_arterial, dicc_prazosin, arrIndex_prazosin )\n",
    "setProbabilisticValue(df_presion_arterial, dicc_prazosin, arrIndex_propanolol )\n",
    "setProbabilisticValue(df_presion_arterial, dicc_verapamilo, arrIndex_verapamilo )"
   ]
  },
  {
   "cell_type": "markdown",
   "metadata": {},
   "source": [
    "# Aplicando lo realizado anteriormente"
   ]
  },
  {
   "cell_type": "code",
   "execution_count": 13,
   "metadata": {
    "collapsed": false
   },
   "outputs": [],
   "source": [
    "df_ANT_metoprolol  = createCombinationDataframe([2,2,2], ['EP_Asma_Bronquial','EP_Diabetes', 'EP_Insuficiencia_Cardiaca',]) \n",
    "df_metoprolol = initProbabilisticDataframe([2,2,2],['Prescribir_Normal', 'Prescribir_Bajas_Dosis', 'No_Prescribir'],[0.00,0.01,0.99])"
   ]
  },
  {
   "cell_type": "code",
   "execution_count": 16,
   "metadata": {
    "collapsed": true
   },
   "outputs": [],
   "source": [
    "df_met1 = df_ANT_metoprolol.query('EP_Asma_Bronquial==0 & EP_Diabetes>0 & EP_Insuficiencia_Cardiaca==0')\n",
    "df_met2 = df_ANT_metoprolol.query('EP_Asma_Bronquial==0 & EP_Diabetes==0 & EP_Insuficiencia_Cardiaca==0')"
   ]
  },
  {
   "cell_type": "code",
   "execution_count": 17,
   "metadata": {
    "collapsed": true
   },
   "outputs": [],
   "source": [
    "arrIndex_met1 = getIndexToSet(df_met1.index)\n",
    "arrIndex_met2 = getIndexToSet(df_met2.index)"
   ]
  },
  {
   "cell_type": "code",
   "execution_count": 18,
   "metadata": {
    "collapsed": true
   },
   "outputs": [],
   "source": [
    "dicc_met1 = {'Prescribir_Normal': [0],'Prescribir_Bajas_Dosis': [0.50],'No_Prescribir': [0.50]}\n",
    "dicc_met2 = {'Prescribir_Normal': [0.34],'Prescribir_Bajas_Dosis': [0.33],'No_Prescribir': [0.33]}"
   ]
  },
  {
   "cell_type": "code",
   "execution_count": 19,
   "metadata": {
    "collapsed": false
   },
   "outputs": [],
   "source": [
    "setProbabilisticValue(df_metoprolol, dicc_met1, arrIndex_met1 )\n",
    "setProbabilisticValue(df_metoprolol, dicc_met2, arrIndex_met2 )"
   ]
  },
  {
   "cell_type": "code",
   "execution_count": 20,
   "metadata": {
    "collapsed": false
   },
   "outputs": [],
   "source": [
    "values_metoprolol=getListaEvidencia(df_metoprolol)"
   ]
  },
  {
   "cell_type": "code",
   "execution_count": 21,
   "metadata": {
    "collapsed": false
   },
   "outputs": [
    {
     "data": {
      "text/plain": [
       "[[0.0, 0.0, 0.0, 0.0, 0.0, 0.0, 0.0, 0.34],\n",
       " [0.01, 0.01, 0.01, 0.01, 0.01, 0.5, 0.01, 0.33],\n",
       " [0.99, 0.99, 0.99, 0.99, 0.99, 0.5, 0.99, 0.33]]"
      ]
     },
     "execution_count": 21,
     "metadata": {},
     "output_type": "execute_result"
    }
   ],
   "source": [
    "values_metoprolol"
   ]
  },
  {
   "cell_type": "code",
   "execution_count": 22,
   "metadata": {
    "collapsed": true
   },
   "outputs": [],
   "source": [
    "df_ANT_hidroclorothiazida = createCombinationDataframe([2,2,2], ['EP_Diabetes', 'EP_Gota', 'MP_ibuprofeno']) \n",
    "df_hidroclorothiazida = initProbabilisticDataframe([2,2,2],['Prescribir_Normal', 'Prescribir_Bajas_Dosis', 'No_Prescribir'],[0.00,0.01,0.99])"
   ]
  },
  {
   "cell_type": "code",
   "execution_count": 23,
   "metadata": {
    "collapsed": true
   },
   "outputs": [],
   "source": [
    "arrIndex_hid1 = getIndexToSet(df_ANT_hidroclorothiazida.query('EP_Diabetes>0 & EP_Gota>0 & MP_ibuprofeno==0').index)\n",
    "arrIndex_hid2 = getIndexToSet(df_ANT_hidroclorothiazida.query('EP_Diabetes>0 & EP_Gota==0 & MP_ibuprofeno==0').index)\n",
    "arrIndex_hid3 = getIndexToSet(df_ANT_hidroclorothiazida.query('EP_Diabetes==0 & EP_Gota==0 & MP_ibuprofeno==0').index)"
   ]
  },
  {
   "cell_type": "code",
   "execution_count": 67,
   "metadata": {
    "collapsed": true
   },
   "outputs": [],
   "source": [
    "dicc_hid1 = {'Prescribir_Normal': [0],'Prescribir_Bajas_Dosis': [0.90],'No_Prescribir': [0.10]}\n",
    "dicc_hid2 = {'Prescribir_Normal': [0],'Prescribir_Bajas_Dosis': [0.90],'No_Prescribir': [0.10]}\n",
    "dicc_hid3 = {'Prescribir_Normal': [0.34],'Prescribir_Bajas_Dosis': [0.33],'No_Prescribir': [0.33]}"
   ]
  },
  {
   "cell_type": "code",
   "execution_count": 68,
   "metadata": {
    "collapsed": false
   },
   "outputs": [],
   "source": [
    "setProbabilisticValue(df_hidroclorothiazida, dicc_hid1, arrIndex_hid1 )\n",
    "setProbabilisticValue(df_hidroclorothiazida, dicc_hid2, arrIndex_hid2 )\n",
    "setProbabilisticValue(df_hidroclorothiazida, dicc_hid3, arrIndex_hid3 )"
   ]
  },
  {
   "cell_type": "code",
   "execution_count": 69,
   "metadata": {
    "collapsed": false
   },
   "outputs": [
    {
     "data": {
      "text/plain": [
       "[[0.0, 0.0, 0.0, 0.0, 0.0, 0.0, 0.0, 0.34],\n",
       " [0.01, 0.01, 0.01, 0.01, 0.9, 0.01, 0.9, 0.33],\n",
       " [0.99, 0.99, 0.99, 0.99, 0.1, 0.99, 0.1, 0.33]]"
      ]
     },
     "execution_count": 69,
     "metadata": {},
     "output_type": "execute_result"
    }
   ],
   "source": [
    "values_hidroclorothiazida=getListaEvidencia(df_hidroclorothiazida)\n",
    "values_hidroclorothiazida"
   ]
  },
  {
   "cell_type": "code",
   "execution_count": 70,
   "metadata": {
    "collapsed": false
   },
   "outputs": [],
   "source": [
    "df_ANT_angina_pecho = createCombinationDataframe([2,3], ['MR_amlodipino', 'MR_metropolol']) \n",
    "df_angina_pecho     = initProbabilisticDataframe([2,3], ['Presente', 'Ausente'],[0.30,0.70])"
   ]
  },
  {
   "cell_type": "code",
   "execution_count": 71,
   "metadata": {
    "collapsed": true
   },
   "outputs": [],
   "source": [
    "arrIndex_ang1 = getIndexToSet(df_ANT_angina_pecho.query('MR_amlodipino==1 & MR_metropolol==2').index)\n",
    "arrIndex_ang2 = getIndexToSet(df_ANT_angina_pecho.query('MR_amlodipino==1 & MR_metropolol==0').index)\n",
    "arrIndex_ang3 = getIndexToSet(df_ANT_angina_pecho.query('MR_amlodipino==0 & MR_metropolol==0').index)"
   ]
  },
  {
   "cell_type": "code",
   "execution_count": 72,
   "metadata": {
    "collapsed": true
   },
   "outputs": [],
   "source": [
    "dicc_ang1 = {'Presente': [0.20],'Ausente': [0.80]}\n",
    "dicc_ang2 = {'Presente': [0.40],'Ausente': [0.60]}\n",
    "dicc_ang3 = {'Presente': [0.70],'Ausente': [0.30]}"
   ]
  },
  {
   "cell_type": "code",
   "execution_count": 73,
   "metadata": {
    "collapsed": true
   },
   "outputs": [],
   "source": [
    "setProbabilisticValue(df_angina_pecho, dicc_ang1, arrIndex_ang1 )\n",
    "setProbabilisticValue(df_angina_pecho, dicc_ang2, arrIndex_ang2 )\n",
    "setProbabilisticValue(df_angina_pecho, dicc_ang3, arrIndex_ang3 )"
   ]
  },
  {
   "cell_type": "code",
   "execution_count": 74,
   "metadata": {
    "collapsed": false
   },
   "outputs": [
    {
     "data": {
      "text/plain": [
       "[[0.2, 0.3, 0.3, 0.3, 0.4, 0.7], [0.8, 0.7, 0.7, 0.7, 0.6, 0.3]]"
      ]
     },
     "execution_count": 74,
     "metadata": {},
     "output_type": "execute_result"
    }
   ],
   "source": [
    "values_angina_pecho=getListaEvidencia(df_angina_pecho)\n",
    "values_angina_pecho"
   ]
  },
  {
   "cell_type": "code",
   "execution_count": 75,
   "metadata": {
    "collapsed": false
   },
   "outputs": [],
   "source": [
    "values_presion_arterial=getListaEvidencia(df_presion_arterial)"
   ]
  },
  {
   "cell_type": "code",
   "execution_count": 76,
   "metadata": {
    "collapsed": true
   },
   "outputs": [],
   "source": [
    "df_ANT_danho_rinhones = createCombinationDataframe([2,2,2,2,2,3,2,3,2,2,2], ['MR_amlodipino','MR_captopril','MR_carvedilol','MR_enalapril' ,'MR_furosemida','MR_hidroclorothiazida','MR_losartan','MR_metropolol','MR_prazosin','MR_propanolol','MR_verapamilo'])\n",
    "df_danho_rinhones     = initProbabilisticDataframe([2,2,2,2,2,3,2,3,2,2,2],['Presente', 'Ausente'],[0.75,0.25])"
   ]
  },
  {
   "cell_type": "code",
   "execution_count": 77,
   "metadata": {
    "collapsed": true
   },
   "outputs": [],
   "source": [
    "EF_amlodipino = df_ANT_danho_rinhones.query('MR_amlodipino>0 & MR_captopril==0 & MR_carvedilol==0 & '+\n",
    "                                      'MR_enalapril==0 & MR_furosemida==0 & MR_hidroclorothiazida==0 &'+\n",
    "                                      'MR_losartan==0 & MR_metropolol==0 & MR_prazosin==0 & MR_propanolol==0 &'+\n",
    "                                      'MR_verapamilo==0')\n",
    "EF_captopril = df_ANT_danho_rinhones.query('MR_amlodipino==0 & MR_captopril>0 & MR_carvedilol==0 & '+\n",
    "                                      'MR_enalapril==0 & MR_furosemida==0 & MR_hidroclorothiazida==0 &'+\n",
    "                                      'MR_losartan==0 & MR_metropolol==0 & MR_prazosin==0 & MR_propanolol==0 &'+\n",
    "                                      'MR_verapamilo==0')\n",
    "EF_carvedilol = df_ANT_danho_rinhones.query('MR_amlodipino==0 & MR_captopril==0 & MR_carvedilol>0 & '+\n",
    "                                      'MR_enalapril==0 & MR_furosemida==0 & MR_hidroclorothiazida==0 &'+\n",
    "                                      'MR_losartan==0 & MR_metropolol==0 & MR_prazosin==0 & MR_propanolol==0 &'+\n",
    "                                      'MR_verapamilo==0')\n",
    "EF_enalapril = df_ANT_danho_rinhones.query('MR_amlodipino==0 & MR_captopril==0 & MR_carvedilol==0 & '+\n",
    "                                      'MR_enalapril>0 & MR_furosemida==0 & MR_hidroclorothiazida==0 &'+\n",
    "                                      'MR_losartan==0 & MR_metropolol==0 & MR_prazosin==0 & MR_propanolol==0 &'+\n",
    "                                      'MR_verapamilo==0')\n",
    "EF_furosemida = df_ANT_danho_rinhones.query('MR_amlodipino==0 & MR_captopril==0 & MR_carvedilol==0 & '+\n",
    "                                      'MR_enalapril==0 & MR_furosemida>0 & MR_hidroclorothiazida==0 &'+\n",
    "                                      'MR_losartan==0 & MR_metropolol==0 & MR_prazosin==0 & MR_propanolol==0 &'+\n",
    "                                      'MR_verapamilo==0')\n",
    "EF_hidroclorothiazida = df_ANT_danho_rinhones.query('MR_amlodipino==0 & MR_captopril==0 & MR_carvedilol==0 & '+\n",
    "                                      'MR_enalapril==0 & MR_furosemida==0 & MR_hidroclorothiazida>0 &'+\n",
    "                                      'MR_losartan==0 & MR_metropolol==0 & MR_prazosin==0 & MR_propanolol==0 &'+\n",
    "                                      'MR_verapamilo==0')\n",
    "EF_losartan = df_ANT_danho_rinhones.query('MR_amlodipino==0 & MR_captopril==0 & MR_carvedilol==0 & '+\n",
    "                                      'MR_enalapril==0 & MR_furosemida==0 & MR_hidroclorothiazida==0 &'+\n",
    "                                      'MR_losartan>0 & MR_metropolol==0 & MR_prazosin==0 & MR_propanolol==0 &'+\n",
    "                                      'MR_verapamilo==0')\n",
    "EF_metropolol = df_ANT_danho_rinhones.query('MR_amlodipino==0 & MR_captopril==0 & MR_carvedilol==0 & '+\n",
    "                                      'MR_enalapril==0 & MR_furosemida==0 & MR_hidroclorothiazida==0 &'+\n",
    "                                      'MR_losartan==0 & MR_metropolol>0 & MR_prazosin==0 & MR_propanolol==0 &'+\n",
    "                                      'MR_verapamilo==0')\n",
    "EF_prazosin = df_ANT_danho_rinhones.query('MR_amlodipino==0 & MR_captopril==0 & MR_carvedilol==0 & '+\n",
    "                                      'MR_enalapril==0 & MR_furosemida==0 & MR_hidroclorothiazida==0 &'+\n",
    "                                      'MR_losartan==0 & MR_metropolol==0 & MR_prazosin>0 & MR_propanolol==0 &'+\n",
    "                                      'MR_verapamilo==0')\n",
    "EF_propanolol = df_ANT_danho_rinhones.query('MR_amlodipino==0 & MR_captopril==0 & MR_carvedilol==0 & '+\n",
    "                                      'MR_enalapril==0 & MR_furosemida==0 & MR_hidroclorothiazida==0 &'+\n",
    "                                      'MR_losartan==0 & MR_metropolol==0 & MR_prazosin==0 & MR_propanolol>0 &'+\n",
    "                                      'MR_verapamilo==0')\n",
    "EF_verapamilo = df_ANT_danho_rinhones.query('MR_amlodipino==0 & MR_captopril==0 & MR_carvedilol==0 & '+\n",
    "                                      'MR_enalapril==0 & MR_furosemida==0 & MR_hidroclorothiazida==0 &'+\n",
    "                                      'MR_losartan==0 & MR_metropolol==0 & MR_prazosin==0 & MR_propanolol==0 &'+\n",
    "                                      'MR_verapamilo>0')"
   ]
  },
  {
   "cell_type": "code",
   "execution_count": 158,
   "metadata": {
    "collapsed": true
   },
   "outputs": [],
   "source": [
    "arrIndex_amlodipino = getIndexToSet(EF_amlodipino.index)\n",
    "arrIndex_captopril = getIndexToSet(EF_captopril.index)\n",
    "arrIndex_carvedilol = getIndexToSet(EF_carvedilol.index)\n",
    "arrIndex_enalapril = getIndexToSet(EF_enalapril.index)\n",
    "arrIndex_furosemida = getIndexToSet(EF_furosemida.index)\n",
    "arrIndex_hidroclorothiazida = getIndexToSet(EF_hidroclorothiazida.index)\n",
    "arrIndex_losartan = getIndexToSet(EF_losartan.index)\n",
    "arrIndex_metropolol = getIndexToSet(EF_metropolol.index)\n",
    "arrIndex_prazosin= getIndexToSet(EF_prazosin.index)\n",
    "arrIndex_propanolol = getIndexToSet(EF_propanolol.index)\n",
    "arrIndex_verapamilo = getIndexToSet(EF_verapamilo.index)"
   ]
  },
  {
   "cell_type": "code",
   "execution_count": 167,
   "metadata": {
    "collapsed": false
   },
   "outputs": [
    {
     "data": {
      "text/plain": [
       "[4223, 4415]"
      ]
     },
     "execution_count": 167,
     "metadata": {},
     "output_type": "execute_result"
    }
   ],
   "source": [
    "arrIndex_metropolol"
   ]
  },
  {
   "cell_type": "code",
   "execution_count": 79,
   "metadata": {
    "collapsed": true
   },
   "outputs": [],
   "source": [
    "dicc_amlodipino  = {'Presente': [0.20],'Ausente': [0.80]}\n",
    "dicc_captopril   = {'Presente': [0.30],'Ausente': [0.70]}\n",
    "dicc_carvedilol  = {'Presente': [0.30],'Ausente': [0.70]}\n",
    "dicc_enalapril   = {'Presente': [0.15],'Ausente': [0.85]}\n",
    "dicc_furosemida  = {'Presente': [0.30],'Ausente': [0.70]}\n",
    "dicc_hidroclorothiazida = {'Presente': [0.35],'Ausente': [0.65]}\n",
    "dicc_losartan    = {'Presente': [0.10],'Ausente': [0.90]}\n",
    "dicc_metropolol  = {'Presente': [0.35],'Ausente': [0.65]}\n",
    "dicc_prazosin    = {'Presente': [0.20],'Ausente': [0.80]}\n",
    "dicc_propanolol   = {'Presente': [0.15],'Ausente': [0.85]}\n",
    "dicc_verapamilo  = {'Presente': [0.05],'Ausente': [0.95]}\n"
   ]
  },
  {
   "cell_type": "code",
   "execution_count": 80,
   "metadata": {
    "collapsed": true
   },
   "outputs": [],
   "source": [
    "setProbabilisticValue(df_danho_rinhones, dicc_amlodipino, arrIndex_amlodipino )\n",
    "setProbabilisticValue(df_danho_rinhones, dicc_captopril, arrIndex_captopril )\n",
    "setProbabilisticValue(df_danho_rinhones, dicc_carvedilol, arrIndex_carvedilol )\n",
    "setProbabilisticValue(df_danho_rinhones, dicc_enalapril, arrIndex_enalapril )\n",
    "setProbabilisticValue(df_danho_rinhones, dicc_furosemida , arrIndex_furosemida )\n",
    "setProbabilisticValue(df_danho_rinhones, dicc_hidroclorothiazida, arrIndex_hidroclorothiazida )\n",
    "setProbabilisticValue(df_danho_rinhones, dicc_losartan , arrIndex_losartan )\n",
    "setProbabilisticValue(df_danho_rinhones, dicc_metropolol, arrIndex_metropolol )\n",
    "setProbabilisticValue(df_danho_rinhones, dicc_prazosin, arrIndex_prazosin )\n",
    "setProbabilisticValue(df_danho_rinhones, dicc_propanolol, arrIndex_propanolol )\n",
    "setProbabilisticValue(df_danho_rinhones, dicc_verapamilo, arrIndex_verapamilo )"
   ]
  },
  {
   "cell_type": "code",
   "execution_count": 81,
   "metadata": {
    "collapsed": false
   },
   "outputs": [
    {
     "data": {
      "text/html": [
       "<div>\n",
       "<table border=\"1\" class=\"dataframe\">\n",
       "  <thead>\n",
       "    <tr style=\"text-align: right;\">\n",
       "      <th></th>\n",
       "      <th>Presente</th>\n",
       "      <th>Ausente</th>\n",
       "    </tr>\n",
       "  </thead>\n",
       "  <tbody>\n",
       "    <tr>\n",
       "      <th>4598</th>\n",
       "      <td>0.75</td>\n",
       "      <td>0.25</td>\n",
       "    </tr>\n",
       "    <tr>\n",
       "      <th>4599</th>\n",
       "      <td>0.15</td>\n",
       "      <td>0.85</td>\n",
       "    </tr>\n",
       "    <tr>\n",
       "      <th>4600</th>\n",
       "      <td>0.75</td>\n",
       "      <td>0.25</td>\n",
       "    </tr>\n",
       "    <tr>\n",
       "      <th>4601</th>\n",
       "      <td>0.75</td>\n",
       "      <td>0.25</td>\n",
       "    </tr>\n",
       "    <tr>\n",
       "      <th>4602</th>\n",
       "      <td>0.75</td>\n",
       "      <td>0.25</td>\n",
       "    </tr>\n",
       "    <tr>\n",
       "      <th>4603</th>\n",
       "      <td>0.30</td>\n",
       "      <td>0.70</td>\n",
       "    </tr>\n",
       "    <tr>\n",
       "      <th>4604</th>\n",
       "      <td>0.75</td>\n",
       "      <td>0.25</td>\n",
       "    </tr>\n",
       "    <tr>\n",
       "      <th>4605</th>\n",
       "      <td>0.30</td>\n",
       "      <td>0.70</td>\n",
       "    </tr>\n",
       "    <tr>\n",
       "      <th>4606</th>\n",
       "      <td>0.20</td>\n",
       "      <td>0.80</td>\n",
       "    </tr>\n",
       "    <tr>\n",
       "      <th>4607</th>\n",
       "      <td>0.75</td>\n",
       "      <td>0.25</td>\n",
       "    </tr>\n",
       "  </tbody>\n",
       "</table>\n",
       "</div>"
      ],
      "text/plain": [
       "      Presente  Ausente\n",
       "4598      0.75     0.25\n",
       "4599      0.15     0.85\n",
       "4600      0.75     0.25\n",
       "4601      0.75     0.25\n",
       "4602      0.75     0.25\n",
       "4603      0.30     0.70\n",
       "4604      0.75     0.25\n",
       "4605      0.30     0.70\n",
       "4606      0.20     0.80\n",
       "4607      0.75     0.25"
      ]
     },
     "execution_count": 81,
     "metadata": {},
     "output_type": "execute_result"
    }
   ],
   "source": [
    "df_danho_rinhones.tail(10)"
   ]
  },
  {
   "cell_type": "code",
   "execution_count": 168,
   "metadata": {
    "collapsed": false
   },
   "outputs": [],
   "source": [
    "values_danho_rinhones=getListaEvidencia(df_danho_rinhones)"
   ]
  },
  {
   "cell_type": "code",
   "execution_count": 173,
   "metadata": {
    "collapsed": false
   },
   "outputs": [
    {
     "data": {
      "text/plain": [
       "4608"
      ]
     },
     "execution_count": 173,
     "metadata": {},
     "output_type": "execute_result"
    }
   ],
   "source": [
    "len(values_danho_rinhones[1])"
   ]
  },
  {
   "cell_type": "code",
   "execution_count": 94,
   "metadata": {
    "collapsed": false
   },
   "outputs": [
    {
     "data": {
      "text/plain": [
       "[[0.0, 0.0, 0.0, 0.0, 0.0, 0.0, 0.0, 0.34],\n",
       " [0.01, 0.01, 0.01, 0.01, 0.9, 0.01, 0.9, 0.33],\n",
       " [0.99, 0.99, 0.99, 0.99, 0.1, 0.99, 0.1, 0.33]]"
      ]
     },
     "execution_count": 94,
     "metadata": {},
     "output_type": "execute_result"
    }
   ],
   "source": [
    "values_hidroclorothiazida"
   ]
  },
  {
   "cell_type": "markdown",
   "metadata": {},
   "source": [
    "# Definiendo los parametros del modelo (CPTs)\n",
    "En pgmpy las columnas son los valores de los padres (evidencias) y las filas son los estados de las variables "
   ]
  },
  {
   "cell_type": "code",
   "execution_count": 143,
   "metadata": {
    "collapsed": false
   },
   "outputs": [],
   "source": [
    "#Antecendentes de los pacientes geriatricos\n",
    "\n",
    "cpt_Insuficiencia_Cardiaca = TabularCPD('EP_Insuficiencia_Cardiaca', 2, [[0.5], [0.5]])\n",
    "cpt_Asma_Bronquial = TabularCPD('EP_Asma_Bronquial', 2, [[0.5], [0.5]])\n",
    "cpt_Diabetes= TabularCPD('EP_Diabetes', 2,[[0.5], [0.5]])\n",
    "cpt_Ibuprofeno= TabularCPD('MP_ibuprofeno',2, [[0.5], [0.5]])\n",
    "cpt_Gota= TabularCPD('EP_Gota', 2, [[0.5], [0.5]])"
   ]
  },
  {
   "cell_type": "code",
   "execution_count": 147,
   "metadata": {
    "collapsed": false
   },
   "outputs": [],
   "source": [
    "#Medicamentos a recetar\n",
    "\n",
    "cpt_metoprolol = TabularCPD('MR_metropolol', 3, values_metoprolol, evidence= ['EP_Asma_Bronquial','EP_Diabetes','EP_Insuficiencia_Cardiaca'],evidence_card=[2,2,2])\n",
    "cpt_hidroclorothiazida = TabularCPD('MR_hidroclorothiazida', 3,values_hidroclorothiazida,evidence=['EP_Diabetes','EP_Gota','MP_ibuprofeno'],evidence_card=[2,2,2])\n",
    "cpt_amlodipino = TabularCPD('MR_amlodipino', 2,[[0.5], [0.5]])\n",
    "#cpt_losartan   = TabularCPD('MR_losartan'  , 2,[[0.5], [0.5]])\n",
    "#cpt_enalapril  = TabularCPD('MR_enalapril' , 2,[[0.5], [0.5]])\n",
    "#cpt_furosemida = TabularCPD('MR_furosemida', 2,[[0.5], [0.5]])\n",
    "#cpt_prazosin   = TabularCPD('MR_prazosin'  , 2,[[0.5], [0.5]])\n",
    "#cpt_verapamilo = TabularCPD('MR_verapamilo', 2,[[0.5], [0.5]])\n",
    "#cpt_captopril  = TabularCPD('MR_captopril' , 2,[[0.5], [0.5]])\n",
    "#cpt_propanolol = TabularCPD('MR_propanolol', 2,[[0.5], [0.5]])\n",
    "#cpt_carvedilol = TabularCPD('MR_carvedilol', 2,[[0.5], [0.5]])\n",
    "\n"
   ]
  },
  {
   "cell_type": "code",
   "execution_count": 145,
   "metadata": {
    "collapsed": true
   },
   "outputs": [],
   "source": [
    "#Sintomas resultantes\n",
    "cpt_angina_pecho     = TabularCPD('SA_angina_de_pecho' ,2,values_angina_pecho    ,['MR_amlodipino','MR_metropolol'], [2,3])\n",
    "#cpt_danho_rinhones   = TabularCPD('SA_danho_rinhones'  ,2,values_danho_rinhones  ,['MR_amlodipino','MR_captopril','MR_carvedilol','MR_enalapril' ,'MR_furosemida','MR_hidroclorothiazida','MR_losartan','MR_metropolol','MR_prazosin','MR_propanolol','MR_verapamilo'],[2,2,2,2,2,3,2,3,2,2,2])\n",
    "#cpt_presion_arterial = TabularCPD('SA_presion_arterial',3,values_presion_arterial,['MR_amlodipino','MR_captopril','MR_carvedilol','MR_enalapril' ,'MR_furosemida','MR_hidroclorothiazida','MR_losartan','MR_metropolol','MR_prazosin','MR_propanolol','MR_verapamilo'],[2,2,2,2,2,3,2,3,2,2,2])"
   ]
  },
  {
   "cell_type": "markdown",
   "metadata": {},
   "source": [
    "# Creando la estructura de la RB"
   ]
  },
  {
   "cell_type": "code",
   "execution_count": 135,
   "metadata": {
    "collapsed": true
   },
   "outputs": [],
   "source": [
    "bn = BayesianModel([('EP_Insuficiencia_Cardiaca', 'MR_metropolol'),              \n",
    "                    ('EP_Asma_Bronquial', 'MR_metropolol'), \n",
    "                    ('EP_Diabetes', 'MR_metropolol'), \n",
    "                    ('EP_Diabetes', 'MR_hidroclorothiazida'), \n",
    "                    ('MP_ibuprofeno', 'MR_hidroclorothiazida'), \n",
    "                    ('EP_Gota', 'MR_hidroclorothiazida'), \n",
    "                    ('MR_metropolol', 'SA_angina_de_pecho'),\n",
    "                    ('MR_metropolol', 'SA_danho_rinhones'),\n",
    "                    ('MR_metropolol', 'SA_presion_arterial'),\n",
    "                    ('MR_hidroclorothiazida', 'SA_danho_rinhones'),\n",
    "                    ('MR_hidroclorothiazida', 'SA_presion_arterial'),\n",
    "                    ('MR_amlodipino', 'SA_angina_de_pecho'),\n",
    "                    ('MR_amlodipino', 'SA_danho_rinhones'),\n",
    "                    ('MR_amlodipino', 'SA_presion_arterial'),\n",
    "                    ('MR_losartan', 'SA_danho_rinhones'),\n",
    "                    ('MR_losartan', 'SA_presion_arterial'),\n",
    "                    ('MR_enalapril', 'SA_danho_rinhones'),\n",
    "                    ('MR_enalapril', 'SA_presion_arterial'),\n",
    "                    ('MR_furosemida', 'SA_presion_arterial'),\n",
    "                    ('MR_furosemida', 'SA_danho_rinhones'),\n",
    "                    ('MR_prazosin', 'SA_presion_arterial'),\n",
    "                    ('MR_prazosin', 'SA_danho_rinhones'),\n",
    "                    ('MR_verapamilo', 'SA_presion_arterial'),\n",
    "                    ('MR_verapamilo', 'SA_danho_rinhones'),\n",
    "                    ('MR_captopril', 'SA_presion_arterial'),\n",
    "                    ('MR_captopril', 'SA_danho_rinhones'),\n",
    "                    ('MR_propanolol', 'SA_presion_arterial'),\n",
    "                    ('MR_propanolol', 'SA_danho_rinhones'),\n",
    "                    ('MR_carvedilol', 'SA_presion_arterial'),\n",
    "                    ('MR_carvedilol', 'SA_danho_rinhones')])"
   ]
  },
  {
   "cell_type": "code",
   "execution_count": 148,
   "metadata": {
    "collapsed": false
   },
   "outputs": [],
   "source": [
    "bn0 = BayesianModel([('EP_Insuficiencia_Cardiaca', 'MR_metropolol'),              \n",
    "                    ('EP_Asma_Bronquial', 'MR_metropolol'), \n",
    "                    ('EP_Diabetes', 'MR_metropolol'), \n",
    "                    ('EP_Diabetes', 'MR_hidroclorothiazida'), \n",
    "                    ('MP_ibuprofeno', 'MR_hidroclorothiazida'), \n",
    "                    ('EP_Gota', 'MR_hidroclorothiazida'), \n",
    "                    ('MR_metropolol', 'SA_angina_de_pecho'),\n",
    "                    #('MR_metropolol', 'SA_danho_rinhones'),\n",
    "                    #('MR_metropolol', 'SA_presion_arterial'),\n",
    "                    #('MR_hidroclorothiazida', 'SA_danho_rinhones'),\n",
    "                    #('MR_hidroclorothiazida', 'SA_presion_arterial'),\n",
    "                    ('MR_amlodipino', 'SA_angina_de_pecho'),\n",
    "                    #('MR_amlodipino', 'SA_danho_rinhones'),\n",
    "                    #('MR_amlodipino', 'SA_presion_arterial'),\n",
    "                    #('MR_losartan', 'SA_danho_rinhones'),\n",
    "                    #('MR_losartan', 'SA_presion_arterial'),\n",
    "                    #('MR_enalapril', 'SA_danho_rinhones'),\n",
    "                    #('MR_enalapril', 'SA_presion_arterial'),\n",
    "                    #('MR_furosemida', 'SA_presion_arterial'),\n",
    "                    #('MR_furosemida', 'SA_danho_rinhones'),\n",
    "                    #('MR_prazosin', 'SA_presion_arterial'),\n",
    "                    #('MR_prazosin', 'SA_danho_rinhones'),\n",
    "                    #('MR_verapamilo', 'SA_presion_arterial'),\n",
    "                    #('MR_verapamilo', 'SA_danho_rinhones'),\n",
    "                    #('MR_captopril', 'SA_presion_arterial'),\n",
    "                    #('MR_captopril', 'SA_danho_rinhones'),\n",
    "                    #('MR_propanolol', 'SA_presion_arterial'),\n",
    "                    #('MR_propanolol', 'SA_danho_rinhones'),\n",
    "                    #('MR_carvedilol', 'SA_presion_arterial'),\n",
    "                    #('MR_carvedilol', 'SA_danho_rinhones')\n",
    "                    ])"
   ]
  },
  {
   "cell_type": "markdown",
   "metadata": {},
   "source": [
    "## Asociando los CPTs con la estructura del modelo\n"
   ]
  },
  {
   "cell_type": "code",
   "execution_count": null,
   "metadata": {
    "collapsed": true
   },
   "outputs": [],
   "source": [
    "bn.add_cpds(cpt_Insuficiencia_Cardiaca, cpt_Asma_Bronquial, cpt_Diabetes, cpt_Ibuprofeno, cpt_Gota,\n",
    "            cpt_metoprolol, cpt_hidroclorothiazida, cpt_amlodipino, cpt_losartan, cpt_enalapril,cpt_furosemida, \n",
    "            cpt_prazosin, cpt_verapamilo, cpt_captopril, cpt_propanolol,cpt_carvedilol, \n",
    "            cpt_angina_pecho, cpt_danho_rinhones,cpt_presion_arterial)"
   ]
  },
  {
   "cell_type": "code",
   "execution_count": 151,
   "metadata": {
    "collapsed": false
   },
   "outputs": [],
   "source": [
    "bn0.add_cpds(cpt_Insuficiencia_Cardiaca, cpt_Asma_Bronquial, cpt_Diabetes, cpt_Ibuprofeno, cpt_Gota,\n",
    "            cpt_metoprolol, cpt_hidroclorothiazida, cpt_amlodipino, cpt_angina_pecho)"
   ]
  },
  {
   "cell_type": "code",
   "execution_count": null,
   "metadata": {
    "collapsed": true
   },
   "outputs": [],
   "source": []
  },
  {
   "cell_type": "markdown",
   "metadata": {},
   "source": [
    "## Chequeando consistencia de la Red Bayesiana\n",
    "Chequea que todos los CPTs sean válidos para el modelo"
   ]
  },
  {
   "cell_type": "code",
   "execution_count": 152,
   "metadata": {
    "collapsed": false
   },
   "outputs": [
    {
     "data": {
      "text/plain": [
       "True"
      ]
     },
     "execution_count": 152,
     "metadata": {},
     "output_type": "execute_result"
    }
   ],
   "source": [
    "bn0.check_model()"
   ]
  },
  {
   "cell_type": "markdown",
   "metadata": {},
   "source": [
    "## Haciendo inferencias en la RB con algoritmo BeliefPropagation\n"
   ]
  },
  {
   "cell_type": "markdown",
   "metadata": {},
   "source": [
    "Vamos a preguntar a la RB con el algoritmo ** VariableElimination ** Cuál es la distribucion de \"B\" (Burglary) habiendo obsevado que \"J\" y \"M\" son true (John y Mary llaman)  "
   ]
  },
  {
   "cell_type": "code",
   "execution_count": 153,
   "metadata": {
    "collapsed": true
   },
   "outputs": [],
   "source": [
    "from pgmpy.models import BayesianModel\n",
    "from pgmpy.factors.discrete import TabularCPD\n",
    "from pgmpy.inference import BeliefPropagation\n",
    "from pgmpy.factors.discrete import DiscreteFactor"
   ]
  },
  {
   "cell_type": "code",
   "execution_count": 155,
   "metadata": {
    "collapsed": false
   },
   "outputs": [
    {
     "data": {
      "text/plain": [
       "pgmpy.models.BayesianModel.BayesianModel"
      ]
     },
     "execution_count": 155,
     "metadata": {},
     "output_type": "execute_result"
    }
   ],
   "source": [
    "type(bn0)"
   ]
  },
  {
   "cell_type": "code",
   "execution_count": 154,
   "metadata": {
    "collapsed": false
   },
   "outputs": [],
   "source": [
    "bp = BeliefPropagation(bn0)"
   ]
  },
  {
   "cell_type": "code",
   "execution_count": null,
   "metadata": {
    "collapsed": true
   },
   "outputs": [],
   "source": []
  },
  {
   "cell_type": "code",
   "execution_count": null,
   "metadata": {
    "collapsed": true
   },
   "outputs": [],
   "source": []
  },
  {
   "cell_type": "code",
   "execution_count": 51,
   "metadata": {
    "collapsed": true
   },
   "outputs": [],
   "source": [
    "from pgmpy.inference import VariableElimination"
   ]
  },
  {
   "cell_type": "code",
   "execution_count": 52,
   "metadata": {
    "collapsed": false
   },
   "outputs": [],
   "source": [
    "inference = VariableElimination(bn)"
   ]
  },
  {
   "cell_type": "code",
   "execution_count": 53,
   "metadata": {
    "collapsed": true
   },
   "outputs": [],
   "source": [
    "phi_query = inference.query(variables=['SA_angina_de_pecho'], evidence={'EP_Insuficiencia_Cardiaca':0})"
   ]
  },
  {
   "cell_type": "code",
   "execution_count": 56,
   "metadata": {
    "collapsed": false
   },
   "outputs": [
    {
     "name": "stdout",
     "output_type": "stream",
     "text": [
      "╒══════════════════════╤═══════════════════════════╕\n",
      "│ SA_angina_de_pecho   │   phi(SA_angina_de_pecho) │\n",
      "╞══════════════════════╪═══════════════════════════╡\n",
      "│ SA_angina_de_pecho_0 │                    0.4985 │\n",
      "├──────────────────────┼───────────────────────────┤\n",
      "│ SA_angina_de_pecho_1 │                    0.5015 │\n",
      "╘══════════════════════╧═══════════════════════════╛\n"
     ]
    }
   ],
   "source": [
    "print(phi_query['SA_angina_de_pecho'])"
   ]
  },
  {
   "cell_type": "code",
   "execution_count": null,
   "metadata": {
    "collapsed": false
   },
   "outputs": [],
   "source": [
    "\n",
    "\n",
    "q = bn_inference.query(variables=['LastResults'], evidence={'FinalResult':0})\n",
    "print(q['LastResults'])"
   ]
  },
  {
   "cell_type": "code",
   "execution_count": null,
   "metadata": {
    "collapsed": true
   },
   "outputs": [],
   "source": []
  },
  {
   "cell_type": "markdown",
   "metadata": {},
   "source": [
    "## Obteniendo las independencias Condicionales implicadas en la RB  "
   ]
  },
  {
   "cell_type": "code",
   "execution_count": null,
   "metadata": {
    "collapsed": false
   },
   "outputs": [],
   "source": [
    "bn.get_independencies()"
   ]
  },
  {
   "cell_type": "code",
   "execution_count": null,
   "metadata": {
    "collapsed": true
   },
   "outputs": [],
   "source": []
  }
 ],
 "metadata": {
  "anaconda-cloud": {},
  "kernelspec": {
   "display_name": "Python [anaconda3]",
   "language": "python",
   "name": "Python [anaconda3]"
  },
  "language_info": {
   "codemirror_mode": {
    "name": "ipython",
    "version": 3
   },
   "file_extension": ".py",
   "mimetype": "text/x-python",
   "name": "python",
   "nbconvert_exporter": "python",
   "pygments_lexer": "ipython3",
   "version": "3.5.2"
  }
 },
 "nbformat": 4,
 "nbformat_minor": 2
}
