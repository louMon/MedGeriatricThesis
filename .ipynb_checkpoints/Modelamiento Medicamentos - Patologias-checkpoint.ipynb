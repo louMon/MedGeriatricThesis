{
 "cells": [
  {
   "cell_type": "markdown",
   "metadata": {},
   "source": [
    "## Red Bayesiana para predecir la combinacion de medicamentos mas adecuada en pacientes geriatricos\n",
    "El objetivo del presente proyecto es poder crear una red Bayesiana, la cual modele probabilisticamente un dominio para predicción de medicamentos para diversas patologias y segun la naturaleza del paciente. \n",
    "A continuacion, se muestran algunas de las variables aleatórias involucradas en el dominio\n",
    "\n",
    "## Variables destinadas a los antecedentes del paciente geriatrico\n",
    "\n",
    "<b>EP_Insuficiencia_Cardiaca</b>: Background o Antecedentes de enfermedades de los pacientes geriatricos(50=Presente, 50=Ausente)\n",
    "\n",
    "<b>SA_angina_de_pecho</b>: Sintomas actuales(Presente,Ausente)\n",
    "\n",
    "<b>SA_presion_arterial</b>: Sintomas actuales(Alto,Normal,Baja)\n",
    "\n",
    "<b>EP_Asma_Bronquial</b>: Background o Antecedentes de enfermedades de los pacientes geriatricos. (Presente, Ausente)\n",
    "\n",
    "<b>EP_Diabetes</b>: Background o Antecedentes de enfermedades de los pacientes geriatricos. (Presente,Ausente)\n",
    "\n",
    "<b>EP_Gota</b>: Background o Antecedentes de enfermedades de los pacientes geriatricos. (Presente,Ausente)\n",
    "\n",
    "<b>MP_Ibuprofeno</b>: Background o Antecedentes de los medicamentos que consumen los pacientes geriatricos. (Prescrito,No Prescrito)\n",
    "\n",
    "## Variables destinadas a los posibles medicamentos a recetar\n",
    "\n",
    "<b>MR_metropolol</b>: Metropolol (Prescribir Normal, Prescribir condicion Diabetes, No Prescribir)\n",
    "\n",
    "<b>MR_hidroclorothiazida</b>: Hidroclorothiazida (Prescribir Normal, Prescribir condicion Diabetes, No Prescribir)\n",
    "\n",
    "<b>MR_amlodipino</b>: Amlodipino (Prescribir, No Prescribir)\n",
    "\n",
    "<b>MR_losartan</b>: Losartan (Prescribir, No Prescribir)\n",
    "\n",
    "<b>MR_metropolol</b>: Metropolol (Prescribir, No Prescribir)\n",
    "\n",
    "<b>MR_enalapril</b>: Enalapril (Prescribir, No Prescribir)\n",
    "\n",
    "<b>MR_furosemida</b>: Furosemida (Prescribir, No Prescribir)\n",
    "\n",
    "<b>MR_prazosin</b>: Prazosin (Prescribir, No Prescribir)\n",
    "\n",
    "<b>MR_verapamilo</b>: Verapamilo (Prescribir, No Prescribir)\n",
    "\n",
    "<b>MR_propanolol</b>: Propanolol (Prescribir, No Prescribir)\n",
    "\n",
    "<b>MR_carvedilol</b>: Carvedilol (Prescribir, No Prescribir)\n",
    "\n",
    "\n",
    "## Variables destinadas a los sintomas y efectos secundarios resultantes\n",
    "\n",
    "<b>SA_angina_de_pecho</b>: Angina de Pecho (Presente, Ausente)\n",
    "\n",
    "<b>SA_presion_arterial</b>: Presion arterial (Alta, Normal,Baja)\n",
    "\n",
    "<b>SA_danho_rinhones</b>: Danho en Rinhones (Presente, Ausente)\n"
   ]
  },
  {
   "cell_type": "markdown",
   "metadata": {},
   "source": [
    "## Creando la estructura de la RB"
   ]
  },
  {
   "cell_type": "code",
   "execution_count": 2,
   "metadata": {
    "collapsed": false
   },
   "outputs": [],
   "source": [
    "from pgmpy.models import BayesianModel\n",
    "from pgmpy.factors.discrete import TabularCPD\n",
    "from pgmpy.inference import VariableElimination\n",
    "import pandas as pd\n",
    "import numpy as np"
   ]
  },
  {
   "cell_type": "code",
   "execution_count": 3,
   "metadata": {
    "collapsed": true
   },
   "outputs": [],
   "source": [
    "bn = BayesianModel([('EP_Insuficiencia_Cardiaca', 'MR_metropolol'),              \n",
    "                    ('EP_Asma_Bronquial', 'MR_metropolol'), \n",
    "                    ('EP_Diabetes', 'MR_metropolol'), \n",
    "                    ('EP_Diabetes', 'MR_hidroclorothiazida'), \n",
    "                    ('MP_ibuprofeno', 'MR_hidroclorothiazida'), \n",
    "                    ('EP_Gota', 'MR_hidroclorothiazida'), \n",
    "                    ('MR_metropolol', 'SA_angina_de_pecho'),\n",
    "                    ('MR_metropolol', 'SA_danho_rinhones'),\n",
    "                    ('MR_metropolol', 'SA_presion_arterial'),\n",
    "                    ('MR_hidroclorothiazida', 'SA_danho_rinhones'),\n",
    "                    ('MR_hidroclorothiazida', 'SA_presion_arterial'),\n",
    "                    ('MR_amlodipino', 'SA_angina_de_pecho'),\n",
    "                    ('MR_amlodipino', 'SA_danho_rinhones'),\n",
    "                    ('MR_amlodipino', 'SA_presion_arterial'),\n",
    "                    ('MR_losartan', 'SA_danho_rinhones'),\n",
    "                    ('MR_losartan', 'SA_presion_arterial'),\n",
    "                    ('MR_enalapril', 'SA_danho_rinhones'),\n",
    "                    ('MR_enalapril', 'SA_presion_arterial'),\n",
    "                    ('MR_furosemida', 'SA_presion_arterial'),\n",
    "                    ('MR_furosemida', 'SA_danho_rinhones'),\n",
    "                    ('MR_prazosin', 'SA_presion_arterial'),\n",
    "                    ('MR_prazosin', 'SA_danho_rinhones'),\n",
    "                    ('MR_verapamilo', 'SA_presion_arterial'),\n",
    "                    ('MR_verapamilo', 'SA_danho_rinhones'),\n",
    "                    ('MR_captopril', 'SA_presion_arterial'),\n",
    "                    ('MR_captopril', 'SA_danho_rinhones'),\n",
    "                    ('MR_propanolol', 'SA_presion_arterial'),\n",
    "                    ('MR_propanolol', 'SA_danho_rinhones'),\n",
    "                    ('MR_carvedilol', 'SA_presion_arterial'),\n",
    "                    ('MR_carvedilol', 'SA_danho_rinhones')])"
   ]
  },
  {
   "cell_type": "markdown",
   "metadata": {},
   "source": [
    "\n",
    "# Creacion de la tabla de verdad que brinda evidencia de los medicamentos hacia algun sintoma\n",
    "\n"
   ]
  },
  {
   "cell_type": "markdown",
   "metadata": {},
   "source": [
    "Base: Numero que indica la cantidad a repetirse\n",
    "\n",
    "Por ejemplo:\n",
    "\n",
    "-[ 1 1 0 0 ]               -> base 4\n",
    "\n",
    "-[ 1 1 1 1 0 0 0 0]        -> base 8\n",
    "\n",
    "-[ 2 2 1 1 0 0]            -> base 6"
   ]
  },
  {
   "cell_type": "markdown",
   "metadata": {},
   "source": [
    "Generar un arreglo con el tamanho de la base"
   ]
  },
  {
   "cell_type": "code",
   "execution_count": 6,
   "metadata": {
    "collapsed": true
   },
   "outputs": [],
   "source": [
    "def generateArrayBase(campos, arrMedicamentos):\n",
    "    arrBase = []\n",
    "    cantEstados = 0     \n",
    "    for j in range(0, campos):\n",
    "        if(j == 0):\n",
    "            cantEstados = arrMedicamentos[j] ** (j+1)\n",
    "        else:\n",
    "            cantEstados = (arrBase[j-1] * arrMedicamentos[j])\n",
    "        arrBase.append(cantEstados)\n",
    "    return arrBase"
   ]
  },
  {
   "cell_type": "markdown",
   "metadata": {},
   "source": [
    "Generar una lista de verdad por variable dada, segun sea su base"
   ]
  },
  {
   "cell_type": "code",
   "execution_count": 7,
   "metadata": {
    "collapsed": true
   },
   "outputs": [],
   "source": [
    "def generateArrayState(i,filas, maxEstado, cantVecesPorEstado,arrBase,arrMedicamentos):\n",
    "    medlist = []\n",
    "    contEstado = 1\n",
    "    contadorInterno = 1\n",
    "    for j in range (0, filas):                 \n",
    "        medlist.append(maxEstado)\n",
    "        #Lo hago para verificar si ya se puede reiniciar con el mayor\n",
    "        if(contadorInterno == arrBase[i]):\n",
    "            maxEstado = arrMedicamentos[i] -1\n",
    "            contadorInterno = 1\n",
    "            contEstado = 1\n",
    "        else:\n",
    "            #Lo hago para verificar si ya se puede cambiar de estado a un menor\n",
    "            if(contEstado == cantVecesPorEstado):\n",
    "                maxEstado -=1\n",
    "                contEstado =1\n",
    "            else:\n",
    "                contEstado +=1\n",
    "            contadorInterno +=1\n",
    "    return medlist"
   ]
  },
  {
   "cell_type": "code",
   "execution_count": 36,
   "metadata": {
    "collapsed": true
   },
   "outputs": [],
   "source": [
    "def lenLista(arrMedicamentos):    \n",
    "    filas = 1 \n",
    "    for i in arrMedicamentos:\n",
    "        filas  *=i \n",
    "    return filas"
   ]
  },
  {
   "cell_type": "code",
   "execution_count": 44,
   "metadata": {
    "collapsed": false
   },
   "outputs": [],
   "source": [
    "def createCombinationDataframe(arrEstadosMedicamentos,arrHeader):\n",
    "    campos = len(arrEstadosMedicamentos)\n",
    "    dicc = {}\n",
    "    i = 0   \n",
    "    #Obteniendo la base por cada posicion del medicamento\n",
    "    arrBase = generateArrayBase(campos, arrEstadosMedicamentos)\n",
    "    \n",
    "    #Obteniendo la cantidad de filas\n",
    "    filas   = lenLista(arrEstadosMedicamentos)\n",
    "         \n",
    "    #Obteniendo la gran tabla de verdad\n",
    "    for key in arrHeader:  \n",
    "        maxEstado = arrEstadosMedicamentos[i] -1 \n",
    "        cantVecesPorEstado = arrBase[i]/arrEstadosMedicamentos[i]\n",
    "        medlist = generateArrayState(i,filas, maxEstado,cantVecesPorEstado,arrBase,arrEstadosMedicamentos)\n",
    "        dicc[key] = medlist\n",
    "        i+=1   \n",
    "    df = pd.DataFrame(dicc)\n",
    "    return df"
   ]
  },
  {
   "cell_type": "code",
   "execution_count": 45,
   "metadata": {
    "collapsed": false,
    "scrolled": false
   },
   "outputs": [
    {
     "data": {
      "text/html": [
       "<div>\n",
       "<table border=\"1\" class=\"dataframe\">\n",
       "  <thead>\n",
       "    <tr style=\"text-align: right;\">\n",
       "      <th></th>\n",
       "      <th>MR_amlodipino</th>\n",
       "      <th>MR_captopril</th>\n",
       "      <th>MR_carvedilol</th>\n",
       "      <th>MR_enalapril</th>\n",
       "      <th>MR_furosemida</th>\n",
       "      <th>MR_hidroclorothiazida</th>\n",
       "      <th>MR_losartan</th>\n",
       "      <th>MR_metropolol</th>\n",
       "      <th>MR_prazosin</th>\n",
       "      <th>MR_propanolol</th>\n",
       "      <th>MR_verapamilo</th>\n",
       "    </tr>\n",
       "  </thead>\n",
       "  <tbody>\n",
       "    <tr>\n",
       "      <th>0</th>\n",
       "      <td>1</td>\n",
       "      <td>1</td>\n",
       "      <td>1</td>\n",
       "      <td>1</td>\n",
       "      <td>1</td>\n",
       "      <td>2</td>\n",
       "      <td>1</td>\n",
       "      <td>2</td>\n",
       "      <td>1</td>\n",
       "      <td>1</td>\n",
       "      <td>1</td>\n",
       "    </tr>\n",
       "    <tr>\n",
       "      <th>1</th>\n",
       "      <td>0</td>\n",
       "      <td>1</td>\n",
       "      <td>1</td>\n",
       "      <td>1</td>\n",
       "      <td>1</td>\n",
       "      <td>2</td>\n",
       "      <td>1</td>\n",
       "      <td>2</td>\n",
       "      <td>1</td>\n",
       "      <td>1</td>\n",
       "      <td>1</td>\n",
       "    </tr>\n",
       "    <tr>\n",
       "      <th>2</th>\n",
       "      <td>1</td>\n",
       "      <td>0</td>\n",
       "      <td>1</td>\n",
       "      <td>1</td>\n",
       "      <td>1</td>\n",
       "      <td>2</td>\n",
       "      <td>1</td>\n",
       "      <td>2</td>\n",
       "      <td>1</td>\n",
       "      <td>1</td>\n",
       "      <td>1</td>\n",
       "    </tr>\n",
       "    <tr>\n",
       "      <th>3</th>\n",
       "      <td>0</td>\n",
       "      <td>0</td>\n",
       "      <td>1</td>\n",
       "      <td>1</td>\n",
       "      <td>1</td>\n",
       "      <td>2</td>\n",
       "      <td>1</td>\n",
       "      <td>2</td>\n",
       "      <td>1</td>\n",
       "      <td>1</td>\n",
       "      <td>1</td>\n",
       "    </tr>\n",
       "    <tr>\n",
       "      <th>4</th>\n",
       "      <td>1</td>\n",
       "      <td>1</td>\n",
       "      <td>0</td>\n",
       "      <td>1</td>\n",
       "      <td>1</td>\n",
       "      <td>2</td>\n",
       "      <td>1</td>\n",
       "      <td>2</td>\n",
       "      <td>1</td>\n",
       "      <td>1</td>\n",
       "      <td>1</td>\n",
       "    </tr>\n",
       "    <tr>\n",
       "      <th>5</th>\n",
       "      <td>0</td>\n",
       "      <td>1</td>\n",
       "      <td>0</td>\n",
       "      <td>1</td>\n",
       "      <td>1</td>\n",
       "      <td>2</td>\n",
       "      <td>1</td>\n",
       "      <td>2</td>\n",
       "      <td>1</td>\n",
       "      <td>1</td>\n",
       "      <td>1</td>\n",
       "    </tr>\n",
       "    <tr>\n",
       "      <th>6</th>\n",
       "      <td>1</td>\n",
       "      <td>0</td>\n",
       "      <td>0</td>\n",
       "      <td>1</td>\n",
       "      <td>1</td>\n",
       "      <td>2</td>\n",
       "      <td>1</td>\n",
       "      <td>2</td>\n",
       "      <td>1</td>\n",
       "      <td>1</td>\n",
       "      <td>1</td>\n",
       "    </tr>\n",
       "    <tr>\n",
       "      <th>7</th>\n",
       "      <td>0</td>\n",
       "      <td>0</td>\n",
       "      <td>0</td>\n",
       "      <td>1</td>\n",
       "      <td>1</td>\n",
       "      <td>2</td>\n",
       "      <td>1</td>\n",
       "      <td>2</td>\n",
       "      <td>1</td>\n",
       "      <td>1</td>\n",
       "      <td>1</td>\n",
       "    </tr>\n",
       "    <tr>\n",
       "      <th>8</th>\n",
       "      <td>1</td>\n",
       "      <td>1</td>\n",
       "      <td>1</td>\n",
       "      <td>0</td>\n",
       "      <td>1</td>\n",
       "      <td>2</td>\n",
       "      <td>1</td>\n",
       "      <td>2</td>\n",
       "      <td>1</td>\n",
       "      <td>1</td>\n",
       "      <td>1</td>\n",
       "    </tr>\n",
       "    <tr>\n",
       "      <th>9</th>\n",
       "      <td>0</td>\n",
       "      <td>1</td>\n",
       "      <td>1</td>\n",
       "      <td>0</td>\n",
       "      <td>1</td>\n",
       "      <td>2</td>\n",
       "      <td>1</td>\n",
       "      <td>2</td>\n",
       "      <td>1</td>\n",
       "      <td>1</td>\n",
       "      <td>1</td>\n",
       "    </tr>\n",
       "  </tbody>\n",
       "</table>\n",
       "</div>"
      ],
      "text/plain": [
       "   MR_amlodipino  MR_captopril  MR_carvedilol  MR_enalapril  MR_furosemida  \\\n",
       "0              1             1              1             1              1   \n",
       "1              0             1              1             1              1   \n",
       "2              1             0              1             1              1   \n",
       "3              0             0              1             1              1   \n",
       "4              1             1              0             1              1   \n",
       "5              0             1              0             1              1   \n",
       "6              1             0              0             1              1   \n",
       "7              0             0              0             1              1   \n",
       "8              1             1              1             0              1   \n",
       "9              0             1              1             0              1   \n",
       "\n",
       "   MR_hidroclorothiazida  MR_losartan  MR_metropolol  MR_prazosin  \\\n",
       "0                      2            1              2            1   \n",
       "1                      2            1              2            1   \n",
       "2                      2            1              2            1   \n",
       "3                      2            1              2            1   \n",
       "4                      2            1              2            1   \n",
       "5                      2            1              2            1   \n",
       "6                      2            1              2            1   \n",
       "7                      2            1              2            1   \n",
       "8                      2            1              2            1   \n",
       "9                      2            1              2            1   \n",
       "\n",
       "   MR_propanolol  MR_verapamilo  \n",
       "0              1              1  \n",
       "1              1              1  \n",
       "2              1              1  \n",
       "3              1              1  \n",
       "4              1              1  \n",
       "5              1              1  \n",
       "6              1              1  \n",
       "7              1              1  \n",
       "8              1              1  \n",
       "9              1              1  "
      ]
     },
     "execution_count": 45,
     "metadata": {},
     "output_type": "execute_result"
    }
   ],
   "source": [
    "#Colocar los medicamentos de izquierda a derecha \n",
    "df_ANT_presion_arterial = createCombinationDataframe([2,2,2,2,2,3,2,3,2,2,2],\n",
    "                    ['MR_amlodipino','MR_captopril' ,'MR_carvedilol','MR_enalapril' ,\n",
    "                     'MR_furosemida','MR_hidroclorothiazida','MR_losartan','MR_metropolol',\n",
    "                     'MR_prazosin','MR_propanolol','MR_verapamilo']) \n",
    "\n",
    "df_ANT_presion_arterial.head(10)"
   ]
  },
  {
   "cell_type": "code",
   "execution_count": 46,
   "metadata": {
    "collapsed": false
   },
   "outputs": [
    {
     "data": {
      "text/html": [
       "<div>\n",
       "<table border=\"1\" class=\"dataframe\">\n",
       "  <thead>\n",
       "    <tr style=\"text-align: right;\">\n",
       "      <th></th>\n",
       "      <th>MR_amlodipino</th>\n",
       "      <th>MR_captopril</th>\n",
       "      <th>MR_carvedilol</th>\n",
       "      <th>MR_enalapril</th>\n",
       "      <th>MR_furosemida</th>\n",
       "      <th>MR_hidroclorothiazida</th>\n",
       "      <th>MR_losartan</th>\n",
       "      <th>MR_metropolol</th>\n",
       "      <th>MR_prazosin</th>\n",
       "      <th>MR_propanolol</th>\n",
       "      <th>MR_verapamilo</th>\n",
       "    </tr>\n",
       "  </thead>\n",
       "  <tbody>\n",
       "    <tr>\n",
       "      <th>4598</th>\n",
       "      <td>1</td>\n",
       "      <td>0</td>\n",
       "      <td>0</td>\n",
       "      <td>1</td>\n",
       "      <td>0</td>\n",
       "      <td>0</td>\n",
       "      <td>0</td>\n",
       "      <td>0</td>\n",
       "      <td>0</td>\n",
       "      <td>0</td>\n",
       "      <td>0</td>\n",
       "    </tr>\n",
       "    <tr>\n",
       "      <th>4599</th>\n",
       "      <td>0</td>\n",
       "      <td>0</td>\n",
       "      <td>0</td>\n",
       "      <td>1</td>\n",
       "      <td>0</td>\n",
       "      <td>0</td>\n",
       "      <td>0</td>\n",
       "      <td>0</td>\n",
       "      <td>0</td>\n",
       "      <td>0</td>\n",
       "      <td>0</td>\n",
       "    </tr>\n",
       "    <tr>\n",
       "      <th>4600</th>\n",
       "      <td>1</td>\n",
       "      <td>1</td>\n",
       "      <td>1</td>\n",
       "      <td>0</td>\n",
       "      <td>0</td>\n",
       "      <td>0</td>\n",
       "      <td>0</td>\n",
       "      <td>0</td>\n",
       "      <td>0</td>\n",
       "      <td>0</td>\n",
       "      <td>0</td>\n",
       "    </tr>\n",
       "    <tr>\n",
       "      <th>4601</th>\n",
       "      <td>0</td>\n",
       "      <td>1</td>\n",
       "      <td>1</td>\n",
       "      <td>0</td>\n",
       "      <td>0</td>\n",
       "      <td>0</td>\n",
       "      <td>0</td>\n",
       "      <td>0</td>\n",
       "      <td>0</td>\n",
       "      <td>0</td>\n",
       "      <td>0</td>\n",
       "    </tr>\n",
       "    <tr>\n",
       "      <th>4602</th>\n",
       "      <td>1</td>\n",
       "      <td>0</td>\n",
       "      <td>1</td>\n",
       "      <td>0</td>\n",
       "      <td>0</td>\n",
       "      <td>0</td>\n",
       "      <td>0</td>\n",
       "      <td>0</td>\n",
       "      <td>0</td>\n",
       "      <td>0</td>\n",
       "      <td>0</td>\n",
       "    </tr>\n",
       "    <tr>\n",
       "      <th>4603</th>\n",
       "      <td>0</td>\n",
       "      <td>0</td>\n",
       "      <td>1</td>\n",
       "      <td>0</td>\n",
       "      <td>0</td>\n",
       "      <td>0</td>\n",
       "      <td>0</td>\n",
       "      <td>0</td>\n",
       "      <td>0</td>\n",
       "      <td>0</td>\n",
       "      <td>0</td>\n",
       "    </tr>\n",
       "    <tr>\n",
       "      <th>4604</th>\n",
       "      <td>1</td>\n",
       "      <td>1</td>\n",
       "      <td>0</td>\n",
       "      <td>0</td>\n",
       "      <td>0</td>\n",
       "      <td>0</td>\n",
       "      <td>0</td>\n",
       "      <td>0</td>\n",
       "      <td>0</td>\n",
       "      <td>0</td>\n",
       "      <td>0</td>\n",
       "    </tr>\n",
       "    <tr>\n",
       "      <th>4605</th>\n",
       "      <td>0</td>\n",
       "      <td>1</td>\n",
       "      <td>0</td>\n",
       "      <td>0</td>\n",
       "      <td>0</td>\n",
       "      <td>0</td>\n",
       "      <td>0</td>\n",
       "      <td>0</td>\n",
       "      <td>0</td>\n",
       "      <td>0</td>\n",
       "      <td>0</td>\n",
       "    </tr>\n",
       "    <tr>\n",
       "      <th>4606</th>\n",
       "      <td>1</td>\n",
       "      <td>0</td>\n",
       "      <td>0</td>\n",
       "      <td>0</td>\n",
       "      <td>0</td>\n",
       "      <td>0</td>\n",
       "      <td>0</td>\n",
       "      <td>0</td>\n",
       "      <td>0</td>\n",
       "      <td>0</td>\n",
       "      <td>0</td>\n",
       "    </tr>\n",
       "    <tr>\n",
       "      <th>4607</th>\n",
       "      <td>0</td>\n",
       "      <td>0</td>\n",
       "      <td>0</td>\n",
       "      <td>0</td>\n",
       "      <td>0</td>\n",
       "      <td>0</td>\n",
       "      <td>0</td>\n",
       "      <td>0</td>\n",
       "      <td>0</td>\n",
       "      <td>0</td>\n",
       "      <td>0</td>\n",
       "    </tr>\n",
       "  </tbody>\n",
       "</table>\n",
       "</div>"
      ],
      "text/plain": [
       "      MR_amlodipino  MR_captopril  MR_carvedilol  MR_enalapril  MR_furosemida  \\\n",
       "4598              1             0              0             1              0   \n",
       "4599              0             0              0             1              0   \n",
       "4600              1             1              1             0              0   \n",
       "4601              0             1              1             0              0   \n",
       "4602              1             0              1             0              0   \n",
       "4603              0             0              1             0              0   \n",
       "4604              1             1              0             0              0   \n",
       "4605              0             1              0             0              0   \n",
       "4606              1             0              0             0              0   \n",
       "4607              0             0              0             0              0   \n",
       "\n",
       "      MR_hidroclorothiazida  MR_losartan  MR_metropolol  MR_prazosin  \\\n",
       "4598                      0            0              0            0   \n",
       "4599                      0            0              0            0   \n",
       "4600                      0            0              0            0   \n",
       "4601                      0            0              0            0   \n",
       "4602                      0            0              0            0   \n",
       "4603                      0            0              0            0   \n",
       "4604                      0            0              0            0   \n",
       "4605                      0            0              0            0   \n",
       "4606                      0            0              0            0   \n",
       "4607                      0            0              0            0   \n",
       "\n",
       "      MR_propanolol  MR_verapamilo  \n",
       "4598              0              0  \n",
       "4599              0              0  \n",
       "4600              0              0  \n",
       "4601              0              0  \n",
       "4602              0              0  \n",
       "4603              0              0  \n",
       "4604              0              0  \n",
       "4605              0              0  \n",
       "4606              0              0  \n",
       "4607              0              0  "
      ]
     },
     "execution_count": 46,
     "metadata": {},
     "output_type": "execute_result"
    }
   ],
   "source": [
    "df_ANT_presion_arterial.tail(10)"
   ]
  },
  {
   "cell_type": "markdown",
   "metadata": {},
   "source": [
    "# Seteo de probabilidades\n",
    "\n",
    "<b>Combinaciones de 4 a mas medicamentos:</b> La probabilidad de la presencia del sintoma es muy alta\n",
    "\n",
    "<b>Combinaciones entre 2 a 3:</b> La probabilidad de la ausencia del sintoma variara de acuerdo a la efectividad del medicamento y a la naturaleza del paciente\n",
    "\n",
    "<b>Solo un medicamento: </b> La probabilidad de la ausencia del sintoma variara de acuerdo a la efectividad del medicamento y a la naturaleza del paciente"
   ]
  },
  {
   "cell_type": "code",
   "execution_count": 111,
   "metadata": {
    "collapsed": false
   },
   "outputs": [],
   "source": [
    "def createProbabilisticDataframe(arrEstadosMedicamentos, listEstados, listProbabilidades):\n",
    "    df= pd.DataFrame(columns=listEstados)\n",
    "    filas   = lenLista(arrEstadosMedicamentos)\n",
    "    for i in range(filas):\n",
    "        df2 = pd.DataFrame([listProbabilidades], columns=listEstados)\n",
    "        df =df.append(df2)\n",
    "    df=df.reset_index(drop=True)    \n",
    "    return df\n",
    "        "
   ]
  },
  {
   "cell_type": "code",
   "execution_count": 114,
   "metadata": {
    "collapsed": false
   },
   "outputs": [
    {
     "data": {
      "text/html": [
       "<div>\n",
       "<table border=\"1\" class=\"dataframe\">\n",
       "  <thead>\n",
       "    <tr style=\"text-align: right;\">\n",
       "      <th></th>\n",
       "      <th>Alta</th>\n",
       "      <th>Normal</th>\n",
       "      <th>Baja</th>\n",
       "    </tr>\n",
       "  </thead>\n",
       "  <tbody>\n",
       "    <tr>\n",
       "      <th>0</th>\n",
       "      <td>0.33</td>\n",
       "      <td>0.34</td>\n",
       "      <td>0.33</td>\n",
       "    </tr>\n",
       "    <tr>\n",
       "      <th>1</th>\n",
       "      <td>0.33</td>\n",
       "      <td>0.34</td>\n",
       "      <td>0.33</td>\n",
       "    </tr>\n",
       "    <tr>\n",
       "      <th>2</th>\n",
       "      <td>0.33</td>\n",
       "      <td>0.34</td>\n",
       "      <td>0.33</td>\n",
       "    </tr>\n",
       "    <tr>\n",
       "      <th>3</th>\n",
       "      <td>0.33</td>\n",
       "      <td>0.34</td>\n",
       "      <td>0.33</td>\n",
       "    </tr>\n",
       "    <tr>\n",
       "      <th>4</th>\n",
       "      <td>0.33</td>\n",
       "      <td>0.34</td>\n",
       "      <td>0.33</td>\n",
       "    </tr>\n",
       "    <tr>\n",
       "      <th>5</th>\n",
       "      <td>0.33</td>\n",
       "      <td>0.34</td>\n",
       "      <td>0.33</td>\n",
       "    </tr>\n",
       "    <tr>\n",
       "      <th>6</th>\n",
       "      <td>0.33</td>\n",
       "      <td>0.34</td>\n",
       "      <td>0.33</td>\n",
       "    </tr>\n",
       "    <tr>\n",
       "      <th>7</th>\n",
       "      <td>0.33</td>\n",
       "      <td>0.34</td>\n",
       "      <td>0.33</td>\n",
       "    </tr>\n",
       "    <tr>\n",
       "      <th>8</th>\n",
       "      <td>0.33</td>\n",
       "      <td>0.34</td>\n",
       "      <td>0.33</td>\n",
       "    </tr>\n",
       "    <tr>\n",
       "      <th>9</th>\n",
       "      <td>0.33</td>\n",
       "      <td>0.34</td>\n",
       "      <td>0.33</td>\n",
       "    </tr>\n",
       "  </tbody>\n",
       "</table>\n",
       "</div>"
      ],
      "text/plain": [
       "   Alta  Normal  Baja\n",
       "0  0.33    0.34  0.33\n",
       "1  0.33    0.34  0.33\n",
       "2  0.33    0.34  0.33\n",
       "3  0.33    0.34  0.33\n",
       "4  0.33    0.34  0.33\n",
       "5  0.33    0.34  0.33\n",
       "6  0.33    0.34  0.33\n",
       "7  0.33    0.34  0.33\n",
       "8  0.33    0.34  0.33\n",
       "9  0.33    0.34  0.33"
      ]
     },
     "execution_count": 114,
     "metadata": {},
     "output_type": "execute_result"
    }
   ],
   "source": [
    "df = createProbabilisticDataframe([2,2,2,2,2,3,2,3,2,2,2],['Alta','Normal','Baja'],[0.33,0.34,0.33])\n",
    "df.head(10)"
   ]
  },
  {
   "cell_type": "code",
   "execution_count": null,
   "metadata": {
    "collapsed": true
   },
   "outputs": [],
   "source": [
    "\n",
    "def setDataframe(df, arrMedicamentos,estadosVariable):\n",
    "    \n",
    "    # Iteración por filas del DataFrame:\n",
    "    for fila in df.iterrows():\n",
    "        cont=0\n",
    "        for key in arrMedicamentos:\n",
    "            if(fila[key] > 0):\n",
    "                cont+=1\n",
    "        if(cont>3):#El 3 lo indicara el medico de cada especialidad\n",
    "                \n",
    "            #Insertar en el dataframe de probabilidades"
   ]
  },
  {
   "cell_type": "code",
   "execution_count": 19,
   "metadata": {
    "collapsed": false
   },
   "outputs": [
    {
     "data": {
      "text/html": [
       "<div>\n",
       "<table border=\"1\" class=\"dataframe\">\n",
       "  <thead>\n",
       "    <tr style=\"text-align: right;\">\n",
       "      <th></th>\n",
       "      <th>MR_amlodipino</th>\n",
       "      <th>MR_captopril</th>\n",
       "      <th>MR_carvedilol</th>\n",
       "      <th>MR_enalapril</th>\n",
       "      <th>MR_furosemida</th>\n",
       "      <th>MR_hidroclorothiazida</th>\n",
       "      <th>MR_losartan</th>\n",
       "      <th>MR_metropolol</th>\n",
       "      <th>MR_prazosin</th>\n",
       "      <th>MR_propanolol</th>\n",
       "      <th>MR_verapamilo</th>\n",
       "      <th>Alta</th>\n",
       "      <th>Media</th>\n",
       "      <th>Baja</th>\n",
       "    </tr>\n",
       "  </thead>\n",
       "  <tbody>\n",
       "    <tr>\n",
       "      <th>0</th>\n",
       "      <td>1</td>\n",
       "      <td>1</td>\n",
       "      <td>1</td>\n",
       "      <td>1</td>\n",
       "      <td>1</td>\n",
       "      <td>2</td>\n",
       "      <td>1</td>\n",
       "      <td>2</td>\n",
       "      <td>1</td>\n",
       "      <td>1</td>\n",
       "      <td>1</td>\n",
       "      <td>13</td>\n",
       "      <td>26</td>\n",
       "      <td>52</td>\n",
       "    </tr>\n",
       "    <tr>\n",
       "      <th>1</th>\n",
       "      <td>0</td>\n",
       "      <td>1</td>\n",
       "      <td>1</td>\n",
       "      <td>1</td>\n",
       "      <td>1</td>\n",
       "      <td>2</td>\n",
       "      <td>1</td>\n",
       "      <td>2</td>\n",
       "      <td>1</td>\n",
       "      <td>1</td>\n",
       "      <td>1</td>\n",
       "      <td>12</td>\n",
       "      <td>24</td>\n",
       "      <td>48</td>\n",
       "    </tr>\n",
       "    <tr>\n",
       "      <th>2</th>\n",
       "      <td>1</td>\n",
       "      <td>0</td>\n",
       "      <td>1</td>\n",
       "      <td>1</td>\n",
       "      <td>1</td>\n",
       "      <td>2</td>\n",
       "      <td>1</td>\n",
       "      <td>2</td>\n",
       "      <td>1</td>\n",
       "      <td>1</td>\n",
       "      <td>1</td>\n",
       "      <td>12</td>\n",
       "      <td>24</td>\n",
       "      <td>48</td>\n",
       "    </tr>\n",
       "    <tr>\n",
       "      <th>3</th>\n",
       "      <td>0</td>\n",
       "      <td>0</td>\n",
       "      <td>1</td>\n",
       "      <td>1</td>\n",
       "      <td>1</td>\n",
       "      <td>2</td>\n",
       "      <td>1</td>\n",
       "      <td>2</td>\n",
       "      <td>1</td>\n",
       "      <td>1</td>\n",
       "      <td>1</td>\n",
       "      <td>11</td>\n",
       "      <td>22</td>\n",
       "      <td>44</td>\n",
       "    </tr>\n",
       "    <tr>\n",
       "      <th>4</th>\n",
       "      <td>1</td>\n",
       "      <td>1</td>\n",
       "      <td>0</td>\n",
       "      <td>1</td>\n",
       "      <td>1</td>\n",
       "      <td>2</td>\n",
       "      <td>1</td>\n",
       "      <td>2</td>\n",
       "      <td>1</td>\n",
       "      <td>1</td>\n",
       "      <td>1</td>\n",
       "      <td>12</td>\n",
       "      <td>24</td>\n",
       "      <td>48</td>\n",
       "    </tr>\n",
       "  </tbody>\n",
       "</table>\n",
       "</div>"
      ],
      "text/plain": [
       "   MR_amlodipino  MR_captopril  MR_carvedilol  MR_enalapril  MR_furosemida  \\\n",
       "0              1             1              1             1              1   \n",
       "1              0             1              1             1              1   \n",
       "2              1             0              1             1              1   \n",
       "3              0             0              1             1              1   \n",
       "4              1             1              0             1              1   \n",
       "\n",
       "   MR_hidroclorothiazida  MR_losartan  MR_metropolol  MR_prazosin  \\\n",
       "0                      2            1              2            1   \n",
       "1                      2            1              2            1   \n",
       "2                      2            1              2            1   \n",
       "3                      2            1              2            1   \n",
       "4                      2            1              2            1   \n",
       "\n",
       "   MR_propanolol  MR_verapamilo  Alta  Media  Baja  \n",
       "0              1              1    13     26    52  \n",
       "1              1              1    12     24    48  \n",
       "2              1              1    12     24    48  \n",
       "3              1              1    11     22    44  \n",
       "4              1              1    12     24    48  "
      ]
     },
     "execution_count": 19,
     "metadata": {},
     "output_type": "execute_result"
    }
   ],
   "source": [
    "df_presion_arterial['Alta']=df_presion_arterial.sum(axis=1)\n",
    "df_presion_arterial['Media']=df_presion_arterial.sum(axis=1)\n",
    "df_presion_arterial['Baja']=df_presion_arterial.sum(axis=1)\n",
    "df_presion_arterial.head(5)"
   ]
  },
  {
   "cell_type": "markdown",
   "metadata": {},
   "source": [
    "## Definiendo los parametros del modelo (CPTs)\n",
    "En pgmpy las columnas son los valores de los padres (evidencias) y las filas son los estados de las variables "
   ]
  },
  {
   "cell_type": "code",
   "execution_count": 4,
   "metadata": {
    "collapsed": false
   },
   "outputs": [],
   "source": [
    "#Antecendentes de los pacientes geriatricos\n",
    "\n",
    "cpt_Insuficiencia_Cardiaca = TabularCPD(variable='EP_Insuficiencia_Cardiaca', variable_card=2,\n",
    "                      values=[[0.5], [0.5]])\n",
    "cpt_Asma_Bronquial = TabularCPD(variable='EP_Insuficiencia_Cardiaca', variable_card=2,\n",
    "                      values=[[0.5], [0.5]])\n",
    "cpt_Diabetes= TabularCPD(variable='EP_Diabetes', variable_card=2,\n",
    "                      values=[[0.5], [0.5]])\n",
    "cpt_Ibuprofeno= TabularCPD(variable='MP_ibuprofeno', variable_card=2,\n",
    "                      values=[[0.5], [0.5]])\n",
    "cpt_Gota= TabularCPD(variable='EP_Gota', variable_card=2,\n",
    "                      values=[[0.5], [0.5]])"
   ]
  },
  {
   "cell_type": "code",
   "execution_count": null,
   "metadata": {
    "collapsed": true
   },
   "outputs": [],
   "source": [
    "#Se empieza por atras hacia adelante con ambos casos del primer medicamento\n",
    "#Todos los primeros casos, la presion estara bien baja, por el hecho de tomar 11 medicamentos.\n",
    "#De hecho que tomar 3 a mas ya es bastantes, entonces le pondre lo mas minimo\n",
    "\n",
    "cpt_presion_arterial = TabularCPD(variable='SA_presion_arterial', variable_card=2,\n",
    "                      values=[[0.10,0.10,0.10,0.10,0.10,0.10,0.10,0.10,0.10,0.05,0.05,0.05,0.05,\n",
    "                               0.05,0.05,0.05,0.05,0.05,0.05,0.05,0.05,0.30,0.35,0.30,0.10,0.10,\n",
    "                               0.10,0.10,0.10,0.10,0.10,0.10,0.10,0.10,0.10,0.10,0.10,0.10,0.05,\n",
    "                               0.05,0.05,0.05,0.05,0.05,0.00,0.00,0.00,0.45,0.45,0.45,0.25,0.25,\n",
    "                               0.10,0.10,0.10,0.10,0.10,0.10,0.10,0.10,0.10,0.15,0.15,0.15,0.05,\n",
    "                               0.05,0.05,0.05,0.15,0.30,0.05,0.05,0.30,0.15,0.15,0.34],\n",
    "                              [],\n",
    "                              []],\n",
    "                      evidence=['MR_metropolol','MR_hidroclorothiazida', 'MR_amlodipino',\n",
    "                                'MR_losartan', 'MR_enalapril','MR_furosemida',\n",
    "                                'MR_prazosin','MR_verapamilo','MR_captopril',\n",
    "                                'MR_propanolol','MR_carvedilol'],\n",
    "                      evidence_card=[3,2,2,2,3,2,2,2,2,2,2])"
   ]
  },
  {
   "cell_type": "code",
   "execution_count": 5,
   "metadata": {
    "collapsed": false
   },
   "outputs": [],
   "source": [
    "#Medicamentos a recetar\n",
    "\n",
    "cpt_metoprolol = TabularCPD(variable='MR_metropolol', variable_card=3,\n",
    "                      values=[[0.00,0.00,0.00,0.00,0.00,0.00,0.00,0.34], \n",
    "                              [0.01,0.01,0.01,0.01,0.01,0.01,0.50,0.33], \n",
    "                              [0.99,0.99,0.99,0.99,0.99,0.99,0.50,0.33]],\n",
    "                      evidence=['EP_Asma_Bronquial', 'EP_Insuficiencia_Cardiaca', 'EP_Diabetes'], \n",
    "                      evidence_card=[2,2,2])\n",
    "\n",
    "cpt_hidroclorothiazida = TabularCPD(variable='MR_hidroclorothiazida', variable_card=3,\n",
    "                      values=[[0.00,0.00,0.00,0.00,0.00,0.00,0.00,0.34], \n",
    "                              [0.01,0.01,0.99,0.99,0.01,0.01,0.01,0.33], \n",
    "                              [0.99,0.99,0.01,0.01,0.99,0.99,0.99,0.33]],\n",
    "                      evidence=['EP_Diabetes', 'MP_ibuprofeno', 'EP_Gota'], \n",
    "                      evidence_card=[2,2,2])\n",
    "\n",
    "cpt_amlodipino = TabularCPD(variable='MR_amlodipino', variable_card=2,\n",
    "                      values=[[0.5], [0.5]])\n",
    "cpt_losartan = TabularCPD(variable='MR_losartan', variable_card=2,\n",
    "                      values=[[0.5], [0.5]])\n",
    "cpt_enalapril= TabularCPD(variable='MR_enalapril', variable_card=2,\n",
    "                      values=[[0.5], [0.5]])\n",
    "cpt_furosemida = TabularCPD(variable='MR_furosemida', variable_card=2,\n",
    "                      values=[[0.5], [0.5]])\n",
    "cpt_prazosin= TabularCPD(variable='MR_prazosin', variable_card=2,\n",
    "                      values=[[0.5], [0.5]])\n",
    "cpt_verapamilo= TabularCPD(variable='MR_verapamilo', variable_card=2,\n",
    "                      values=[[0.5], [0.5]])\n",
    "cpt_captopril= TabularCPD(variable='MR_captopril', variable_card=2,\n",
    "                      values=[[0.5], [0.5]])\n",
    "cpt_propanolol= TabularCPD(variable='MR_propanolol', variable_card=2,\n",
    "                      values=[[0.5], [0.5]])\n",
    "cpt_propanolol= TabularCPD(variable='MR_carvedilol', variable_card=2,\n",
    "                      values=[[0.5], [0.5]])\n",
    "\n"
   ]
  },
  {
   "cell_type": "code",
   "execution_count": 1,
   "metadata": {
    "collapsed": false
   },
   "outputs": [
    {
     "ename": "NameError",
     "evalue": "name 'TabularCPD' is not defined",
     "output_type": "error",
     "traceback": [
      "\u001b[1;31m---------------------------------------------------------------------------\u001b[0m",
      "\u001b[1;31mNameError\u001b[0m                                 Traceback (most recent call last)",
      "\u001b[1;32m<ipython-input-1-0a9691832f1a>\u001b[0m in \u001b[0;36m<module>\u001b[1;34m()\u001b[0m\n\u001b[1;32m----> 1\u001b[1;33m cpt_hidroclorothiazida = TabularCPD(variable='MR_hidroclorothiazida', variable_card=3,\n\u001b[0m\u001b[0;32m      2\u001b[0m                       values=[[0.00,0.00,0.00,0.00,0.00,0.00,0.00,0.34], \n\u001b[0;32m      3\u001b[0m                               \u001b[1;33m[\u001b[0m\u001b[1;36m0.01\u001b[0m\u001b[1;33m,\u001b[0m\u001b[1;36m0.01\u001b[0m\u001b[1;33m,\u001b[0m\u001b[1;36m0.99\u001b[0m\u001b[1;33m,\u001b[0m\u001b[1;36m0.99\u001b[0m\u001b[1;33m,\u001b[0m\u001b[1;36m0.01\u001b[0m\u001b[1;33m,\u001b[0m\u001b[1;36m0.01\u001b[0m\u001b[1;33m,\u001b[0m\u001b[1;36m0.01\u001b[0m\u001b[1;33m,\u001b[0m\u001b[1;36m0.33\u001b[0m\u001b[1;33m]\u001b[0m\u001b[1;33m,\u001b[0m\u001b[1;33m\u001b[0m\u001b[0m\n\u001b[0;32m      4\u001b[0m                               [0.99,0.99,0.01,0.01,0.99,0.99,0.99,0.33]],\n\u001b[0;32m      5\u001b[0m                       evidence=['EP_Diabetes', 'MP_ibuprofeno', 'EP_Gota'], evidence_card=[2,2,2])\n",
      "\u001b[1;31mNameError\u001b[0m: name 'TabularCPD' is not defined"
     ]
    }
   ],
   "source": [
    "#Sintomas resultantes\n",
    "cpt_angina_pecho = TabularCPD(variable='SA_angina_de_pecho', variable_card=2,\n",
    "                      values=[[0.20,0.30,0.30,0.30,0.40,0.70], \n",
    "                              [0.80,0.70,0.70,0.70,0.60,0.30]],\n",
    "                      evidence=['MR_metropolol', 'MR_amlodipino'], \n",
    "                      evidence_card=[3,2])\n",
    "cpt_danho_rinhones = TabularCPD(variable='SA_danho_rinhones', variable_card=2,\n",
    "                      values=[[0.90,0.85,0.85,0.85,0.80,0.80,0.85,0.75,0.75,0.85,0.80,0.80,0.85,\n",
    "                               0.75,0.75,0.80,0.65,0.65,0.80,0.65,0.65,0.80,0.65,0.65,0.75,0.60,\n",
    "                               0.60,0.60,0.55,0.10,0.85,0.80,0.70,0.65,0.75,0.65,0.60,0.70,0.60,\n",
    "                               0.60,0.65,0.55,0.55,0.65,0.60,0.10,0.85,0.75,0.70,0.75,0.65,0.45,\n",
    "                               0.65,0.25,0.05,0.60,0.15,0.10,0.15,0.10,0.05,0.10,0.05,0.01], \n",
    "                              [0.10,0.15,0.15,0.15,0.20,0.20,0.15,0.25,0.25,0.15,0.20,0.20,0.15,\n",
    "                               0.25,0.15,0.20,0.35,0.35,0.20,0.35,0.35,0.20,0.35,0.35,0.25,0.40,\n",
    "                               0.40,0.40,0.45,0.90,0.15,0.20,0.30,0.35,0.25,0.35,0.40,0.30,0.40,\n",
    "                               0.40,0.35,0.45,0.45,0.35,0.40,0.90,0.15,0.25,0.30,0.25,0.35,0.55,\n",
    "                               0.35,0.75,0.95,0.40,0.85,0.90,0.85,0.90,0.95,0.90,0.95,0.99]],\n",
    "                      evidence=['MR_enalapril','MR_losartan','MR_amlodipino',\n",
    "                                'MR_metropolol','MR_hidroclorothiazida'],\n",
    "                      evidence_card=[2,2,2,3,3])\n",
    "cpt_presion_arterial = TabularCPD(variable='SA_presion_arterial', variable_card=2,\n",
    "                      values=[[0.10,0.10,0.10,0.10,0.10,0.10,0.10,0.10,0.10,0.05,0.05,0.05,0.05,\n",
    "                               0.05,0.05,0.05,0.05,0.05,0.05,0.05,0.05,0.30,0.35,0.30,0.10,0.10,\n",
    "                               0.10,0.10,0.10,0.10,0.10,0.10,0.10,0.10,0.10,0.10,0.10,0.10,0.05,\n",
    "                               0.05,0.05,0.05,0.05,0.05,0.00,0.00,0.00,0.45,0.45,0.45,0.25,0.25,\n",
    "                               0.10,0.10,0.10,0.10,0.10,0.10,0.10,0.10,0.10,0.15,0.15,0.15,0.05,\n",
    "                               0.05,0.05,0.05,0.15,0.30,0.05,0.05,0.30,0.15,0.15,0.34],\n",
    "                              [],\n",
    "                              []],\n",
    "                      evidence=['MR_metropolol', 'MR_amlodipino','MR_losartan',\n",
    "                               'MR_enalapril','MR_hidroclorothiazida'],\n",
    "                      evidence_card=[3,2,2,2,3])"
   ]
  },
  {
   "cell_type": "markdown",
   "metadata": {},
   "source": [
    "## Asociando los CPTs con la estructura del modelo\n"
   ]
  },
  {
   "cell_type": "code",
   "execution_count": 5,
   "metadata": {
    "collapsed": true
   },
   "outputs": [],
   "source": [
    "bn.add_cpds(cpt_LastResults, cpt_LastResultsOpponent, cpt_PsychologicalState, cpt_PerformancePlayers, cpt_FinalResult)"
   ]
  },
  {
   "cell_type": "code",
   "execution_count": 18,
   "metadata": {
    "collapsed": true
   },
   "outputs": [],
   "source": [
    "bn.add_cpds(cpt_hidroclorothiazida, cpt_metoprolol, cpt_angina_pecho)"
   ]
  },
  {
   "cell_type": "markdown",
   "metadata": {},
   "source": [
    "## Chequeando consistencia de la Red Bayesiana\n",
    "Chequea que todos los CPTs sean válidos para el modelo"
   ]
  },
  {
   "cell_type": "code",
   "execution_count": 19,
   "metadata": {
    "collapsed": false
   },
   "outputs": [
    {
     "ename": "ValueError",
     "evalue": "No CPD associated with MR_enalapril",
     "output_type": "error",
     "traceback": [
      "\u001b[1;31m---------------------------------------------------------------------------\u001b[0m",
      "\u001b[1;31mValueError\u001b[0m                                Traceback (most recent call last)",
      "\u001b[1;32m<ipython-input-19-e3c80c75be0e>\u001b[0m in \u001b[0;36m<module>\u001b[1;34m()\u001b[0m\n\u001b[1;32m----> 1\u001b[1;33m \u001b[0mbn\u001b[0m\u001b[1;33m.\u001b[0m\u001b[0mcheck_model\u001b[0m\u001b[1;33m(\u001b[0m\u001b[1;33m)\u001b[0m\u001b[1;33m\u001b[0m\u001b[0m\n\u001b[0m",
      "\u001b[1;32m/home/lourdes/anaconda3/lib/python3.5/site-packages/pgmpy/models/BayesianModel.py\u001b[0m in \u001b[0;36mcheck_model\u001b[1;34m(self)\u001b[0m\n\u001b[0;32m    349\u001b[0m \u001b[1;33m\u001b[0m\u001b[0m\n\u001b[0;32m    350\u001b[0m             \u001b[1;32mif\u001b[0m \u001b[0mcpd\u001b[0m \u001b[1;32mis\u001b[0m \u001b[1;32mNone\u001b[0m\u001b[1;33m:\u001b[0m\u001b[1;33m\u001b[0m\u001b[0m\n\u001b[1;32m--> 351\u001b[1;33m                 \u001b[1;32mraise\u001b[0m \u001b[0mValueError\u001b[0m\u001b[1;33m(\u001b[0m\u001b[1;34m'No CPD associated with {}'\u001b[0m\u001b[1;33m.\u001b[0m\u001b[0mformat\u001b[0m\u001b[1;33m(\u001b[0m\u001b[0mnode\u001b[0m\u001b[1;33m)\u001b[0m\u001b[1;33m)\u001b[0m\u001b[1;33m\u001b[0m\u001b[0m\n\u001b[0m\u001b[0;32m    352\u001b[0m             \u001b[1;32melif\u001b[0m \u001b[0misinstance\u001b[0m\u001b[1;33m(\u001b[0m\u001b[0mcpd\u001b[0m\u001b[1;33m,\u001b[0m \u001b[0mTabularCPD\u001b[0m\u001b[1;33m)\u001b[0m\u001b[1;33m:\u001b[0m\u001b[1;33m\u001b[0m\u001b[0m\n\u001b[0;32m    353\u001b[0m                 \u001b[0mevidence\u001b[0m \u001b[1;33m=\u001b[0m \u001b[0mcpd\u001b[0m\u001b[1;33m.\u001b[0m\u001b[0mvariables\u001b[0m\u001b[1;33m[\u001b[0m\u001b[1;33m:\u001b[0m\u001b[1;36m0\u001b[0m\u001b[1;33m:\u001b[0m\u001b[1;33m-\u001b[0m\u001b[1;36m1\u001b[0m\u001b[1;33m]\u001b[0m\u001b[1;33m\u001b[0m\u001b[0m\n",
      "\u001b[1;31mValueError\u001b[0m: No CPD associated with MR_enalapril"
     ]
    }
   ],
   "source": [
    "bn.check_model()"
   ]
  },
  {
   "cell_type": "markdown",
   "metadata": {},
   "source": [
    "## Haciendo inferencias en la RB con algoritmo VariableElimination \n"
   ]
  },
  {
   "cell_type": "markdown",
   "metadata": {},
   "source": [
    "Vamos a preguntar a la RB con el algoritmo ** VariableElimination ** Cuál es la distribucion de \"B\" (Burglary) habiendo obsevado que \"J\" y \"M\" son true (John y Mary llaman)  "
   ]
  },
  {
   "cell_type": "code",
   "execution_count": 7,
   "metadata": {
    "collapsed": true
   },
   "outputs": [],
   "source": [
    "from pgmpy.inference import VariableElimination"
   ]
  },
  {
   "cell_type": "code",
   "execution_count": 8,
   "metadata": {
    "collapsed": true
   },
   "outputs": [],
   "source": [
    "bn_inference = VariableElimination(bn)"
   ]
  },
  {
   "cell_type": "code",
   "execution_count": 10,
   "metadata": {
    "collapsed": false
   },
   "outputs": [
    {
     "name": "stdout",
     "output_type": "stream",
     "text": [
      "╒═══════════════╤════════════════════╕\n",
      "│ LastResults   │   phi(LastResults) │\n",
      "╞═══════════════╪════════════════════╡\n",
      "│ LastResults_0 │             0.3917 │\n",
      "├───────────────┼────────────────────┤\n",
      "│ LastResults_1 │             0.6083 │\n",
      "╘═══════════════╧════════════════════╛\n"
     ]
    }
   ],
   "source": [
    "q = bn_inference.query(variables=['LastResults'], evidence={'FinalResult':0})\n",
    "print(q['LastResults'])"
   ]
  },
  {
   "cell_type": "code",
   "execution_count": 11,
   "metadata": {
    "collapsed": false
   },
   "outputs": [
    {
     "ename": "TypeError",
     "evalue": "'NoneType' object is not callable",
     "output_type": "error",
     "traceback": [
      "\u001b[1;31m---------------------------------------------------------------------------\u001b[0m",
      "\u001b[1;31mTypeError\u001b[0m                                 Traceback (most recent call last)",
      "\u001b[1;32m<ipython-input-11-7cb42bb152ce>\u001b[0m in \u001b[0;36m<module>\u001b[1;34m()\u001b[0m\n\u001b[1;32m----> 1\u001b[1;33m \u001b[0mbn_inference\u001b[0m\u001b[1;33m.\u001b[0m\u001b[0mstate_names\u001b[0m\u001b[1;33m(\u001b[0m\u001b[1;33m)\u001b[0m\u001b[1;33m\u001b[0m\u001b[0m\n\u001b[0m",
      "\u001b[1;31mTypeError\u001b[0m: 'NoneType' object is not callable"
     ]
    }
   ],
   "source": [
    "bn_inference.state_names()"
   ]
  },
  {
   "cell_type": "markdown",
   "metadata": {},
   "source": [
    "## Obteniendo las independencias Condicionales implicadas en la RB  "
   ]
  },
  {
   "cell_type": "code",
   "execution_count": 1,
   "metadata": {
    "collapsed": false
   },
   "outputs": [
    {
     "ename": "NameError",
     "evalue": "name 'bn' is not defined",
     "output_type": "error",
     "traceback": [
      "\u001b[1;31m---------------------------------------------------------------------------\u001b[0m",
      "\u001b[1;31mNameError\u001b[0m                                 Traceback (most recent call last)",
      "\u001b[1;32m<ipython-input-1-a3f10b81bdca>\u001b[0m in \u001b[0;36m<module>\u001b[1;34m()\u001b[0m\n\u001b[1;32m----> 1\u001b[1;33m \u001b[0mbn\u001b[0m\u001b[1;33m.\u001b[0m\u001b[0mget_independencies\u001b[0m\u001b[1;33m(\u001b[0m\u001b[1;33m)\u001b[0m\u001b[1;33m\u001b[0m\u001b[0m\n\u001b[0m",
      "\u001b[1;31mNameError\u001b[0m: name 'bn' is not defined"
     ]
    }
   ],
   "source": [
    "bn.get_independencies()"
   ]
  },
  {
   "cell_type": "code",
   "execution_count": null,
   "metadata": {
    "collapsed": true
   },
   "outputs": [],
   "source": []
  }
 ],
 "metadata": {
  "anaconda-cloud": {},
  "kernelspec": {
   "display_name": "Python [anaconda3]",
   "language": "python",
   "name": "Python [anaconda3]"
  },
  "language_info": {
   "codemirror_mode": {
    "name": "ipython",
    "version": 3
   },
   "file_extension": ".py",
   "mimetype": "text/x-python",
   "name": "python",
   "nbconvert_exporter": "python",
   "pygments_lexer": "ipython3",
   "version": "3.5.2"
  }
 },
 "nbformat": 4,
 "nbformat_minor": 2
}
