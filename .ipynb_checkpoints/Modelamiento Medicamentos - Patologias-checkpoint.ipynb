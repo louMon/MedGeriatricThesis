{
 "cells": [
  {
   "cell_type": "markdown",
   "metadata": {},
   "source": [
    "# Red Bayesiana para predecir la combinacion de medicamentos mas adecuada en pacientes geriatricos\n",
    "El objetivo del presente proyecto es poder crear una red Bayesiana, la cual modele probabilisticamente un dominio para predicción de medicamentos para diversas patologias y segun la naturaleza del paciente. \n",
    "A continuacion, se muestran algunas de las variables aleatórias involucradas en el dominio\n",
    "\n",
    "## Variables destinadas a los antecedentes del paciente geriatrico\n",
    "\n",
    "<b>EP_Insuficiencia_Cardiaca</b>: Background o Antecedentes de enfermedades de los pacientes geriatricos(50=Presente, 50=Ausente)\n",
    "\n",
    "<b>SA_angina_de_pecho</b>: Sintomas actuales(Presente,Ausente)\n",
    "\n",
    "<b>SA_presion_arterial</b>: Sintomas actuales(Alto,Normal,Baja)\n",
    "\n",
    "<b>EP_Asma_Bronquial</b>: Background o Antecedentes de enfermedades de los pacientes geriatricos. (Presente, Ausente)\n",
    "\n",
    "<b>EP_Diabetes</b>: Background o Antecedentes de enfermedades de los pacientes geriatricos. (Presente,Ausente)\n",
    "\n",
    "<b>EP_Gota</b>: Background o Antecedentes de enfermedades de los pacientes geriatricos. (Presente,Ausente)\n",
    "\n",
    "<b>MP_Ibuprofeno</b>: Background o Antecedentes de los medicamentos que consumen los pacientes geriatricos. (Prescrito,No Prescrito)\n",
    "\n",
    "## Variables destinadas a los posibles medicamentos a recetar\n",
    "\n",
    "<b>MR_metropolol</b>: Metropolol (Prescribir Normal, Prescribir condicion Diabetes, No Prescribir)\n",
    "\n",
    "<b>MR_hidroclorothiazida</b>: Hidroclorothiazida (Prescribir Normal, Prescribir condicion Diabetes, No Prescribir)\n",
    "\n",
    "<b>MR_amlodipino</b>: Amlodipino (Prescribir, No Prescribir)\n",
    "\n",
    "<b>MR_losartan</b>: Losartan (Prescribir, No Prescribir)\n",
    "\n",
    "<b>MR_metropolol</b>: Metropolol (Prescribir, No Prescribir)\n",
    "\n",
    "<b>MR_enalapril</b>: Enalapril (Prescribir, No Prescribir)\n",
    "\n",
    "<b>MR_furosemida</b>: Furosemida (Prescribir, No Prescribir)\n",
    "\n",
    "<b>MR_prazosin</b>: Prazosin (Prescribir, No Prescribir)\n",
    "\n",
    "<b>MR_verapamilo</b>: Verapamilo (Prescribir, No Prescribir)\n",
    "\n",
    "<b>MR_propanolol</b>: Propanolol (Prescribir, No Prescribir)\n",
    "\n",
    "<b>MR_carvedilol</b>: Carvedilol (Prescribir, No Prescribir)\n",
    "\n",
    "\n",
    "## Variables destinadas a los sintomas y efectos secundarios resultantes\n",
    "\n",
    "<b>SA_angina_de_pecho</b>: Angina de Pecho (Presente, Ausente)\n",
    "\n",
    "<b>SA_presion_arterial</b>: Presion arterial (Alta, Normal,Baja)\n",
    "\n",
    "<b>SA_danho_rinhones</b>: Danho en Rinhones (Presente, Ausente)\n"
   ]
  },
  {
   "cell_type": "markdown",
   "metadata": {},
   "source": [
    "## Creando la estructura de la RB"
   ]
  },
  {
   "cell_type": "code",
   "execution_count": 31,
   "metadata": {
    "collapsed": false
   },
   "outputs": [],
   "source": [
    "from pgmpy.models import BayesianModel\n",
    "from pgmpy.factors.discrete import TabularCPD\n",
    "from pgmpy.inference import VariableElimination\n",
    "import pandas as pd\n",
    "import numpy as np"
   ]
  },
  {
   "cell_type": "code",
   "execution_count": 32,
   "metadata": {
    "collapsed": true
   },
   "outputs": [],
   "source": [
    "bn = BayesianModel([('EP_Insuficiencia_Cardiaca', 'MR_metropolol'),              \n",
    "                    ('EP_Asma_Bronquial', 'MR_metropolol'), \n",
    "                    ('EP_Diabetes', 'MR_metropolol'), \n",
    "                    ('EP_Diabetes', 'MR_hidroclorothiazida'), \n",
    "                    ('MP_ibuprofeno', 'MR_hidroclorothiazida'), \n",
    "                    ('EP_Gota', 'MR_hidroclorothiazida'), \n",
    "                    ('MR_metropolol', 'SA_angina_de_pecho'),\n",
    "                    ('MR_metropolol', 'SA_danho_rinhones'),\n",
    "                    ('MR_metropolol', 'SA_presion_arterial'),\n",
    "                    ('MR_hidroclorothiazida', 'SA_danho_rinhones'),\n",
    "                    ('MR_hidroclorothiazida', 'SA_presion_arterial'),\n",
    "                    ('MR_amlodipino', 'SA_angina_de_pecho'),\n",
    "                    ('MR_amlodipino', 'SA_danho_rinhones'),\n",
    "                    ('MR_amlodipino', 'SA_presion_arterial'),\n",
    "                    ('MR_losartan', 'SA_danho_rinhones'),\n",
    "                    ('MR_losartan', 'SA_presion_arterial'),\n",
    "                    ('MR_enalapril', 'SA_danho_rinhones'),\n",
    "                    ('MR_enalapril', 'SA_presion_arterial'),\n",
    "                    ('MR_furosemida', 'SA_presion_arterial'),\n",
    "                    ('MR_furosemida', 'SA_danho_rinhones'),\n",
    "                    ('MR_prazosin', 'SA_presion_arterial'),\n",
    "                    ('MR_prazosin', 'SA_danho_rinhones'),\n",
    "                    ('MR_verapamilo', 'SA_presion_arterial'),\n",
    "                    ('MR_verapamilo', 'SA_danho_rinhones'),\n",
    "                    ('MR_captopril', 'SA_presion_arterial'),\n",
    "                    ('MR_captopril', 'SA_danho_rinhones'),\n",
    "                    ('MR_propanolol', 'SA_presion_arterial'),\n",
    "                    ('MR_propanolol', 'SA_danho_rinhones'),\n",
    "                    ('MR_carvedilol', 'SA_presion_arterial'),\n",
    "                    ('MR_carvedilol', 'SA_danho_rinhones')])"
   ]
  },
  {
   "cell_type": "markdown",
   "metadata": {},
   "source": [
    "\n",
    "# Creacion de la tabla de verdad que brinda evidencia de los medicamentos hacia algun sintoma\n",
    "\n"
   ]
  },
  {
   "cell_type": "markdown",
   "metadata": {},
   "source": [
    "Base: Numero que indica la cantidad a repetirse\n",
    "\n",
    "Por ejemplo:\n",
    "\n",
    "- tamanho base 4: [ 1 1 0 0 ]               \n",
    "\n",
    "- tamanho base 8: [ 1 1 1 1 0 0 0 0]      \n",
    "\n",
    "- tamanho base 6: [ 2 2 1 1 0 0]       "
   ]
  },
  {
   "cell_type": "markdown",
   "metadata": {},
   "source": [
    "<b>Generar un arreglo con los tamanhos de las diferentes bases</b> "
   ]
  },
  {
   "cell_type": "code",
   "execution_count": 33,
   "metadata": {
    "collapsed": true
   },
   "outputs": [],
   "source": [
    "def generateArrayBase(campos, arrMedicamentos):\n",
    "    arrBase = []\n",
    "    cantEstados = 0     \n",
    "    for j in range(0, campos):\n",
    "        if(j == 0):\n",
    "            cantEstados = arrMedicamentos[j] ** (j+1)\n",
    "        else:\n",
    "            cantEstados = (arrBase[j-1] * arrMedicamentos[j])\n",
    "        arrBase.append(cantEstados)\n",
    "    return arrBase"
   ]
  },
  {
   "cell_type": "markdown",
   "metadata": {},
   "source": [
    "<b>Generar una lista de verdad por variable dada, segun sea su base</b> "
   ]
  },
  {
   "cell_type": "code",
   "execution_count": 34,
   "metadata": {
    "collapsed": true
   },
   "outputs": [],
   "source": [
    "def generateArrayState(i,filas, maxEstado, cantVecesPorEstado,arrBase,arrMedicamentos):\n",
    "    medlist = []\n",
    "    contEstado = 1\n",
    "    contadorInterno = 1\n",
    "    for j in range (0, filas):                 \n",
    "        medlist.append(maxEstado)\n",
    "        #Lo hago para verificar si ya se puede reiniciar con el mayor\n",
    "        if(contadorInterno == arrBase[i]):\n",
    "            maxEstado = arrMedicamentos[i] -1\n",
    "            contadorInterno = 1\n",
    "            contEstado = 1\n",
    "        else:\n",
    "            #Lo hago para verificar si ya se puede cambiar de estado a un menor\n",
    "            if(contEstado == cantVecesPorEstado):\n",
    "                maxEstado -=1\n",
    "                contEstado =1\n",
    "            else:\n",
    "                contEstado +=1\n",
    "            contadorInterno +=1\n",
    "    return medlist"
   ]
  },
  {
   "cell_type": "markdown",
   "metadata": {},
   "source": [
    "<b>Devuelve la cantidad de filas de la tabla de verdad </b> "
   ]
  },
  {
   "cell_type": "code",
   "execution_count": 35,
   "metadata": {
    "collapsed": true
   },
   "outputs": [],
   "source": [
    "def lenLista(arrMedicamentos):    \n",
    "    filas = 1 \n",
    "    for i in arrMedicamentos:\n",
    "        filas  *=i \n",
    "    return filas"
   ]
  },
  {
   "cell_type": "markdown",
   "metadata": {},
   "source": [
    "<b> Genera dataframe de las posibles combinaciones de medicamentos</b>"
   ]
  },
  {
   "cell_type": "code",
   "execution_count": 36,
   "metadata": {
    "collapsed": false
   },
   "outputs": [],
   "source": [
    "def createCombinationDataframe(arrEstadosMedicamentos,arrHeader):\n",
    "    campos = len(arrEstadosMedicamentos)\n",
    "    dicc = {}\n",
    "    i = 0   \n",
    "    #Obteniendo el tamanho de la base por cada posicion del medicamento\n",
    "    arrBase = generateArrayBase(campos, arrEstadosMedicamentos)\n",
    "    \n",
    "    #Obteniendo la cantidad de filas\n",
    "    filas   = lenLista(arrEstadosMedicamentos)\n",
    "         \n",
    "    #Obteniendo la gran tabla de verdad\n",
    "    for key in arrHeader:  \n",
    "        maxEstado = arrEstadosMedicamentos[i] -1 \n",
    "        cantVecesPorEstado = arrBase[i]/arrEstadosMedicamentos[i]\n",
    "        medlist = generateArrayState(i,filas, maxEstado,cantVecesPorEstado,arrBase,arrEstadosMedicamentos)\n",
    "        dicc[key] = medlist\n",
    "        i+=1   \n",
    "    df = pd.DataFrame(dicc)\n",
    "    return df"
   ]
  },
  {
   "cell_type": "code",
   "execution_count": 94,
   "metadata": {
    "collapsed": false,
    "scrolled": false
   },
   "outputs": [
    {
     "data": {
      "text/plain": [
       "(4608, 11)"
      ]
     },
     "execution_count": 94,
     "metadata": {},
     "output_type": "execute_result"
    }
   ],
   "source": [
    "#Colocar los medicamentos de izquierda a derecha \n",
    "df_ANT_presion_arterial = createCombinationDataframe([2,2,2,2,2,3,2,3,2,2,2],\n",
    "                    ['MR_amlodipino','MR_captopril' ,'MR_carvedilol','MR_enalapril' ,\n",
    "                     'MR_furosemida','MR_hidroclorothiazida','MR_losartan','MR_metropolol',\n",
    "                     'MR_prazosin','MR_propanolol','MR_verapamilo']) \n",
    "\n",
    "df_ANT_presion_arterial.shape"
   ]
  },
  {
   "cell_type": "code",
   "execution_count": 38,
   "metadata": {
    "collapsed": false
   },
   "outputs": [
    {
     "data": {
      "text/html": [
       "<div>\n",
       "<table border=\"1\" class=\"dataframe\">\n",
       "  <thead>\n",
       "    <tr style=\"text-align: right;\">\n",
       "      <th></th>\n",
       "      <th>MR_amlodipino</th>\n",
       "      <th>MR_captopril</th>\n",
       "      <th>MR_carvedilol</th>\n",
       "      <th>MR_enalapril</th>\n",
       "      <th>MR_furosemida</th>\n",
       "      <th>MR_hidroclorothiazida</th>\n",
       "      <th>MR_losartan</th>\n",
       "      <th>MR_metropolol</th>\n",
       "      <th>MR_prazosin</th>\n",
       "      <th>MR_propanolol</th>\n",
       "      <th>MR_verapamilo</th>\n",
       "    </tr>\n",
       "  </thead>\n",
       "  <tbody>\n",
       "    <tr>\n",
       "      <th>4598</th>\n",
       "      <td>1</td>\n",
       "      <td>0</td>\n",
       "      <td>0</td>\n",
       "      <td>1</td>\n",
       "      <td>0</td>\n",
       "      <td>0</td>\n",
       "      <td>0</td>\n",
       "      <td>0</td>\n",
       "      <td>0</td>\n",
       "      <td>0</td>\n",
       "      <td>0</td>\n",
       "    </tr>\n",
       "    <tr>\n",
       "      <th>4599</th>\n",
       "      <td>0</td>\n",
       "      <td>0</td>\n",
       "      <td>0</td>\n",
       "      <td>1</td>\n",
       "      <td>0</td>\n",
       "      <td>0</td>\n",
       "      <td>0</td>\n",
       "      <td>0</td>\n",
       "      <td>0</td>\n",
       "      <td>0</td>\n",
       "      <td>0</td>\n",
       "    </tr>\n",
       "    <tr>\n",
       "      <th>4600</th>\n",
       "      <td>1</td>\n",
       "      <td>1</td>\n",
       "      <td>1</td>\n",
       "      <td>0</td>\n",
       "      <td>0</td>\n",
       "      <td>0</td>\n",
       "      <td>0</td>\n",
       "      <td>0</td>\n",
       "      <td>0</td>\n",
       "      <td>0</td>\n",
       "      <td>0</td>\n",
       "    </tr>\n",
       "    <tr>\n",
       "      <th>4601</th>\n",
       "      <td>0</td>\n",
       "      <td>1</td>\n",
       "      <td>1</td>\n",
       "      <td>0</td>\n",
       "      <td>0</td>\n",
       "      <td>0</td>\n",
       "      <td>0</td>\n",
       "      <td>0</td>\n",
       "      <td>0</td>\n",
       "      <td>0</td>\n",
       "      <td>0</td>\n",
       "    </tr>\n",
       "    <tr>\n",
       "      <th>4602</th>\n",
       "      <td>1</td>\n",
       "      <td>0</td>\n",
       "      <td>1</td>\n",
       "      <td>0</td>\n",
       "      <td>0</td>\n",
       "      <td>0</td>\n",
       "      <td>0</td>\n",
       "      <td>0</td>\n",
       "      <td>0</td>\n",
       "      <td>0</td>\n",
       "      <td>0</td>\n",
       "    </tr>\n",
       "    <tr>\n",
       "      <th>4603</th>\n",
       "      <td>0</td>\n",
       "      <td>0</td>\n",
       "      <td>1</td>\n",
       "      <td>0</td>\n",
       "      <td>0</td>\n",
       "      <td>0</td>\n",
       "      <td>0</td>\n",
       "      <td>0</td>\n",
       "      <td>0</td>\n",
       "      <td>0</td>\n",
       "      <td>0</td>\n",
       "    </tr>\n",
       "    <tr>\n",
       "      <th>4604</th>\n",
       "      <td>1</td>\n",
       "      <td>1</td>\n",
       "      <td>0</td>\n",
       "      <td>0</td>\n",
       "      <td>0</td>\n",
       "      <td>0</td>\n",
       "      <td>0</td>\n",
       "      <td>0</td>\n",
       "      <td>0</td>\n",
       "      <td>0</td>\n",
       "      <td>0</td>\n",
       "    </tr>\n",
       "    <tr>\n",
       "      <th>4605</th>\n",
       "      <td>0</td>\n",
       "      <td>1</td>\n",
       "      <td>0</td>\n",
       "      <td>0</td>\n",
       "      <td>0</td>\n",
       "      <td>0</td>\n",
       "      <td>0</td>\n",
       "      <td>0</td>\n",
       "      <td>0</td>\n",
       "      <td>0</td>\n",
       "      <td>0</td>\n",
       "    </tr>\n",
       "    <tr>\n",
       "      <th>4606</th>\n",
       "      <td>1</td>\n",
       "      <td>0</td>\n",
       "      <td>0</td>\n",
       "      <td>0</td>\n",
       "      <td>0</td>\n",
       "      <td>0</td>\n",
       "      <td>0</td>\n",
       "      <td>0</td>\n",
       "      <td>0</td>\n",
       "      <td>0</td>\n",
       "      <td>0</td>\n",
       "    </tr>\n",
       "    <tr>\n",
       "      <th>4607</th>\n",
       "      <td>0</td>\n",
       "      <td>0</td>\n",
       "      <td>0</td>\n",
       "      <td>0</td>\n",
       "      <td>0</td>\n",
       "      <td>0</td>\n",
       "      <td>0</td>\n",
       "      <td>0</td>\n",
       "      <td>0</td>\n",
       "      <td>0</td>\n",
       "      <td>0</td>\n",
       "    </tr>\n",
       "  </tbody>\n",
       "</table>\n",
       "</div>"
      ],
      "text/plain": [
       "      MR_amlodipino  MR_captopril  MR_carvedilol  MR_enalapril  MR_furosemida  \\\n",
       "4598              1             0              0             1              0   \n",
       "4599              0             0              0             1              0   \n",
       "4600              1             1              1             0              0   \n",
       "4601              0             1              1             0              0   \n",
       "4602              1             0              1             0              0   \n",
       "4603              0             0              1             0              0   \n",
       "4604              1             1              0             0              0   \n",
       "4605              0             1              0             0              0   \n",
       "4606              1             0              0             0              0   \n",
       "4607              0             0              0             0              0   \n",
       "\n",
       "      MR_hidroclorothiazida  MR_losartan  MR_metropolol  MR_prazosin  \\\n",
       "4598                      0            0              0            0   \n",
       "4599                      0            0              0            0   \n",
       "4600                      0            0              0            0   \n",
       "4601                      0            0              0            0   \n",
       "4602                      0            0              0            0   \n",
       "4603                      0            0              0            0   \n",
       "4604                      0            0              0            0   \n",
       "4605                      0            0              0            0   \n",
       "4606                      0            0              0            0   \n",
       "4607                      0            0              0            0   \n",
       "\n",
       "      MR_propanolol  MR_verapamilo  \n",
       "4598              0              0  \n",
       "4599              0              0  \n",
       "4600              0              0  \n",
       "4601              0              0  \n",
       "4602              0              0  \n",
       "4603              0              0  \n",
       "4604              0              0  \n",
       "4605              0              0  \n",
       "4606              0              0  \n",
       "4607              0              0  "
      ]
     },
     "execution_count": 38,
     "metadata": {},
     "output_type": "execute_result"
    }
   ],
   "source": [
    "df_ANT_presion_arterial.tail(10)"
   ]
  },
  {
   "cell_type": "markdown",
   "metadata": {},
   "source": [
    "# Seteo de probabilidades\n",
    "\n",
    "<b>Combinaciones de 4 a mas medicamentos:</b> La probabilidad de la presencia del sintoma es muy alta\n",
    "\n",
    "<b>Combinaciones entre 2 a 3:</b> La probabilidad de la ausencia del sintoma variara de acuerdo a la efectividad del medicamento y a la naturaleza del paciente\n",
    "\n",
    "<b>Solo un medicamento: </b> La probabilidad de la ausencia del sintoma variara de acuerdo a la efectividad del medicamento y a la naturaleza del paciente"
   ]
  },
  {
   "cell_type": "markdown",
   "metadata": {},
   "source": [
    "<b>Genera dataframe de las probabilidades de presencia o ausencia del sintoma</b> "
   ]
  },
  {
   "cell_type": "code",
   "execution_count": 39,
   "metadata": {
    "collapsed": false
   },
   "outputs": [],
   "source": [
    "def initProbabilisticDataframe(arrEstadosMedicamentos, listEstados, listProbabilidades):\n",
    "    df= pd.DataFrame(columns=listEstados)\n",
    "    filas   = lenLista(arrEstadosMedicamentos)\n",
    "    for i in range(filas):\n",
    "        df2 = pd.DataFrame([listProbabilidades], columns=listEstados)\n",
    "        df =df.append(df2)\n",
    "    df=df.reset_index(drop=True)    \n",
    "    return df\n",
    "        "
   ]
  },
  {
   "cell_type": "code",
   "execution_count": 40,
   "metadata": {
    "collapsed": false
   },
   "outputs": [
    {
     "data": {
      "text/html": [
       "<div>\n",
       "<table border=\"1\" class=\"dataframe\">\n",
       "  <thead>\n",
       "    <tr style=\"text-align: right;\">\n",
       "      <th></th>\n",
       "      <th>Alta</th>\n",
       "      <th>Normal</th>\n",
       "      <th>Baja</th>\n",
       "    </tr>\n",
       "  </thead>\n",
       "  <tbody>\n",
       "    <tr>\n",
       "      <th>0</th>\n",
       "      <td>0.33</td>\n",
       "      <td>0.34</td>\n",
       "      <td>0.33</td>\n",
       "    </tr>\n",
       "    <tr>\n",
       "      <th>1</th>\n",
       "      <td>0.33</td>\n",
       "      <td>0.34</td>\n",
       "      <td>0.33</td>\n",
       "    </tr>\n",
       "    <tr>\n",
       "      <th>2</th>\n",
       "      <td>0.33</td>\n",
       "      <td>0.34</td>\n",
       "      <td>0.33</td>\n",
       "    </tr>\n",
       "    <tr>\n",
       "      <th>3</th>\n",
       "      <td>0.33</td>\n",
       "      <td>0.34</td>\n",
       "      <td>0.33</td>\n",
       "    </tr>\n",
       "    <tr>\n",
       "      <th>4</th>\n",
       "      <td>0.33</td>\n",
       "      <td>0.34</td>\n",
       "      <td>0.33</td>\n",
       "    </tr>\n",
       "    <tr>\n",
       "      <th>5</th>\n",
       "      <td>0.33</td>\n",
       "      <td>0.34</td>\n",
       "      <td>0.33</td>\n",
       "    </tr>\n",
       "    <tr>\n",
       "      <th>6</th>\n",
       "      <td>0.33</td>\n",
       "      <td>0.34</td>\n",
       "      <td>0.33</td>\n",
       "    </tr>\n",
       "    <tr>\n",
       "      <th>7</th>\n",
       "      <td>0.33</td>\n",
       "      <td>0.34</td>\n",
       "      <td>0.33</td>\n",
       "    </tr>\n",
       "    <tr>\n",
       "      <th>8</th>\n",
       "      <td>0.33</td>\n",
       "      <td>0.34</td>\n",
       "      <td>0.33</td>\n",
       "    </tr>\n",
       "    <tr>\n",
       "      <th>9</th>\n",
       "      <td>0.33</td>\n",
       "      <td>0.34</td>\n",
       "      <td>0.33</td>\n",
       "    </tr>\n",
       "  </tbody>\n",
       "</table>\n",
       "</div>"
      ],
      "text/plain": [
       "   Alta  Normal  Baja\n",
       "0  0.33    0.34  0.33\n",
       "1  0.33    0.34  0.33\n",
       "2  0.33    0.34  0.33\n",
       "3  0.33    0.34  0.33\n",
       "4  0.33    0.34  0.33\n",
       "5  0.33    0.34  0.33\n",
       "6  0.33    0.34  0.33\n",
       "7  0.33    0.34  0.33\n",
       "8  0.33    0.34  0.33\n",
       "9  0.33    0.34  0.33"
      ]
     },
     "execution_count": 40,
     "metadata": {},
     "output_type": "execute_result"
    }
   ],
   "source": [
    "df_presion_arterial= initProbabilisticDataframe([2,2,2,2,2,3,2,3,2,2,2],['Alta','Normal','Baja'],[0.33,0.34,0.33])\n",
    "df_presion_arterial.head(10)"
   ]
  },
  {
   "cell_type": "code",
   "execution_count": 197,
   "metadata": {
    "collapsed": false
   },
   "outputs": [
    {
     "data": {
      "text/plain": [
       "(4608, 3)"
      ]
     },
     "execution_count": 197,
     "metadata": {},
     "output_type": "execute_result"
    }
   ],
   "source": [
    "df_presion_arterial.shape"
   ]
  },
  {
   "cell_type": "markdown",
   "metadata": {},
   "source": [
    "<b>Coloca una nueva distribucion de probabilidades a los sintomas, segun sea la efectividad de cada medicamento</b> "
   ]
  },
  {
   "cell_type": "code",
   "execution_count": 41,
   "metadata": {
    "collapsed": false
   },
   "outputs": [],
   "source": [
    "EF_amlodipino = df_ANT_presion_arterial.query('MR_amlodipino>0 & MR_captopril==0 & MR_carvedilol==0 & '+\n",
    "                                      'MR_enalapril==0 & MR_furosemida==0 & MR_hidroclorothiazida==0 &'+\n",
    "                                      'MR_losartan==0 & MR_metropolol==0 & MR_prazosin==0 & MR_propanolol==0 &'+\n",
    "                                      'MR_verapamilo==0')\n",
    "EF_captopril = df_ANT_presion_arterial.query('MR_amlodipino==0 & MR_captopril>0 & MR_carvedilol==0 & '+\n",
    "                                      'MR_enalapril==0 & MR_furosemida==0 & MR_hidroclorothiazida==0 &'+\n",
    "                                      'MR_losartan==0 & MR_metropolol==0 & MR_prazosin==0 & MR_propanolol==0 &'+\n",
    "                                      'MR_verapamilo==0')\n",
    "EF_carvedilol = df_ANT_presion_arterial.query('MR_amlodipino==0 & MR_captopril==0 & MR_carvedilol>0 & '+\n",
    "                                      'MR_enalapril==0 & MR_furosemida==0 & MR_hidroclorothiazida==0 &'+\n",
    "                                      'MR_losartan==0 & MR_metropolol==0 & MR_prazosin==0 & MR_propanolol==0 &'+\n",
    "                                      'MR_verapamilo==0')\n",
    "EF_enalapril = df_ANT_presion_arterial.query('MR_amlodipino==0 & MR_captopril==0 & MR_carvedilol==0 & '+\n",
    "                                      'MR_enalapril>0 & MR_furosemida==0 & MR_hidroclorothiazida==0 &'+\n",
    "                                      'MR_losartan==0 & MR_metropolol==0 & MR_prazosin==0 & MR_propanolol==0 &'+\n",
    "                                      'MR_verapamilo==0')\n",
    "EF_furosemida = df_ANT_presion_arterial.query('MR_amlodipino==0 & MR_captopril==0 & MR_carvedilol==0 & '+\n",
    "                                      'MR_enalapril==0 & MR_furosemida>0 & MR_hidroclorothiazida==0 &'+\n",
    "                                      'MR_losartan==0 & MR_metropolol==0 & MR_prazosin==0 & MR_propanolol==0 &'+\n",
    "                                      'MR_verapamilo==0')\n",
    "EF_hidroclorothiazida = df_ANT_presion_arterial.query('MR_amlodipino==0 & MR_captopril==0 & MR_carvedilol==0 & '+\n",
    "                                      'MR_enalapril==0 & MR_furosemida==0 & MR_hidroclorothiazida>0 &'+\n",
    "                                      'MR_losartan==0 & MR_metropolol==0 & MR_prazosin==0 & MR_propanolol==0 &'+\n",
    "                                      'MR_verapamilo==0')\n",
    "EF_losartan = df_ANT_presion_arterial.query('MR_amlodipino==0 & MR_captopril==0 & MR_carvedilol==0 & '+\n",
    "                                      'MR_enalapril==0 & MR_furosemida==0 & MR_hidroclorothiazida==0 &'+\n",
    "                                      'MR_losartan>0 & MR_metropolol==0 & MR_prazosin==0 & MR_propanolol==0 &'+\n",
    "                                      'MR_verapamilo==0')\n",
    "EF_metropolol = df_ANT_presion_arterial.query('MR_amlodipino==0 & MR_captopril==0 & MR_carvedilol==0 & '+\n",
    "                                      'MR_enalapril==0 & MR_furosemida==0 & MR_hidroclorothiazida==0 &'+\n",
    "                                      'MR_losartan==0 & MR_metropolol>0 & MR_prazosin==0 & MR_propanolol==0 &'+\n",
    "                                      'MR_verapamilo==0')\n",
    "EF_prazosin = df_ANT_presion_arterial.query('MR_amlodipino==0 & MR_captopril==0 & MR_carvedilol==0 & '+\n",
    "                                      'MR_enalapril==0 & MR_furosemida==0 & MR_hidroclorothiazida==0 &'+\n",
    "                                      'MR_losartan==0 & MR_metropolol==0 & MR_prazosin>0 & MR_propanolol==0 &'+\n",
    "                                      'MR_verapamilo==0')\n",
    "EF_propanolol = df_ANT_presion_arterial.query('MR_amlodipino==0 & MR_captopril==0 & MR_carvedilol==0 & '+\n",
    "                                      'MR_enalapril==0 & MR_furosemida==0 & MR_hidroclorothiazida==0 &'+\n",
    "                                      'MR_losartan==0 & MR_metropolol==0 & MR_prazosin==0 & MR_propanolol>0 &'+\n",
    "                                      'MR_verapamilo==0')\n",
    "EF_verapamilo = df_ANT_presion_arterial.query('MR_amlodipino==0 & MR_captopril==0 & MR_carvedilol==0 & '+\n",
    "                                      'MR_enalapril==0 & MR_furosemida==0 & MR_hidroclorothiazida==0 &'+\n",
    "                                      'MR_losartan==0 & MR_metropolol==0 & MR_prazosin==0 & MR_propanolol==0 &'+\n",
    "                                      'MR_verapamilo>0')"
   ]
  },
  {
   "cell_type": "code",
   "execution_count": 186,
   "metadata": {
    "collapsed": true
   },
   "outputs": [],
   "source": [
    "EF_amlodipino1_1 = df_ANT_presion_arterial.query('MR_amlodipino>0 & MR_captopril>0 & MR_carvedilol==0 & '+\n",
    "                                      'MR_enalapril==0 & MR_furosemida==0 & MR_hidroclorothiazida==0 &'+\n",
    "                                      'MR_losartan==0 & MR_metropolol==0 & MR_prazosin==0 & MR_propanolol==0 &'+\n",
    "                                      'MR_verapamilo==0')\n",
    "EF_amlodipino1_2 = df_ANT_presion_arterial.query('MR_amlodipino>0 & MR_captopril==0 & MR_carvedilol>0 & '+\n",
    "                                      'MR_enalapril==0 & MR_furosemida==0 & MR_hidroclorothiazida==0 &'+\n",
    "                                      'MR_losartan==0 & MR_metropolol==0 & MR_prazosin==0 & MR_propanolol==0 &'+\n",
    "                                      'MR_verapamilo==0')"
   ]
  },
  {
   "cell_type": "code",
   "execution_count": 187,
   "metadata": {
    "collapsed": false
   },
   "outputs": [
    {
     "data": {
      "text/html": [
       "<div>\n",
       "<table border=\"1\" class=\"dataframe\">\n",
       "  <thead>\n",
       "    <tr style=\"text-align: right;\">\n",
       "      <th></th>\n",
       "      <th>MR_amlodipino</th>\n",
       "      <th>MR_captopril</th>\n",
       "      <th>MR_carvedilol</th>\n",
       "      <th>MR_enalapril</th>\n",
       "      <th>MR_furosemida</th>\n",
       "      <th>MR_hidroclorothiazida</th>\n",
       "      <th>MR_losartan</th>\n",
       "      <th>MR_metropolol</th>\n",
       "      <th>MR_prazosin</th>\n",
       "      <th>MR_propanolol</th>\n",
       "      <th>MR_verapamilo</th>\n",
       "    </tr>\n",
       "  </thead>\n",
       "  <tbody>\n",
       "    <tr>\n",
       "      <th>4602</th>\n",
       "      <td>1</td>\n",
       "      <td>0</td>\n",
       "      <td>1</td>\n",
       "      <td>0</td>\n",
       "      <td>0</td>\n",
       "      <td>0</td>\n",
       "      <td>0</td>\n",
       "      <td>0</td>\n",
       "      <td>0</td>\n",
       "      <td>0</td>\n",
       "      <td>0</td>\n",
       "    </tr>\n",
       "  </tbody>\n",
       "</table>\n",
       "</div>"
      ],
      "text/plain": [
       "      MR_amlodipino  MR_captopril  MR_carvedilol  MR_enalapril  MR_furosemida  \\\n",
       "4602              1             0              1             0              0   \n",
       "\n",
       "      MR_hidroclorothiazida  MR_losartan  MR_metropolol  MR_prazosin  \\\n",
       "4602                      0            0              0            0   \n",
       "\n",
       "      MR_propanolol  MR_verapamilo  \n",
       "4602              0              0  "
      ]
     },
     "execution_count": 187,
     "metadata": {},
     "output_type": "execute_result"
    }
   ],
   "source": [
    "EF_amlodipino1_2"
   ]
  },
  {
   "cell_type": "markdown",
   "metadata": {},
   "source": [
    "<b>Devuelve el arreglo de los indices correspondientes a cada combinacion de medicamentos</b>"
   ]
  },
  {
   "cell_type": "code",
   "execution_count": 42,
   "metadata": {
    "collapsed": true
   },
   "outputs": [],
   "source": [
    "def getIndexToSet(arrayIndex):\n",
    "    arr = []\n",
    "    for i in arrayIndex:\n",
    "        arr.append(i)\n",
    "    return arr"
   ]
  },
  {
   "cell_type": "code",
   "execution_count": 43,
   "metadata": {
    "collapsed": true
   },
   "outputs": [],
   "source": [
    "arrIndex_hidroclorothiazida = getIndexToSet(EF_hidroclorothiazida.index)"
   ]
  },
  {
   "cell_type": "code",
   "execution_count": 44,
   "metadata": {
    "collapsed": false
   },
   "outputs": [
    {
     "data": {
      "text/plain": [
       "[4543, 4575]"
      ]
     },
     "execution_count": 44,
     "metadata": {},
     "output_type": "execute_result"
    }
   ],
   "source": [
    "arrIndex_hidroclorothiazida"
   ]
  },
  {
   "cell_type": "code",
   "execution_count": 45,
   "metadata": {
    "collapsed": false,
    "scrolled": true
   },
   "outputs": [
    {
     "data": {
      "text/html": [
       "<div>\n",
       "<table border=\"1\" class=\"dataframe\">\n",
       "  <thead>\n",
       "    <tr style=\"text-align: right;\">\n",
       "      <th></th>\n",
       "      <th>MR_amlodipino</th>\n",
       "      <th>MR_captopril</th>\n",
       "      <th>MR_carvedilol</th>\n",
       "      <th>MR_enalapril</th>\n",
       "      <th>MR_furosemida</th>\n",
       "      <th>MR_hidroclorothiazida</th>\n",
       "      <th>MR_losartan</th>\n",
       "      <th>MR_metropolol</th>\n",
       "      <th>MR_prazosin</th>\n",
       "      <th>MR_propanolol</th>\n",
       "      <th>MR_verapamilo</th>\n",
       "    </tr>\n",
       "  </thead>\n",
       "  <tbody>\n",
       "    <tr>\n",
       "      <th>4606</th>\n",
       "      <td>1</td>\n",
       "      <td>0</td>\n",
       "      <td>0</td>\n",
       "      <td>0</td>\n",
       "      <td>0</td>\n",
       "      <td>0</td>\n",
       "      <td>0</td>\n",
       "      <td>0</td>\n",
       "      <td>0</td>\n",
       "      <td>0</td>\n",
       "      <td>0</td>\n",
       "    </tr>\n",
       "  </tbody>\n",
       "</table>\n",
       "</div>"
      ],
      "text/plain": [
       "      MR_amlodipino  MR_captopril  MR_carvedilol  MR_enalapril  MR_furosemida  \\\n",
       "4606              1             0              0             0              0   \n",
       "\n",
       "      MR_hidroclorothiazida  MR_losartan  MR_metropolol  MR_prazosin  \\\n",
       "4606                      0            0              0            0   \n",
       "\n",
       "      MR_propanolol  MR_verapamilo  \n",
       "4606              0              0  "
      ]
     },
     "execution_count": 45,
     "metadata": {},
     "output_type": "execute_result"
    }
   ],
   "source": [
    "EF_amlodipino"
   ]
  },
  {
   "cell_type": "code",
   "execution_count": 46,
   "metadata": {
    "collapsed": false
   },
   "outputs": [],
   "source": [
    "arrIndex_amlodipino = getIndexToSet(EF_amlodipino.index)\n",
    "arrIndex_captopril = getIndexToSet(EF_captopril.index)\n",
    "arrIndex_carvedilol = getIndexToSet(EF_carvedilol.index)\n",
    "arrIndex_enalapril = getIndexToSet(EF_enalapril.index)\n",
    "arrIndex_furosemida = getIndexToSet(EF_furosemida.index)\n",
    "arrIndex_hidroclorothiazida = getIndexToSet(EF_hidroclorothiazida.index)\n",
    "arrIndex_losartan = getIndexToSet(EF_losartan.index)\n",
    "arrIndex_metropolol = getIndexToSet(EF_metropolol.index)\n",
    "arrIndex_prazosin= getIndexToSet(EF_prazosin.index)\n",
    "arrIndex_propanolol = getIndexToSet(EF_propanolol.index)\n",
    "arrIndex_verapamilo = getIndexToSet(EF_verapamilo.index)"
   ]
  },
  {
   "cell_type": "markdown",
   "metadata": {},
   "source": [
    "<b>Colocar la probabilidad dado la efectividad y evidencia para un medicamento</b>"
   ]
  },
  {
   "cell_type": "code",
   "execution_count": 48,
   "metadata": {
    "collapsed": false
   },
   "outputs": [],
   "source": [
    "def setProbabilisticValue(dfSintoma, diccEstados, indexMedicamentos):\n",
    "    new_df = pd.DataFrame(diccEstados, index=indexMedicamentos)\n",
    "    dfSintoma.update(new_df)"
   ]
  },
  {
   "cell_type": "code",
   "execution_count": 49,
   "metadata": {
    "collapsed": true
   },
   "outputs": [],
   "source": [
    "dicc_amlodipino  = {'Alta': ['0.20'],'Normal': ['0.70'],'Baja': ['0.10']}\n",
    "dicc_captopril   = {'Alta': ['0.10'],'Normal': ['0.80'],'Baja': ['0.10']}\n",
    "dicc_carvedilol  = {'Alta': ['0.05'],'Normal': ['0.85'],'Baja': ['0.10']}\n",
    "dicc_enalapril   = {'Alta': ['0.20'],'Normal': ['0.80'],'Baja': ['0.00']}\n",
    "dicc_furosemida  = {'Alta': ['0.25'],'Normal': ['0.75'],'Baja': ['0.00']}\n",
    "dicc_hidroclorothiazida = {'Alta': ['0.20'],'Normal': ['0.70'],'Baja': ['0.10']}\n",
    "dicc_losartan    = {'Alta': ['0.10'],'Normal': ['0.80'],'Baja': ['0.10']}\n",
    "dicc_metropolol  = {'Alta': ['0.05'],'Normal': ['0.95'],'Baja': ['0.00']}\n",
    "dicc_prazosin    = {'Alta': ['0.20'],'Normal': ['0.75'],'Baja': ['0.05']}\n",
    "dicc_prazosin    = {'Alta': ['0.15'],'Normal': ['0.85'],'Baja': ['0.00']}\n",
    "dicc_verapamilo  = {'Alta': ['0.10'],'Normal': ['0.80'],'Baja': ['0.10']}\n"
   ]
  },
  {
   "cell_type": "code",
   "execution_count": null,
   "metadata": {
    "collapsed": true
   },
   "outputs": [],
   "source": [
    "setProbabilisticValue(df_presion_arterial, dicc_amlodipino, arrIndex_amlodipino )\n",
    "setProbabilisticValue(df_presion_arterial, dicc_captopril, arrIndex_captopril )\n",
    "setProbabilisticValue(df_presion_arterial, dicc_carvedilol, arrIndex_carvedilol )\n",
    "setProbabilisticValue(df_presion_arterial, dicc_enalapril, arrIndex_enalapril )\n",
    "setProbabilisticValue(df_presion_arterial, dicc_furosemida , arrIndex_furosemida )\n",
    "setProbabilisticValue(df_presion_arterial, dicc_hidroclorothiazida, arrIndex_hidroclorothiazida )\n",
    "setProbabilisticValue(df_presion_arterial, dicc_losartan , arrIndex_losartan )\n",
    "setProbabilisticValue(df_presion_arterial, dicc_metropolol, arrIndex_metropolol )\n",
    "setProbabilisticValue(df_presion_arterial, dicc_prazosin, arrIndex_prazosin )\n",
    "setProbabilisticValue(df_presion_arterial, dicc_prazosin, arrIndex_propanolol )\n",
    "setProbabilisticValue(df_presion_arterial, dicc_verapamilo, arrIndex_verapamilo )"
   ]
  },
  {
   "cell_type": "markdown",
   "metadata": {},
   "source": [
    "# Aplicando lo realizado anteriormente"
   ]
  },
  {
   "cell_type": "code",
   "execution_count": 149,
   "metadata": {
    "collapsed": false
   },
   "outputs": [],
   "source": [
    "df_ANT_metoprolol  = createCombinationDataframe([2,2,2], ['EP_Asma_Bronquial','EP_Diabetes', 'EP_Insuficiencia_Cardiaca',]) \n",
    "df_metoprolol = initProbabilisticDataframe([2,2,2],['Prescribir_Normal', 'Prescribir_Bajas_Dosis', 'No_Prescribir'],[0.00,0.01,0.99])"
   ]
  },
  {
   "cell_type": "code",
   "execution_count": 150,
   "metadata": {
    "collapsed": false
   },
   "outputs": [
    {
     "data": {
      "text/html": [
       "<div>\n",
       "<table border=\"1\" class=\"dataframe\">\n",
       "  <thead>\n",
       "    <tr style=\"text-align: right;\">\n",
       "      <th></th>\n",
       "      <th>EP_Asma_Bronquial</th>\n",
       "      <th>EP_Diabetes</th>\n",
       "      <th>EP_Insuficiencia_Cardiaca</th>\n",
       "    </tr>\n",
       "  </thead>\n",
       "  <tbody>\n",
       "    <tr>\n",
       "      <th>0</th>\n",
       "      <td>1</td>\n",
       "      <td>1</td>\n",
       "      <td>1</td>\n",
       "    </tr>\n",
       "    <tr>\n",
       "      <th>1</th>\n",
       "      <td>0</td>\n",
       "      <td>1</td>\n",
       "      <td>1</td>\n",
       "    </tr>\n",
       "    <tr>\n",
       "      <th>2</th>\n",
       "      <td>1</td>\n",
       "      <td>0</td>\n",
       "      <td>1</td>\n",
       "    </tr>\n",
       "    <tr>\n",
       "      <th>3</th>\n",
       "      <td>0</td>\n",
       "      <td>0</td>\n",
       "      <td>1</td>\n",
       "    </tr>\n",
       "    <tr>\n",
       "      <th>4</th>\n",
       "      <td>1</td>\n",
       "      <td>1</td>\n",
       "      <td>0</td>\n",
       "    </tr>\n",
       "    <tr>\n",
       "      <th>5</th>\n",
       "      <td>0</td>\n",
       "      <td>1</td>\n",
       "      <td>0</td>\n",
       "    </tr>\n",
       "    <tr>\n",
       "      <th>6</th>\n",
       "      <td>1</td>\n",
       "      <td>0</td>\n",
       "      <td>0</td>\n",
       "    </tr>\n",
       "    <tr>\n",
       "      <th>7</th>\n",
       "      <td>0</td>\n",
       "      <td>0</td>\n",
       "      <td>0</td>\n",
       "    </tr>\n",
       "  </tbody>\n",
       "</table>\n",
       "</div>"
      ],
      "text/plain": [
       "   EP_Asma_Bronquial  EP_Diabetes  EP_Insuficiencia_Cardiaca\n",
       "0                  1            1                          1\n",
       "1                  0            1                          1\n",
       "2                  1            0                          1\n",
       "3                  0            0                          1\n",
       "4                  1            1                          0\n",
       "5                  0            1                          0\n",
       "6                  1            0                          0\n",
       "7                  0            0                          0"
      ]
     },
     "execution_count": 150,
     "metadata": {},
     "output_type": "execute_result"
    }
   ],
   "source": [
    "df_ANT_metoprolol"
   ]
  },
  {
   "cell_type": "code",
   "execution_count": 151,
   "metadata": {
    "collapsed": false,
    "scrolled": true
   },
   "outputs": [
    {
     "data": {
      "text/html": [
       "<div>\n",
       "<table border=\"1\" class=\"dataframe\">\n",
       "  <thead>\n",
       "    <tr style=\"text-align: right;\">\n",
       "      <th></th>\n",
       "      <th>Prescribir_Normal</th>\n",
       "      <th>Prescribir_Bajas_Dosis</th>\n",
       "      <th>No_Prescribir</th>\n",
       "    </tr>\n",
       "  </thead>\n",
       "  <tbody>\n",
       "    <tr>\n",
       "      <th>0</th>\n",
       "      <td>0.0</td>\n",
       "      <td>0.01</td>\n",
       "      <td>0.99</td>\n",
       "    </tr>\n",
       "    <tr>\n",
       "      <th>1</th>\n",
       "      <td>0.0</td>\n",
       "      <td>0.01</td>\n",
       "      <td>0.99</td>\n",
       "    </tr>\n",
       "    <tr>\n",
       "      <th>2</th>\n",
       "      <td>0.0</td>\n",
       "      <td>0.01</td>\n",
       "      <td>0.99</td>\n",
       "    </tr>\n",
       "    <tr>\n",
       "      <th>3</th>\n",
       "      <td>0.0</td>\n",
       "      <td>0.01</td>\n",
       "      <td>0.99</td>\n",
       "    </tr>\n",
       "    <tr>\n",
       "      <th>4</th>\n",
       "      <td>0.0</td>\n",
       "      <td>0.01</td>\n",
       "      <td>0.99</td>\n",
       "    </tr>\n",
       "    <tr>\n",
       "      <th>5</th>\n",
       "      <td>0.0</td>\n",
       "      <td>0.01</td>\n",
       "      <td>0.99</td>\n",
       "    </tr>\n",
       "    <tr>\n",
       "      <th>6</th>\n",
       "      <td>0.0</td>\n",
       "      <td>0.01</td>\n",
       "      <td>0.99</td>\n",
       "    </tr>\n",
       "    <tr>\n",
       "      <th>7</th>\n",
       "      <td>0.0</td>\n",
       "      <td>0.01</td>\n",
       "      <td>0.99</td>\n",
       "    </tr>\n",
       "  </tbody>\n",
       "</table>\n",
       "</div>"
      ],
      "text/plain": [
       "   Prescribir_Normal  Prescribir_Bajas_Dosis  No_Prescribir\n",
       "0                0.0                    0.01           0.99\n",
       "1                0.0                    0.01           0.99\n",
       "2                0.0                    0.01           0.99\n",
       "3                0.0                    0.01           0.99\n",
       "4                0.0                    0.01           0.99\n",
       "5                0.0                    0.01           0.99\n",
       "6                0.0                    0.01           0.99\n",
       "7                0.0                    0.01           0.99"
      ]
     },
     "execution_count": 151,
     "metadata": {},
     "output_type": "execute_result"
    }
   ],
   "source": [
    "df_metoprolol"
   ]
  },
  {
   "cell_type": "code",
   "execution_count": 152,
   "metadata": {
    "collapsed": true
   },
   "outputs": [],
   "source": [
    "df_met1 = df_ANT_metoprolol.query('EP_Asma_Bronquial==0 & EP_Diabetes>0 & EP_Insuficiencia_Cardiaca==0')\n",
    "df_met2 = df_ANT_metoprolol.query('EP_Asma_Bronquial==0 & EP_Diabetes==0 & EP_Insuficiencia_Cardiaca==0')"
   ]
  },
  {
   "cell_type": "code",
   "execution_count": 153,
   "metadata": {
    "collapsed": true
   },
   "outputs": [],
   "source": [
    "arrIndex_met1 = getIndexToSet(df_met1.index)\n",
    "arrIndex_met2 = getIndexToSet(df_met2.index)"
   ]
  },
  {
   "cell_type": "code",
   "execution_count": 162,
   "metadata": {
    "collapsed": true
   },
   "outputs": [],
   "source": [
    "dicc_met1 = {'Prescribir_Normal': [0],'Prescribir_Bajas_Dosis': [0.50],'No_Prescribir': [0.50]}\n",
    "dicc_met2 = {'Prescribir_Normal': [0.34],'Prescribir_Bajas_Dosis': [0.33],'No_Prescribir': [0.33]}"
   ]
  },
  {
   "cell_type": "code",
   "execution_count": 163,
   "metadata": {
    "collapsed": false
   },
   "outputs": [],
   "source": [
    "setProbabilisticValue(df_metoprolol, dicc_met1, arrIndex_met1 )\n",
    "setProbabilisticValue(df_metoprolol, dicc_met2, arrIndex_met2 )"
   ]
  },
  {
   "cell_type": "markdown",
   "metadata": {},
   "source": [
    "<b>Obtener la lista de valores de la evidencia</b>"
   ]
  },
  {
   "cell_type": "code",
   "execution_count": 167,
   "metadata": {
    "collapsed": true
   },
   "outputs": [],
   "source": [
    "def getListaEvidencia(df):\n",
    "    lista =[]\n",
    "    # Iteración por filas del DataFrame:\n",
    "    for indice_fila, fila in df.transpose().iterrows():\n",
    "        lista.append(fila.values.tolist())\n",
    "    return lista"
   ]
  },
  {
   "cell_type": "code",
   "execution_count": 168,
   "metadata": {
    "collapsed": false
   },
   "outputs": [],
   "source": [
    "values_metoprolol=getListaEvidencia(df_metoprolol)"
   ]
  },
  {
   "cell_type": "code",
   "execution_count": 169,
   "metadata": {
    "collapsed": false
   },
   "outputs": [
    {
     "data": {
      "text/plain": [
       "[[0.0, 0.0, 0.0, 0.0, 0.0, 0.0, 0.0, 0.34],\n",
       " [0.01, 0.01, 0.01, 0.01, 0.01, 0.5, 0.01, 0.33],\n",
       " [0.99, 0.99, 0.99, 0.99, 0.99, 0.5, 0.99, 0.33]]"
      ]
     },
     "execution_count": 169,
     "metadata": {},
     "output_type": "execute_result"
    }
   ],
   "source": [
    "values_metoprolol"
   ]
  },
  {
   "cell_type": "code",
   "execution_count": 171,
   "metadata": {
    "collapsed": true
   },
   "outputs": [],
   "source": [
    "df_ANT_hidroclorothiazida = createCombinationDataframe([2,2,2], ['EP_Diabetes', 'EP_Gota', 'MP_ibuprofeno']) \n",
    "df_hidroclorothiazida = initProbabilisticDataframe([2,2,2],['Prescribir_Normal', 'Prescribir_Bajas_Dosis', 'No_Prescribir'],[0.00,0.01,0.99])"
   ]
  },
  {
   "cell_type": "code",
   "execution_count": 179,
   "metadata": {
    "collapsed": true
   },
   "outputs": [],
   "source": [
    "arrIndex_hid1 = getIndexToSet(df_ANT_hidroclorothiazida.query('EP_Diabetes>0 & EP_Gota>0 & MP_ibuprofeno==0').index)\n",
    "arrIndex_hid2 = getIndexToSet(df_ANT_hidroclorothiazida.query('EP_Diabetes>0 & EP_Gota==0 & MP_ibuprofeno==0').index)\n",
    "arrIndex_hid3 = getIndexToSet(df_ANT_hidroclorothiazida.query('EP_Diabetes==0 & EP_Gota==0 & MP_ibuprofeno==0').index)"
   ]
  },
  {
   "cell_type": "code",
   "execution_count": 180,
   "metadata": {
    "collapsed": true
   },
   "outputs": [],
   "source": [
    "dicc_hid1 = {'Prescribir_Normal': [0.00],'Prescribir_Bajas_Dosis': [0.90],'No_Prescribir': [0.10]}\n",
    "dicc_hid2 = {'Prescribir_Normal': [0.00],'Prescribir_Bajas_Dosis': [0.90],'No_Prescribir': [0.10]}\n",
    "dicc_hid3 = {'Prescribir_Normal': [0.34],'Prescribir_Bajas_Dosis': [0.33],'No_Prescribir': [0.33]}"
   ]
  },
  {
   "cell_type": "code",
   "execution_count": 181,
   "metadata": {
    "collapsed": false
   },
   "outputs": [],
   "source": [
    "setProbabilisticValue(df_hidroclorothiazida, dicc_hid1, arrIndex_hid1 )\n",
    "setProbabilisticValue(df_hidroclorothiazida, dicc_hid2, arrIndex_hid2 )\n",
    "setProbabilisticValue(df_hidroclorothiazida, dicc_hid3, arrIndex_hid3 )"
   ]
  },
  {
   "cell_type": "code",
   "execution_count": 184,
   "metadata": {
    "collapsed": false
   },
   "outputs": [
    {
     "data": {
      "text/plain": [
       "[[0.0, 0.0, 0.0, 0.0, 0.0, 0.0, 0.0, 0.34],\n",
       " [0.01, 0.01, 0.01, 0.01, 0.9, 0.01, 0.9, 0.33],\n",
       " [0.99, 0.99, 0.99, 0.99, 0.1, 0.99, 0.1, 0.33]]"
      ]
     },
     "execution_count": 184,
     "metadata": {},
     "output_type": "execute_result"
    }
   ],
   "source": [
    "values_hidroclorothiazida=getListaEvidencia(df_hidroclorothiazida)\n",
    "values_hidroclorothiazida"
   ]
  },
  {
   "cell_type": "code",
   "execution_count": 190,
   "metadata": {
    "collapsed": false
   },
   "outputs": [],
   "source": [
    "df_ANT_angina_pecho = createCombinationDataframe([2,3], ['MR_amlodipino', 'MR_metropolol']) \n",
    "df_angina_pecho     = initProbabilisticDataframe([2,3], ['Presente', 'Ausente'],[0.30,0.70])"
   ]
  },
  {
   "cell_type": "code",
   "execution_count": 191,
   "metadata": {
    "collapsed": true
   },
   "outputs": [],
   "source": [
    "arrIndex_ang1 = getIndexToSet(df_ANT_angina_pecho.query('MR_amlodipino==1 & MR_metropolol==2').index)\n",
    "arrIndex_ang2 = getIndexToSet(df_ANT_angina_pecho.query('MR_amlodipino==1 & MR_metropolol==0').index)\n",
    "arrIndex_ang3 = getIndexToSet(df_ANT_angina_pecho.query('MR_amlodipino==0 & MR_metropolol==0').index)"
   ]
  },
  {
   "cell_type": "code",
   "execution_count": 192,
   "metadata": {
    "collapsed": true
   },
   "outputs": [],
   "source": [
    "dicc_ang1 = {'Presente': [0.20],'Ausente': [0.80]}\n",
    "dicc_ang2 = {'Presente': [0.40],'Ausente': [0.60]}\n",
    "dicc_ang3 = {'Presente': [0.70],'Ausente': [0.30]}"
   ]
  },
  {
   "cell_type": "code",
   "execution_count": 193,
   "metadata": {
    "collapsed": true
   },
   "outputs": [],
   "source": [
    "setProbabilisticValue(df_angina_pecho, dicc_ang1, arrIndex_ang1 )\n",
    "setProbabilisticValue(df_angina_pecho, dicc_ang2, arrIndex_ang2 )\n",
    "setProbabilisticValue(df_angina_pecho, dicc_ang3, arrIndex_ang3 )"
   ]
  },
  {
   "cell_type": "code",
   "execution_count": 196,
   "metadata": {
    "collapsed": false
   },
   "outputs": [
    {
     "data": {
      "text/plain": [
       "[[0.2, 0.3, 0.3, 0.3, 0.4, 0.7], [0.8, 0.7, 0.7, 0.7, 0.6, 0.3]]"
      ]
     },
     "execution_count": 196,
     "metadata": {},
     "output_type": "execute_result"
    }
   ],
   "source": [
    "values_angina_pecho=getListaEvidencia(df_angina_pecho)\n",
    "values_angina_pecho"
   ]
  },
  {
   "cell_type": "code",
   "execution_count": 200,
   "metadata": {
    "collapsed": false
   },
   "outputs": [],
   "source": [
    "values_presion_arterial=getListaEvidencia(df_presion_arterial)"
   ]
  },
  {
   "cell_type": "code",
   "execution_count": 201,
   "metadata": {
    "collapsed": true
   },
   "outputs": [],
   "source": [
    "df_ANT_danho_rinhones = createCombinationDataframe([2,2,2,2,2,3,2,3,2,2,2], \n",
    "                                                  ['MR_amlodipino','MR_captopril' ,'MR_carvedilol','MR_enalapril' ,\n",
    "                                                     'MR_furosemida','MR_hidroclorothiazida','MR_losartan','MR_metropolol',\n",
    "                                                     'MR_prazosin','MR_propanolol','MR_verapamilo']) \n",
    "df_danho_rinhones = initProbabilisticDataframe([2,2,2,2,2,3,2,3,2,2,2],['Presente', 'Ausente'],[0.75,0.25])"
   ]
  },
  {
   "cell_type": "code",
   "execution_count": 202,
   "metadata": {
    "collapsed": true
   },
   "outputs": [],
   "source": [
    "EF_amlodipino = df_ANT_danho_rinhones.query('MR_amlodipino>0 & MR_captopril==0 & MR_carvedilol==0 & '+\n",
    "                                      'MR_enalapril==0 & MR_furosemida==0 & MR_hidroclorothiazida==0 &'+\n",
    "                                      'MR_losartan==0 & MR_metropolol==0 & MR_prazosin==0 & MR_propanolol==0 &'+\n",
    "                                      'MR_verapamilo==0')\n",
    "EF_captopril = df_ANT_danho_rinhones.query('MR_amlodipino==0 & MR_captopril>0 & MR_carvedilol==0 & '+\n",
    "                                      'MR_enalapril==0 & MR_furosemida==0 & MR_hidroclorothiazida==0 &'+\n",
    "                                      'MR_losartan==0 & MR_metropolol==0 & MR_prazosin==0 & MR_propanolol==0 &'+\n",
    "                                      'MR_verapamilo==0')\n",
    "EF_carvedilol = df_ANT_danho_rinhones.query('MR_amlodipino==0 & MR_captopril==0 & MR_carvedilol>0 & '+\n",
    "                                      'MR_enalapril==0 & MR_furosemida==0 & MR_hidroclorothiazida==0 &'+\n",
    "                                      'MR_losartan==0 & MR_metropolol==0 & MR_prazosin==0 & MR_propanolol==0 &'+\n",
    "                                      'MR_verapamilo==0')\n",
    "EF_enalapril = df_ANT_danho_rinhones.query('MR_amlodipino==0 & MR_captopril==0 & MR_carvedilol==0 & '+\n",
    "                                      'MR_enalapril>0 & MR_furosemida==0 & MR_hidroclorothiazida==0 &'+\n",
    "                                      'MR_losartan==0 & MR_metropolol==0 & MR_prazosin==0 & MR_propanolol==0 &'+\n",
    "                                      'MR_verapamilo==0')\n",
    "EF_furosemida = df_ANT_danho_rinhones.query('MR_amlodipino==0 & MR_captopril==0 & MR_carvedilol==0 & '+\n",
    "                                      'MR_enalapril==0 & MR_furosemida>0 & MR_hidroclorothiazida==0 &'+\n",
    "                                      'MR_losartan==0 & MR_metropolol==0 & MR_prazosin==0 & MR_propanolol==0 &'+\n",
    "                                      'MR_verapamilo==0')\n",
    "EF_hidroclorothiazida = df_ANT_danho_rinhones.query('MR_amlodipino==0 & MR_captopril==0 & MR_carvedilol==0 & '+\n",
    "                                      'MR_enalapril==0 & MR_furosemida==0 & MR_hidroclorothiazida>0 &'+\n",
    "                                      'MR_losartan==0 & MR_metropolol==0 & MR_prazosin==0 & MR_propanolol==0 &'+\n",
    "                                      'MR_verapamilo==0')\n",
    "EF_losartan = df_ANT_danho_rinhones.query('MR_amlodipino==0 & MR_captopril==0 & MR_carvedilol==0 & '+\n",
    "                                      'MR_enalapril==0 & MR_furosemida==0 & MR_hidroclorothiazida==0 &'+\n",
    "                                      'MR_losartan>0 & MR_metropolol==0 & MR_prazosin==0 & MR_propanolol==0 &'+\n",
    "                                      'MR_verapamilo==0')\n",
    "EF_metropolol = df_ANT_danho_rinhones.query('MR_amlodipino==0 & MR_captopril==0 & MR_carvedilol==0 & '+\n",
    "                                      'MR_enalapril==0 & MR_furosemida==0 & MR_hidroclorothiazida==0 &'+\n",
    "                                      'MR_losartan==0 & MR_metropolol>0 & MR_prazosin==0 & MR_propanolol==0 &'+\n",
    "                                      'MR_verapamilo==0')\n",
    "EF_prazosin = df_ANT_danho_rinhones.query('MR_amlodipino==0 & MR_captopril==0 & MR_carvedilol==0 & '+\n",
    "                                      'MR_enalapril==0 & MR_furosemida==0 & MR_hidroclorothiazida==0 &'+\n",
    "                                      'MR_losartan==0 & MR_metropolol==0 & MR_prazosin>0 & MR_propanolol==0 &'+\n",
    "                                      'MR_verapamilo==0')\n",
    "EF_propanolol = df_ANT_danho_rinhones.query('MR_amlodipino==0 & MR_captopril==0 & MR_carvedilol==0 & '+\n",
    "                                      'MR_enalapril==0 & MR_furosemida==0 & MR_hidroclorothiazida==0 &'+\n",
    "                                      'MR_losartan==0 & MR_metropolol==0 & MR_prazosin==0 & MR_propanolol>0 &'+\n",
    "                                      'MR_verapamilo==0')\n",
    "EF_verapamilo = df_ANT_danho_rinhones.query('MR_amlodipino==0 & MR_captopril==0 & MR_carvedilol==0 & '+\n",
    "                                      'MR_enalapril==0 & MR_furosemida==0 & MR_hidroclorothiazida==0 &'+\n",
    "                                      'MR_losartan==0 & MR_metropolol==0 & MR_prazosin==0 & MR_propanolol==0 &'+\n",
    "                                      'MR_verapamilo>0')"
   ]
  },
  {
   "cell_type": "code",
   "execution_count": 203,
   "metadata": {
    "collapsed": true
   },
   "outputs": [],
   "source": [
    "arrIndex_amlodipino = getIndexToSet(EF_amlodipino.index)\n",
    "arrIndex_captopril = getIndexToSet(EF_captopril.index)\n",
    "arrIndex_carvedilol = getIndexToSet(EF_carvedilol.index)\n",
    "arrIndex_enalapril = getIndexToSet(EF_enalapril.index)\n",
    "arrIndex_furosemida = getIndexToSet(EF_furosemida.index)\n",
    "arrIndex_hidroclorothiazida = getIndexToSet(EF_hidroclorothiazida.index)\n",
    "arrIndex_losartan = getIndexToSet(EF_losartan.index)\n",
    "arrIndex_metropolol = getIndexToSet(EF_metropolol.index)\n",
    "arrIndex_prazosin= getIndexToSet(EF_prazosin.index)\n",
    "arrIndex_propanolol = getIndexToSet(EF_propanolol.index)\n",
    "arrIndex_verapamilo = getIndexToSet(EF_verapamilo.index)"
   ]
  },
  {
   "cell_type": "code",
   "execution_count": 204,
   "metadata": {
    "collapsed": true
   },
   "outputs": [],
   "source": [
    "dicc_amlodipino  = {'Presente': ['0.20'],'Ausente': ['0.80']}\n",
    "dicc_captopril   = {'Presente': ['0.30'],'Ausente': ['0.70']}\n",
    "dicc_carvedilol  = {'Presente': ['0.30'],'Ausente': ['0.70']}\n",
    "dicc_enalapril   = {'Presente': ['0.15'],'Ausente': ['0.85']}\n",
    "dicc_furosemida  = {'Presente': ['0.30'],'Ausente': ['0.70']}\n",
    "dicc_hidroclorothiazida = {'Presente': ['0.35'],'Ausente': ['0.65']}\n",
    "dicc_losartan    = {'Presente': ['0.10'],'Ausente': ['0.90']}\n",
    "dicc_metropolol  = {'Presente': ['0.35'],'Ausente': ['0.65']}\n",
    "dicc_prazosin    = {'Presente': ['0.20'],'Ausente': ['0.80']}\n",
    "dicc_prazosin    = {'Presente': ['0.15'],'Ausente': ['0.85']}\n",
    "dicc_verapamilo  = {'Presente': ['0.5'],'Ausente': ['0.95']}\n"
   ]
  },
  {
   "cell_type": "code",
   "execution_count": 205,
   "metadata": {
    "collapsed": true
   },
   "outputs": [],
   "source": [
    "setProbabilisticValue(df_danho_rinhones, dicc_amlodipino, arrIndex_amlodipino )\n",
    "setProbabilisticValue(df_danho_rinhones, dicc_captopril, arrIndex_captopril )\n",
    "setProbabilisticValue(df_danho_rinhones, dicc_carvedilol, arrIndex_carvedilol )\n",
    "setProbabilisticValue(df_danho_rinhones, dicc_enalapril, arrIndex_enalapril )\n",
    "setProbabilisticValue(df_danho_rinhones, dicc_furosemida , arrIndex_furosemida )\n",
    "setProbabilisticValue(df_danho_rinhones, dicc_hidroclorothiazida, arrIndex_hidroclorothiazida )\n",
    "setProbabilisticValue(df_danho_rinhones, dicc_losartan , arrIndex_losartan )\n",
    "setProbabilisticValue(df_danho_rinhones, dicc_metropolol, arrIndex_metropolol )\n",
    "setProbabilisticValue(df_danho_rinhones, dicc_prazosin, arrIndex_prazosin )\n",
    "setProbabilisticValue(df_danho_rinhones, dicc_prazosin, arrIndex_propanolol )\n",
    "setProbabilisticValue(df_danho_rinhones, dicc_verapamilo, arrIndex_verapamilo )"
   ]
  },
  {
   "cell_type": "code",
   "execution_count": 206,
   "metadata": {
    "collapsed": false
   },
   "outputs": [
    {
     "data": {
      "text/html": [
       "<div>\n",
       "<table border=\"1\" class=\"dataframe\">\n",
       "  <thead>\n",
       "    <tr style=\"text-align: right;\">\n",
       "      <th></th>\n",
       "      <th>Presente</th>\n",
       "      <th>Ausente</th>\n",
       "    </tr>\n",
       "  </thead>\n",
       "  <tbody>\n",
       "    <tr>\n",
       "      <th>4598</th>\n",
       "      <td>0.75</td>\n",
       "      <td>0.25</td>\n",
       "    </tr>\n",
       "    <tr>\n",
       "      <th>4599</th>\n",
       "      <td>0.15</td>\n",
       "      <td>0.85</td>\n",
       "    </tr>\n",
       "    <tr>\n",
       "      <th>4600</th>\n",
       "      <td>0.75</td>\n",
       "      <td>0.25</td>\n",
       "    </tr>\n",
       "    <tr>\n",
       "      <th>4601</th>\n",
       "      <td>0.75</td>\n",
       "      <td>0.25</td>\n",
       "    </tr>\n",
       "    <tr>\n",
       "      <th>4602</th>\n",
       "      <td>0.75</td>\n",
       "      <td>0.25</td>\n",
       "    </tr>\n",
       "    <tr>\n",
       "      <th>4603</th>\n",
       "      <td>0.30</td>\n",
       "      <td>0.70</td>\n",
       "    </tr>\n",
       "    <tr>\n",
       "      <th>4604</th>\n",
       "      <td>0.75</td>\n",
       "      <td>0.25</td>\n",
       "    </tr>\n",
       "    <tr>\n",
       "      <th>4605</th>\n",
       "      <td>0.30</td>\n",
       "      <td>0.70</td>\n",
       "    </tr>\n",
       "    <tr>\n",
       "      <th>4606</th>\n",
       "      <td>0.20</td>\n",
       "      <td>0.80</td>\n",
       "    </tr>\n",
       "    <tr>\n",
       "      <th>4607</th>\n",
       "      <td>0.75</td>\n",
       "      <td>0.25</td>\n",
       "    </tr>\n",
       "  </tbody>\n",
       "</table>\n",
       "</div>"
      ],
      "text/plain": [
       "     Presente Ausente\n",
       "4598     0.75    0.25\n",
       "4599     0.15    0.85\n",
       "4600     0.75    0.25\n",
       "4601     0.75    0.25\n",
       "4602     0.75    0.25\n",
       "4603     0.30    0.70\n",
       "4604     0.75    0.25\n",
       "4605     0.30    0.70\n",
       "4606     0.20    0.80\n",
       "4607     0.75    0.25"
      ]
     },
     "execution_count": 206,
     "metadata": {},
     "output_type": "execute_result"
    }
   ],
   "source": [
    "df_danho_rinhones.tail(10)"
   ]
  },
  {
   "cell_type": "code",
   "execution_count": 208,
   "metadata": {
    "collapsed": false
   },
   "outputs": [],
   "source": [
    "values_danho_rinhones=getListaEvidencia(df_danho_rinhones)"
   ]
  },
  {
   "cell_type": "markdown",
   "metadata": {},
   "source": [
    "# Definiendo los parametros del modelo (CPTs)\n",
    "En pgmpy las columnas son los valores de los padres (evidencias) y las filas son los estados de las variables "
   ]
  },
  {
   "cell_type": "code",
   "execution_count": 13,
   "metadata": {
    "collapsed": false
   },
   "outputs": [],
   "source": [
    "#Antecendentes de los pacientes geriatricos\n",
    "\n",
    "cpt_Insuficiencia_Cardiaca = TabularCPD(variable='EP_Insuficiencia_Cardiaca',\n",
    "                                        variable_card=2, values=[[0.5], [0.5]])\n",
    "\n",
    "cpt_Asma_Bronquial = TabularCPD(variable='EP_Insuficiencia_Cardiaca', \n",
    "                                variable_card=2, values=[[0.5], [0.5]])\n",
    "\n",
    "cpt_Diabetes= TabularCPD(variable='EP_Diabetes',\n",
    "                         variable_card=2,values=[[0.5], [0.5]])\n",
    "\n",
    "cpt_Ibuprofeno= TabularCPD(variable='MP_ibuprofeno',\n",
    "                           variable_card=2, values=[[0.5], [0.5]])\n",
    "\n",
    "cpt_Gota= TabularCPD(variable='EP_Gota',\n",
    "                     variable_card=2, values=[[0.5], [0.5]])"
   ]
  },
  {
   "cell_type": "code",
   "execution_count": 185,
   "metadata": {
    "collapsed": false
   },
   "outputs": [],
   "source": [
    "#Medicamentos a recetar\n",
    "\n",
    "cpt_metoprolol = TabularCPD(variable='MR_metropolol', variable_card=3,\n",
    "                      values   = values_metoprolol,\n",
    "                      evidence = ['EP_Asma_Bronquial','EP_Diabetes','EP_Insuficiencia_Cardiaca' ], \n",
    "                      evidence_card=[2,2,2])\n",
    "\n",
    "cpt_hidroclorothiazida = TabularCPD(variable='MR_hidroclorothiazida', variable_card=3,\n",
    "                      values   = values_hidroclorothiazida,\n",
    "                      evidence =['EP_Diabetes','EP_Gota','MP_ibuprofeno'], \n",
    "                      evidence_card=[2,2,2])\n",
    "\n",
    "cpt_amlodipino = TabularCPD(variable='MR_amlodipino', variable_card=2,\n",
    "                      values=[[0.5], [0.5]])\n",
    "cpt_losartan = TabularCPD(variable='MR_losartan', variable_card=2,\n",
    "                      values=[[0.5], [0.5]])\n",
    "cpt_enalapril= TabularCPD(variable='MR_enalapril', variable_card=2,\n",
    "                      values=[[0.5], [0.5]])\n",
    "cpt_furosemida = TabularCPD(variable='MR_furosemida', variable_card=2,\n",
    "                      values=[[0.5], [0.5]])\n",
    "cpt_prazosin= TabularCPD(variable='MR_prazosin', variable_card=2,\n",
    "                      values=[[0.5], [0.5]])\n",
    "cpt_verapamilo= TabularCPD(variable='MR_verapamilo', variable_card=2,\n",
    "                      values=[[0.5], [0.5]])\n",
    "cpt_captopril= TabularCPD(variable='MR_captopril', variable_card=2,\n",
    "                      values=[[0.5], [0.5]])\n",
    "cpt_propanolol= TabularCPD(variable='MR_propanolol', variable_card=2,\n",
    "                      values=[[0.5], [0.5]])\n",
    "cpt_propanolol= TabularCPD(variable='MR_carvedilol', variable_card=2,\n",
    "                      values=[[0.5], [0.5]])\n",
    "\n"
   ]
  },
  {
   "cell_type": "code",
   "execution_count": 214,
   "metadata": {
    "collapsed": true
   },
   "outputs": [],
   "source": [
    "#Sintomas resultantes\n",
    "cpt_angina_pecho = TabularCPD(variable='SA_angina_de_pecho', variable_card=2,\n",
    "                      values   = values_angina_pecho,\n",
    "                      evidence = ['MR_amlodipino', 'MR_metropolol'], \n",
    "                      evidence_card=[2,3])\n",
    "\n",
    "cpt_danho_rinhones = TabularCPD(variable='SA_danho_rinhones', variable_card=2,\n",
    "                      values   = values_danho_rinhones,\n",
    "                      evidence = ['MR_amlodipino','MR_captopril' ,'MR_carvedilol','MR_enalapril' ,\n",
    "                                  'MR_furosemida','MR_hidroclorothiazida','MR_losartan','MR_metropolol',\n",
    "                                 'MR_prazosin','MR_propanolol','MR_verapamilo'],\n",
    "                      evidence_card=[2,2,2,2,2,3,2,3,2,2,2])\n",
    "\n",
    "cpt_presion_arterial = TabularCPD(variable='SA_presion_arterial', variable_card=3,\n",
    "                      values   = values_presion_arterial,\n",
    "                      evidence =['MR_amlodipino','MR_captopril' ,'MR_carvedilol','MR_enalapril' ,\n",
    "                                'MR_furosemida','MR_hidroclorothiazida','MR_losartan','MR_metropolol',\n",
    "                                'MR_prazosin','MR_propanolol','MR_verapamilo'],\n",
    "                      evidence_card=[2,2,2,2,2,3,2,3,2,2,2])"
   ]
  },
  {
   "cell_type": "markdown",
   "metadata": {},
   "source": [
    "## Asociando los CPTs con la estructura del modelo\n"
   ]
  },
  {
   "cell_type": "code",
   "execution_count": 18,
   "metadata": {
    "collapsed": true
   },
   "outputs": [],
   "source": [
    "bn.add_cpds(cpt_hidroclorothiazida, cpt_metoprolol, cpt_angina_pecho)"
   ]
  },
  {
   "cell_type": "markdown",
   "metadata": {},
   "source": [
    "## Chequeando consistencia de la Red Bayesiana\n",
    "Chequea que todos los CPTs sean válidos para el modelo"
   ]
  },
  {
   "cell_type": "code",
   "execution_count": 19,
   "metadata": {
    "collapsed": false
   },
   "outputs": [
    {
     "ename": "ValueError",
     "evalue": "No CPD associated with MR_enalapril",
     "output_type": "error",
     "traceback": [
      "\u001b[1;31m---------------------------------------------------------------------------\u001b[0m",
      "\u001b[1;31mValueError\u001b[0m                                Traceback (most recent call last)",
      "\u001b[1;32m<ipython-input-19-e3c80c75be0e>\u001b[0m in \u001b[0;36m<module>\u001b[1;34m()\u001b[0m\n\u001b[1;32m----> 1\u001b[1;33m \u001b[0mbn\u001b[0m\u001b[1;33m.\u001b[0m\u001b[0mcheck_model\u001b[0m\u001b[1;33m(\u001b[0m\u001b[1;33m)\u001b[0m\u001b[1;33m\u001b[0m\u001b[0m\n\u001b[0m",
      "\u001b[1;32m/home/lourdes/anaconda3/lib/python3.5/site-packages/pgmpy/models/BayesianModel.py\u001b[0m in \u001b[0;36mcheck_model\u001b[1;34m(self)\u001b[0m\n\u001b[0;32m    349\u001b[0m \u001b[1;33m\u001b[0m\u001b[0m\n\u001b[0;32m    350\u001b[0m             \u001b[1;32mif\u001b[0m \u001b[0mcpd\u001b[0m \u001b[1;32mis\u001b[0m \u001b[1;32mNone\u001b[0m\u001b[1;33m:\u001b[0m\u001b[1;33m\u001b[0m\u001b[0m\n\u001b[1;32m--> 351\u001b[1;33m                 \u001b[1;32mraise\u001b[0m \u001b[0mValueError\u001b[0m\u001b[1;33m(\u001b[0m\u001b[1;34m'No CPD associated with {}'\u001b[0m\u001b[1;33m.\u001b[0m\u001b[0mformat\u001b[0m\u001b[1;33m(\u001b[0m\u001b[0mnode\u001b[0m\u001b[1;33m)\u001b[0m\u001b[1;33m)\u001b[0m\u001b[1;33m\u001b[0m\u001b[0m\n\u001b[0m\u001b[0;32m    352\u001b[0m             \u001b[1;32melif\u001b[0m \u001b[0misinstance\u001b[0m\u001b[1;33m(\u001b[0m\u001b[0mcpd\u001b[0m\u001b[1;33m,\u001b[0m \u001b[0mTabularCPD\u001b[0m\u001b[1;33m)\u001b[0m\u001b[1;33m:\u001b[0m\u001b[1;33m\u001b[0m\u001b[0m\n\u001b[0;32m    353\u001b[0m                 \u001b[0mevidence\u001b[0m \u001b[1;33m=\u001b[0m \u001b[0mcpd\u001b[0m\u001b[1;33m.\u001b[0m\u001b[0mvariables\u001b[0m\u001b[1;33m[\u001b[0m\u001b[1;33m:\u001b[0m\u001b[1;36m0\u001b[0m\u001b[1;33m:\u001b[0m\u001b[1;33m-\u001b[0m\u001b[1;36m1\u001b[0m\u001b[1;33m]\u001b[0m\u001b[1;33m\u001b[0m\u001b[0m\n",
      "\u001b[1;31mValueError\u001b[0m: No CPD associated with MR_enalapril"
     ]
    }
   ],
   "source": [
    "bn.check_model()"
   ]
  },
  {
   "cell_type": "markdown",
   "metadata": {},
   "source": [
    "## Haciendo inferencias en la RB con algoritmo VariableElimination \n"
   ]
  },
  {
   "cell_type": "markdown",
   "metadata": {},
   "source": [
    "Vamos a preguntar a la RB con el algoritmo ** VariableElimination ** Cuál es la distribucion de \"B\" (Burglary) habiendo obsevado que \"J\" y \"M\" son true (John y Mary llaman)  "
   ]
  },
  {
   "cell_type": "code",
   "execution_count": 7,
   "metadata": {
    "collapsed": true
   },
   "outputs": [],
   "source": [
    "from pgmpy.inference import VariableElimination"
   ]
  },
  {
   "cell_type": "code",
   "execution_count": 8,
   "metadata": {
    "collapsed": true
   },
   "outputs": [],
   "source": [
    "bn_inference = VariableElimination(bn)"
   ]
  },
  {
   "cell_type": "code",
   "execution_count": 10,
   "metadata": {
    "collapsed": false
   },
   "outputs": [
    {
     "name": "stdout",
     "output_type": "stream",
     "text": [
      "╒═══════════════╤════════════════════╕\n",
      "│ LastResults   │   phi(LastResults) │\n",
      "╞═══════════════╪════════════════════╡\n",
      "│ LastResults_0 │             0.3917 │\n",
      "├───────────────┼────────────────────┤\n",
      "│ LastResults_1 │             0.6083 │\n",
      "╘═══════════════╧════════════════════╛\n"
     ]
    }
   ],
   "source": [
    "q = bn_inference.query(variables=['LastResults'], evidence={'FinalResult':0})\n",
    "print(q['LastResults'])"
   ]
  },
  {
   "cell_type": "code",
   "execution_count": 11,
   "metadata": {
    "collapsed": false
   },
   "outputs": [
    {
     "ename": "TypeError",
     "evalue": "'NoneType' object is not callable",
     "output_type": "error",
     "traceback": [
      "\u001b[1;31m---------------------------------------------------------------------------\u001b[0m",
      "\u001b[1;31mTypeError\u001b[0m                                 Traceback (most recent call last)",
      "\u001b[1;32m<ipython-input-11-7cb42bb152ce>\u001b[0m in \u001b[0;36m<module>\u001b[1;34m()\u001b[0m\n\u001b[1;32m----> 1\u001b[1;33m \u001b[0mbn_inference\u001b[0m\u001b[1;33m.\u001b[0m\u001b[0mstate_names\u001b[0m\u001b[1;33m(\u001b[0m\u001b[1;33m)\u001b[0m\u001b[1;33m\u001b[0m\u001b[0m\n\u001b[0m",
      "\u001b[1;31mTypeError\u001b[0m: 'NoneType' object is not callable"
     ]
    }
   ],
   "source": [
    "bn_inference.state_names()"
   ]
  },
  {
   "cell_type": "markdown",
   "metadata": {},
   "source": [
    "## Obteniendo las independencias Condicionales implicadas en la RB  "
   ]
  },
  {
   "cell_type": "code",
   "execution_count": 1,
   "metadata": {
    "collapsed": false
   },
   "outputs": [
    {
     "ename": "NameError",
     "evalue": "name 'bn' is not defined",
     "output_type": "error",
     "traceback": [
      "\u001b[1;31m---------------------------------------------------------------------------\u001b[0m",
      "\u001b[1;31mNameError\u001b[0m                                 Traceback (most recent call last)",
      "\u001b[1;32m<ipython-input-1-a3f10b81bdca>\u001b[0m in \u001b[0;36m<module>\u001b[1;34m()\u001b[0m\n\u001b[1;32m----> 1\u001b[1;33m \u001b[0mbn\u001b[0m\u001b[1;33m.\u001b[0m\u001b[0mget_independencies\u001b[0m\u001b[1;33m(\u001b[0m\u001b[1;33m)\u001b[0m\u001b[1;33m\u001b[0m\u001b[0m\n\u001b[0m",
      "\u001b[1;31mNameError\u001b[0m: name 'bn' is not defined"
     ]
    }
   ],
   "source": [
    "bn.get_independencies()"
   ]
  },
  {
   "cell_type": "code",
   "execution_count": null,
   "metadata": {
    "collapsed": true
   },
   "outputs": [],
   "source": []
  }
 ],
 "metadata": {
  "anaconda-cloud": {},
  "kernelspec": {
   "display_name": "Python [anaconda3]",
   "language": "python",
   "name": "Python [anaconda3]"
  },
  "language_info": {
   "codemirror_mode": {
    "name": "ipython",
    "version": 3
   },
   "file_extension": ".py",
   "mimetype": "text/x-python",
   "name": "python",
   "nbconvert_exporter": "python",
   "pygments_lexer": "ipython3",
   "version": "3.5.2"
  }
 },
 "nbformat": 4,
 "nbformat_minor": 2
}
