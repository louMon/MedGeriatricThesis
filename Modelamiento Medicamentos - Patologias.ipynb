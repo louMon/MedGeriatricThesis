{
 "cells": [
  {
   "cell_type": "markdown",
   "metadata": {},
   "source": [
    "# INTELIGENCIA ARTIFICIAL (INF371, 2018-1)\n",
    "\n",
    "### Laboratorio 4: Redes Bayesianas\n",
    "\n",
    "El presente laboratorio aborda la construccion de una red Bayesiana y la realización de inferencia sobre ella. Se usará la libreria pgmpy para facilitar dicha tarea.\n",
    "\n",
    "Al final del notebook deberas responder a las preguntas planteadas. \n"
   ]
  },
  {
   "cell_type": "markdown",
   "metadata": {},
   "source": [
    "## Red Bayesiana para predecir resultados de juegos de la seleccion peruana de futbol\n",
    "El objetivo del presente laboratorio es poder crear una red Bayesiana como la mostrada abajo, la cual modela probabilisticamente un dominio para predicción de resultados de juegos de futbol. Las siguientes variables aleatórias están involucradas en ese dominio\n",
    "\n",
    "\n",
    "<b>EP_Insuficiencia_Cardiaca</b>: Background o Antecedentes de enfermedades de los pacientes geriatricos(50=Presente, 50=Ausente)\n",
    "\n",
    "<b>MR_metropolol</b>: Medicamento a recetar(4.25=Prescribir Normal, 10.4=Prescribir Bajas Dosis, 85.4= No Prescribir)\n",
    "\n",
    "<b>SA_angina_de_pecho</b>: Sintomas actuales(51.1=Presente, 48.9 =Ausente)\n",
    "\n",
    "<b>SA_presion_arterial</b>: Sintomas actuales(15.0=Alto, 45.3=Normal, 39.7=Baja)\n",
    "\n",
    "<b>EP_Asma_Bronquial</b>: Background o Antecedentes de enfermedades de los pacientes geriatricos. (50=Presente, 50=Ausente)\n",
    "\n",
    "<b>EP_Diabetes</b>: Background o Antecedentes de enfermedades de los pacientes geriatricos. (50=Presente, 50=Ausente)\n",
    "\n",
    "<b>EP_Gota</b>: Background o Antecedentes de enfermedades de los pacientes geriatricos. (50=Presente, 50=Ausente)\n",
    "\n",
    "<b>MP_Ibuprofeno</b>: Background o Antecedentes de los medicamentos que consumen los pacientes geriatricos. (50=Prescrito, 50=No Prescrito)\n",
    "\n",
    "\n",
    "\n",
    "\n"
   ]
  },
  {
   "cell_type": "markdown",
   "metadata": {},
   "source": [
    "## Creando la estructura de la RB"
   ]
  },
  {
   "cell_type": "code",
   "execution_count": 5,
   "metadata": {
    "collapsed": false
   },
   "outputs": [],
   "source": [
    "from pgmpy.models import BayesianModel\n",
    "from pgmpy.factors.discrete import TabularCPD\n",
    "from pgmpy.inference import VariableElimination\n",
    "import pandas as pd\n",
    "import numpy as np"
   ]
  },
  {
   "cell_type": "code",
   "execution_count": 6,
   "metadata": {
    "collapsed": true
   },
   "outputs": [],
   "source": [
    "bn = BayesianModel([('EP_Insuficiencia_Cardiaca', 'MR_metropolol'),              \n",
    "                    ('EP_Asma_Bronquial', 'MR_metropolol'), \n",
    "                    ('EP_Diabetes', 'MR_metropolol'), \n",
    "                    ('EP_Diabetes', 'MR_hidroclorothiazida'), \n",
    "                    ('MP_ibuprofeno', 'MR_hidroclorothiazida'), \n",
    "                    ('EP_Gota', 'MR_hidroclorothiazida'), \n",
    "                    ('MR_metropolol', 'SA_angina_de_pecho'),\n",
    "                    ('MR_metropolol', 'SA_danho_rinhones'),\n",
    "                    ('MR_metropolol', 'SA_presion_arterial'),\n",
    "                    ('MR_hidroclorothiazida', 'SA_danho_rinhones'),\n",
    "                    ('MR_hidroclorothiazida', 'SA_presion_arterial'),\n",
    "                    ('MR_amlodipino', 'SA_angina_de_pecho'),\n",
    "                    ('MR_amlodipino', 'SA_danho_rinhones'),\n",
    "                    ('MR_amlodipino', 'SA_presion_arterial'),\n",
    "                    ('MR_losartan', 'SA_danho_rinhones'),\n",
    "                    ('MR_losartan', 'SA_presion_arterial'),\n",
    "                    ('MR_enalapril', 'SA_danho_rinhones'),\n",
    "                    ('MR_enalapril', 'SA_presion_arterial'),\n",
    "                    ('MR_furosemida', 'SA_presion_arterial'),\n",
    "                    ('MR_furosemida', 'SA_danho_rinhones'),\n",
    "                    ('MR_prazosin', 'SA_presion_arterial'),\n",
    "                    ('MR_prazosin', 'SA_danho_rinhones'),\n",
    "                    ('MR_verapamilo', 'SA_presion_arterial'),\n",
    "                    ('MR_verapamilo', 'SA_danho_rinhones'),\n",
    "                    ('MR_captopril', 'SA_presion_arterial'),\n",
    "                    ('MR_captopril', 'SA_danho_rinhones'),\n",
    "                    ('MR_propanolol', 'SA_presion_arterial'),\n",
    "                    ('MR_propanolol', 'SA_danho_rinhones'),\n",
    "                    ('MR_carvedilol', 'SA_presion_arterial'),\n",
    "                    ('MR_carvedilol', 'SA_danho_rinhones')])"
   ]
  },
  {
   "cell_type": "markdown",
   "metadata": {},
   "source": [
    "## Definiendo los parametros del modelo (CPTs)\n",
    "En pgmpy las columnas son los valores de los padres (evdencias) y las filas son los estados de las variables "
   ]
  },
  {
   "cell_type": "code",
   "execution_count": 7,
   "metadata": {
    "collapsed": false
   },
   "outputs": [],
   "source": [
    "#Antecendentes de los pacientes geriatricos\n",
    "\n",
    "cpt_Insuficiencia_Cardiaca = TabularCPD(variable='EP_Insuficiencia_Cardiaca', variable_card=2,\n",
    "                      values=[[0.5], [0.5]])\n",
    "cpt_Asma_Bronquial = TabularCPD(variable='EP_Insuficiencia_Cardiaca', variable_card=2,\n",
    "                      values=[[0.5], [0.5]])\n",
    "cpt_Diabetes= TabularCPD(variable='EP_Diabetes', variable_card=2,\n",
    "                      values=[[0.5], [0.5]])\n",
    "cpt_Ibuprofeno= TabularCPD(variable='MP_ibuprofeno', variable_card=2,\n",
    "                      values=[[0.5], [0.5]])\n",
    "cpt_Gota= TabularCPD(variable='EP_Gota', variable_card=2,\n",
    "                      values=[[0.5], [0.5]])"
   ]
  },
  {
   "cell_type": "code",
   "execution_count": 8,
   "metadata": {
    "collapsed": false
   },
   "outputs": [],
   "source": [
    "#Medicamentos a recetar\n",
    "\n",
    "cpt_metoprolol = TabularCPD(variable='MR_metropolol', variable_card=3,\n",
    "                      values=[[0.00,0.00,0.00,0.00,0.00,0.00,0.00,0.34], \n",
    "                              [0.01,0.01,0.01,0.01,0.01,0.01,0.50,0.33], \n",
    "                              [0.99,0.99,0.99,0.99,0.99,0.99,0.50,0.33]],\n",
    "                      evidence=['EP_Asma_Bronquial', 'EP_Insuficiencia_Cardiaca', 'EP_Diabetes'], \n",
    "                      evidence_card=[2,2,2])\n",
    "\n",
    "cpt_hidroclorothiazida = TabularCPD(variable='MR_hidroclorothiazida', variable_card=3,\n",
    "                      values=[[0.00,0.00,0.00,0.00,0.00,0.00,0.00,0.34], \n",
    "                              [0.01,0.01,0.99,0.99,0.01,0.01,0.01,0.33], \n",
    "                              [0.99,0.99,0.01,0.01,0.99,0.99,0.99,0.33]],\n",
    "                      evidence=['EP_Diabetes', 'MP_ibuprofeno', 'EP_Gota'], \n",
    "                      evidence_card=[2,2,2])\n",
    "\n",
    "cpt_amlodipino = TabularCPD(variable='MR_amlodipino', variable_card=2,\n",
    "                      values=[[0.5], [0.5]])\n",
    "cpt_losartan = TabularCPD(variable='MR_losartan', variable_card=2,\n",
    "                      values=[[0.5], [0.5]])\n",
    "cpt_enalapril= TabularCPD(variable='MR_enalapril', variable_card=2,\n",
    "                      values=[[0.5], [0.5]])\n",
    "cpt_furosemida = TabularCPD(variable='MR_furosemida', variable_card=2,\n",
    "                      values=[[0.5], [0.5]])\n",
    "cpt_prazosin= TabularCPD(variable='MR_prazosin', variable_card=2,\n",
    "                      values=[[0.5], [0.5]])\n",
    "cpt_verapamilo= TabularCPD(variable='MR_verapamilo', variable_card=2,\n",
    "                      values=[[0.5], [0.5]])\n",
    "cpt_captopril= TabularCPD(variable='MR_captopril', variable_card=2,\n",
    "                      values=[[0.5], [0.5]])\n",
    "cpt_propanolol= TabularCPD(variable='MR_propanolol', variable_card=2,\n",
    "                      values=[[0.5], [0.5]])\n",
    "cpt_propanolol= TabularCPD(variable='MR_carvedilol', variable_card=2,\n",
    "                      values=[[0.5], [0.5]])\n",
    "\n"
   ]
  },
  {
   "cell_type": "code",
   "execution_count": 89,
   "metadata": {
    "collapsed": false
   },
   "outputs": [],
   "source": [
    "#states: la cantidad de estados que tenga cada variables\n",
    "#index: la posicion que ocupa en el arreglo\n",
    "#columns: numero de columnas totales\n",
    "def createColumn(states,index, columns,iBefore):\n",
    "    valoresPosible = \n",
    "    return pd.DataFrame(np.random.randint(low=0,high=(states-1),size=(columns,1)))\n",
    "    \n",
    "    "
   ]
  },
  {
   "cell_type": "markdown",
   "metadata": {},
   "source": [
    "Veamos el caso general, luego los demas se repiten\n",
    "Es necesario saber\n",
    "-Cantidad de estados \n",
    "-Y saber si tiene caso anterior, si lo tiene hay que saber cuantos fueron sus casos, si no lo tiene no importa\n"
   ]
  },
  {
   "cell_type": "code",
   "execution_count": 52,
   "metadata": {
    "collapsed": false
   },
   "outputs": [
    {
     "data": {
      "text/html": [
       "<div>\n",
       "<table border=\"1\" class=\"dataframe\">\n",
       "  <thead>\n",
       "    <tr style=\"text-align: right;\">\n",
       "      <th></th>\n",
       "      <th>val0</th>\n",
       "      <th>val1</th>\n",
       "    </tr>\n",
       "  </thead>\n",
       "  <tbody>\n",
       "    <tr>\n",
       "      <th>0</th>\n",
       "      <td>1</td>\n",
       "      <td>2</td>\n",
       "    </tr>\n",
       "    <tr>\n",
       "      <th>1</th>\n",
       "      <td>1</td>\n",
       "      <td>2</td>\n",
       "    </tr>\n",
       "    <tr>\n",
       "      <th>2</th>\n",
       "      <td>1</td>\n",
       "      <td>2</td>\n",
       "    </tr>\n",
       "    <tr>\n",
       "      <th>3</th>\n",
       "      <td>1</td>\n",
       "      <td>2</td>\n",
       "    </tr>\n",
       "    <tr>\n",
       "      <th>4</th>\n",
       "      <td>1</td>\n",
       "      <td>2</td>\n",
       "    </tr>\n",
       "  </tbody>\n",
       "</table>\n",
       "</div>"
      ],
      "text/plain": [
       "   val0  val1\n",
       "0     1     2\n",
       "1     1     2\n",
       "2     1     2\n",
       "3     1     2\n",
       "4     1     2"
      ]
     },
     "execution_count": 52,
     "metadata": {},
     "output_type": "execute_result"
    }
   ],
   "source": [
    "my_df= []\n",
    "numfilas = 4806\n",
    "for i in range(0,numfilas):\n",
    "    d = {\n",
    "        'val0' : 1,\n",
    "        'val1' : 2\n",
    "    }\n",
    "    my_df.append(d)\n",
    "\n",
    "my_df = pd.DataFrame(my_df)\n",
    "my_df.head()\n"
   ]
  },
  {
   "cell_type": "code",
   "execution_count": 119,
   "metadata": {
    "collapsed": false
   },
   "outputs": [],
   "source": [
    "def createDataframe(arrMedicamentos):\n",
    "    campos = len(arrMedicamentos)\n",
    "    filas = 1 \n",
    "    cantEstados = 0 \n",
    "    col = 'med'\n",
    "    arrBase     = []    #Para saber la base de cada medicamento\n",
    "    \n",
    "    #Obteniendo la base por cada posicion del medicamento\n",
    "    for j in range(0, campos):\n",
    "        if(j == 0):\n",
    "            cantEstados = arrMedicamentos[j] ** (j+1)\n",
    "        else:\n",
    "            cantEstados = (arrBase[j-1] * arrMedicamentos[j])\n",
    "        arrBase.append(cantEstados)\n",
    "    \n",
    "    #Obteniendo la cantidad de filas\n",
    "    for i in arrMedicamentos:\n",
    "        filas  *=i     \n",
    "    \n",
    "    my_final_list=[]\n",
    "    #Obteniendo la gran tabla de verdad\n",
    "    for i in range(0, campos):  \n",
    "        maxEstado = arrMedicamentos[i] -1 # Si es 2, entonces 1 es el maximo (1,0)\n",
    "        cantVecesPorEstado = arrBase[i]/arrMedicamentos[i] #(4 por cada uno)\n",
    "        contadorInterno = 1\n",
    "        my_med_list=[]\n",
    "        for j in range (0, 20):         \n",
    "            d = {\n",
    "                col + str(i): maxEstado\n",
    "            }\n",
    "            #Lo hago para verificar si ya se puede reiniciar con el mayor\n",
    "            if(contadorInterno == arrBase[i]):\n",
    "                maxEstado = arrMedicamentos[i] -1\n",
    "                contadorInterno = 1\n",
    "            else:\n",
    "                #Lo hago para verificar si ya se puede cambiar de estado a un menor\n",
    "                if(contadorInterno == cantVecesPorEstado):\n",
    "                    maxEstado -=1\n",
    "                contadorInterno +=1\n",
    "            my_med_list.append(d)\n",
    "        my_final_list.append(my_med_list)\n",
    "        #print(my_med_list)\n",
    "        \n",
    "    #print(my_final_list)\n",
    "    df = pd.DataFrame(my_final_list)\n",
    "        #print('sali '+ str(i)) \n",
    "    return df"
   ]
  },
  {
   "cell_type": "code",
   "execution_count": 121,
   "metadata": {
    "collapsed": false
   },
   "outputs": [
    {
     "data": {
      "text/html": [
       "<div>\n",
       "<table border=\"1\" class=\"dataframe\">\n",
       "  <thead>\n",
       "    <tr style=\"text-align: right;\">\n",
       "      <th></th>\n",
       "      <th>0</th>\n",
       "      <th>1</th>\n",
       "      <th>2</th>\n",
       "      <th>3</th>\n",
       "      <th>4</th>\n",
       "      <th>5</th>\n",
       "      <th>6</th>\n",
       "      <th>7</th>\n",
       "      <th>8</th>\n",
       "      <th>9</th>\n",
       "      <th>10</th>\n",
       "      <th>11</th>\n",
       "      <th>12</th>\n",
       "      <th>13</th>\n",
       "      <th>14</th>\n",
       "      <th>15</th>\n",
       "      <th>16</th>\n",
       "      <th>17</th>\n",
       "      <th>18</th>\n",
       "      <th>19</th>\n",
       "    </tr>\n",
       "  </thead>\n",
       "  <tbody>\n",
       "    <tr>\n",
       "      <th>0</th>\n",
       "      <td>{'med0': 1}</td>\n",
       "      <td>{'med0': 0}</td>\n",
       "      <td>{'med0': 1}</td>\n",
       "      <td>{'med0': 0}</td>\n",
       "      <td>{'med0': 1}</td>\n",
       "      <td>{'med0': 0}</td>\n",
       "      <td>{'med0': 1}</td>\n",
       "      <td>{'med0': 0}</td>\n",
       "      <td>{'med0': 1}</td>\n",
       "      <td>{'med0': 0}</td>\n",
       "      <td>{'med0': 1}</td>\n",
       "      <td>{'med0': 0}</td>\n",
       "      <td>{'med0': 1}</td>\n",
       "      <td>{'med0': 0}</td>\n",
       "      <td>{'med0': 1}</td>\n",
       "      <td>{'med0': 0}</td>\n",
       "      <td>{'med0': 1}</td>\n",
       "      <td>{'med0': 0}</td>\n",
       "      <td>{'med0': 1}</td>\n",
       "      <td>{'med0': 0}</td>\n",
       "    </tr>\n",
       "    <tr>\n",
       "      <th>1</th>\n",
       "      <td>{'med1': 1}</td>\n",
       "      <td>{'med1': 1}</td>\n",
       "      <td>{'med1': 0}</td>\n",
       "      <td>{'med1': 0}</td>\n",
       "      <td>{'med1': 1}</td>\n",
       "      <td>{'med1': 1}</td>\n",
       "      <td>{'med1': 0}</td>\n",
       "      <td>{'med1': 0}</td>\n",
       "      <td>{'med1': 1}</td>\n",
       "      <td>{'med1': 1}</td>\n",
       "      <td>{'med1': 0}</td>\n",
       "      <td>{'med1': 0}</td>\n",
       "      <td>{'med1': 1}</td>\n",
       "      <td>{'med1': 1}</td>\n",
       "      <td>{'med1': 0}</td>\n",
       "      <td>{'med1': 0}</td>\n",
       "      <td>{'med1': 1}</td>\n",
       "      <td>{'med1': 1}</td>\n",
       "      <td>{'med1': 0}</td>\n",
       "      <td>{'med1': 0}</td>\n",
       "    </tr>\n",
       "    <tr>\n",
       "      <th>2</th>\n",
       "      <td>{'med2': 1}</td>\n",
       "      <td>{'med2': 1}</td>\n",
       "      <td>{'med2': 1}</td>\n",
       "      <td>{'med2': 1}</td>\n",
       "      <td>{'med2': 0}</td>\n",
       "      <td>{'med2': 0}</td>\n",
       "      <td>{'med2': 0}</td>\n",
       "      <td>{'med2': 0}</td>\n",
       "      <td>{'med2': 1}</td>\n",
       "      <td>{'med2': 1}</td>\n",
       "      <td>{'med2': 1}</td>\n",
       "      <td>{'med2': 1}</td>\n",
       "      <td>{'med2': 0}</td>\n",
       "      <td>{'med2': 0}</td>\n",
       "      <td>{'med2': 0}</td>\n",
       "      <td>{'med2': 0}</td>\n",
       "      <td>{'med2': 1}</td>\n",
       "      <td>{'med2': 1}</td>\n",
       "      <td>{'med2': 1}</td>\n",
       "      <td>{'med2': 1}</td>\n",
       "    </tr>\n",
       "    <tr>\n",
       "      <th>3</th>\n",
       "      <td>{'med3': 1}</td>\n",
       "      <td>{'med3': 1}</td>\n",
       "      <td>{'med3': 1}</td>\n",
       "      <td>{'med3': 1}</td>\n",
       "      <td>{'med3': 1}</td>\n",
       "      <td>{'med3': 1}</td>\n",
       "      <td>{'med3': 1}</td>\n",
       "      <td>{'med3': 1}</td>\n",
       "      <td>{'med3': 0}</td>\n",
       "      <td>{'med3': 0}</td>\n",
       "      <td>{'med3': 0}</td>\n",
       "      <td>{'med3': 0}</td>\n",
       "      <td>{'med3': 0}</td>\n",
       "      <td>{'med3': 0}</td>\n",
       "      <td>{'med3': 0}</td>\n",
       "      <td>{'med3': 0}</td>\n",
       "      <td>{'med3': 1}</td>\n",
       "      <td>{'med3': 1}</td>\n",
       "      <td>{'med3': 1}</td>\n",
       "      <td>{'med3': 1}</td>\n",
       "    </tr>\n",
       "    <tr>\n",
       "      <th>4</th>\n",
       "      <td>{'med4': 1}</td>\n",
       "      <td>{'med4': 1}</td>\n",
       "      <td>{'med4': 1}</td>\n",
       "      <td>{'med4': 1}</td>\n",
       "      <td>{'med4': 1}</td>\n",
       "      <td>{'med4': 1}</td>\n",
       "      <td>{'med4': 1}</td>\n",
       "      <td>{'med4': 1}</td>\n",
       "      <td>{'med4': 1}</td>\n",
       "      <td>{'med4': 1}</td>\n",
       "      <td>{'med4': 1}</td>\n",
       "      <td>{'med4': 1}</td>\n",
       "      <td>{'med4': 1}</td>\n",
       "      <td>{'med4': 1}</td>\n",
       "      <td>{'med4': 1}</td>\n",
       "      <td>{'med4': 1}</td>\n",
       "      <td>{'med4': 0}</td>\n",
       "      <td>{'med4': 0}</td>\n",
       "      <td>{'med4': 0}</td>\n",
       "      <td>{'med4': 0}</td>\n",
       "    </tr>\n",
       "    <tr>\n",
       "      <th>5</th>\n",
       "      <td>{'med5': 1}</td>\n",
       "      <td>{'med5': 1}</td>\n",
       "      <td>{'med5': 1}</td>\n",
       "      <td>{'med5': 1}</td>\n",
       "      <td>{'med5': 1}</td>\n",
       "      <td>{'med5': 1}</td>\n",
       "      <td>{'med5': 1}</td>\n",
       "      <td>{'med5': 1}</td>\n",
       "      <td>{'med5': 1}</td>\n",
       "      <td>{'med5': 1}</td>\n",
       "      <td>{'med5': 1}</td>\n",
       "      <td>{'med5': 1}</td>\n",
       "      <td>{'med5': 1}</td>\n",
       "      <td>{'med5': 1}</td>\n",
       "      <td>{'med5': 1}</td>\n",
       "      <td>{'med5': 1}</td>\n",
       "      <td>{'med5': 1}</td>\n",
       "      <td>{'med5': 1}</td>\n",
       "      <td>{'med5': 1}</td>\n",
       "      <td>{'med5': 1}</td>\n",
       "    </tr>\n",
       "    <tr>\n",
       "      <th>6</th>\n",
       "      <td>{'med6': 1}</td>\n",
       "      <td>{'med6': 1}</td>\n",
       "      <td>{'med6': 1}</td>\n",
       "      <td>{'med6': 1}</td>\n",
       "      <td>{'med6': 1}</td>\n",
       "      <td>{'med6': 1}</td>\n",
       "      <td>{'med6': 1}</td>\n",
       "      <td>{'med6': 1}</td>\n",
       "      <td>{'med6': 1}</td>\n",
       "      <td>{'med6': 1}</td>\n",
       "      <td>{'med6': 1}</td>\n",
       "      <td>{'med6': 1}</td>\n",
       "      <td>{'med6': 1}</td>\n",
       "      <td>{'med6': 1}</td>\n",
       "      <td>{'med6': 1}</td>\n",
       "      <td>{'med6': 1}</td>\n",
       "      <td>{'med6': 1}</td>\n",
       "      <td>{'med6': 1}</td>\n",
       "      <td>{'med6': 1}</td>\n",
       "      <td>{'med6': 1}</td>\n",
       "    </tr>\n",
       "    <tr>\n",
       "      <th>7</th>\n",
       "      <td>{'med7': 1}</td>\n",
       "      <td>{'med7': 1}</td>\n",
       "      <td>{'med7': 1}</td>\n",
       "      <td>{'med7': 1}</td>\n",
       "      <td>{'med7': 1}</td>\n",
       "      <td>{'med7': 1}</td>\n",
       "      <td>{'med7': 1}</td>\n",
       "      <td>{'med7': 1}</td>\n",
       "      <td>{'med7': 1}</td>\n",
       "      <td>{'med7': 1}</td>\n",
       "      <td>{'med7': 1}</td>\n",
       "      <td>{'med7': 1}</td>\n",
       "      <td>{'med7': 1}</td>\n",
       "      <td>{'med7': 1}</td>\n",
       "      <td>{'med7': 1}</td>\n",
       "      <td>{'med7': 1}</td>\n",
       "      <td>{'med7': 1}</td>\n",
       "      <td>{'med7': 1}</td>\n",
       "      <td>{'med7': 1}</td>\n",
       "      <td>{'med7': 1}</td>\n",
       "    </tr>\n",
       "    <tr>\n",
       "      <th>8</th>\n",
       "      <td>{'med8': 1}</td>\n",
       "      <td>{'med8': 1}</td>\n",
       "      <td>{'med8': 1}</td>\n",
       "      <td>{'med8': 1}</td>\n",
       "      <td>{'med8': 1}</td>\n",
       "      <td>{'med8': 1}</td>\n",
       "      <td>{'med8': 1}</td>\n",
       "      <td>{'med8': 1}</td>\n",
       "      <td>{'med8': 1}</td>\n",
       "      <td>{'med8': 1}</td>\n",
       "      <td>{'med8': 1}</td>\n",
       "      <td>{'med8': 1}</td>\n",
       "      <td>{'med8': 1}</td>\n",
       "      <td>{'med8': 1}</td>\n",
       "      <td>{'med8': 1}</td>\n",
       "      <td>{'med8': 1}</td>\n",
       "      <td>{'med8': 1}</td>\n",
       "      <td>{'med8': 1}</td>\n",
       "      <td>{'med8': 1}</td>\n",
       "      <td>{'med8': 1}</td>\n",
       "    </tr>\n",
       "    <tr>\n",
       "      <th>9</th>\n",
       "      <td>{'med9': 2}</td>\n",
       "      <td>{'med9': 2}</td>\n",
       "      <td>{'med9': 2}</td>\n",
       "      <td>{'med9': 2}</td>\n",
       "      <td>{'med9': 2}</td>\n",
       "      <td>{'med9': 2}</td>\n",
       "      <td>{'med9': 2}</td>\n",
       "      <td>{'med9': 2}</td>\n",
       "      <td>{'med9': 2}</td>\n",
       "      <td>{'med9': 2}</td>\n",
       "      <td>{'med9': 2}</td>\n",
       "      <td>{'med9': 2}</td>\n",
       "      <td>{'med9': 2}</td>\n",
       "      <td>{'med9': 2}</td>\n",
       "      <td>{'med9': 2}</td>\n",
       "      <td>{'med9': 2}</td>\n",
       "      <td>{'med9': 2}</td>\n",
       "      <td>{'med9': 2}</td>\n",
       "      <td>{'med9': 2}</td>\n",
       "      <td>{'med9': 2}</td>\n",
       "    </tr>\n",
       "    <tr>\n",
       "      <th>10</th>\n",
       "      <td>{'med10': 2}</td>\n",
       "      <td>{'med10': 2}</td>\n",
       "      <td>{'med10': 2}</td>\n",
       "      <td>{'med10': 2}</td>\n",
       "      <td>{'med10': 2}</td>\n",
       "      <td>{'med10': 2}</td>\n",
       "      <td>{'med10': 2}</td>\n",
       "      <td>{'med10': 2}</td>\n",
       "      <td>{'med10': 2}</td>\n",
       "      <td>{'med10': 2}</td>\n",
       "      <td>{'med10': 2}</td>\n",
       "      <td>{'med10': 2}</td>\n",
       "      <td>{'med10': 2}</td>\n",
       "      <td>{'med10': 2}</td>\n",
       "      <td>{'med10': 2}</td>\n",
       "      <td>{'med10': 2}</td>\n",
       "      <td>{'med10': 2}</td>\n",
       "      <td>{'med10': 2}</td>\n",
       "      <td>{'med10': 2}</td>\n",
       "      <td>{'med10': 2}</td>\n",
       "    </tr>\n",
       "  </tbody>\n",
       "</table>\n",
       "</div>"
      ],
      "text/plain": [
       "              0             1             2             3             4   \\\n",
       "0    {'med0': 1}   {'med0': 0}   {'med0': 1}   {'med0': 0}   {'med0': 1}   \n",
       "1    {'med1': 1}   {'med1': 1}   {'med1': 0}   {'med1': 0}   {'med1': 1}   \n",
       "2    {'med2': 1}   {'med2': 1}   {'med2': 1}   {'med2': 1}   {'med2': 0}   \n",
       "3    {'med3': 1}   {'med3': 1}   {'med3': 1}   {'med3': 1}   {'med3': 1}   \n",
       "4    {'med4': 1}   {'med4': 1}   {'med4': 1}   {'med4': 1}   {'med4': 1}   \n",
       "5    {'med5': 1}   {'med5': 1}   {'med5': 1}   {'med5': 1}   {'med5': 1}   \n",
       "6    {'med6': 1}   {'med6': 1}   {'med6': 1}   {'med6': 1}   {'med6': 1}   \n",
       "7    {'med7': 1}   {'med7': 1}   {'med7': 1}   {'med7': 1}   {'med7': 1}   \n",
       "8    {'med8': 1}   {'med8': 1}   {'med8': 1}   {'med8': 1}   {'med8': 1}   \n",
       "9    {'med9': 2}   {'med9': 2}   {'med9': 2}   {'med9': 2}   {'med9': 2}   \n",
       "10  {'med10': 2}  {'med10': 2}  {'med10': 2}  {'med10': 2}  {'med10': 2}   \n",
       "\n",
       "              5             6             7             8             9   \\\n",
       "0    {'med0': 0}   {'med0': 1}   {'med0': 0}   {'med0': 1}   {'med0': 0}   \n",
       "1    {'med1': 1}   {'med1': 0}   {'med1': 0}   {'med1': 1}   {'med1': 1}   \n",
       "2    {'med2': 0}   {'med2': 0}   {'med2': 0}   {'med2': 1}   {'med2': 1}   \n",
       "3    {'med3': 1}   {'med3': 1}   {'med3': 1}   {'med3': 0}   {'med3': 0}   \n",
       "4    {'med4': 1}   {'med4': 1}   {'med4': 1}   {'med4': 1}   {'med4': 1}   \n",
       "5    {'med5': 1}   {'med5': 1}   {'med5': 1}   {'med5': 1}   {'med5': 1}   \n",
       "6    {'med6': 1}   {'med6': 1}   {'med6': 1}   {'med6': 1}   {'med6': 1}   \n",
       "7    {'med7': 1}   {'med7': 1}   {'med7': 1}   {'med7': 1}   {'med7': 1}   \n",
       "8    {'med8': 1}   {'med8': 1}   {'med8': 1}   {'med8': 1}   {'med8': 1}   \n",
       "9    {'med9': 2}   {'med9': 2}   {'med9': 2}   {'med9': 2}   {'med9': 2}   \n",
       "10  {'med10': 2}  {'med10': 2}  {'med10': 2}  {'med10': 2}  {'med10': 2}   \n",
       "\n",
       "              10            11            12            13            14  \\\n",
       "0    {'med0': 1}   {'med0': 0}   {'med0': 1}   {'med0': 0}   {'med0': 1}   \n",
       "1    {'med1': 0}   {'med1': 0}   {'med1': 1}   {'med1': 1}   {'med1': 0}   \n",
       "2    {'med2': 1}   {'med2': 1}   {'med2': 0}   {'med2': 0}   {'med2': 0}   \n",
       "3    {'med3': 0}   {'med3': 0}   {'med3': 0}   {'med3': 0}   {'med3': 0}   \n",
       "4    {'med4': 1}   {'med4': 1}   {'med4': 1}   {'med4': 1}   {'med4': 1}   \n",
       "5    {'med5': 1}   {'med5': 1}   {'med5': 1}   {'med5': 1}   {'med5': 1}   \n",
       "6    {'med6': 1}   {'med6': 1}   {'med6': 1}   {'med6': 1}   {'med6': 1}   \n",
       "7    {'med7': 1}   {'med7': 1}   {'med7': 1}   {'med7': 1}   {'med7': 1}   \n",
       "8    {'med8': 1}   {'med8': 1}   {'med8': 1}   {'med8': 1}   {'med8': 1}   \n",
       "9    {'med9': 2}   {'med9': 2}   {'med9': 2}   {'med9': 2}   {'med9': 2}   \n",
       "10  {'med10': 2}  {'med10': 2}  {'med10': 2}  {'med10': 2}  {'med10': 2}   \n",
       "\n",
       "              15            16            17            18            19  \n",
       "0    {'med0': 0}   {'med0': 1}   {'med0': 0}   {'med0': 1}   {'med0': 0}  \n",
       "1    {'med1': 0}   {'med1': 1}   {'med1': 1}   {'med1': 0}   {'med1': 0}  \n",
       "2    {'med2': 0}   {'med2': 1}   {'med2': 1}   {'med2': 1}   {'med2': 1}  \n",
       "3    {'med3': 0}   {'med3': 1}   {'med3': 1}   {'med3': 1}   {'med3': 1}  \n",
       "4    {'med4': 1}   {'med4': 0}   {'med4': 0}   {'med4': 0}   {'med4': 0}  \n",
       "5    {'med5': 1}   {'med5': 1}   {'med5': 1}   {'med5': 1}   {'med5': 1}  \n",
       "6    {'med6': 1}   {'med6': 1}   {'med6': 1}   {'med6': 1}   {'med6': 1}  \n",
       "7    {'med7': 1}   {'med7': 1}   {'med7': 1}   {'med7': 1}   {'med7': 1}  \n",
       "8    {'med8': 1}   {'med8': 1}   {'med8': 1}   {'med8': 1}   {'med8': 1}  \n",
       "9    {'med9': 2}   {'med9': 2}   {'med9': 2}   {'med9': 2}   {'med9': 2}  \n",
       "10  {'med10': 2}  {'med10': 2}  {'med10': 2}  {'med10': 2}  {'med10': 2}  "
      ]
     },
     "execution_count": 121,
     "metadata": {},
     "output_type": "execute_result"
    }
   ],
   "source": [
    "#Colocar los medicamentos de izquierda a derecha \n",
    "df = createDataframe([2,2,2,2,2,2,2,2,2,3,3])\n",
    "df"
   ]
  },
  {
   "cell_type": "code",
   "execution_count": 7,
   "metadata": {
    "collapsed": false
   },
   "outputs": [
    {
     "data": {
      "text/html": [
       "<div>\n",
       "<table border=\"1\" class=\"dataframe\">\n",
       "  <thead>\n",
       "    <tr style=\"text-align: right;\">\n",
       "      <th></th>\n",
       "      <th>a</th>\n",
       "      <th>b</th>\n",
       "      <th>c</th>\n",
       "      <th>d</th>\n",
       "      <th>e</th>\n",
       "    </tr>\n",
       "  </thead>\n",
       "  <tbody>\n",
       "    <tr>\n",
       "      <th>0</th>\n",
       "      <td>8</td>\n",
       "      <td>2</td>\n",
       "      <td>3</td>\n",
       "      <td>9</td>\n",
       "      <td>1</td>\n",
       "    </tr>\n",
       "    <tr>\n",
       "      <th>1</th>\n",
       "      <td>7</td>\n",
       "      <td>8</td>\n",
       "      <td>7</td>\n",
       "      <td>9</td>\n",
       "      <td>1</td>\n",
       "    </tr>\n",
       "    <tr>\n",
       "      <th>2</th>\n",
       "      <td>2</td>\n",
       "      <td>2</td>\n",
       "      <td>9</td>\n",
       "      <td>1</td>\n",
       "      <td>3</td>\n",
       "    </tr>\n",
       "    <tr>\n",
       "      <th>3</th>\n",
       "      <td>9</td>\n",
       "      <td>3</td>\n",
       "      <td>5</td>\n",
       "      <td>5</td>\n",
       "      <td>7</td>\n",
       "    </tr>\n",
       "    <tr>\n",
       "      <th>4</th>\n",
       "      <td>8</td>\n",
       "      <td>0</td>\n",
       "      <td>3</td>\n",
       "      <td>5</td>\n",
       "      <td>8</td>\n",
       "    </tr>\n",
       "  </tbody>\n",
       "</table>\n",
       "</div>"
      ],
      "text/plain": [
       "   a  b  c  d  e\n",
       "0  8  2  3  9  1\n",
       "1  7  8  7  9  1\n",
       "2  2  2  9  1  3\n",
       "3  9  3  5  5  7\n",
       "4  8  0  3  5  8"
      ]
     },
     "execution_count": 7,
     "metadata": {},
     "output_type": "execute_result"
    }
   ],
   "source": [
    "import pandas as pd\n",
    "import numpy as np\n",
    "df2 = pd.DataFrame(np.random.randint(low=0, high=10, size=(5, 5)),\n",
    "                   columns=['a', 'b', 'c', 'd', 'e'])\n",
    "df2"
   ]
  },
  {
   "cell_type": "code",
   "execution_count": null,
   "metadata": {
    "collapsed": true
   },
   "outputs": [],
   "source": [
    "#Se empieza por atras hacia adelante con ambos casos del primer medicamento\n",
    "#Todos los primeros casos, la presion estara bien baja, por el hecho de tomar 11 medicamentos.\n",
    "#De hecho que tomar 3 a mas ya es bastantes, entonces le pondre lo mas minimo\n",
    "\n",
    "cpt_presion_arterial = TabularCPD(variable='SA_presion_arterial', variable_card=2,\n",
    "                      values=[[0.10,0.10,0.10,0.10,0.10,0.10,0.10,0.10,0.10,0.05,0.05,0.05,0.05,\n",
    "                               0.05,0.05,0.05,0.05,0.05,0.05,0.05,0.05,0.30,0.35,0.30,0.10,0.10,\n",
    "                               0.10,0.10,0.10,0.10,0.10,0.10,0.10,0.10,0.10,0.10,0.10,0.10,0.05,\n",
    "                               0.05,0.05,0.05,0.05,0.05,0.00,0.00,0.00,0.45,0.45,0.45,0.25,0.25,\n",
    "                               0.10,0.10,0.10,0.10,0.10,0.10,0.10,0.10,0.10,0.15,0.15,0.15,0.05,\n",
    "                               0.05,0.05,0.05,0.15,0.30,0.05,0.05,0.30,0.15,0.15,0.34],\n",
    "                              [],\n",
    "                              []],\n",
    "                      evidence=['MR_metropolol','MR_hidroclorothiazida', 'MR_amlodipino',\n",
    "                                'MR_losartan', 'MR_enalapril','MR_furosemida',\n",
    "                                'MR_prazosin','MR_verapamilo','MR_captopril',\n",
    "                                'MR_propanolol','MR_carvedilol'],\n",
    "                      evidence_card=[3,2,2,2,3,2,2,2,2,2,2])"
   ]
  },
  {
   "cell_type": "code",
   "execution_count": 1,
   "metadata": {
    "collapsed": false
   },
   "outputs": [
    {
     "ename": "NameError",
     "evalue": "name 'TabularCPD' is not defined",
     "output_type": "error",
     "traceback": [
      "\u001b[1;31m---------------------------------------------------------------------------\u001b[0m",
      "\u001b[1;31mNameError\u001b[0m                                 Traceback (most recent call last)",
      "\u001b[1;32m<ipython-input-1-0a9691832f1a>\u001b[0m in \u001b[0;36m<module>\u001b[1;34m()\u001b[0m\n\u001b[1;32m----> 1\u001b[1;33m cpt_hidroclorothiazida = TabularCPD(variable='MR_hidroclorothiazida', variable_card=3,\n\u001b[0m\u001b[0;32m      2\u001b[0m                       values=[[0.00,0.00,0.00,0.00,0.00,0.00,0.00,0.34], \n\u001b[0;32m      3\u001b[0m                               \u001b[1;33m[\u001b[0m\u001b[1;36m0.01\u001b[0m\u001b[1;33m,\u001b[0m\u001b[1;36m0.01\u001b[0m\u001b[1;33m,\u001b[0m\u001b[1;36m0.99\u001b[0m\u001b[1;33m,\u001b[0m\u001b[1;36m0.99\u001b[0m\u001b[1;33m,\u001b[0m\u001b[1;36m0.01\u001b[0m\u001b[1;33m,\u001b[0m\u001b[1;36m0.01\u001b[0m\u001b[1;33m,\u001b[0m\u001b[1;36m0.01\u001b[0m\u001b[1;33m,\u001b[0m\u001b[1;36m0.33\u001b[0m\u001b[1;33m]\u001b[0m\u001b[1;33m,\u001b[0m\u001b[1;33m\u001b[0m\u001b[0m\n\u001b[0;32m      4\u001b[0m                               [0.99,0.99,0.01,0.01,0.99,0.99,0.99,0.33]],\n\u001b[0;32m      5\u001b[0m                       evidence=['EP_Diabetes', 'MP_ibuprofeno', 'EP_Gota'], evidence_card=[2,2,2])\n",
      "\u001b[1;31mNameError\u001b[0m: name 'TabularCPD' is not defined"
     ]
    }
   ],
   "source": [
    "#Sintomas resultantes\n",
    "cpt_angina_pecho = TabularCPD(variable='SA_angina_de_pecho', variable_card=2,\n",
    "                      values=[[0.20,0.30,0.30,0.30,0.40,0.70], \n",
    "                              [0.80,0.70,0.70,0.70,0.60,0.30]],\n",
    "                      evidence=['MR_metropolol', 'MR_amlodipino'], \n",
    "                      evidence_card=[3,2])\n",
    "cpt_danho_rinhones = TabularCPD(variable='SA_danho_rinhones', variable_card=2,\n",
    "                      values=[[0.90,0.85,0.85,0.85,0.80,0.80,0.85,0.75,0.75,0.85,0.80,0.80,0.85,\n",
    "                               0.75,0.75,0.80,0.65,0.65,0.80,0.65,0.65,0.80,0.65,0.65,0.75,0.60,\n",
    "                               0.60,0.60,0.55,0.10,0.85,0.80,0.70,0.65,0.75,0.65,0.60,0.70,0.60,\n",
    "                               0.60,0.65,0.55,0.55,0.65,0.60,0.10,0.85,0.75,0.70,0.75,0.65,0.45,\n",
    "                               0.65,0.25,0.05,0.60,0.15,0.10,0.15,0.10,0.05,0.10,0.05,0.01], \n",
    "                              [0.10,0.15,0.15,0.15,0.20,0.20,0.15,0.25,0.25,0.15,0.20,0.20,0.15,\n",
    "                               0.25,0.15,0.20,0.35,0.35,0.20,0.35,0.35,0.20,0.35,0.35,0.25,0.40,\n",
    "                               0.40,0.40,0.45,0.90,0.15,0.20,0.30,0.35,0.25,0.35,0.40,0.30,0.40,\n",
    "                               0.40,0.35,0.45,0.45,0.35,0.40,0.90,0.15,0.25,0.30,0.25,0.35,0.55,\n",
    "                               0.35,0.75,0.95,0.40,0.85,0.90,0.85,0.90,0.95,0.90,0.95,0.99]],\n",
    "                      evidence=['MR_enalapril','MR_losartan','MR_amlodipino',\n",
    "                                'MR_metropolol','MR_hidroclorothiazida'],\n",
    "                      evidence_card=[2,2,2,3,3])\n",
    "cpt_presion_arterial = TabularCPD(variable='SA_presion_arterial', variable_card=2,\n",
    "                      values=[[0.10,0.10,0.10,0.10,0.10,0.10,0.10,0.10,0.10,0.05,0.05,0.05,0.05,\n",
    "                               0.05,0.05,0.05,0.05,0.05,0.05,0.05,0.05,0.30,0.35,0.30,0.10,0.10,\n",
    "                               0.10,0.10,0.10,0.10,0.10,0.10,0.10,0.10,0.10,0.10,0.10,0.10,0.05,\n",
    "                               0.05,0.05,0.05,0.05,0.05,0.00,0.00,0.00,0.45,0.45,0.45,0.25,0.25,\n",
    "                               0.10,0.10,0.10,0.10,0.10,0.10,0.10,0.10,0.10,0.15,0.15,0.15,0.05,\n",
    "                               0.05,0.05,0.05,0.15,0.30,0.05,0.05,0.30,0.15,0.15,0.34],\n",
    "                              [],\n",
    "                              []],\n",
    "                      evidence=['MR_metropolol', 'MR_amlodipino','MR_losartan',\n",
    "                               'MR_enalapril','MR_hidroclorothiazida'],\n",
    "                      evidence_card=[3,2,2,2,3])"
   ]
  },
  {
   "cell_type": "markdown",
   "metadata": {},
   "source": [
    "## Asociando los CPTs con la estructura del modelo\n"
   ]
  },
  {
   "cell_type": "code",
   "execution_count": 5,
   "metadata": {
    "collapsed": true
   },
   "outputs": [],
   "source": [
    "bn.add_cpds(cpt_LastResults, cpt_LastResultsOpponent, cpt_PsychologicalState, cpt_PerformancePlayers, cpt_FinalResult)"
   ]
  },
  {
   "cell_type": "code",
   "execution_count": 18,
   "metadata": {
    "collapsed": true
   },
   "outputs": [],
   "source": [
    "bn.add_cpds(cpt_hidroclorothiazida, cpt_metoprolol, cpt_angina_pecho)"
   ]
  },
  {
   "cell_type": "markdown",
   "metadata": {},
   "source": [
    "## Chequeando consistencia de la Red Bayesiana\n",
    "Chequea que todos los CPTs sean válidos para el modelo"
   ]
  },
  {
   "cell_type": "code",
   "execution_count": 19,
   "metadata": {
    "collapsed": false
   },
   "outputs": [
    {
     "ename": "ValueError",
     "evalue": "No CPD associated with MR_enalapril",
     "output_type": "error",
     "traceback": [
      "\u001b[1;31m---------------------------------------------------------------------------\u001b[0m",
      "\u001b[1;31mValueError\u001b[0m                                Traceback (most recent call last)",
      "\u001b[1;32m<ipython-input-19-e3c80c75be0e>\u001b[0m in \u001b[0;36m<module>\u001b[1;34m()\u001b[0m\n\u001b[1;32m----> 1\u001b[1;33m \u001b[0mbn\u001b[0m\u001b[1;33m.\u001b[0m\u001b[0mcheck_model\u001b[0m\u001b[1;33m(\u001b[0m\u001b[1;33m)\u001b[0m\u001b[1;33m\u001b[0m\u001b[0m\n\u001b[0m",
      "\u001b[1;32m/home/lourdes/anaconda3/lib/python3.5/site-packages/pgmpy/models/BayesianModel.py\u001b[0m in \u001b[0;36mcheck_model\u001b[1;34m(self)\u001b[0m\n\u001b[0;32m    349\u001b[0m \u001b[1;33m\u001b[0m\u001b[0m\n\u001b[0;32m    350\u001b[0m             \u001b[1;32mif\u001b[0m \u001b[0mcpd\u001b[0m \u001b[1;32mis\u001b[0m \u001b[1;32mNone\u001b[0m\u001b[1;33m:\u001b[0m\u001b[1;33m\u001b[0m\u001b[0m\n\u001b[1;32m--> 351\u001b[1;33m                 \u001b[1;32mraise\u001b[0m \u001b[0mValueError\u001b[0m\u001b[1;33m(\u001b[0m\u001b[1;34m'No CPD associated with {}'\u001b[0m\u001b[1;33m.\u001b[0m\u001b[0mformat\u001b[0m\u001b[1;33m(\u001b[0m\u001b[0mnode\u001b[0m\u001b[1;33m)\u001b[0m\u001b[1;33m)\u001b[0m\u001b[1;33m\u001b[0m\u001b[0m\n\u001b[0m\u001b[0;32m    352\u001b[0m             \u001b[1;32melif\u001b[0m \u001b[0misinstance\u001b[0m\u001b[1;33m(\u001b[0m\u001b[0mcpd\u001b[0m\u001b[1;33m,\u001b[0m \u001b[0mTabularCPD\u001b[0m\u001b[1;33m)\u001b[0m\u001b[1;33m:\u001b[0m\u001b[1;33m\u001b[0m\u001b[0m\n\u001b[0;32m    353\u001b[0m                 \u001b[0mevidence\u001b[0m \u001b[1;33m=\u001b[0m \u001b[0mcpd\u001b[0m\u001b[1;33m.\u001b[0m\u001b[0mvariables\u001b[0m\u001b[1;33m[\u001b[0m\u001b[1;33m:\u001b[0m\u001b[1;36m0\u001b[0m\u001b[1;33m:\u001b[0m\u001b[1;33m-\u001b[0m\u001b[1;36m1\u001b[0m\u001b[1;33m]\u001b[0m\u001b[1;33m\u001b[0m\u001b[0m\n",
      "\u001b[1;31mValueError\u001b[0m: No CPD associated with MR_enalapril"
     ]
    }
   ],
   "source": [
    "bn.check_model()"
   ]
  },
  {
   "cell_type": "markdown",
   "metadata": {},
   "source": [
    "## Haciendo inferencias en la RB con algoritmo VariableElimination \n"
   ]
  },
  {
   "cell_type": "markdown",
   "metadata": {},
   "source": [
    "Vamos a preguntar a la RB con el algoritmo ** VariableElimination ** Cuál es la distribucion de \"B\" (Burglary) habiendo obsevado que \"J\" y \"M\" son true (John y Mary llaman)  "
   ]
  },
  {
   "cell_type": "code",
   "execution_count": 7,
   "metadata": {
    "collapsed": true
   },
   "outputs": [],
   "source": [
    "from pgmpy.inference import VariableElimination"
   ]
  },
  {
   "cell_type": "code",
   "execution_count": 8,
   "metadata": {
    "collapsed": true
   },
   "outputs": [],
   "source": [
    "bn_inference = VariableElimination(bn)"
   ]
  },
  {
   "cell_type": "code",
   "execution_count": 10,
   "metadata": {
    "collapsed": false
   },
   "outputs": [
    {
     "name": "stdout",
     "output_type": "stream",
     "text": [
      "╒═══════════════╤════════════════════╕\n",
      "│ LastResults   │   phi(LastResults) │\n",
      "╞═══════════════╪════════════════════╡\n",
      "│ LastResults_0 │             0.3917 │\n",
      "├───────────────┼────────────────────┤\n",
      "│ LastResults_1 │             0.6083 │\n",
      "╘═══════════════╧════════════════════╛\n"
     ]
    }
   ],
   "source": [
    "q = bn_inference.query(variables=['LastResults'], evidence={'FinalResult':0})\n",
    "print(q['LastResults'])"
   ]
  },
  {
   "cell_type": "code",
   "execution_count": 11,
   "metadata": {
    "collapsed": false
   },
   "outputs": [
    {
     "ename": "TypeError",
     "evalue": "'NoneType' object is not callable",
     "output_type": "error",
     "traceback": [
      "\u001b[1;31m---------------------------------------------------------------------------\u001b[0m",
      "\u001b[1;31mTypeError\u001b[0m                                 Traceback (most recent call last)",
      "\u001b[1;32m<ipython-input-11-7cb42bb152ce>\u001b[0m in \u001b[0;36m<module>\u001b[1;34m()\u001b[0m\n\u001b[1;32m----> 1\u001b[1;33m \u001b[0mbn_inference\u001b[0m\u001b[1;33m.\u001b[0m\u001b[0mstate_names\u001b[0m\u001b[1;33m(\u001b[0m\u001b[1;33m)\u001b[0m\u001b[1;33m\u001b[0m\u001b[0m\n\u001b[0m",
      "\u001b[1;31mTypeError\u001b[0m: 'NoneType' object is not callable"
     ]
    }
   ],
   "source": [
    "bn_inference.state_names()"
   ]
  },
  {
   "cell_type": "markdown",
   "metadata": {},
   "source": [
    "## Obteniendo las independencias Condicionales implicadas en la RB  "
   ]
  },
  {
   "cell_type": "code",
   "execution_count": 1,
   "metadata": {
    "collapsed": false
   },
   "outputs": [
    {
     "ename": "NameError",
     "evalue": "name 'bn' is not defined",
     "output_type": "error",
     "traceback": [
      "\u001b[1;31m---------------------------------------------------------------------------\u001b[0m",
      "\u001b[1;31mNameError\u001b[0m                                 Traceback (most recent call last)",
      "\u001b[1;32m<ipython-input-1-a3f10b81bdca>\u001b[0m in \u001b[0;36m<module>\u001b[1;34m()\u001b[0m\n\u001b[1;32m----> 1\u001b[1;33m \u001b[0mbn\u001b[0m\u001b[1;33m.\u001b[0m\u001b[0mget_independencies\u001b[0m\u001b[1;33m(\u001b[0m\u001b[1;33m)\u001b[0m\u001b[1;33m\u001b[0m\u001b[0m\n\u001b[0m",
      "\u001b[1;31mNameError\u001b[0m: name 'bn' is not defined"
     ]
    }
   ],
   "source": [
    "bn.get_independencies()"
   ]
  },
  {
   "cell_type": "code",
   "execution_count": null,
   "metadata": {
    "collapsed": true
   },
   "outputs": [],
   "source": []
  }
 ],
 "metadata": {
  "kernelspec": {
   "display_name": "Python [anaconda3]",
   "language": "python",
   "name": "Python [anaconda3]"
  },
  "language_info": {
   "codemirror_mode": {
    "name": "ipython",
    "version": 3
   },
   "file_extension": ".py",
   "mimetype": "text/x-python",
   "name": "python",
   "nbconvert_exporter": "python",
   "pygments_lexer": "ipython3",
   "version": "3.5.2"
  }
 },
 "nbformat": 4,
 "nbformat_minor": 2
}
