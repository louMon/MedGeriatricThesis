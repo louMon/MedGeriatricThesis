{
 "cells": [
  {
   "cell_type": "markdown",
   "metadata": {},
   "source": [
    "# Red Bayesiana para predecir la combinacion de medicamentos mas adecuada en pacientes geriatricos\n",
    "El objetivo del presente proyecto es poder crear una red Bayesiana, la cual modele probabilisticamente un dominio para predicción de medicamentos para diversas patologias y segun la naturaleza del paciente. \n",
    "A continuacion, se muestran algunas de las variables aleatórias involucradas en el dominio\n",
    "\n",
    "## Variables destinadas a los antecedentes del paciente geriatrico\n",
    "\n",
    "<b>EP_Insuficiencia_Cardiaca</b>: Background o Antecedentes de enfermedades de los pacientes geriatricos(Presente, Ausente)\n",
    "\n",
    "<b>EP_Asma_Bronquial</b>: Background o Antecedentes de enfermedades de los pacientes geriatricos. (Presente, Ausente)\n",
    "\n",
    "<b>EP_Diabetes</b>: Background o Antecedentes de enfermedades de los pacientes geriatricos. (Presente,Ausente)\n",
    "\n",
    "<b>EP_Gota</b>: Background o Antecedentes de enfermedades de los pacientes geriatricos. (Presente,Ausente)\n",
    "\n",
    "<b>MP_Ibuprofeno</b>: Background o Antecedentes de los medicamentos que consumen los pacientes geriatricos. (Prescrito,No Prescrito)\n",
    "\n",
    "## Variables destinadas a los posibles medicamentos a recetar\n",
    "\n",
    "<b>MR_metropolol</b>: Metropolol (Prescribir Normal, Prescribir condicion Diabetes, No Prescribir)\n",
    "\n",
    "!!!!<b>MR_hidroclorothiazida</b>: Hidroclorothiazida (Prescribir Normal, Prescribir condicion Diabetes, No Prescribir)\n",
    "\n",
    "<b>MR_amlodipino</b>: Amlodipino (Prescribir, No Prescribir)\n",
    "\n",
    "<b>MR_losartan</b>: Losartan (Prescribir, No Prescribir)\n",
    "\n",
    "<b>MR_enalapril</b>: Enalapril (Prescribir, No Prescribir)\n",
    "\n",
    "<b>MR_furosemida</b>: Furosemida (Prescribir, No Prescribir)\n",
    "\n",
    "<b>MR_prazosin</b>: Prazosin (Prescribir, No Prescribir)\n",
    "\n",
    "<b>MR_verapamilo</b>: Verapamilo (Prescribir, No Prescribir)\n",
    "\n",
    "<b>MR_propanolol</b>: Propanolol (Prescribir, No Prescribir)\n",
    "\n",
    "<b>MR_carvedilol</b>: Carvedilol (Prescribir, No Prescribir)\n",
    "\n",
    "\n",
    "## Variables destinadas a los sintomas y efectos secundarios resultantes\n",
    "\n",
    "<b>SA_angina_de_pecho</b>: Angina de Pecho (Presente, Ausente)\n",
    "\n",
    "<b>SA_presion_arterial</b>: Presion arterial (Alta, Normal,Baja)\n",
    "\n",
    "<b>SA_danho_rinhones</b>: Danho en Rinhones (Presente, Ausente)\n"
   ]
  },
  {
   "cell_type": "code",
   "execution_count": 1,
   "metadata": {
    "collapsed": false
   },
   "outputs": [],
   "source": [
    "from pgmpy.models import BayesianModel\n",
    "from pgmpy.factors.discrete import TabularCPD\n",
    "from pgmpy.inference import BeliefPropagation\n",
    "from pgmpy.factors.discrete import DiscreteFactor\n",
    "\n",
    "from utils import *\n",
    "import pandas as pd\n",
    "import numpy as np\n"
   ]
  },
  {
   "cell_type": "markdown",
   "metadata": {},
   "source": [
    "\n",
    "# Creacion de la tabla de verdad que brinda evidencia de los medicamentos hacia algun sintoma\n",
    "\n"
   ]
  },
  {
   "cell_type": "markdown",
   "metadata": {},
   "source": [
    "Base: Numero que indica la cantidad a repetirse\n",
    "\n",
    "Por ejemplo:\n",
    "\n",
    "- tamanho base 4: [ 1 1 0 0 ]               \n",
    "\n",
    "- tamanho base 8: [ 1 1 1 1 0 0 0 0]      \n",
    "\n",
    "- tamanho base 6: [ 2 2 1 1 0 0]       "
   ]
  },
  {
   "cell_type": "markdown",
   "metadata": {},
   "source": [
    "# Seteo de probabilidades\n",
    "\n",
    "<b>Combinaciones de 4 a mas medicamentos:</b> La probabilidad de la presencia del sintoma es muy alta\n",
    "\n",
    "<b>Combinaciones entre 2 a 3:</b> La probabilidad de la ausencia del sintoma variara de acuerdo a la efectividad del medicamento y a la naturaleza del paciente\n",
    "\n",
    "<b>Solo un medicamento: </b> La probabilidad de la ausencia del sintoma variara de acuerdo a la efectividad del medicamento y a la naturaleza del paciente"
   ]
  },
  {
   "cell_type": "markdown",
   "metadata": {},
   "source": [
    "# Aplicando lo realizado anteriormente"
   ]
  },
  {
   "cell_type": "markdown",
   "metadata": {},
   "source": [
    "## Variable Metoprolol"
   ]
  },
  {
   "cell_type": "code",
   "execution_count": 2,
   "metadata": {
    "collapsed": true
   },
   "outputs": [],
   "source": [
    "arrStateEvidence    = [2,2,2]\n",
    "arrVariableEvidence = ['EP_Asma_Bronquial','EP_Diabetes', 'EP_Insuficiencia_Cardiaca']\n",
    "arrSingleProbabilisticEvidence =[[0,0.10,0.90],[0.20,0.65,0.15],[0.50,0.35,0.15]]\n",
    "arrStateVarible  = ['Prescribir_Normal', 'Prescribir_Bajas_Dosis', 'No_Prescribir']\n",
    "arrProbabilistic = [0.00,0.01,0.99]"
   ]
  },
  {
   "cell_type": "code",
   "execution_count": 3,
   "metadata": {
    "collapsed": false
   },
   "outputs": [],
   "source": [
    "values_metoprolol = generateProbabilisticList(arrStateEvidence, arrVariableEvidence,arrSingleProbabilisticEvidence,arrStateVarible, arrProbabilistic)"
   ]
  },
  {
   "cell_type": "code",
   "execution_count": null,
   "metadata": {
    "collapsed": false
   },
   "outputs": [],
   "source": [
    "values_metoprolol"
   ]
  },
  {
   "cell_type": "markdown",
   "metadata": {},
   "source": [
    "## Variable Hidroclorothiazida"
   ]
  },
  {
   "cell_type": "markdown",
   "metadata": {},
   "source": [
    "** Para el caso de un medicamento hacia una patologia, se debera cambiar la forma con se interactuan**"
   ]
  },
  {
   "cell_type": "code",
   "execution_count": 4,
   "metadata": {
    "collapsed": true
   },
   "outputs": [],
   "source": [
    "arrStateEvidence    = [2,2,2]\n",
    "arrVariableEvidence = ['EP_Diabetes', 'EP_Gota', 'MP_ibuprofeno']\n",
    "arrSingleProbabilisticEvidence =[[0,0.80,0.20],[0.20,0.70,0.10],[0.05,0.15,0.80]]\n",
    "arrStateVarible  = ['Prescribir_Normal', 'Prescribir_Bajas_Dosis', 'No_Prescribir']\n",
    "arrProbabilistic = [0.00,0.01,0.99]"
   ]
  },
  {
   "cell_type": "code",
   "execution_count": 5,
   "metadata": {
    "collapsed": true
   },
   "outputs": [],
   "source": [
    "values_hidroclorothiazida = generateProbabilisticList(arrStateEvidence, arrVariableEvidence,arrSingleProbabilisticEvidence,arrStateVarible, arrProbabilistic)"
   ]
  },
  {
   "cell_type": "code",
   "execution_count": null,
   "metadata": {
    "collapsed": false
   },
   "outputs": [],
   "source": [
    "values_hidroclorothiazida"
   ]
  },
  {
   "cell_type": "markdown",
   "metadata": {},
   "source": [
    "## Variable Angina"
   ]
  },
  {
   "cell_type": "code",
   "execution_count": 6,
   "metadata": {
    "collapsed": true
   },
   "outputs": [],
   "source": [
    "arrStateEvidence    = [2,2,3]\n",
    "arrVariableEvidence = ['MR_amlodipino', 'MR_losartan', 'MR_metropolol']\n",
    "arrSingleProbabilisticEvidence =[[0.20,0.80],[0.70,0.30],[0.40,0.60]]\n",
    "arrStateVarible  = ['Presente', 'Ausente']\n",
    "arrProbabilistic = [0.30,0.70]"
   ]
  },
  {
   "cell_type": "code",
   "execution_count": 7,
   "metadata": {
    "collapsed": true
   },
   "outputs": [],
   "source": [
    "values_angina = generateProbabilisticList(arrStateEvidence, arrVariableEvidence,arrSingleProbabilisticEvidence, arrStateVarible, arrProbabilistic)"
   ]
  },
  {
   "cell_type": "code",
   "execution_count": null,
   "metadata": {
    "collapsed": false
   },
   "outputs": [],
   "source": [
    "values_angina"
   ]
  },
  {
   "cell_type": "markdown",
   "metadata": {},
   "source": [
    "## Variable Presion_Arterial"
   ]
  },
  {
   "cell_type": "code",
   "execution_count": 28,
   "metadata": {
    "collapsed": true
   },
   "outputs": [],
   "source": [
    "arrStateEvidence    = [2,2,2,2,2,2,3,2,2,2]\n",
    "arrVariableEvidence = ['MR_amlodipino','MR_captopril' ,'MR_carvedilol','MR_enalapril','MR_furosemida','MR_losartan','MR_metropolol','MR_prazosin','MR_propanolol','MR_verapamilo']\n",
    "arrSingleProbabilisticEvidence =[[0.20,0.70,0.10],[0.10,0.80,0.10],[0.05,0.85,0.10],[0.10,0.75,0.15],[0.25,0.75,0.00],[0.10,0.80,0.10],[0.05,0.95,0.00],[0.20,0.75,0.05],[0.15,0.80,0.05],[0.10,0.80,0.10]]\n",
    "arrStateVarible  = ['Alta','Normal','Baja']\n",
    "arrProbabilistic = [0.33,0.34,0.33]"
   ]
  },
  {
   "cell_type": "code",
   "execution_count": 29,
   "metadata": {
    "collapsed": false
   },
   "outputs": [],
   "source": [
    "values_presion_arterial = generateProbabilisticList(arrStateEvidence, arrVariableEvidence,arrSingleProbabilisticEvidence,arrStateVarible, arrProbabilistic)"
   ]
  },
  {
   "cell_type": "code",
   "execution_count": null,
   "metadata": {
    "collapsed": false
   },
   "outputs": [],
   "source": [
    "print(values_presion_arterial)"
   ]
  },
  {
   "cell_type": "markdown",
   "metadata": {},
   "source": [
    "## Variable Danho en Rinhones "
   ]
  },
  {
   "cell_type": "code",
   "execution_count": 19,
   "metadata": {
    "collapsed": true
   },
   "outputs": [],
   "source": [
    "\n",
    "arrStateEvidence    = [2,2,2,2,2,2,3,2,2,2]\n",
    "arrVariableEvidence =           ['MR_amlodipino','MR_captopril','MR_carvedilol','MR_enalapril','MR_furosemida','MR_losartan', 'MR_metropolol','MR_prazosin', 'MR_propanolol','MR_verapamilo']\n",
    "arrSingleProbabilisticEvidence =[[0.20,0.80]    ,[0.40,0.60]   ,[0.10,0.90]    ,[0.35,0.65]   , [0.30,0.70]   ,[0.32,0.68]  ,[0.25,0.75]     ,[0.30,0.70]  ,  [0.45,0.55]     ,[0.60,0.40]]\n",
    "arrStateVarible  = ['Presente', 'Ausente']\n",
    "arrProbabilistic = [0.75,0.25]"
   ]
  },
  {
   "cell_type": "code",
   "execution_count": 10,
   "metadata": {
    "collapsed": true
   },
   "outputs": [],
   "source": [
    "\n",
    "arrStateEvidence    = [2,2,2,2,2,3,2,3,2,2,2]\n",
    "arrVariableEvidence =           ['MR_amlodipino','MR_captopril','MR_carvedilol','MR_enalapril','MR_furosemida','MR_hidroclorothiazida','MR_losartan', 'MR_metropolol','MR_prazosin', 'MR_propanolol','MR_verapamilo']\n",
    "arrSingleProbabilisticEvidence =[[0.20,0.80]    ,[0.40,0.60]   ,[0.10,0.90]    ,[0.35,0.65]   , [0.30,0.70]   , [0.60,0.40]         ,[0.32,0.68]  ,[0.25,0.75]     ,[0.30,0.70]  ,  [0.45,0.55]     ,[0.60,0.40]]\n",
    "arrStateVarible  = ['Presente', 'Ausente']\n",
    "arrProbabilistic = [0.75,0.25]"
   ]
  },
  {
   "cell_type": "code",
   "execution_count": 20,
   "metadata": {
    "collapsed": false
   },
   "outputs": [],
   "source": [
    "values_danho_rinhones = generateProbabilisticList(arrStateEvidence, arrVariableEvidence,arrSingleProbabilisticEvidence, arrStateVarible, arrProbabilistic)"
   ]
  },
  {
   "cell_type": "code",
   "execution_count": null,
   "metadata": {
    "collapsed": false
   },
   "outputs": [],
   "source": [
    "print(values_danho_rinhones)"
   ]
  },
  {
   "cell_type": "markdown",
   "metadata": {},
   "source": [
    "# Creando la estructura de la RB"
   ]
  },
  {
   "cell_type": "code",
   "execution_count": 30,
   "metadata": {
    "collapsed": false
   },
   "outputs": [],
   "source": [
    "bn0 = BayesianModel([('EP_Insuficiencia_Cardiaca', 'MR_metropolol'),              \n",
    "                    ('EP_Asma_Bronquial'         , 'MR_metropolol'), \n",
    "                    ('EP_Diabetes'               , 'MR_metropolol'), \n",
    "                    ('EP_Diabetes'  , 'MR_hidroclorothiazida'), \n",
    "                    ('MP_ibuprofeno', 'MR_hidroclorothiazida'), \n",
    "                    ('EP_Gota'      , 'MR_hidroclorothiazida'), \n",
    "                    ('MR_metropolol', 'SA_angina_de_pecho'),\n",
    "                    ('MR_metropolol', 'SA_danho_rinhones'),\n",
    "                    ('MR_metropolol', 'SA_presion_arterial'),\n",
    "                    #('MR_hidroclorothiazida', 'SA_danho_rinhones'),\n",
    "                    #('MR_hidroclorothiazida', 'SA_presion_arterial'),\n",
    "                    ('MR_amlodipino', 'SA_angina_de_pecho'),\n",
    "                    ('MR_amlodipino', 'SA_danho_rinhones'),\n",
    "                    ('MR_amlodipino', 'SA_presion_arterial'),\n",
    "                    ('MR_losartan'  , 'SA_angina_de_pecho'),\n",
    "                    ('MR_losartan'  , 'SA_danho_rinhones'),\n",
    "                    ('MR_losartan'  , 'SA_presion_arterial'),\n",
    "                    ('MR_enalapril' , 'SA_danho_rinhones'),\n",
    "                    ('MR_enalapril' , 'SA_presion_arterial'),\n",
    "                    ('MR_furosemida', 'SA_presion_arterial'),\n",
    "                    ('MR_furosemida', 'SA_danho_rinhones'),\n",
    "                    ('MR_prazosin'  , 'SA_presion_arterial'),\n",
    "                    ('MR_prazosin'  , 'SA_danho_rinhones'),\n",
    "                    ('MR_verapamilo', 'SA_presion_arterial'),\n",
    "                    ('MR_verapamilo', 'SA_danho_rinhones'),\n",
    "                    ('MR_captopril', 'SA_presion_arterial'),\n",
    "                    ('MR_captopril', 'SA_danho_rinhones'),\n",
    "                    ('MR_propanolol', 'SA_presion_arterial'),\n",
    "                    ('MR_propanolol', 'SA_danho_rinhones'),\n",
    "                    ('MR_carvedilol', 'SA_presion_arterial'),\n",
    "                    ('MR_carvedilol', 'SA_danho_rinhones')\n",
    "                    ])"
   ]
  },
  {
   "cell_type": "markdown",
   "metadata": {},
   "source": [
    "# Definiendo los parametros del modelo (CPTs)\n",
    "En pgmpy las columnas son los valores de los padres (evidencias) y las filas son los estados de las variables "
   ]
  },
  {
   "cell_type": "code",
   "execution_count": 31,
   "metadata": {
    "collapsed": false
   },
   "outputs": [],
   "source": [
    "#Antecendentes de los pacientes geriatricos\n",
    "\n",
    "cpt_Insuficiencia_Cardiaca = TabularCPD('EP_Insuficiencia_Cardiaca', 2, [[0.5], [0.5]])\n",
    "cpt_Asma_Bronquial = TabularCPD('EP_Asma_Bronquial', 2, [[0.5], [0.5]])\n",
    "cpt_Diabetes= TabularCPD('EP_Diabetes', 2,[[0.5], [0.5]])\n",
    "cpt_Ibuprofeno= TabularCPD('MP_ibuprofeno',2, [[0.5], [0.5]])\n",
    "cpt_Gota= TabularCPD('EP_Gota', 2, [[0.5], [0.5]])"
   ]
  },
  {
   "cell_type": "code",
   "execution_count": 32,
   "metadata": {
    "collapsed": false
   },
   "outputs": [],
   "source": [
    "#Medicamentos a recetar\n",
    "\n",
    "cpt_metoprolol = TabularCPD('MR_metropolol', 3, values_metoprolol, evidence= ['EP_Asma_Bronquial','EP_Diabetes','EP_Insuficiencia_Cardiaca'],evidence_card=[2,2,2])\n",
    "cpt_hidroclorothiazida = TabularCPD('MR_hidroclorothiazida', 3,values_hidroclorothiazida,evidence=['EP_Diabetes','EP_Gota','MP_ibuprofeno'],evidence_card=[2,2,2])\n",
    "cpt_amlodipino = TabularCPD('MR_amlodipino', 2,[[0.5], [0.5]])\n",
    "cpt_losartan   = TabularCPD('MR_losartan'  , 2,[[0.5], [0.5]])\n",
    "cpt_enalapril  = TabularCPD('MR_enalapril' , 2,[[0.5], [0.5]])\n",
    "cpt_furosemida = TabularCPD('MR_furosemida', 2,[[0.5], [0.5]])\n",
    "cpt_prazosin   = TabularCPD('MR_prazosin'  , 2,[[0.5], [0.5]])\n",
    "cpt_verapamilo = TabularCPD('MR_verapamilo', 2,[[0.5], [0.5]])\n",
    "cpt_captopril  = TabularCPD('MR_captopril' , 2,[[0.5], [0.5]])\n",
    "cpt_propanolol = TabularCPD('MR_propanolol', 2,[[0.5], [0.5]])\n",
    "cpt_carvedilol = TabularCPD('MR_carvedilol', 2,[[0.5], [0.5]])\n",
    "\n"
   ]
  },
  {
   "cell_type": "code",
   "execution_count": 33,
   "metadata": {
    "collapsed": false
   },
   "outputs": [],
   "source": [
    "#Sintomas resultantes\n",
    "cpt_angina_pecho     = TabularCPD('SA_angina_de_pecho' ,2,values_angina    ,['MR_amlodipino','MR_losartan','MR_metropolol'], [2,2,3])\n",
    "cpt_danho_rinhones   = TabularCPD('SA_danho_rinhones'  ,2,values_danho_rinhones  ,['MR_amlodipino','MR_enalapril','MR_captopril' ,'MR_carvedilol','MR_furosemida','MR_losartan','MR_metropolol','MR_prazosin','MR_propanolol','MR_verapamilo'],[2,2,2,2,2,2,3,2,2,2])\n",
    "cpt_presion_arterial = TabularCPD('SA_presion_arterial',3,values_presion_arterial,['MR_amlodipino','MR_enalapril','MR_captopril' ,'MR_carvedilol','MR_furosemida','MR_losartan','MR_metropolol','MR_prazosin','MR_propanolol','MR_verapamilo'],[2,2,2,2,2,2,3,2,2,2])"
   ]
  },
  {
   "cell_type": "markdown",
   "metadata": {},
   "source": [
    "## Asociando los CPTs con la estructura del modelo\n"
   ]
  },
  {
   "cell_type": "code",
   "execution_count": 34,
   "metadata": {
    "collapsed": false
   },
   "outputs": [],
   "source": [
    "bn0.add_cpds(cpt_Insuficiencia_Cardiaca, cpt_Asma_Bronquial, cpt_Diabetes, cpt_Ibuprofeno, cpt_Gota,\n",
    "             cpt_metoprolol, cpt_amlodipino,  cpt_hidroclorothiazida,cpt_enalapril,cpt_furosemida, cpt_losartan ,cpt_propanolol,\n",
    "             cpt_prazosin, cpt_verapamilo, cpt_captopril,cpt_carvedilol, cpt_angina_pecho, cpt_danho_rinhones, cpt_presion_arterial)"
   ]
  },
  {
   "cell_type": "markdown",
   "metadata": {},
   "source": [
    "## Chequeando consistencia de la Red Bayesiana\n",
    "Chequea que todos los CPTs sean válidos para el modelo"
   ]
  },
  {
   "cell_type": "code",
   "execution_count": 35,
   "metadata": {
    "collapsed": false
   },
   "outputs": [
    {
     "data": {
      "text/plain": [
       "True"
      ]
     },
     "execution_count": 35,
     "metadata": {},
     "output_type": "execute_result"
    }
   ],
   "source": [
    "bn0.check_model()"
   ]
  },
  {
   "cell_type": "markdown",
   "metadata": {},
   "source": [
    "## Haciendo inferencias en la RB con algoritmo BeliefPropagation\n"
   ]
  },
  {
   "cell_type": "markdown",
   "metadata": {},
   "source": [
    "Vamos a preguntar a la RB con el algoritmo ** VariableElimination ** Cuál es la distribucion de \"B\" (Burglary) habiendo obsevado que \"J\" y \"M\" son true (John y Mary llaman)  "
   ]
  },
  {
   "cell_type": "code",
   "execution_count": 18,
   "metadata": {
    "collapsed": false
   },
   "outputs": [
    {
     "data": {
      "text/plain": [
       "pgmpy.models.BayesianModel.BayesianModel"
      ]
     },
     "execution_count": 18,
     "metadata": {},
     "output_type": "execute_result"
    }
   ],
   "source": [
    "type(bn0)"
   ]
  },
  {
   "cell_type": "code",
   "execution_count": 67,
   "metadata": {
    "collapsed": false,
    "scrolled": true
   },
   "outputs": [],
   "source": [
    "bp = BeliefPropagation(bn0)"
   ]
  },
  {
   "cell_type": "code",
   "execution_count": 42,
   "metadata": {
    "collapsed": true
   },
   "outputs": [],
   "source": [
    "bp.calibrate()"
   ]
  },
  {
   "cell_type": "code",
   "execution_count": 68,
   "metadata": {
    "collapsed": false
   },
   "outputs": [],
   "source": [
    "phi = bp.query(variables=['SA_danho_rinhones','SA_presion_arterial'], \n",
    "                            evidence={'EP_Insuficiencia_Cardiaca':1, 'EP_Asma_Bronquial':1, 'EP_Diabetes':1, \n",
    "                                      'MR_metropolol':1, 'MR_amlodipino':0,'MR_enalapril':0,'MR_captopril':0,\n",
    "                                      'MR_carvedilol':0,'MR_furosemida': 0,'MR_hidroclorothiazida':0,'MR_losartan':0,\n",
    "                                      'MR_prazosin':0,'MR_propanolol':0,'MR_verapamilo':0})"
   ]
  },
  {
   "cell_type": "code",
   "execution_count": 50,
   "metadata": {
    "collapsed": false
   },
   "outputs": [],
   "source": [
    "array =phi['SA_presion_arterial'].values"
   ]
  },
  {
   "cell_type": "code",
   "execution_count": 80,
   "metadata": {
    "collapsed": false
   },
   "outputs": [
    {
     "data": {
      "text/plain": [
       "0.33000000000000002"
      ]
     },
     "execution_count": 80,
     "metadata": {},
     "output_type": "execute_result"
    }
   ],
   "source": [
    "array[0]"
   ]
  },
  {
   "cell_type": "code",
   "execution_count": null,
   "metadata": {
    "collapsed": true
   },
   "outputs": [],
   "source": [
    "def formSingleProbability(arrState, arrProbability):\n",
    "    probability_string=\"\"\n",
    "    dicc = {}\n",
    "    for idx,val in enumerate(arrState):\n",
    "        dicc[val] = [arrProbability[idx]]\n",
    "    return dicc"
   ]
  },
  {
   "cell_type": "code",
   "execution_count": 76,
   "metadata": {
    "collapsed": false
   },
   "outputs": [
    {
     "name": "stdout",
     "output_type": "stream",
     "text": [
      "{'EP_Insuficiencia_Cardiaca': 1, 'MR_metropolol': 1, 'MR_amlodipino': 0, 'MR_enalapril': 0}\n"
     ]
    }
   ],
   "source": [
    "print(createEvidence({'MR_metropolol':1, 'MR_amlodipino':0,'MR_enalapril':0},{'EP_Insuficiencia_Cardiaca':1}))"
   ]
  },
  {
   "cell_type": "code",
   "execution_count": 75,
   "metadata": {
    "collapsed": true
   },
   "outputs": [],
   "source": [
    "def createEvidence(dicc1, dicc2):\n",
    "    evidence = dicc1.copy()\n",
    "    evidence.update(dicc2)\n",
    "    return evidence"
   ]
  },
  {
   "cell_type": "code",
   "execution_count": 96,
   "metadata": {
    "collapsed": false
   },
   "outputs": [],
   "source": [
    "#Le paso la red bayesiana o ya propagada?\n",
    "#bp = beliefPropagation(bn)\n",
    "#arrProb es el arreglo de la probabilidad de ausencia del sintoma o efecto resultante\n",
    "\n",
    "def fitnessFunction(diccBackground, diccMedicines, arrSymtopm, arrEfects, arrWeight,bp):\n",
    "\n",
    "    mergeSymEff = arrSymtopm + arrEfects\n",
    "    evidence = createEvidence(diccBackground,diccMedicines)   \n",
    "    phi = bp.query(variables=mergeSymEff, evidence = evidence)\n",
    "    sumAbsen = 0\n",
    "    sumTotal = 0\n",
    "    for i,val in enumerate(mergeSymEff):\n",
    "        arrProb = phi[val].values\n",
    "        large = len(arrProb)\n",
    "        sumAbsen += arrProb[large-1]*arrWeight[i]\n",
    "        sumTotal += 1*arrWeight[i]\n",
    "    score = sumAbsen / sumTotal\n",
    "    return score\n",
    "    #Se busca maximizar la ausencia\n",
    "           "
   ]
  },
  {
   "cell_type": "code",
   "execution_count": 97,
   "metadata": {
    "collapsed": false
   },
   "outputs": [],
   "source": [
    "score = fitnessFunction({'EP_Insuficiencia_Cardiaca':0},{'MR_metropolol':1, 'MR_amlodipino':0,'MR_enalapril':0},\n",
    "                 ['SA_presion_arterial','SA_angina_de_pecho'],['SA_danho_rinhones'],[1,1,1],bp )"
   ]
  }
 ],
 "metadata": {
  "anaconda-cloud": {},
  "kernelspec": {
   "display_name": "Python [anaconda3]",
   "language": "python",
   "name": "Python [anaconda3]"
  },
  "language_info": {
   "codemirror_mode": {
    "name": "ipython",
    "version": 3
   },
   "file_extension": ".py",
   "mimetype": "text/x-python",
   "name": "python",
   "nbconvert_exporter": "python",
   "pygments_lexer": "ipython3",
   "version": "3.5.2"
  }
 },
 "nbformat": 4,
 "nbformat_minor": 2
}
