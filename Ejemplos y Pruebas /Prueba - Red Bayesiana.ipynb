{
 "cells": [
  {
   "cell_type": "code",
   "execution_count": 1,
   "metadata": {
    "collapsed": true
   },
   "outputs": [],
   "source": [
    "from pgmpy.models import BayesianModel\n",
    "from pgmpy.factors.discrete import TabularCPD\n",
    "from pgmpy.inference import BeliefPropagation\n",
    "from pgmpy.factors.discrete import DiscreteFactor\n",
    "from utils import *\n",
    "import pandas as pd\n",
    "import numpy as np\n"
   ]
  },
  {
   "cell_type": "code",
   "execution_count": null,
   "metadata": {
    "collapsed": true
   },
   "outputs": [],
   "source": [
    "arrStateEvidence    = [2,2,2,2,2,3,2,3,2,2,2]\n",
    "arrVariableEvidence = ['MR_amlodipino','MR_captopril' ,'MR_carvedilol','MR_enalapril','MR_furosemida','MR_hidroclorothiazida','MR_losartan','MR_metropolol','MR_prazosin','MR_propanolol','MR_verapamilo']\n",
    "arrSingleProbabilisticEvidence =[[0.20,0.70,0.10],[0.10,0.80,0.10],[0.05,0.85,0.10],[0.20,0.80,0.10],[0.25,0.75,0.00],\n",
    "                                 [0.20,0.70,0.10],[0.10,0.80,0.10],[0.05,0.95,0.00],[0.10,0.80,0.10],[0.10,0.80,0.10],\n",
    "                                 [0.20,0.75,0.05],[0.15,0.80,0.05],[0.10,0.80,0.10]]\n",
    "arrStateVarible  = ['Alta','Normal','Baja']\n",
    "arrProbabilistic = [0.33,0.34,0.33]"
   ]
  },
  {
   "cell_type": "code",
   "execution_count": 21,
   "metadata": {
    "collapsed": true
   },
   "outputs": [],
   "source": [
    "arrStateEvidence    = [2,2,2]\n",
    "arrVariableEvidence = ['EP_Asma_Bronquial','EP_Diabetes', 'EP_Insuficiencia_Cardiaca'] #3\n",
    "arrProbabilisticEvidence =[[0,0.50,0.50],[0.34,0.33,0.33],[0.00,0.01,0.99]] #2\n",
    "arrStateVarible  = ['Prescribir_Normal', 'Prescribir_Bajas_Dosis', 'No_Prescribir']\n",
    "arrProbabilistic = [0.00,0.01,0.99]"
   ]
  },
  {
   "cell_type": "code",
   "execution_count": 22,
   "metadata": {
    "collapsed": true
   },
   "outputs": [],
   "source": [
    "def generateProbabilisticList(arrStateEvidence, arrVariableEvidence,arrProbabilisticEvidence, \n",
    "                               arrStateVarible, arrProbabilistic):\n",
    "    \n",
    "    df_ANT = createCombinationDataframe(arrStateEvidence, arrVariableEvidence) \n",
    "    df     = initProbabilisticDataframe(arrStateEvidence, arrStateVarible, arrProbabilistic)\n",
    "    \n",
    "    #single evidence\n",
    "    for i,val in enumerate(arrVariableEvidence):\n",
    "        query_string = formQuery(arrVariableEvidence, arrVariableEvidence[i])\n",
    "        ef_evidence  = df_ANT.query(query_string)\n",
    "        arr_index    = getIndexToSet(ef_evidence.index)\n",
    "        dicc = formSingleProbability(arrStateVarible,arrProbabilisticEvidence[i])\n",
    "        setProbabilisticValue(df, dicc, arr_index)\n",
    "    \n",
    "    values=getListaEvidencia(df)\n",
    "    return values"
   ]
  },
  {
   "cell_type": "code",
   "execution_count": 23,
   "metadata": {
    "collapsed": false
   },
   "outputs": [],
   "source": [
    "values = generateProbabilisticList(arrStateEvidence, arrVariableEvidence,arrProbabilisticEvidence, \n",
    "                               arrStateVarible, arrProbabilistic)"
   ]
  },
  {
   "cell_type": "code",
   "execution_count": null,
   "metadata": {
    "collapsed": false
   },
   "outputs": [],
   "source": [
    "print(values)"
   ]
  },
  {
   "cell_type": "code",
   "execution_count": null,
   "metadata": {
    "collapsed": true
   },
   "outputs": [],
   "source": []
  },
  {
   "cell_type": "code",
   "execution_count": null,
   "metadata": {
    "collapsed": true
   },
   "outputs": [],
   "source": [
    "\n"
   ]
  },
  {
   "cell_type": "code",
   "execution_count": null,
   "metadata": {
    "collapsed": true
   },
   "outputs": [],
   "source": []
  },
  {
   "cell_type": "code",
   "execution_count": null,
   "metadata": {
    "collapsed": true
   },
   "outputs": [],
   "source": []
  }
 ],
 "metadata": {
  "kernelspec": {
   "display_name": "Python [anaconda3]",
   "language": "python",
   "name": "Python [anaconda3]"
  },
  "language_info": {
   "codemirror_mode": {
    "name": "ipython",
    "version": 3
   },
   "file_extension": ".py",
   "mimetype": "text/x-python",
   "name": "python",
   "nbconvert_exporter": "python",
   "pygments_lexer": "ipython3",
   "version": "3.5.2"
  }
 },
 "nbformat": 4,
 "nbformat_minor": 0
}
