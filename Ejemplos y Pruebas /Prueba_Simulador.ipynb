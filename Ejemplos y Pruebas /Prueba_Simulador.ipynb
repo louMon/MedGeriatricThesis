{
 "cells": [
  {
   "cell_type": "code",
   "execution_count": 2,
   "metadata": {
    "collapsed": true
   },
   "outputs": [],
   "source": [
    "from pgmpy.models import BayesianModel\n",
    "from pgmpy.factors.discrete import TabularCPD\n",
    "from pgmpy.inference import BeliefPropagation\n",
    "from pgmpy.factors.discrete import DiscreteFactor\n",
    "\n",
    "from utils import *\n",
    "import pandas as pd\n",
    "import numpy as np"
   ]
  },
  {
   "cell_type": "markdown",
   "metadata": {},
   "source": [
    "## Variables nivel 2\n"
   ]
  },
  {
   "cell_type": "code",
   "execution_count": 3,
   "metadata": {
    "collapsed": true
   },
   "outputs": [],
   "source": [
    "arrStateEvidence    = [2,2]\n",
    "arrVariableEvidence = ['B','C']\n",
    "arrSingleProbabilisticEvidence = [[0.20,0.80],[0.30,0.70]]\n",
    "arrDoubleProbabilisticEvidence = [[0.01,0.99]]\n",
    "arrStateVarible  = ['Prescribir', 'No_Prescribir']\n",
    "arrProbabilistic = [0.10,0.90]"
   ]
  },
  {
   "cell_type": "code",
   "execution_count": 4,
   "metadata": {
    "collapsed": true
   },
   "outputs": [],
   "source": [
    "##Hacerlo con la lista simple, no con la double\n",
    "values_M1 = generateProbabilisticList(arrStateEvidence, arrVariableEvidence,arrSingleProbabilisticEvidence,arrDoubleProbabilisticEvidence, arrStateVarible, arrProbabilistic)"
   ]
  },
  {
   "cell_type": "code",
   "execution_count": 5,
   "metadata": {
    "collapsed": true
   },
   "outputs": [],
   "source": [
    "arrStateEvidence    = [2,2,2,2]\n",
    "arrVariableEvidence = ['A','B', 'C','D']\n",
    "arrSingleProbabilisticEvidence = [[0.20,0.80],[0.30,0.70],[0.40,0.60],[0.20,0.80]]\n",
    "arrDoubleProbabilisticEvidence = [[0.01,0.99],[0.01,0.99],[0.01,0.99],[0.01,0.99],\n",
    "                                  [0.10,0.90],[0.10,0.90],[0.10,0.90],[0.01,0.99]]\n",
    "arrStateVarible  = ['Prescribir', 'No_Prescribir']\n",
    "arrProbabilistic = [0.10,0.90]"
   ]
  },
  {
   "cell_type": "code",
   "execution_count": 6,
   "metadata": {
    "collapsed": true
   },
   "outputs": [],
   "source": [
    "##Hacerlo con la lista simple, no con la double\n",
    "values_M2 = generateProbabilisticList(arrStateEvidence, arrVariableEvidence,arrSingleProbabilisticEvidence,arrDoubleProbabilisticEvidence, arrStateVarible, arrProbabilistic)"
   ]
  },
  {
   "cell_type": "code",
   "execution_count": 7,
   "metadata": {
    "collapsed": true
   },
   "outputs": [],
   "source": [
    "arrStateEvidence    = [2,2,2]\n",
    "arrVariableEvidence = ['A','C','D']\n",
    "arrSingleProbabilisticEvidence = [[0.20,0.80],[0.30,0.70],[0.40,0.60]]\n",
    "arrDoubleProbabilisticEvidence = [[0.01,0.99],[0.01,0.99],[0.01,0.99]]\n",
    "arrStateVarible  = ['Prescribir', 'No_Prescribir']\n",
    "arrProbabilistic = [0.10,0.90]"
   ]
  },
  {
   "cell_type": "code",
   "execution_count": 8,
   "metadata": {
    "collapsed": true
   },
   "outputs": [],
   "source": [
    "##Hacerlo con la lista simple, no con la double\n",
    "values_M3 = generateProbabilisticList(arrStateEvidence, arrVariableEvidence,arrSingleProbabilisticEvidence,arrDoubleProbabilisticEvidence, arrStateVarible, arrProbabilistic)"
   ]
  },
  {
   "cell_type": "markdown",
   "metadata": {},
   "source": [
    "## Variables nivel 3\n"
   ]
  },
  {
   "cell_type": "code",
   "execution_count": 9,
   "metadata": {
    "collapsed": true
   },
   "outputs": [],
   "source": [
    "arrStateEvidence    = [2,2]\n",
    "arrVariableEvidence = ['M1','M2']\n",
    "arrSingleProbabilisticEvidence = [[0.20,0.80],[0.30,0.70]]\n",
    "arrDoubleProbabilisticEvidence = [[0.01,0.99]]\n",
    "arrStateVarible  = ['Prescribir', 'No_Prescribir']\n",
    "arrProbabilistic = [0.10,0.90]"
   ]
  },
  {
   "cell_type": "code",
   "execution_count": 10,
   "metadata": {
    "collapsed": true
   },
   "outputs": [],
   "source": [
    "##Hacerlo con la lista simple, no con la double\n",
    "values_Z1 = generateProbabilisticList(arrStateEvidence, arrVariableEvidence,arrSingleProbabilisticEvidence,arrDoubleProbabilisticEvidence, arrStateVarible, arrProbabilistic)"
   ]
  },
  {
   "cell_type": "code",
   "execution_count": 11,
   "metadata": {
    "collapsed": true
   },
   "outputs": [],
   "source": [
    "arrStateEvidence    = [2,2,2]\n",
    "arrVariableEvidence = ['M1','M2','M3']\n",
    "arrSingleProbabilisticEvidence = [[0.20,0.80],[0.30,0.70],[0.30,0.70]]\n",
    "arrDoubleProbabilisticEvidence = [[0.01,0.99],[0.01,0.99],[0.01,0.99]]\n",
    "arrStateVarible  = ['Prescribir', 'No_Prescribir']\n",
    "arrProbabilistic = [0.10,0.90]"
   ]
  },
  {
   "cell_type": "code",
   "execution_count": 12,
   "metadata": {
    "collapsed": true
   },
   "outputs": [],
   "source": [
    "##Hacerlo con la lista simple, no con la double\n",
    "values_Z2 = generateProbabilisticList(arrStateEvidence, arrVariableEvidence,arrSingleProbabilisticEvidence,arrDoubleProbabilisticEvidence, arrStateVarible, arrProbabilistic)"
   ]
  },
  {
   "cell_type": "markdown",
   "metadata": {},
   "source": [
    "## Construyendo la red bayesiana"
   ]
  },
  {
   "cell_type": "code",
   "execution_count": 13,
   "metadata": {
    "collapsed": false
   },
   "outputs": [],
   "source": [
    "bn0 = BayesianModel([('A', 'M2'),              \n",
    "                     ('A', 'M3'), \n",
    "                     ('B', 'M1'),\n",
    "                     ('B', 'M2'),\n",
    "                     ('C', 'M1'),\n",
    "                     ('C', 'M2'),\n",
    "                     ('C', 'M3'),\n",
    "                     ('D', 'M2'),              \n",
    "                     ('D', 'M3'),\n",
    "                     ('M1', 'Z1'),              \n",
    "                     ('M1', 'Z2'),\n",
    "                     ('M2', 'Z1'),              \n",
    "                     ('M2', 'Z2'),\n",
    "                     ('M3', 'Z2'),\n",
    "                    ])\n"
   ]
  },
  {
   "cell_type": "code",
   "execution_count": 14,
   "metadata": {
    "collapsed": true
   },
   "outputs": [],
   "source": [
    "#Antecendentes de los pacientes geriatricos\n",
    "\n",
    "cpt_A = TabularCPD('A', 2, [[0.5], [0.5]])\n",
    "cpt_B = TabularCPD('B', 2, [[0.5], [0.5]])\n",
    "cpt_C = TabularCPD('C', 2, [[0.5], [0.5]])\n",
    "cpt_D = TabularCPD('D', 2, [[0.5], [0.5]])\n"
   ]
  },
  {
   "cell_type": "code",
   "execution_count": 15,
   "metadata": {
    "collapsed": true
   },
   "outputs": [],
   "source": [
    "cpt_M1 = TabularCPD('M1', 2, values_M1, evidence= ['B','C'],evidence_card=[2,2])\n",
    "cpt_M2 = TabularCPD('M2', 2, values_M2, evidence= ['A','B','C','D'],evidence_card=[2,2,2,2])\n",
    "cpt_M3 = TabularCPD('M3', 2, values_M3, evidence= ['A','C','D'],evidence_card=[2,2,2])"
   ]
  },
  {
   "cell_type": "code",
   "execution_count": 16,
   "metadata": {
    "collapsed": true
   },
   "outputs": [],
   "source": [
    "cpt_Z1 = TabularCPD('Z1', 2, values_Z1, evidence= ['M1','M2'],evidence_card=[2,2])\n",
    "cpt_Z2 = TabularCPD('Z2', 2, values_Z2, evidence= ['M1','M2','M3'],evidence_card=[2,2,2])"
   ]
  },
  {
   "cell_type": "code",
   "execution_count": 17,
   "metadata": {
    "collapsed": true
   },
   "outputs": [],
   "source": [
    "bn0.add_cpds(cpt_A, cpt_B,cpt_C,cpt_D, cpt_M1, cpt_M2, cpt_M3,cpt_Z1, cpt_Z2   )"
   ]
  },
  {
   "cell_type": "code",
   "execution_count": 18,
   "metadata": {
    "collapsed": false
   },
   "outputs": [
    {
     "data": {
      "text/plain": [
       "True"
      ]
     },
     "execution_count": 18,
     "metadata": {},
     "output_type": "execute_result"
    }
   ],
   "source": [
    "bn0.check_model()"
   ]
  },
  {
   "cell_type": "code",
   "execution_count": 19,
   "metadata": {
    "collapsed": true
   },
   "outputs": [],
   "source": [
    "bp = BeliefPropagation(bn0)"
   ]
  },
  {
   "cell_type": "code",
   "execution_count": null,
   "metadata": {
    "collapsed": true
   },
   "outputs": [],
   "source": []
  }
 ],
 "metadata": {
  "anaconda-cloud": {},
  "kernelspec": {
   "display_name": "Python [anaconda3]",
   "language": "python",
   "name": "Python [anaconda3]"
  },
  "language_info": {
   "codemirror_mode": {
    "name": "ipython",
    "version": 3
   },
   "file_extension": ".py",
   "mimetype": "text/x-python",
   "name": "python",
   "nbconvert_exporter": "python",
   "pygments_lexer": "ipython3",
   "version": "3.5.2"
  }
 },
 "nbformat": 4,
 "nbformat_minor": 0
}
