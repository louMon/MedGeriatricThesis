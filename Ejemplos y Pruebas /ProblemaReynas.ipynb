{
 "cells": [
  {
   "cell_type": "markdown",
   "metadata": {},
   "source": [
    "# APLICACIONES EN CIENCIAS DE COMPUTACION"
   ]
  },
  {
   "cell_type": "markdown",
   "metadata": {},
   "source": [
    "## Laboratorio 3: Algoritmo Genetico para resolver el problema de las n-reinas\n",
    "\n",
    "Abajo está implementado un algoritmo genético para resolver el problema de las n-reinas. La clase Individual_nqueens implementa la estructura de un individuo, la cual mantiene 2 variables: chromosome y fitness. Cromosome es una lista, donde el elemento i indica la posicion de la reina en la columna i. El fitness es el nro de pares de reinas que no se atacan y se puede obtener llamando a la funcion fitness_nqueens(). La clase individuo también tiene implementado los siguientes operadores: cruzamiento de un punto (crossover_onepoint), cruzamiento uniforme (crossover_uniform), operador de mutacion de una posicion (mutate_position) y operador de mutacion swap (mutate_swap). "
   ]
  },
  {
   "cell_type": "markdown",
   "metadata": {},
   "source": [
    "<b>Estructura de individuo en el problema de las n-reinas</b> (Falta implementar crossover_permutation)"
   ]
  },
  {
   "cell_type": "code",
   "execution_count": 1,
   "metadata": {
    "collapsed": true
   },
   "outputs": [],
   "source": [
    "import random\n",
    "\n",
    "class Individual_nqueens:\n",
    "    \"Clase que implementa el individuo en el problema de las n-reinas.\"\n",
    "\n",
    "    def __init__(self, chromosome):\n",
    "        self.chromosome = chromosome[:]  #  chromosome[i]: posicion de la reina i\n",
    "        self.fitness = -1                #  fitness = -1: individuo no evaluado\n",
    "\n",
    "    def crossover_onepoint(self, other):\n",
    "        \"Retorna dos nuevos individuos del cruzamiento de un punto entre self y other \"\n",
    "        c = random.randrange(len(self.chromosome))\n",
    "        ind1 = Individual_nqueens(self.chromosome[:c] + other.chromosome[c:])\n",
    "        ind2 = Individual_nqueens(other.chromosome[:c] + self.chromosome[c:])\n",
    "        return [ind1, ind2]   \n",
    "    \n",
    "    def crossover_permutation(self, other):\n",
    "        \"Retorna dos nuevos individuos del cruzamiento de permutacion entre self y other\" \n",
    "        \"Toma una subsecuencia del cromosoma self (de tamaño igual a la mitad del cromosoma) y lo copia a un hijo ind1 \" \n",
    "        \"en las mismas posiciones. Los numeros faltantes los copia de other en el mismo orden en que aparecen en other \"\n",
    "        \"El hijo ind2 se crea de la misma forma intercambiando self por other\"\n",
    "        #TODO\n",
    "\n",
    "        \n",
    "    \n",
    "    def crossover_uniform(self, other):\n",
    "        chromosome1 = []\n",
    "        chromosome2 = []\n",
    "        \"Retorna dos nuevos individuos del cruzamiento uniforme entre self y other \"\n",
    "        for i in range(len(self.chromosome)):\n",
    "            if random.uniform(0, 1) < 0.5:\n",
    "                chromosome1.append(self.chromosome[i])\n",
    "                chromosome2.append(other.chromosome[i])\n",
    "            else:\n",
    "                chromosome1.append(other.chromosome[i])\n",
    "                chromosome2.append(self.chromosome[i])\n",
    "        ind1 = Individual_nqueens(chromosome1)\n",
    "        ind2 = Individual_nqueens(chromosome2)\n",
    "        return [ind1, ind2] \n",
    "\n",
    "    def mutate_position(self):\n",
    "        \"Cambia aleatoriamente la posicion de una reina.\"\n",
    "        mutated_ind = Individual_nqueens(self.chromosome[:])\n",
    "        indexPos = random.randint(0, len(mutated_ind.chromosome)-1)\n",
    "        newPos = random.randint(0, len(mutated_ind.chromosome)-1)\n",
    "        mutated_ind.chromosome[indexPos] = newPos\n",
    "        return mutated_ind\n",
    "        \n",
    "        \n",
    "    def mutate_swap(self):\n",
    "        \"Intercambia la posicion de dos genes.\"\n",
    "        mutated_ind = Individual_nqueens(self.chromosome[:])\n",
    "        indexOne = random.randint(0,len(mutated_ind.chromosome)-1)\n",
    "        indexTwo = random.randint(0,len(mutated_ind.chromosome)-1)\n",
    "        temp = mutated_ind.chromosome[indexOne]\n",
    "        mutated_ind.chromosome[indexOne] = mutated_ind.chromosome[indexTwo]\n",
    "        mutated_ind.chromosome[indexTwo] = temp\n",
    "        return mutated_ind"
   ]
  },
  {
   "cell_type": "markdown",
   "metadata": {},
   "source": [
    "<b>Funcion de fitness para evaluar un individuo del problema de las n-reinas</b>"
   ]
  },
  {
   "cell_type": "code",
   "execution_count": 2,
   "metadata": {
    "collapsed": true
   },
   "outputs": [],
   "source": [
    "def fitness_nqueens(chromosome):\n",
    "    \"\"\"Retorna el fitness de un cromosoma en el problema de las n-reinas (nro de pares de reinas no atacadas) \"\"\"\n",
    "    n = len(chromosome)  # nro de reinas\n",
    "    fitness = 0\n",
    "    for i in range(n-1):\n",
    "        for j in range(i+1, n):\n",
    "            # si el par de reinas i, j  no etan en la misma fila o diagonales => par no atacado\n",
    "            if chromosome[j] not in [chromosome[i], chromosome[i] - (j-i),  chromosome[i] + (j-i)]:\n",
    "                fitness = fitness + 1\n",
    "    return fitness"
   ]
  },
  {
   "cell_type": "markdown",
   "metadata": {},
   "source": [
    "<b>Funcion para evaluar toda una población de individuos con la funcion de fitnes especificada</b>"
   ]
  },
  {
   "cell_type": "code",
   "execution_count": 3,
   "metadata": {
    "collapsed": true
   },
   "outputs": [],
   "source": [
    "def evaluate_population(population, fitness_fn):\n",
    "    \"\"\" Evalua una poblacion de individuos con la funcion de fitness pasada \"\"\"\n",
    "    popsize = len(population)\n",
    "    for i in range(popsize):\n",
    "        if population[i].fitness == -1:    # si el individuo no esta evaluado\n",
    "            population[i].fitness = fitness_fn(population[i].chromosome)"
   ]
  },
  {
   "cell_type": "markdown",
   "metadata": {},
   "source": [
    "<b>Funcion que selecciona con el metodo de la ruleta un par de individuos de population para cruzamiento </b>"
   ]
  },
  {
   "cell_type": "code",
   "execution_count": 4,
   "metadata": {
    "collapsed": true
   },
   "outputs": [],
   "source": [
    "def select_parents_roulette(population):\n",
    "    popsize = len(population)\n",
    "    \n",
    "    # Escoje el primer padre\n",
    "    sumfitness = sum([indiv.fitness for indiv in population])  # suma total del fitness de la poblacion\n",
    "    pickfitness = random.uniform(0, sumfitness)   # escoge un numero aleatorio entre 0 y sumfitness\n",
    "    cumfitness = 0     # fitness acumulado\n",
    "    for i in range(popsize):\n",
    "        cumfitness += population[i].fitness\n",
    "        if cumfitness > pickfitness: \n",
    "            iParent1 = i\n",
    "            break\n",
    "     \n",
    "    # Escoje el segundo padre, desconsiderando el primer padre\n",
    "    sumfitness = sumfitness - population[iParent1].fitness # retira el fitness del padre ya escogido\n",
    "    pickfitness = random.uniform(0, sumfitness)   # escoge un numero aleatorio entre 0 y sumfitness\n",
    "    cumfitness = 0     # fitness acumulado\n",
    "    for i in range(popsize):\n",
    "        if i == iParent1: continue   # si es el primer padre \n",
    "        cumfitness += population[i].fitness\n",
    "        if cumfitness > pickfitness: \n",
    "            iParent2 = i\n",
    "            break        \n",
    "    return (population[iParent1], population[iParent2])"
   ]
  },
  {
   "cell_type": "markdown",
   "metadata": {},
   "source": [
    "<b>Funcion que selecciona sobrevivientes para la sgte generacion, dada la poblacion actual y poblacion de hijos </b>"
   ]
  },
  {
   "cell_type": "code",
   "execution_count": 5,
   "metadata": {
    "collapsed": true
   },
   "outputs": [],
   "source": [
    "def select_survivors(population, offspring_population, numsurvivors):\n",
    "    next_population = []\n",
    "    population.extend(offspring_population) # une las dos poblaciones\n",
    "    isurvivors = sorted(range(len(population)), key=lambda i: population[i].fitness, reverse=True)[:numsurvivors]\n",
    "    for i in range(numsurvivors): next_population.append(population[isurvivors[i]])\n",
    "    return next_population"
   ]
  },
  {
   "cell_type": "markdown",
   "metadata": {},
   "source": [
    "<b>Algoritmo Genetico</b>   \n",
    "Recibe una poblacion inicial, funcion de fitness, numero de generaciones (ngen), taza de mutación (pmut), operador de cruzamiento (crossover) y operador de mutacion (mutation)"
   ]
  },
  {
   "cell_type": "code",
   "execution_count": 6,
   "metadata": {
    "collapsed": true
   },
   "outputs": [],
   "source": [
    "def genetic_algorithm(population, fitness_fn, ngen=100, pmut=0.1, crossover=\"onepoint\", mutation=\"position\"):\n",
    "    \"Algoritmo Genetico \"\n",
    "    \n",
    "    popsize = len(population)\n",
    "    evaluate_population(population, fitness_fn)  # evalua la poblacion inicial\n",
    "    ibest = sorted(range(len(population)), key=lambda i: population[i].fitness, reverse=True)[:1]\n",
    "    bestfitness = [population[ibest[0]].fitness]\n",
    "    print(\"Poblacion inicial, best_fitness = {}\".format(population[ibest[0]].fitness))\n",
    "    \n",
    "    for g in range(ngen):   # Por cada generacion\n",
    "        \n",
    "        ## Selecciona las parejas de padres para cruzamiento \n",
    "        mating_pool = []\n",
    "        for i in range(int(popsize/2)): mating_pool.append(select_parents_roulette(population)) \n",
    "        \n",
    "        ## Crea la poblacion descendencia cruzando las parejas del mating pool \n",
    "        offspring_population = []\n",
    "        for i in range(len(mating_pool)): \n",
    "            if crossover == \"onepoint\":\n",
    "                offspring_population.extend( mating_pool[i][0].crossover_onepoint(mating_pool[i][1]) ) # cruzamiento 1 punto\n",
    "            elif crossover == \"uniform\":\n",
    "                offspring_population.extend( mating_pool[i][0].crossover_uniform(mating_pool[i][1]) ) # cruzamiento uniforme\n",
    "            elif crossover == \"permutation\":    \n",
    "                offspring_population.extend( mating_pool[i][0].crossover_permutation(mating_pool[i][1]) ) # cruzamiento de permutacion\n",
    "\n",
    "        ## Aplica el operador de mutacion con probabilidad pmut en cada hijo generado\n",
    "        for i in range(len(offspring_population)):\n",
    "            if random.uniform(0, 1) < pmut: \n",
    "                if mutation == \"position\":\n",
    "                    offspring_population[i] = offspring_population[i].mutate_position()   # mutacion de una posicion\n",
    "                elif mutation == \"swap\":\n",
    "                    offspring_population[i] = offspring_population[i].mutate_swap()      # mutacion swap\n",
    "        \n",
    "        ## Evalua la poblacion descendencia creada\n",
    "        evaluate_population(offspring_population, fitness_fn)  # evalua la poblacion inicial\n",
    "        \n",
    "        ## Selecciona popsize individuos para la sgte. generación de la union de la pob. actual y  pob. descendencia\n",
    "        population = select_survivors(population, offspring_population, popsize)\n",
    "\n",
    "        ## Almacena la historia del fitness del mejor individuo\n",
    "        ibest = sorted(range(len(population)), key=lambda i: population[i].fitness, reverse=True)[:1]\n",
    "        bestfitness.append(population[ibest[0]].fitness)\n",
    "        print(\"generacion {}, best_fitness = {},best_cromosoma = {}\".format(g, population[ibest[0]].fitness,population[ibest[0]].chromosome))\n",
    "    \n",
    "    return population[ibest[0]], bestfitness  "
   ]
  },
  {
   "cell_type": "markdown",
   "metadata": {},
   "source": [
    " <b>Algoritmo de Busqueda Genetica para el problema de las n-reinas</b>   "
   ]
  },
  {
   "cell_type": "code",
   "execution_count": 7,
   "metadata": {
    "collapsed": true
   },
   "outputs": [],
   "source": [
    "def genetic_search_nqueens(fitness_fn, num_queens=10, popsize=8, ngen=100, pmut=0.1, crossover=\"onepoint\", mutation=\"position\"):\n",
    "    import random\n",
    "    population = []\n",
    "\n",
    "    ## Crea la poblacion inicial con cromosomas aleatorios\n",
    "    for i in range(popsize):\n",
    "        #chromosome = [j for j in range(1,num_queens+1)]\n",
    "        #random.shuffle(chromosome)\n",
    "        chromosome = [random.randint(1,num_queens) for _ in range(num_queens)]\n",
    "        population.append( Individual_nqueens(chromosome) )\n",
    "        \n",
    "    ## Crea la poblacion inicial con los siguientes 6 cromosomas    \n",
    "    #chromosomes = [[1,2,3,4,5,6,7,8,9,10],\n",
    "    #               [5,4,3,2,1,10,9,8,7,6], \n",
    "    #               [10,9,8,1,2,3,7,6,5,4], \n",
    "    #               [5,6,7,1,2,3,4,8,9,10], \n",
    "    #               [2,1,6,7,8,3,4,5,10,9], \n",
    "    #               [10,7,8,9,6,5,4,1,2,3]] \n",
    "                   \n",
    "    #for i in range(popsize):\n",
    "    #    population.append( Individual_nqueens(chromosomes[i]) )   \n",
    "        \n",
    "    ## llama al algoritmo genetico para encontrar una solucion al problema de las n reinas\n",
    "    return genetic_algorithm(population, fitness_fn, ngen, pmut, crossover, mutation)        "
   ]
  },
  {
   "cell_type": "markdown",
   "metadata": {},
   "source": [
    "<b> Experimentos</b>\n",
    "\n",
    "Parametros: \n",
    "\n",
    "  genetic_search_nqueens( **fitness_nqueens, # de reinas, #individuos, # de generaciones,tasa de mutacion, op. de mutacion,op. de cruzamiento**)"
   ]
  },
  {
   "cell_type": "code",
   "execution_count": 8,
   "metadata": {
    "collapsed": false
   },
   "outputs": [
    {
     "name": "stdout",
     "output_type": "stream",
     "text": [
      "Poblacion inicial, best_fitness = 3\n",
      "generacion 0, best_fitness = 6,best_cromosoma = [3, 1, 4, 2]\n",
      "generacion 1, best_fitness = 6,best_cromosoma = [3, 1, 4, 2]\n",
      "generacion 2, best_fitness = 6,best_cromosoma = [3, 1, 4, 2]\n",
      "generacion 3, best_fitness = 6,best_cromosoma = [3, 1, 4, 2]\n"
     ]
    }
   ],
   "source": [
    "import matplotlib.pyplot as plt\n",
    " \n",
    "best_ind, bestfitness = genetic_search_nqueens(fitness_nqueens, 4, 10, 4, 0.5, 'uniform','onepoint')\n",
    "plt.plot(bestfitness)\n",
    "plt.show()"
   ]
  },
  {
   "cell_type": "code",
   "execution_count": null,
   "metadata": {
    "collapsed": true
   },
   "outputs": [],
   "source": []
  }
 ],
 "metadata": {
  "anaconda-cloud": {},
  "kernelspec": {
   "display_name": "Python [anaconda3]",
   "language": "python",
   "name": "Python [anaconda3]"
  },
  "language_info": {
   "codemirror_mode": {
    "name": "ipython",
    "version": 3
   },
   "file_extension": ".py",
   "mimetype": "text/x-python",
   "name": "python",
   "nbconvert_exporter": "python",
   "pygments_lexer": "ipython3",
   "version": "3.5.2"
  }
 },
 "nbformat": 4,
 "nbformat_minor": 2
}
