{
 "cells": [
  {
   "cell_type": "markdown",
   "metadata": {},
   "source": [
    "# Red Bayesiana para predecir la combinacion de medicamentos mas adecuada en pacientes geriatricos\n",
    "El objetivo del presente proyecto es poder crear una red Bayesiana, la cual modele probabilisticamente un dominio para predicción de medicamentos para diversas patologias y segun la naturaleza del paciente. \n",
    "A continuacion, se muestran algunas de las variables aleatórias involucradas en el dominio\n",
    "\n",
    "## Variables destinadas a los antecedentes del paciente geriatrico\n",
    "\n",
    "<b>EP_Insuficiencia_Cardiaca</b>: Background o Antecedentes de enfermedades de los pacientes geriatricos(Presente, Ausente)\n",
    "\n",
    "<b>EP_Asma_Bronquial</b>: Background o Antecedentes de enfermedades de los pacientes geriatricos. (Presente, Ausente)\n",
    "\n",
    "<b>EP_Diabetes</b>: Background o Antecedentes de enfermedades de los pacientes geriatricos. (Presente,Ausente)\n",
    "\n",
    "<b>EP_Gota</b>: Background o Antecedentes de enfermedades de los pacientes geriatricos. (Presente,Ausente)\n",
    "\n",
    "<b>MP_Ibuprofeno</b>: Background o Antecedentes de los medicamentos que consumen los pacientes geriatricos. (Prescrito,No Prescrito)\n",
    "\n",
    "## Variables destinadas a los posibles medicamentos a recetar\n",
    "\n",
    "<b>MR_metoprolol</b>: Metoprolol (Prescribir Normal, Prescribir condicion Diabetes, No Prescribir)\n",
    "\n",
    "<b>MR_amlodipino</b>: Amlodipino (Prescribir, No Prescribir)\n",
    "\n",
    "<b>MR_losartan</b>: Losartan (Prescribir, No Prescribir)\n",
    "\n",
    "<b>MR_enalapril</b>: Enalapril (Prescribir, No Prescribir)\n",
    "\n",
    "<b>MR_furosemida</b>: Furosemida (Prescribir, No Prescribir)\n",
    "\n",
    "<b>MR_prazosin</b>: Prazosin (Prescribir, No Prescribir)\n",
    "\n",
    "<b>MR_verapamilo</b>: Verapamilo (Prescribir, No Prescribir)\n",
    "\n",
    "<b>MR_propanolol</b>: Propanolol (Prescribir, No Prescribir)\n",
    "\n",
    "<b>MR_carvedilol</b>: Carvedilol (Prescribir, No Prescribir)\n",
    "\n",
    "\n",
    "## Variables destinadas a los sintomas y efectos secundarios resultantes\n",
    "\n",
    "<b>SA_angina_de_pecho</b>: Angina de Pecho (Presente, Ausente)\n",
    "\n",
    "<b>SA_presion_arterial</b>: Presion arterial (Alta, Normal,Baja)\n",
    "\n",
    "<b>SA_danho_rinhones</b>: Danho en Rinhones (Presente, Ausente)\n"
   ]
  },
  {
   "cell_type": "code",
   "execution_count": 1,
   "metadata": {
    "collapsed": false
   },
   "outputs": [],
   "source": [
    "from pgmpy.models import BayesianModel\n",
    "from pgmpy.factors.discrete import TabularCPD\n",
    "from pgmpy.inference import BeliefPropagation\n",
    "from pgmpy.factors.discrete import DiscreteFactor\n",
    "\n",
    "from utils import *\n",
    "import pandas as pd\n",
    "import numpy as np\n"
   ]
  },
  {
   "cell_type": "markdown",
   "metadata": {},
   "source": [
    "### Conexion con la base de datos para la extraccion de las probabilidades"
   ]
  },
  {
   "cell_type": "code",
   "execution_count": null,
   "metadata": {
    "collapsed": false
   },
   "outputs": [],
   "source": [
    "import psycopg2"
   ]
  },
  {
   "cell_type": "code",
   "execution_count": null,
   "metadata": {
    "collapsed": true
   },
   "outputs": [],
   "source": [
    "conn = psycopg2.connect(host=\"localhost\",database=\"medicalSecure_development\", user=\"pguser\", password=\"1795lula\")"
   ]
  },
  {
   "cell_type": "code",
   "execution_count": null,
   "metadata": {
    "collapsed": false
   },
   "outputs": [],
   "source": [
    "cur = conn.cursor()"
   ]
  },
  {
   "cell_type": "code",
   "execution_count": null,
   "metadata": {
    "collapsed": false
   },
   "outputs": [],
   "source": [
    "# execute our Query\n",
    "cur.execute(\"SELECT dni, name FROM people\")"
   ]
  },
  {
   "cell_type": "code",
   "execution_count": null,
   "metadata": {
    "collapsed": false
   },
   "outputs": [],
   "source": [
    "records = cur.fetchall()"
   ]
  },
  {
   "cell_type": "code",
   "execution_count": null,
   "metadata": {
    "collapsed": false
   },
   "outputs": [],
   "source": [
    "print(records)"
   ]
  },
  {
   "cell_type": "markdown",
   "metadata": {},
   "source": [
    "\n",
    "# Creacion de la tabla de verdad que brinda evidencia de los medicamentos hacia algun sintoma\n",
    "\n"
   ]
  },
  {
   "cell_type": "markdown",
   "metadata": {},
   "source": [
    "Base: Numero que indica la cantidad a repetirse\n",
    "\n",
    "Por ejemplo:\n",
    "\n",
    "- tamanho base 4: [ 1 1 0 0 ]               \n",
    "\n",
    "- tamanho base 8: [ 1 1 1 1 0 0 0 0]      \n",
    "\n",
    "- tamanho base 6: [ 2 2 1 1 0 0]       "
   ]
  },
  {
   "cell_type": "markdown",
   "metadata": {},
   "source": [
    "# Seteo de probabilidades\n",
    "\n",
    "<b>Combinaciones de 4 a mas medicamentos:</b> La probabilidad de la presencia del sintoma es muy alta\n",
    "\n",
    "<b>Combinaciones entre 2 a 3:</b> La probabilidad de la ausencia del sintoma variara de acuerdo a la efectividad del medicamento y a la naturaleza del paciente\n",
    "\n",
    "<b>Solo un medicamento: </b> La probabilidad de la ausencia del sintoma variara de acuerdo a la efectividad del medicamento y a la naturaleza del paciente"
   ]
  },
  {
   "cell_type": "markdown",
   "metadata": {},
   "source": [
    "# Aplicando lo realizado anteriormente"
   ]
  },
  {
   "cell_type": "markdown",
   "metadata": {},
   "source": [
    "\n",
    "## Variable Metoprolol"
   ]
  },
  {
   "cell_type": "code",
   "execution_count": 2,
   "metadata": {
    "collapsed": true
   },
   "outputs": [],
   "source": [
    "arrStateEvidence    = [2,2,2,2,2]\n",
    "arrVariableEvidence = ['EP_Asma_Bronquial','EP_Diabetes', 'EP_Insuficiencia_Cardiaca','EP_Infarto_Miocardio', 'EP_Bradicardia']\n",
    "arrSingleProbabilisticEvidence = [[0.20,0.80],[0.30,0.70],[0.40,0.60],[0.20,0.80],[0.20,0.80]]\n",
    "arrDoubleProbabilisticEvidence = [[0.01,0.99],[0.01,0.99],[0.01,0.99],[0.01,0.99],[0.10,0.90],[0.10,0.90],[0.10,0.90],[0.01,0.99],[0.01,0.99],[0.01,0.99]]\n",
    "arrStateVarible  = ['Prescribir', 'No_Prescribir']\n",
    "arrProbabilistic = [0.10,0.90]"
   ]
  },
  {
   "cell_type": "code",
   "execution_count": 3,
   "metadata": {
    "collapsed": false,
    "scrolled": true
   },
   "outputs": [],
   "source": [
    "##Hacerlo con la lista simple, no con la double\n",
    "values_metoprolol = generateProbabilisticList(arrStateEvidence, arrVariableEvidence,arrSingleProbabilisticEvidence,arrDoubleProbabilisticEvidence, arrStateVarible, arrProbabilistic)"
   ]
  },
  {
   "cell_type": "code",
   "execution_count": 5,
   "metadata": {
    "collapsed": false
   },
   "outputs": [
    {
     "data": {
      "text/plain": [
       "[[0.1,\n",
       "  0.1,\n",
       "  0.1,\n",
       "  0.1,\n",
       "  0.1,\n",
       "  0.1,\n",
       "  0.1,\n",
       "  0.01,\n",
       "  0.1,\n",
       "  0.1,\n",
       "  0.1,\n",
       "  0.01,\n",
       "  0.1,\n",
       "  0.1,\n",
       "  0.01,\n",
       "  0.2,\n",
       "  0.1,\n",
       "  0.1,\n",
       "  0.1,\n",
       "  0.01,\n",
       "  0.1,\n",
       "  0.1,\n",
       "  0.01,\n",
       "  0.2,\n",
       "  0.1,\n",
       "  0.1,\n",
       "  0.01,\n",
       "  0.4,\n",
       "  0.01,\n",
       "  0.3,\n",
       "  0.2,\n",
       "  0.1],\n",
       " [0.9,\n",
       "  0.9,\n",
       "  0.9,\n",
       "  0.9,\n",
       "  0.9,\n",
       "  0.9,\n",
       "  0.9,\n",
       "  0.99,\n",
       "  0.9,\n",
       "  0.9,\n",
       "  0.9,\n",
       "  0.99,\n",
       "  0.9,\n",
       "  0.9,\n",
       "  0.99,\n",
       "  0.8,\n",
       "  0.9,\n",
       "  0.9,\n",
       "  0.9,\n",
       "  0.99,\n",
       "  0.9,\n",
       "  0.9,\n",
       "  0.99,\n",
       "  0.8,\n",
       "  0.9,\n",
       "  0.9,\n",
       "  0.99,\n",
       "  0.6,\n",
       "  0.99,\n",
       "  0.7,\n",
       "  0.8,\n",
       "  0.9]]"
      ]
     },
     "execution_count": 5,
     "metadata": {},
     "output_type": "execute_result"
    }
   ],
   "source": [
    "values_metoprolol"
   ]
  },
  {
   "cell_type": "markdown",
   "metadata": {},
   "source": [
    "## Variable Furosemida"
   ]
  },
  {
   "cell_type": "markdown",
   "metadata": {},
   "source": [
    "** Para el caso de un medicamento hacia una patologia, se debera cambiar la forma con se interactuan**"
   ]
  },
  {
   "cell_type": "code",
   "execution_count": 54,
   "metadata": {
    "collapsed": true
   },
   "outputs": [],
   "source": [
    "arrStateEvidence    = [2,2,2]\n",
    "arrVariableEvidence = ['EP_Diabetes', 'EP_Gota', 'MP_ibuprofeno']\n",
    "arrSingleProbabilisticEvidence = [[0.20,0.80],[0.10,0.90],[0.25,0.75]]\n",
    "arrDoubleProbabilisticEvidence = [[0.05,0.95],[0.05,0.95],[0.10,0.90]] \n",
    "arrStateVarible  = ['Prescribir', 'No_Prescribir']\n",
    "arrProbabilistic = [0.01,0.99]"
   ]
  },
  {
   "cell_type": "code",
   "execution_count": 55,
   "metadata": {
    "collapsed": true
   },
   "outputs": [],
   "source": [
    "values_furosemida = generateProbabilisticList(arrStateEvidence, arrVariableEvidence,arrSingleProbabilisticEvidence, arrDoubleProbabilisticEvidence, arrStateVarible, arrProbabilistic)"
   ]
  },
  {
   "cell_type": "code",
   "execution_count": 26,
   "metadata": {
    "collapsed": false
   },
   "outputs": [
    {
     "data": {
      "text/plain": [
       "[[0.01, 0.1, 0.05, 0.25, 0.05, 0.1, 0.2, 0.01],\n",
       " [0.99, 0.9, 0.95, 0.75, 0.95, 0.9, 0.8, 0.99]]"
      ]
     },
     "execution_count": 26,
     "metadata": {},
     "output_type": "execute_result"
    }
   ],
   "source": [
    "values_furosemida"
   ]
  },
  {
   "cell_type": "markdown",
   "metadata": {},
   "source": [
    "## Variable Angina de Pecho"
   ]
  },
  {
   "cell_type": "code",
   "execution_count": 76,
   "metadata": {
    "collapsed": false
   },
   "outputs": [],
   "source": [
    "arrStateEvidence    = [2,2,2]\n",
    "arrVariableEvidence = ['MR_amlodipino', 'MR_losartan', 'MR_metoprolol']\n",
    "arrSingleProbabilisticEvidence =[[0.20,0.80],[0.70,0.30],[0.25,0.75]]\n",
    "arrDoubleProbabilisticEvidence = [[0.70,0.30],[0.95,0.05],[0.95,0.05]]\n",
    "arrStateVarible  = ['Presente', 'Ausente']\n",
    "arrProbabilistic = [0.99,0.01]"
   ]
  },
  {
   "cell_type": "code",
   "execution_count": 22,
   "metadata": {
    "collapsed": true
   },
   "outputs": [],
   "source": [
    "arrStateEvidence    = [2,2,2,2,2,2]\n",
    "arrVariableEvidence = ['MR_amlodipino', 'MR_losartan', 'MR_metoprolol','MR_acebutolol','MR_bisoprolol','MR_nadolol']\n",
    "arrSingleProbabilisticEvidence = [[0.20,0.80],[0.70,0.30],[0.25,0.75],[0.33,0.67],[0.33,0.67],[0.34,0.66]]\n",
    "arrDoubleProbabilisticEvidence = [[0.70,0.30],[0.95,0.05],[0.95,0.05],[0.95,0.05],[0.95,0.05],[0.95,0.05],\n",
    "                                  [0.80,0.20],[0.95,0.05],[0.30,0.70],[0.95,0.05],[0.95,0.05],[0.95,0.05],\n",
    "                                  [0.95,0.05],[0.95,0.05],[0.95,0.05]]\n",
    "arrStateVarible  = ['Presente', 'Ausente']\n",
    "arrProbabilistic = [0.99,0.01]"
   ]
  },
  {
   "cell_type": "code",
   "execution_count": 23,
   "metadata": {
    "collapsed": false
   },
   "outputs": [],
   "source": [
    "values_angina = generateProbabilisticList(arrStateEvidence, arrVariableEvidence,arrSingleProbabilisticEvidence,arrDoubleProbabilisticEvidence, arrStateVarible, arrProbabilistic)"
   ]
  },
  {
   "cell_type": "code",
   "execution_count": 11,
   "metadata": {
    "collapsed": false
   },
   "outputs": [
    {
     "data": {
      "text/plain": [
       "[[0.99,\n",
       "  0.99,\n",
       "  0.99,\n",
       "  0.99,\n",
       "  0.99,\n",
       "  0.99,\n",
       "  0.99,\n",
       "  0.99,\n",
       "  0.99,\n",
       "  0.99,\n",
       "  0.99,\n",
       "  0.99,\n",
       "  0.99,\n",
       "  0.99,\n",
       "  0.99,\n",
       "  0.95,\n",
       "  0.99,\n",
       "  0.99,\n",
       "  0.99,\n",
       "  0.99,\n",
       "  0.99,\n",
       "  0.99,\n",
       "  0.99,\n",
       "  0.95,\n",
       "  0.99,\n",
       "  0.99,\n",
       "  0.99,\n",
       "  0.95,\n",
       "  0.99,\n",
       "  0.3,\n",
       "  0.95,\n",
       "  0.34,\n",
       "  0.99,\n",
       "  0.99,\n",
       "  0.99,\n",
       "  0.99,\n",
       "  0.99,\n",
       "  0.99,\n",
       "  0.99,\n",
       "  0.95,\n",
       "  0.99,\n",
       "  0.99,\n",
       "  0.99,\n",
       "  0.95,\n",
       "  0.99,\n",
       "  0.95,\n",
       "  0.95,\n",
       "  0.33,\n",
       "  0.99,\n",
       "  0.99,\n",
       "  0.99,\n",
       "  0.95,\n",
       "  0.99,\n",
       "  0.8,\n",
       "  0.95,\n",
       "  0.33,\n",
       "  0.99,\n",
       "  0.95,\n",
       "  0.95,\n",
       "  0.25,\n",
       "  0.7,\n",
       "  0.7,\n",
       "  0.2,\n",
       "  0.99],\n",
       " [0.01,\n",
       "  0.01,\n",
       "  0.01,\n",
       "  0.01,\n",
       "  0.01,\n",
       "  0.01,\n",
       "  0.01,\n",
       "  0.01,\n",
       "  0.01,\n",
       "  0.01,\n",
       "  0.01,\n",
       "  0.01,\n",
       "  0.01,\n",
       "  0.01,\n",
       "  0.01,\n",
       "  0.05,\n",
       "  0.01,\n",
       "  0.01,\n",
       "  0.01,\n",
       "  0.01,\n",
       "  0.01,\n",
       "  0.01,\n",
       "  0.01,\n",
       "  0.05,\n",
       "  0.01,\n",
       "  0.01,\n",
       "  0.01,\n",
       "  0.05,\n",
       "  0.01,\n",
       "  0.7,\n",
       "  0.05,\n",
       "  0.66,\n",
       "  0.01,\n",
       "  0.01,\n",
       "  0.01,\n",
       "  0.01,\n",
       "  0.01,\n",
       "  0.01,\n",
       "  0.01,\n",
       "  0.05,\n",
       "  0.01,\n",
       "  0.01,\n",
       "  0.01,\n",
       "  0.05,\n",
       "  0.01,\n",
       "  0.05,\n",
       "  0.05,\n",
       "  0.67,\n",
       "  0.01,\n",
       "  0.01,\n",
       "  0.01,\n",
       "  0.05,\n",
       "  0.01,\n",
       "  0.2,\n",
       "  0.05,\n",
       "  0.67,\n",
       "  0.01,\n",
       "  0.05,\n",
       "  0.05,\n",
       "  0.75,\n",
       "  0.3,\n",
       "  0.3,\n",
       "  0.8,\n",
       "  0.01]]"
      ]
     },
     "execution_count": 11,
     "metadata": {},
     "output_type": "execute_result"
    }
   ],
   "source": [
    "values_angina"
   ]
  },
  {
   "cell_type": "markdown",
   "metadata": {},
   "source": [
    "## Variable Presion_Arterial"
   ]
  },
  {
   "cell_type": "code",
   "execution_count": 37,
   "metadata": {
    "collapsed": true
   },
   "outputs": [],
   "source": [
    "arrStateEvidence    = [2,2,2,2,2,2,2,2,2]\n",
    "arrVariableEvidence         = ['MR_amlodipino','MR_captopril','MR_carvedilol','MR_enalapril', 'MR_losartan', 'MR_metoprolol','MR_prazosin', 'MR_propanolol','MR_verapamilo']\n",
    "arrSingleProbabilisticEvidence =[[0.20,0.70,0.10],[0.10,0.80,0.10],[0.05,0.85,0.10],[0.10,0.75,0.15],[0.25,0.75,0.00],[0.10,0.80,0.10],[0.05,0.95,0.00],[0.20,0.75,0.05],[0.15,0.80,0.05]]\n",
    "\n",
    "arrDoubleProbabilisticEvidence =[[0.25,0.55,0.20],[0.25,0.55,0.20],[0.25,0.55,0.20],[0.25,0.55,0.20],[0.25,0.55,0.20],[0.25,0.55,0.20],[0.25,0.55,0.20],[0.25,0.55,0.20],[0.25,0.55,0.20],[0.25,0.55,0.20],\n",
    "                                 [0.25,0.55,0.20],[0.25,0.55,0.20],[0.25,0.55,0.20],[0.25,0.55,0.20],[0.25,0.55,0.20],[0.25,0.55,0.20],[0.25,0.55,0.20],[0.25,0.55,0.20],[0.25,0.55,0.20],[0.25,0.55,0.20],\n",
    "                                 [0.25,0.55,0.20],[0.25,0.55,0.20],[0.25,0.55,0.20],[0.25,0.55,0.20],[0.25,0.55,0.20],[0.25,0.55,0.20],[0.25,0.55,0.20],[0.25,0.55,0.20],[0.25,0.55,0.20],[0.25,0.55,0.20],\n",
    "                                 [0.25,0.55,0.20],[0.25,0.55,0.20],[0.25,0.55,0.20],[0.25,0.55,0.20],[0.25,0.55,0.20],[0.25,0.55,0.20]]\n",
    "                                 \n",
    "arrStateVarible  = ['Alta','Normal','Baja']\n",
    "arrProbabilistic = [0.75,0.20,0.05]"
   ]
  },
  {
   "cell_type": "code",
   "execution_count": 9,
   "metadata": {
    "collapsed": true
   },
   "outputs": [],
   "source": [
    "arrStateEvidence    = [2,2,2,2,2,2,2,2,2,2]\n",
    "arrVariableEvidence         = ['MR_amlodipino','MR_captopril' ,'MR_carvedilol','MR_enalapril','MR_furosemida','MR_losartan' ,'MR_metoprolol', 'MR_prazosin',  'MR_propanolol', 'MR_verapamilo']\n",
    "arrSingleProbabilisticEvidence =[[0.20,0.70,0.10],[0.10,0.80,0.10],[0.05,0.85,0.10],[0.10,0.75,0.15],[0.25,0.75,0.00],[0.25,0.75,0.00],[0.10,0.80,0.10],[0.05,0.95,0.00],[0.20,0.75,0.05],[0.15,0.80,0.05]]\n",
    "arrDoubleProbabilisticEvidence =[[0.25,0.55,0.20],[0.25,0.55,0.20],[0.25,0.55,0.20],[0.25,0.55,0.20],[0.25,0.55,0.20],[0.25,0.55,0.20],[0.25,0.55,0.20],[0.25,0.55,0.20],[0.25,0.55,0.20],[0.25,0.55,0.20],\n",
    "                                 [0.25,0.55,0.20],[0.25,0.55,0.20],[0.25,0.55,0.20],[0.25,0.55,0.20],[0.25,0.55,0.20],[0.25,0.55,0.20],[0.25,0.55,0.20],[0.25,0.55,0.20],[0.25,0.55,0.20],[0.25,0.55,0.20],\n",
    "                                 [0.25,0.55,0.20],[0.25,0.55,0.20],[0.25,0.55,0.20],[0.25,0.55,0.20],[0.25,0.55,0.20],[0.25,0.55,0.20],[0.25,0.55,0.20],[0.25,0.55,0.20],[0.25,0.55,0.20],[0.25,0.55,0.20],\n",
    "                                 [0.25,0.55,0.20],[0.25,0.55,0.20],[0.25,0.55,0.20],[0.25,0.55,0.20],[0.25,0.55,0.20],[0.25,0.55,0.20],[0.25,0.55,0.20],[0.25,0.55,0.20],[0.25,0.55,0.20],[0.25,0.55,0.20],\n",
    "                                 [0.25,0.55,0.20],[0.25,0.55,0.20],[0.25,0.55,0.20],[0.25,0.55,0.20],[0.25,0.55,0.20]]\n",
    "arrStateVarible  = ['Alta','Normal','Baja']\n",
    "arrProbabilistic = [0.75,0.20,0.05]"
   ]
  },
  {
   "cell_type": "code",
   "execution_count": 38,
   "metadata": {
    "collapsed": false
   },
   "outputs": [],
   "source": [
    "values_presion_arterial = generateProbabilisticList(arrStateEvidence, arrVariableEvidence,arrSingleProbabilisticEvidence,arrDoubleProbabilisticEvidence,arrStateVarible, arrProbabilistic)"
   ]
  },
  {
   "cell_type": "code",
   "execution_count": 39,
   "metadata": {
    "collapsed": false
   },
   "outputs": [
    {
     "name": "stdout",
     "output_type": "stream",
     "text": [
      "[[0.75, 0.75, 0.75, 0.75, 0.75, 0.75, 0.75, 0.75, 0.75, 0.75, 0.75, 0.75, 0.75, 0.75, 0.75, 0.75, 0.75, 0.75, 0.75, 0.75, 0.75, 0.75, 0.75, 0.75, 0.75, 0.75, 0.75, 0.75, 0.75, 0.75, 0.75, 0.75, 0.75, 0.75, 0.75, 0.75, 0.75, 0.75, 0.75, 0.75, 0.75, 0.75, 0.75, 0.75, 0.75, 0.75, 0.75, 0.75, 0.75, 0.75, 0.75, 0.75, 0.75, 0.75, 0.75, 0.75, 0.75, 0.75, 0.75, 0.75, 0.75, 0.75, 0.75, 0.75, 0.75, 0.75, 0.75, 0.75, 0.75, 0.75, 0.75, 0.75, 0.75, 0.75, 0.75, 0.75, 0.75, 0.75, 0.75, 0.75, 0.75, 0.75, 0.75, 0.75, 0.75, 0.75, 0.75, 0.75, 0.75, 0.75, 0.75, 0.75, 0.75, 0.75, 0.75, 0.75, 0.75, 0.75, 0.75, 0.75, 0.75, 0.75, 0.75, 0.75, 0.75, 0.75, 0.75, 0.75, 0.75, 0.75, 0.75, 0.75, 0.75, 0.75, 0.75, 0.75, 0.75, 0.75, 0.75, 0.75, 0.75, 0.75, 0.75, 0.75, 0.75, 0.75, 0.75, 0.25, 0.75, 0.75, 0.75, 0.75, 0.75, 0.75, 0.75, 0.75, 0.75, 0.75, 0.75, 0.75, 0.75, 0.75, 0.75, 0.75, 0.75, 0.75, 0.75, 0.75, 0.75, 0.75, 0.75, 0.75, 0.75, 0.75, 0.75, 0.75, 0.75, 0.75, 0.75, 0.75, 0.75, 0.75, 0.75, 0.75, 0.75, 0.75, 0.75, 0.75, 0.75, 0.75, 0.75, 0.75, 0.75, 0.75, 0.75, 0.75, 0.75, 0.75, 0.75, 0.75, 0.75, 0.75, 0.75, 0.75, 0.75, 0.75, 0.75, 0.75, 0.75, 0.75, 0.75, 0.25, 0.75, 0.75, 0.75, 0.75, 0.75, 0.75, 0.75, 0.75, 0.75, 0.75, 0.75, 0.75, 0.75, 0.75, 0.75, 0.75, 0.75, 0.75, 0.75, 0.75, 0.75, 0.75, 0.75, 0.75, 0.75, 0.75, 0.75, 0.75, 0.75, 0.75, 0.75, 0.25, 0.75, 0.75, 0.75, 0.75, 0.75, 0.75, 0.75, 0.75, 0.75, 0.75, 0.75, 0.75, 0.75, 0.75, 0.75, 0.25, 0.75, 0.75, 0.75, 0.75, 0.75, 0.75, 0.75, 0.25, 0.75, 0.75, 0.75, 0.25, 0.75, 0.25, 0.25, 0.15, 0.75, 0.75, 0.75, 0.75, 0.75, 0.75, 0.75, 0.75, 0.75, 0.75, 0.75, 0.75, 0.75, 0.75, 0.75, 0.75, 0.75, 0.75, 0.75, 0.75, 0.75, 0.75, 0.75, 0.75, 0.75, 0.75, 0.75, 0.75, 0.75, 0.75, 0.75, 0.75, 0.75, 0.75, 0.75, 0.75, 0.75, 0.75, 0.75, 0.75, 0.75, 0.75, 0.75, 0.75, 0.75, 0.75, 0.75, 0.75, 0.75, 0.75, 0.75, 0.75, 0.75, 0.75, 0.75, 0.75, 0.75, 0.75, 0.75, 0.75, 0.75, 0.75, 0.75, 0.25, 0.75, 0.75, 0.75, 0.75, 0.75, 0.75, 0.75, 0.75, 0.75, 0.75, 0.75, 0.75, 0.75, 0.75, 0.75, 0.75, 0.75, 0.75, 0.75, 0.75, 0.75, 0.75, 0.75, 0.75, 0.75, 0.75, 0.75, 0.75, 0.75, 0.75, 0.75, 0.25, 0.75, 0.75, 0.75, 0.75, 0.75, 0.75, 0.75, 0.75, 0.75, 0.75, 0.75, 0.75, 0.75, 0.75, 0.75, 0.25, 0.75, 0.75, 0.75, 0.75, 0.75, 0.75, 0.75, 0.25, 0.75, 0.75, 0.75, 0.25, 0.75, 0.25, 0.25, 0.2, 0.75, 0.75, 0.75, 0.75, 0.75, 0.75, 0.75, 0.75, 0.75, 0.75, 0.75, 0.75, 0.75, 0.75, 0.75, 0.75, 0.75, 0.75, 0.75, 0.75, 0.75, 0.75, 0.75, 0.75, 0.75, 0.75, 0.75, 0.75, 0.75, 0.75, 0.75, 0.25, 0.75, 0.75, 0.75, 0.75, 0.75, 0.75, 0.75, 0.75, 0.75, 0.75, 0.75, 0.75, 0.75, 0.75, 0.75, 0.25, 0.75, 0.75, 0.75, 0.75, 0.75, 0.75, 0.75, 0.25, 0.75, 0.75, 0.75, 0.25, 0.75, 0.25, 0.25, 0.05, 0.75, 0.75, 0.75, 0.75, 0.75, 0.75, 0.75, 0.75, 0.75, 0.75, 0.75, 0.75, 0.75, 0.75, 0.75, 0.25, 0.75, 0.75, 0.75, 0.75, 0.75, 0.75, 0.75, 0.25, 0.75, 0.75, 0.75, 0.25, 0.75, 0.25, 0.25, 0.1, 0.75, 0.75, 0.75, 0.75, 0.75, 0.75, 0.75, 0.25, 0.75, 0.75, 0.75, 0.25, 0.75, 0.25, 0.25, 0.25, 0.75, 0.75, 0.75, 0.25, 0.75, 0.25, 0.25, 0.1, 0.75, 0.25, 0.25, 0.05, 0.25, 0.1, 0.2, 0.75], [0.2, 0.2, 0.2, 0.2, 0.2, 0.2, 0.2, 0.2, 0.2, 0.2, 0.2, 0.2, 0.2, 0.2, 0.2, 0.2, 0.2, 0.2, 0.2, 0.2, 0.2, 0.2, 0.2, 0.2, 0.2, 0.2, 0.2, 0.2, 0.2, 0.2, 0.2, 0.2, 0.2, 0.2, 0.2, 0.2, 0.2, 0.2, 0.2, 0.2, 0.2, 0.2, 0.2, 0.2, 0.2, 0.2, 0.2, 0.2, 0.2, 0.2, 0.2, 0.2, 0.2, 0.2, 0.2, 0.2, 0.2, 0.2, 0.2, 0.2, 0.2, 0.2, 0.2, 0.2, 0.2, 0.2, 0.2, 0.2, 0.2, 0.2, 0.2, 0.2, 0.2, 0.2, 0.2, 0.2, 0.2, 0.2, 0.2, 0.2, 0.2, 0.2, 0.2, 0.2, 0.2, 0.2, 0.2, 0.2, 0.2, 0.2, 0.2, 0.2, 0.2, 0.2, 0.2, 0.2, 0.2, 0.2, 0.2, 0.2, 0.2, 0.2, 0.2, 0.2, 0.2, 0.2, 0.2, 0.2, 0.2, 0.2, 0.2, 0.2, 0.2, 0.2, 0.2, 0.2, 0.2, 0.2, 0.2, 0.2, 0.2, 0.2, 0.2, 0.2, 0.2, 0.2, 0.2, 0.55, 0.2, 0.2, 0.2, 0.2, 0.2, 0.2, 0.2, 0.2, 0.2, 0.2, 0.2, 0.2, 0.2, 0.2, 0.2, 0.2, 0.2, 0.2, 0.2, 0.2, 0.2, 0.2, 0.2, 0.2, 0.2, 0.2, 0.2, 0.2, 0.2, 0.2, 0.2, 0.2, 0.2, 0.2, 0.2, 0.2, 0.2, 0.2, 0.2, 0.2, 0.2, 0.2, 0.2, 0.2, 0.2, 0.2, 0.2, 0.2, 0.2, 0.2, 0.2, 0.2, 0.2, 0.2, 0.2, 0.2, 0.2, 0.2, 0.2, 0.2, 0.2, 0.2, 0.2, 0.55, 0.2, 0.2, 0.2, 0.2, 0.2, 0.2, 0.2, 0.2, 0.2, 0.2, 0.2, 0.2, 0.2, 0.2, 0.2, 0.2, 0.2, 0.2, 0.2, 0.2, 0.2, 0.2, 0.2, 0.2, 0.2, 0.2, 0.2, 0.2, 0.2, 0.2, 0.2, 0.55, 0.2, 0.2, 0.2, 0.2, 0.2, 0.2, 0.2, 0.2, 0.2, 0.2, 0.2, 0.2, 0.2, 0.2, 0.2, 0.55, 0.2, 0.2, 0.2, 0.2, 0.2, 0.2, 0.2, 0.55, 0.2, 0.2, 0.2, 0.55, 0.2, 0.55, 0.55, 0.8, 0.2, 0.2, 0.2, 0.2, 0.2, 0.2, 0.2, 0.2, 0.2, 0.2, 0.2, 0.2, 0.2, 0.2, 0.2, 0.2, 0.2, 0.2, 0.2, 0.2, 0.2, 0.2, 0.2, 0.2, 0.2, 0.2, 0.2, 0.2, 0.2, 0.2, 0.2, 0.2, 0.2, 0.2, 0.2, 0.2, 0.2, 0.2, 0.2, 0.2, 0.2, 0.2, 0.2, 0.2, 0.2, 0.2, 0.2, 0.2, 0.2, 0.2, 0.2, 0.2, 0.2, 0.2, 0.2, 0.2, 0.2, 0.2, 0.2, 0.2, 0.2, 0.2, 0.2, 0.55, 0.2, 0.2, 0.2, 0.2, 0.2, 0.2, 0.2, 0.2, 0.2, 0.2, 0.2, 0.2, 0.2, 0.2, 0.2, 0.2, 0.2, 0.2, 0.2, 0.2, 0.2, 0.2, 0.2, 0.2, 0.2, 0.2, 0.2, 0.2, 0.2, 0.2, 0.2, 0.55, 0.2, 0.2, 0.2, 0.2, 0.2, 0.2, 0.2, 0.2, 0.2, 0.2, 0.2, 0.2, 0.2, 0.2, 0.2, 0.55, 0.2, 0.2, 0.2, 0.2, 0.2, 0.2, 0.2, 0.55, 0.2, 0.2, 0.2, 0.55, 0.2, 0.55, 0.55, 0.75, 0.2, 0.2, 0.2, 0.2, 0.2, 0.2, 0.2, 0.2, 0.2, 0.2, 0.2, 0.2, 0.2, 0.2, 0.2, 0.2, 0.2, 0.2, 0.2, 0.2, 0.2, 0.2, 0.2, 0.2, 0.2, 0.2, 0.2, 0.2, 0.2, 0.2, 0.2, 0.55, 0.2, 0.2, 0.2, 0.2, 0.2, 0.2, 0.2, 0.2, 0.2, 0.2, 0.2, 0.2, 0.2, 0.2, 0.2, 0.55, 0.2, 0.2, 0.2, 0.2, 0.2, 0.2, 0.2, 0.55, 0.2, 0.2, 0.2, 0.55, 0.2, 0.55, 0.55, 0.95, 0.2, 0.2, 0.2, 0.2, 0.2, 0.2, 0.2, 0.2, 0.2, 0.2, 0.2, 0.2, 0.2, 0.2, 0.2, 0.55, 0.2, 0.2, 0.2, 0.2, 0.2, 0.2, 0.2, 0.55, 0.2, 0.2, 0.2, 0.55, 0.2, 0.55, 0.55, 0.8, 0.2, 0.2, 0.2, 0.2, 0.2, 0.2, 0.2, 0.55, 0.2, 0.2, 0.2, 0.55, 0.2, 0.55, 0.55, 0.75, 0.2, 0.2, 0.2, 0.55, 0.2, 0.55, 0.55, 0.75, 0.2, 0.55, 0.55, 0.85, 0.55, 0.8, 0.7, 0.2], [0.05, 0.05, 0.05, 0.05, 0.05, 0.05, 0.05, 0.05, 0.05, 0.05, 0.05, 0.05, 0.05, 0.05, 0.05, 0.05, 0.05, 0.05, 0.05, 0.05, 0.05, 0.05, 0.05, 0.05, 0.05, 0.05, 0.05, 0.05, 0.05, 0.05, 0.05, 0.05, 0.05, 0.05, 0.05, 0.05, 0.05, 0.05, 0.05, 0.05, 0.05, 0.05, 0.05, 0.05, 0.05, 0.05, 0.05, 0.05, 0.05, 0.05, 0.05, 0.05, 0.05, 0.05, 0.05, 0.05, 0.05, 0.05, 0.05, 0.05, 0.05, 0.05, 0.05, 0.05, 0.05, 0.05, 0.05, 0.05, 0.05, 0.05, 0.05, 0.05, 0.05, 0.05, 0.05, 0.05, 0.05, 0.05, 0.05, 0.05, 0.05, 0.05, 0.05, 0.05, 0.05, 0.05, 0.05, 0.05, 0.05, 0.05, 0.05, 0.05, 0.05, 0.05, 0.05, 0.05, 0.05, 0.05, 0.05, 0.05, 0.05, 0.05, 0.05, 0.05, 0.05, 0.05, 0.05, 0.05, 0.05, 0.05, 0.05, 0.05, 0.05, 0.05, 0.05, 0.05, 0.05, 0.05, 0.05, 0.05, 0.05, 0.05, 0.05, 0.05, 0.05, 0.05, 0.05, 0.2, 0.05, 0.05, 0.05, 0.05, 0.05, 0.05, 0.05, 0.05, 0.05, 0.05, 0.05, 0.05, 0.05, 0.05, 0.05, 0.05, 0.05, 0.05, 0.05, 0.05, 0.05, 0.05, 0.05, 0.05, 0.05, 0.05, 0.05, 0.05, 0.05, 0.05, 0.05, 0.05, 0.05, 0.05, 0.05, 0.05, 0.05, 0.05, 0.05, 0.05, 0.05, 0.05, 0.05, 0.05, 0.05, 0.05, 0.05, 0.05, 0.05, 0.05, 0.05, 0.05, 0.05, 0.05, 0.05, 0.05, 0.05, 0.05, 0.05, 0.05, 0.05, 0.05, 0.05, 0.2, 0.05, 0.05, 0.05, 0.05, 0.05, 0.05, 0.05, 0.05, 0.05, 0.05, 0.05, 0.05, 0.05, 0.05, 0.05, 0.05, 0.05, 0.05, 0.05, 0.05, 0.05, 0.05, 0.05, 0.05, 0.05, 0.05, 0.05, 0.05, 0.05, 0.05, 0.05, 0.2, 0.05, 0.05, 0.05, 0.05, 0.05, 0.05, 0.05, 0.05, 0.05, 0.05, 0.05, 0.05, 0.05, 0.05, 0.05, 0.2, 0.05, 0.05, 0.05, 0.05, 0.05, 0.05, 0.05, 0.2, 0.05, 0.05, 0.05, 0.2, 0.05, 0.2, 0.2, 0.05, 0.05, 0.05, 0.05, 0.05, 0.05, 0.05, 0.05, 0.05, 0.05, 0.05, 0.05, 0.05, 0.05, 0.05, 0.05, 0.05, 0.05, 0.05, 0.05, 0.05, 0.05, 0.05, 0.05, 0.05, 0.05, 0.05, 0.05, 0.05, 0.05, 0.05, 0.05, 0.05, 0.05, 0.05, 0.05, 0.05, 0.05, 0.05, 0.05, 0.05, 0.05, 0.05, 0.05, 0.05, 0.05, 0.05, 0.05, 0.05, 0.05, 0.05, 0.05, 0.05, 0.05, 0.05, 0.05, 0.05, 0.05, 0.05, 0.05, 0.05, 0.05, 0.05, 0.05, 0.2, 0.05, 0.05, 0.05, 0.05, 0.05, 0.05, 0.05, 0.05, 0.05, 0.05, 0.05, 0.05, 0.05, 0.05, 0.05, 0.05, 0.05, 0.05, 0.05, 0.05, 0.05, 0.05, 0.05, 0.05, 0.05, 0.05, 0.05, 0.05, 0.05, 0.05, 0.05, 0.2, 0.05, 0.05, 0.05, 0.05, 0.05, 0.05, 0.05, 0.05, 0.05, 0.05, 0.05, 0.05, 0.05, 0.05, 0.05, 0.2, 0.05, 0.05, 0.05, 0.05, 0.05, 0.05, 0.05, 0.2, 0.05, 0.05, 0.05, 0.2, 0.05, 0.2, 0.2, 0.05, 0.05, 0.05, 0.05, 0.05, 0.05, 0.05, 0.05, 0.05, 0.05, 0.05, 0.05, 0.05, 0.05, 0.05, 0.05, 0.05, 0.05, 0.05, 0.05, 0.05, 0.05, 0.05, 0.05, 0.05, 0.05, 0.05, 0.05, 0.05, 0.05, 0.05, 0.05, 0.2, 0.05, 0.05, 0.05, 0.05, 0.05, 0.05, 0.05, 0.05, 0.05, 0.05, 0.05, 0.05, 0.05, 0.05, 0.05, 0.2, 0.05, 0.05, 0.05, 0.05, 0.05, 0.05, 0.05, 0.2, 0.05, 0.05, 0.05, 0.2, 0.05, 0.2, 0.2, 0.0, 0.05, 0.05, 0.05, 0.05, 0.05, 0.05, 0.05, 0.05, 0.05, 0.05, 0.05, 0.05, 0.05, 0.05, 0.05, 0.2, 0.05, 0.05, 0.05, 0.05, 0.05, 0.05, 0.05, 0.2, 0.05, 0.05, 0.05, 0.2, 0.05, 0.2, 0.2, 0.1, 0.05, 0.05, 0.05, 0.05, 0.05, 0.05, 0.05, 0.2, 0.05, 0.05, 0.05, 0.2, 0.05, 0.2, 0.2, 0.0, 0.05, 0.05, 0.05, 0.2, 0.05, 0.2, 0.2, 0.15, 0.05, 0.2, 0.2, 0.1, 0.2, 0.1, 0.1, 0.05]]\n"
     ]
    }
   ],
   "source": [
    "print(values_presion_arterial)"
   ]
  },
  {
   "cell_type": "markdown",
   "metadata": {},
   "source": [
    "## Variable Enfermedad Renal Hipertensiva"
   ]
  },
  {
   "cell_type": "code",
   "execution_count": 40,
   "metadata": {
    "collapsed": true
   },
   "outputs": [],
   "source": [
    "\n",
    "arrStateEvidence    = [2,2,2,2,2,2,2,2,2]\n",
    "arrVariableEvidence =           ['MR_amlodipino','MR_captopril','MR_carvedilol','MR_enalapril', 'MR_losartan', 'MR_metoprolol','MR_prazosin', 'MR_propanolol','MR_verapamilo','MR_propanolol','MR_verapamilo','MR_acebutolol','MR_bisoprolol','MR_nadolol']\n",
    "arrSingleProbabilisticEvidence =[[0.20,0.80],[0.40,0.60],[0.10,0.90],[0.35,0.65],[0.60,0.40],[0.32,0.68],[0.25,0.75],[0.30,0.70],[0.45,0.55]]\n",
    "\n",
    "arrDoubleProbabilisticEvidence =[[0.80,0.20],[0.80,0.20],[0.80,0.20],[0.80,0.20],[0.80,0.20],[0.80,0.20],[0.80,0.20],[0.80,0.20],[0.80,0.20],[0.80,0.20],\n",
    "                                 [0.80,0.20],[0.80,0.20],[0.80,0.20],[0.80,0.20],[0.80,0.20],[0.80,0.20],[0.80,0.20],[0.80,0.20],[0.80,0.20],[0.80,0.20],\n",
    "                                 [0.80,0.20],[0.80,0.20],[0.80,0.20],[0.80,0.20],[0.80,0.20],[0.80,0.20],[0.80,0.20],[0.80,0.20],[0.80,0.20],[0.80,0.20],\n",
    "                                 [0.80,0.20],[0.80,0.20],[0.80,0.20],[0.80,0.20],[0.80,0.20],[0.80,0.20]]\n",
    "\n",
    "arrStateVarible  = ['Presente', 'Ausente']\n",
    "arrProbabilistic = [0.75,0.25]"
   ]
  },
  {
   "cell_type": "code",
   "execution_count": 41,
   "metadata": {
    "collapsed": false
   },
   "outputs": [],
   "source": [
    "values_danho_rinhones = generateProbabilisticList(arrStateEvidence, arrVariableEvidence,arrSingleProbabilisticEvidence,arrDoubleProbabilisticEvidence, arrStateVarible, arrProbabilistic)"
   ]
  },
  {
   "cell_type": "code",
   "execution_count": 42,
   "metadata": {
    "collapsed": false
   },
   "outputs": [
    {
     "name": "stdout",
     "output_type": "stream",
     "text": [
      "[[0.75, 0.75, 0.75, 0.75, 0.75, 0.75, 0.75, 0.75, 0.75, 0.75, 0.75, 0.75, 0.75, 0.75, 0.75, 0.75, 0.75, 0.75, 0.75, 0.75, 0.75, 0.75, 0.75, 0.75, 0.75, 0.75, 0.75, 0.75, 0.75, 0.75, 0.75, 0.75, 0.75, 0.75, 0.75, 0.75, 0.75, 0.75, 0.75, 0.75, 0.75, 0.75, 0.75, 0.75, 0.75, 0.75, 0.75, 0.75, 0.75, 0.75, 0.75, 0.75, 0.75, 0.75, 0.75, 0.75, 0.75, 0.75, 0.75, 0.75, 0.75, 0.75, 0.75, 0.75, 0.75, 0.75, 0.75, 0.75, 0.75, 0.75, 0.75, 0.75, 0.75, 0.75, 0.75, 0.75, 0.75, 0.75, 0.75, 0.75, 0.75, 0.75, 0.75, 0.75, 0.75, 0.75, 0.75, 0.75, 0.75, 0.75, 0.75, 0.75, 0.75, 0.75, 0.75, 0.75, 0.75, 0.75, 0.75, 0.75, 0.75, 0.75, 0.75, 0.75, 0.75, 0.75, 0.75, 0.75, 0.75, 0.75, 0.75, 0.75, 0.75, 0.75, 0.75, 0.75, 0.75, 0.75, 0.75, 0.75, 0.75, 0.75, 0.75, 0.75, 0.75, 0.75, 0.75, 0.8, 0.75, 0.75, 0.75, 0.75, 0.75, 0.75, 0.75, 0.75, 0.75, 0.75, 0.75, 0.75, 0.75, 0.75, 0.75, 0.75, 0.75, 0.75, 0.75, 0.75, 0.75, 0.75, 0.75, 0.75, 0.75, 0.75, 0.75, 0.75, 0.75, 0.75, 0.75, 0.75, 0.75, 0.75, 0.75, 0.75, 0.75, 0.75, 0.75, 0.75, 0.75, 0.75, 0.75, 0.75, 0.75, 0.75, 0.75, 0.75, 0.75, 0.75, 0.75, 0.75, 0.75, 0.75, 0.75, 0.75, 0.75, 0.75, 0.75, 0.75, 0.75, 0.75, 0.75, 0.8, 0.75, 0.75, 0.75, 0.75, 0.75, 0.75, 0.75, 0.75, 0.75, 0.75, 0.75, 0.75, 0.75, 0.75, 0.75, 0.75, 0.75, 0.75, 0.75, 0.75, 0.75, 0.75, 0.75, 0.75, 0.75, 0.75, 0.75, 0.75, 0.75, 0.75, 0.75, 0.8, 0.75, 0.75, 0.75, 0.75, 0.75, 0.75, 0.75, 0.75, 0.75, 0.75, 0.75, 0.75, 0.75, 0.75, 0.75, 0.8, 0.75, 0.75, 0.75, 0.75, 0.75, 0.75, 0.75, 0.8, 0.75, 0.75, 0.75, 0.8, 0.75, 0.8, 0.8, 0.45, 0.75, 0.75, 0.75, 0.75, 0.75, 0.75, 0.75, 0.75, 0.75, 0.75, 0.75, 0.75, 0.75, 0.75, 0.75, 0.75, 0.75, 0.75, 0.75, 0.75, 0.75, 0.75, 0.75, 0.75, 0.75, 0.75, 0.75, 0.75, 0.75, 0.75, 0.75, 0.75, 0.75, 0.75, 0.75, 0.75, 0.75, 0.75, 0.75, 0.75, 0.75, 0.75, 0.75, 0.75, 0.75, 0.75, 0.75, 0.75, 0.75, 0.75, 0.75, 0.75, 0.75, 0.75, 0.75, 0.75, 0.75, 0.75, 0.75, 0.75, 0.75, 0.75, 0.75, 0.8, 0.75, 0.75, 0.75, 0.75, 0.75, 0.75, 0.75, 0.75, 0.75, 0.75, 0.75, 0.75, 0.75, 0.75, 0.75, 0.75, 0.75, 0.75, 0.75, 0.75, 0.75, 0.75, 0.75, 0.75, 0.75, 0.75, 0.75, 0.75, 0.75, 0.75, 0.75, 0.8, 0.75, 0.75, 0.75, 0.75, 0.75, 0.75, 0.75, 0.75, 0.75, 0.75, 0.75, 0.75, 0.75, 0.75, 0.75, 0.8, 0.75, 0.75, 0.75, 0.75, 0.75, 0.75, 0.75, 0.8, 0.75, 0.75, 0.75, 0.8, 0.75, 0.8, 0.8, 0.3, 0.75, 0.75, 0.75, 0.75, 0.75, 0.75, 0.75, 0.75, 0.75, 0.75, 0.75, 0.75, 0.75, 0.75, 0.75, 0.75, 0.75, 0.75, 0.75, 0.75, 0.75, 0.75, 0.75, 0.75, 0.75, 0.75, 0.75, 0.75, 0.75, 0.75, 0.75, 0.8, 0.75, 0.75, 0.75, 0.75, 0.75, 0.75, 0.75, 0.75, 0.75, 0.75, 0.75, 0.75, 0.75, 0.75, 0.75, 0.8, 0.75, 0.75, 0.75, 0.75, 0.75, 0.75, 0.75, 0.8, 0.75, 0.75, 0.75, 0.8, 0.75, 0.8, 0.8, 0.25, 0.75, 0.75, 0.75, 0.75, 0.75, 0.75, 0.75, 0.75, 0.75, 0.75, 0.75, 0.75, 0.75, 0.75, 0.75, 0.8, 0.75, 0.75, 0.75, 0.75, 0.75, 0.75, 0.75, 0.8, 0.75, 0.75, 0.75, 0.8, 0.75, 0.8, 0.8, 0.32, 0.75, 0.75, 0.75, 0.75, 0.75, 0.75, 0.75, 0.8, 0.75, 0.75, 0.75, 0.8, 0.75, 0.8, 0.8, 0.6, 0.75, 0.75, 0.75, 0.8, 0.75, 0.8, 0.8, 0.35, 0.75, 0.8, 0.8, 0.1, 0.8, 0.4, 0.2, 0.75], [0.25, 0.25, 0.25, 0.25, 0.25, 0.25, 0.25, 0.25, 0.25, 0.25, 0.25, 0.25, 0.25, 0.25, 0.25, 0.25, 0.25, 0.25, 0.25, 0.25, 0.25, 0.25, 0.25, 0.25, 0.25, 0.25, 0.25, 0.25, 0.25, 0.25, 0.25, 0.25, 0.25, 0.25, 0.25, 0.25, 0.25, 0.25, 0.25, 0.25, 0.25, 0.25, 0.25, 0.25, 0.25, 0.25, 0.25, 0.25, 0.25, 0.25, 0.25, 0.25, 0.25, 0.25, 0.25, 0.25, 0.25, 0.25, 0.25, 0.25, 0.25, 0.25, 0.25, 0.25, 0.25, 0.25, 0.25, 0.25, 0.25, 0.25, 0.25, 0.25, 0.25, 0.25, 0.25, 0.25, 0.25, 0.25, 0.25, 0.25, 0.25, 0.25, 0.25, 0.25, 0.25, 0.25, 0.25, 0.25, 0.25, 0.25, 0.25, 0.25, 0.25, 0.25, 0.25, 0.25, 0.25, 0.25, 0.25, 0.25, 0.25, 0.25, 0.25, 0.25, 0.25, 0.25, 0.25, 0.25, 0.25, 0.25, 0.25, 0.25, 0.25, 0.25, 0.25, 0.25, 0.25, 0.25, 0.25, 0.25, 0.25, 0.25, 0.25, 0.25, 0.25, 0.25, 0.25, 0.2, 0.25, 0.25, 0.25, 0.25, 0.25, 0.25, 0.25, 0.25, 0.25, 0.25, 0.25, 0.25, 0.25, 0.25, 0.25, 0.25, 0.25, 0.25, 0.25, 0.25, 0.25, 0.25, 0.25, 0.25, 0.25, 0.25, 0.25, 0.25, 0.25, 0.25, 0.25, 0.25, 0.25, 0.25, 0.25, 0.25, 0.25, 0.25, 0.25, 0.25, 0.25, 0.25, 0.25, 0.25, 0.25, 0.25, 0.25, 0.25, 0.25, 0.25, 0.25, 0.25, 0.25, 0.25, 0.25, 0.25, 0.25, 0.25, 0.25, 0.25, 0.25, 0.25, 0.25, 0.2, 0.25, 0.25, 0.25, 0.25, 0.25, 0.25, 0.25, 0.25, 0.25, 0.25, 0.25, 0.25, 0.25, 0.25, 0.25, 0.25, 0.25, 0.25, 0.25, 0.25, 0.25, 0.25, 0.25, 0.25, 0.25, 0.25, 0.25, 0.25, 0.25, 0.25, 0.25, 0.2, 0.25, 0.25, 0.25, 0.25, 0.25, 0.25, 0.25, 0.25, 0.25, 0.25, 0.25, 0.25, 0.25, 0.25, 0.25, 0.2, 0.25, 0.25, 0.25, 0.25, 0.25, 0.25, 0.25, 0.2, 0.25, 0.25, 0.25, 0.2, 0.25, 0.2, 0.2, 0.55, 0.25, 0.25, 0.25, 0.25, 0.25, 0.25, 0.25, 0.25, 0.25, 0.25, 0.25, 0.25, 0.25, 0.25, 0.25, 0.25, 0.25, 0.25, 0.25, 0.25, 0.25, 0.25, 0.25, 0.25, 0.25, 0.25, 0.25, 0.25, 0.25, 0.25, 0.25, 0.25, 0.25, 0.25, 0.25, 0.25, 0.25, 0.25, 0.25, 0.25, 0.25, 0.25, 0.25, 0.25, 0.25, 0.25, 0.25, 0.25, 0.25, 0.25, 0.25, 0.25, 0.25, 0.25, 0.25, 0.25, 0.25, 0.25, 0.25, 0.25, 0.25, 0.25, 0.25, 0.2, 0.25, 0.25, 0.25, 0.25, 0.25, 0.25, 0.25, 0.25, 0.25, 0.25, 0.25, 0.25, 0.25, 0.25, 0.25, 0.25, 0.25, 0.25, 0.25, 0.25, 0.25, 0.25, 0.25, 0.25, 0.25, 0.25, 0.25, 0.25, 0.25, 0.25, 0.25, 0.2, 0.25, 0.25, 0.25, 0.25, 0.25, 0.25, 0.25, 0.25, 0.25, 0.25, 0.25, 0.25, 0.25, 0.25, 0.25, 0.2, 0.25, 0.25, 0.25, 0.25, 0.25, 0.25, 0.25, 0.2, 0.25, 0.25, 0.25, 0.2, 0.25, 0.2, 0.2, 0.7, 0.25, 0.25, 0.25, 0.25, 0.25, 0.25, 0.25, 0.25, 0.25, 0.25, 0.25, 0.25, 0.25, 0.25, 0.25, 0.25, 0.25, 0.25, 0.25, 0.25, 0.25, 0.25, 0.25, 0.25, 0.25, 0.25, 0.25, 0.25, 0.25, 0.25, 0.25, 0.2, 0.25, 0.25, 0.25, 0.25, 0.25, 0.25, 0.25, 0.25, 0.25, 0.25, 0.25, 0.25, 0.25, 0.25, 0.25, 0.2, 0.25, 0.25, 0.25, 0.25, 0.25, 0.25, 0.25, 0.2, 0.25, 0.25, 0.25, 0.2, 0.25, 0.2, 0.2, 0.75, 0.25, 0.25, 0.25, 0.25, 0.25, 0.25, 0.25, 0.25, 0.25, 0.25, 0.25, 0.25, 0.25, 0.25, 0.25, 0.2, 0.25, 0.25, 0.25, 0.25, 0.25, 0.25, 0.25, 0.2, 0.25, 0.25, 0.25, 0.2, 0.25, 0.2, 0.2, 0.68, 0.25, 0.25, 0.25, 0.25, 0.25, 0.25, 0.25, 0.2, 0.25, 0.25, 0.25, 0.2, 0.25, 0.2, 0.2, 0.4, 0.25, 0.25, 0.25, 0.2, 0.25, 0.2, 0.2, 0.65, 0.25, 0.2, 0.2, 0.9, 0.2, 0.6, 0.8, 0.25]]\n"
     ]
    }
   ],
   "source": [
    "print(values_danho_rinhones)"
   ]
  },
  {
   "cell_type": "markdown",
   "metadata": {},
   "source": [
    "# Creando la estructura de la RB"
   ]
  },
  {
   "cell_type": "code",
   "execution_count": 43,
   "metadata": {
    "collapsed": false
   },
   "outputs": [],
   "source": [
    "bn0 = BayesianModel([('EP_Insuficiencia_Cardiaca', 'MR_metoprolol'),              \n",
    "                     ('EP_Asma_Bronquial'        , 'MR_metoprolol'), \n",
    "                     ('EP_Diabetes'              , 'MR_metoprolol'), \n",
    "                     ('EP_Infarto_Miocardio'     , 'MR_metoprolol'), \n",
    "                     ('EP_Bradicardia'           , 'MR_metoprolol'),\n",
    "                     ('EP_Diabetes' , 'MR_furosemida'), \n",
    "                    ('MP_ibuprofeno', 'MR_furosemida'), \n",
    "                    ('EP_Gota'      , 'MR_furosemida'),                      \n",
    "                    ('MR_metoprolol', 'SA_angina_de_pecho'),\n",
    "                    ('MR_metoprolol', 'SA_danho_rinhones'),\n",
    "                    ('MR_metoprolol', 'SA_presion_arterial'),\n",
    "                    ('MR_amlodipino', 'SA_angina_de_pecho'),\n",
    "                    ('MR_amlodipino', 'SA_danho_rinhones'),\n",
    "                    ('MR_amlodipino', 'SA_presion_arterial'),\n",
    "                    ('MR_losartan'  , 'SA_angina_de_pecho'),\n",
    "                    ('MR_losartan'  , 'SA_danho_rinhones'),\n",
    "                    ('MR_losartan'  , 'SA_presion_arterial'),\n",
    "                    ('MR_acebutolol', 'SA_angina_de_pecho'),\n",
    "                    ('MR_bisoprolol', 'SA_angina_de_pecho'),\n",
    "                    ('MR_nadolol'   , 'SA_angina_de_pecho'),\n",
    "                    ('MR_enalapril' , 'SA_danho_rinhones'),\n",
    "                    ('MR_enalapril' , 'SA_presion_arterial'),\n",
    "                    #('MR_furosemida', 'SA_presion_arterial'),\n",
    "                    #('MR_furosemida', 'SA_danho_rinhones'),\n",
    "                    ('MR_prazosin'  , 'SA_presion_arterial'),\n",
    "                    ('MR_prazosin'  , 'SA_danho_rinhones'),\n",
    "                    ('MR_verapamilo', 'SA_presion_arterial'),\n",
    "                    ('MR_verapamilo', 'SA_danho_rinhones'),\n",
    "                    ('MR_captopril' , 'SA_presion_arterial'),\n",
    "                    ('MR_captopril' , 'SA_danho_rinhones'),\n",
    "                    ('MR_propanolol', 'SA_presion_arterial'),\n",
    "                    ('MR_propanolol', 'SA_danho_rinhones'),\n",
    "                    ('MR_carvedilol', 'SA_presion_arterial'),\n",
    "                    ('MR_carvedilol', 'SA_danho_rinhones')\n",
    "                    ])\n"
   ]
  },
  {
   "cell_type": "markdown",
   "metadata": {},
   "source": [
    "# Definiendo los parametros del modelo (CPTs)\n",
    "En pgmpy las columnas son los valores de los padres (evidencias) y las filas son los estados de las variables "
   ]
  },
  {
   "cell_type": "code",
   "execution_count": 44,
   "metadata": {
    "collapsed": false
   },
   "outputs": [],
   "source": [
    "#Antecendentes de los pacientes geriatricos\n",
    "\n",
    "cpt_Insuficiencia_Cardiaca = TabularCPD('EP_Insuficiencia_Cardiaca', 2, [[0.5], [0.5]])\n",
    "cpt_Asma_Bronquial         = TabularCPD('EP_Asma_Bronquial', 2, [[0.5], [0.5]])\n",
    "cpt_Diabetes               = TabularCPD('EP_Diabetes', 2,[[0.5], [0.5]])\n",
    "cpt_Ibuprofeno             = TabularCPD('MP_ibuprofeno',2, [[0.5], [0.5]])\n",
    "cpt_Gota                   = TabularCPD('EP_Gota', 2, [[0.5], [0.5]])\n",
    "cpt_Infarto_Miocardio      = TabularCPD('EP_Infarto_Miocardio',2, [[0.5], [0.5]])\n",
    "cpt_Bradicardia            = TabularCPD('EP_Bradicardia', 2, [[0.5], [0.5]])"
   ]
  },
  {
   "cell_type": "code",
   "execution_count": 50,
   "metadata": {
    "collapsed": false
   },
   "outputs": [],
   "source": [
    "#Medicamentos a recetar\n",
    "\n",
    "cpt_metoprolol = TabularCPD('MR_metoprolol', 2, values_metoprolol, evidence= ['EP_Asma_Bronquial','EP_Diabetes','EP_Insuficiencia_Cardiaca','EP_Infarto_Miocardio', 'EP_Bradicardia'],evidence_card=[2,2,2,2,2])\n",
    "cpt_amlodipino = TabularCPD('MR_amlodipino', 2,[[0.5], [0.5]])\n",
    "cpt_losartan   = TabularCPD('MR_losartan'  , 2,[[0.5], [0.5]])\n",
    "cpt_enalapril  = TabularCPD('MR_enalapril' , 2,[[0.5], [0.5]])\n",
    "#cpt_furosemida = TabularCPD('MR_furosemida', 2,[[0.5], [0.5]])\n",
    "cpt_furosemida = TabularCPD('MR_furosemida', 2,values_furosemida,evidence=['EP_Diabetes','EP_Gota','MP_ibuprofeno'],evidence_card=[2,2,2])\n",
    "cpt_prazosin   = TabularCPD('MR_prazosin'  , 2,[[0.5], [0.5]])\n",
    "cpt_verapamilo = TabularCPD('MR_verapamilo', 2,[[0.5], [0.5]])\n",
    "cpt_captopril  = TabularCPD('MR_captopril' , 2,[[0.5], [0.5]])\n",
    "cpt_propanolol = TabularCPD('MR_propanolol', 2,[[0.5], [0.5]])\n",
    "cpt_carvedilol = TabularCPD('MR_carvedilol', 2,[[0.5], [0.5]])\n",
    "cpt_acebutolol = TabularCPD('MR_acebutolol', 2,[[0.5], [0.5]])\n",
    "cpt_bisoprolol = TabularCPD('MR_bisoprolol', 2,[[0.5], [0.5]])\n",
    "cpt_nadolol    = TabularCPD('MR_nadolol'   , 2,[[0.5], [0.5]])\n"
   ]
  },
  {
   "cell_type": "code",
   "execution_count": 51,
   "metadata": {
    "collapsed": false
   },
   "outputs": [],
   "source": [
    "#Sintomas resultantes\n",
    "cpt_angina_pecho     = TabularCPD('SA_angina_de_pecho' ,2,values_angina    ,['MR_amlodipino','MR_losartan','MR_metoprolol','MR_acebutolol','MR_bisoprolol','MR_nadolol'], [2,2,2,2,2,2])\n",
    "cpt_danho_rinhones   = TabularCPD('SA_danho_rinhones'  ,2,values_danho_rinhones  ,['MR_amlodipino','MR_captopril','MR_carvedilol','MR_enalapril', 'MR_losartan', 'MR_metoprolol','MR_prazosin', 'MR_propanolol','MR_verapamilo'],[2,2,2,2,2,2,2,2,2])\n",
    "cpt_presion_arterial = TabularCPD('SA_presion_arterial',3,values_presion_arterial,['MR_amlodipino','MR_captopril','MR_carvedilol','MR_enalapril', 'MR_losartan', 'MR_metoprolol','MR_prazosin', 'MR_propanolol','MR_verapamilo'],[2,2,2,2,2,2,2,2,2])"
   ]
  },
  {
   "cell_type": "markdown",
   "metadata": {},
   "source": [
    "## Asociando los CPTs con la estructura del modelo\n"
   ]
  },
  {
   "cell_type": "code",
   "execution_count": 56,
   "metadata": {
    "collapsed": false
   },
   "outputs": [],
   "source": [
    "bn0.add_cpds(cpt_Insuficiencia_Cardiaca, cpt_Asma_Bronquial, cpt_Diabetes, cpt_Ibuprofeno, cpt_Gota,cpt_Infarto_Miocardio,\n",
    "             cpt_Bradicardia, cpt_metoprolol, cpt_amlodipino  , cpt_enalapril,cpt_furosemida, cpt_losartan ,cpt_propanolol,\n",
    "             cpt_acebutolol   , cpt_bisoprolol  , cpt_nadolol  ,cpt_prazosin  , cpt_verapamilo, \n",
    "             cpt_captopril  , cpt_carvedilol, cpt_angina_pecho, cpt_danho_rinhones, cpt_presion_arterial)"
   ]
  },
  {
   "cell_type": "markdown",
   "metadata": {},
   "source": [
    "## Chequeando consistencia de la Red Bayesiana\n",
    "Chequea que todos los CPTs sean válidos para el modelo"
   ]
  },
  {
   "cell_type": "code",
   "execution_count": 57,
   "metadata": {
    "collapsed": false
   },
   "outputs": [
    {
     "data": {
      "text/plain": [
       "True"
      ]
     },
     "execution_count": 57,
     "metadata": {},
     "output_type": "execute_result"
    }
   ],
   "source": [
    "bn0.check_model()"
   ]
  },
  {
   "cell_type": "markdown",
   "metadata": {},
   "source": [
    "## Haciendo inferencias en la RB con algoritmo BeliefPropagation\n"
   ]
  },
  {
   "cell_type": "code",
   "execution_count": 85,
   "metadata": {
    "collapsed": false
   },
   "outputs": [
    {
     "data": {
      "text/plain": [
       "pgmpy.models.BayesianModel.BayesianModel"
      ]
     },
     "execution_count": 85,
     "metadata": {},
     "output_type": "execute_result"
    }
   ],
   "source": [
    "type(bn0)"
   ]
  },
  {
   "cell_type": "code",
   "execution_count": 86,
   "metadata": {
    "collapsed": false
   },
   "outputs": [
    {
     "data": {
      "text/plain": [
       "<pgmpy.models.BayesianModel.BayesianModel at 0x7f8e35510550>"
      ]
     },
     "execution_count": 86,
     "metadata": {},
     "output_type": "execute_result"
    }
   ],
   "source": [
    "bn0"
   ]
  },
  {
   "cell_type": "markdown",
   "metadata": {},
   "source": [
    "** Exportar red bayesiana respectiva ** "
   ]
  },
  {
   "cell_type": "code",
   "execution_count": 63,
   "metadata": {
    "collapsed": true
   },
   "outputs": [],
   "source": [
    "from pgmpy.readwrite import BIFWriter\n",
    "from pgmpy.readwrite import BIFReader"
   ]
  },
  {
   "cell_type": "code",
   "execution_count": 58,
   "metadata": {
    "collapsed": false,
    "scrolled": true
   },
   "outputs": [],
   "source": [
    "bp = BeliefPropagation(bn0)"
   ]
  },
  {
   "cell_type": "code",
   "execution_count": 60,
   "metadata": {
    "collapsed": false
   },
   "outputs": [],
   "source": [
    "#write the model\n",
    "#using ProbModelXML\n",
    "#writer = ProbModelXMLWriter(bn0)\n",
    "#writer.write_file('probmodelxml.pgmx')\n",
    "#using BIF\n",
    "model_data = BIFWriter(bn0)\n",
    "model_data.write_bif('hipertension.bif')"
   ]
  },
  {
   "cell_type": "code",
   "execution_count": 61,
   "metadata": {
    "collapsed": false
   },
   "outputs": [
    {
     "data": {
      "text/plain": [
       "<pgmpy.readwrite.BIF.BIFWriter at 0x7f449d415ac8>"
      ]
     },
     "execution_count": 61,
     "metadata": {},
     "output_type": "execute_result"
    }
   ],
   "source": [
    "model_data"
   ]
  },
  {
   "cell_type": "markdown",
   "metadata": {},
   "source": [
    "** Leyendo la red bayesiana importada **"
   ]
  },
  {
   "cell_type": "code",
   "execution_count": 64,
   "metadata": {
    "collapsed": false
   },
   "outputs": [],
   "source": [
    "reader = BIFReader('hipertension.bif')\n",
    "model = reader.get_model()"
   ]
  },
  {
   "cell_type": "code",
   "execution_count": 65,
   "metadata": {
    "collapsed": false
   },
   "outputs": [
    {
     "data": {
      "text/plain": [
       "True"
      ]
     },
     "execution_count": 65,
     "metadata": {},
     "output_type": "execute_result"
    }
   ],
   "source": [
    "model.check_model()"
   ]
  },
  {
   "cell_type": "code",
   "execution_count": 66,
   "metadata": {
    "collapsed": true
   },
   "outputs": [],
   "source": [
    "bp = BeliefPropagation(model)"
   ]
  },
  {
   "cell_type": "code",
   "execution_count": 67,
   "metadata": {
    "collapsed": false
   },
   "outputs": [],
   "source": [
    "bp.calibrate()"
   ]
  },
  {
   "cell_type": "code",
   "execution_count": 69,
   "metadata": {
    "collapsed": false
   },
   "outputs": [],
   "source": [
    "phi = bp.query(variables=['SA_danho_rinhones','SA_presion_arterial'], \n",
    "                            evidence={'EP_Insuficiencia_Cardiaca':1, 'EP_Asma_Bronquial':1, 'EP_Diabetes':1, \n",
    "                                      'MR_metoprolol':1, 'MR_amlodipino':0,'MR_enalapril':0,'MR_captopril':0,\n",
    "                                      'MR_carvedilol':0,'MR_furosemida': 0,'MR_losartan':0,\n",
    "                                      'MR_prazosin':0,'MR_propanolol':0,'MR_verapamilo':0})"
   ]
  },
  {
   "cell_type": "code",
   "execution_count": 70,
   "metadata": {
    "collapsed": false
   },
   "outputs": [],
   "source": [
    "array =phi['SA_presion_arterial'].values"
   ]
  },
  {
   "cell_type": "code",
   "execution_count": 71,
   "metadata": {
    "collapsed": false
   },
   "outputs": [
    {
     "data": {
      "text/plain": [
       "0.75"
      ]
     },
     "execution_count": 71,
     "metadata": {},
     "output_type": "execute_result"
    }
   ],
   "source": [
    "array[0]"
   ]
  },
  {
   "cell_type": "code",
   "execution_count": 72,
   "metadata": {
    "collapsed": false
   },
   "outputs": [
    {
     "name": "stdout",
     "output_type": "stream",
     "text": [
      "{'EP_Insuficiencia_Cardiaca': 1, 'MR_enalapril': 0, 'MR_metoprolol': 1, 'MR_amlodipino': 0}\n"
     ]
    }
   ],
   "source": [
    "print(createEvidence({'MR_metoprolol':1, 'MR_amlodipino':0,'MR_enalapril':0},{'EP_Insuficiencia_Cardiaca':1}))"
   ]
  },
  {
   "cell_type": "code",
   "execution_count": 73,
   "metadata": {
    "collapsed": true
   },
   "outputs": [],
   "source": [
    "def createEvidence(dicc1, dicc2):\n",
    "    evidence = dicc1.copy()\n",
    "    evidence.update(dicc2)\n",
    "    return evidence"
   ]
  },
  {
   "cell_type": "code",
   "execution_count": 74,
   "metadata": {
    "collapsed": false
   },
   "outputs": [],
   "source": [
    "\n",
    "def fitnessFunction(diccBackground, diccMedicines, arrSymtopm, arrEfects, arrWeight,bn):\n",
    "    bp = BeliefPropagation(bn)\n",
    "    mergeSymEff = arrSymtopm + arrEfects\n",
    "    evidence = createEvidence(diccBackground,diccMedicines)   \n",
    "    phi = bp.query(variables=mergeSymEff, evidence = evidence)\n",
    "    sumAbsen = 0\n",
    "    sumTotal = 0\n",
    "    print('Probabilidad de ausencia')\n",
    "    for i,val in enumerate(mergeSymEff):\n",
    "        arrProb = phi[val].values\n",
    "        large = len(arrProb)\n",
    "        print(arrProb[large-1])\n",
    "        sumAbsen += arrProb[large-1]*arrWeight[i]\n",
    "        sumTotal += 1*arrWeight[i]\n",
    "        \n",
    "    print('Score')\n",
    "    score = sumAbsen / sumTotal\n",
    "    return score\n",
    "    #Se busca maximizar la ausencia\n",
    "           "
   ]
  },
  {
   "cell_type": "code",
   "execution_count": 75,
   "metadata": {
    "collapsed": false
   },
   "outputs": [
    {
     "name": "stdout",
     "output_type": "stream",
     "text": [
      "Probabilidad de ausencia\n",
      "0.05234374999999999\n",
      "0.10125\n",
      "0.24921874999999996\n",
      "Score\n"
     ]
    },
    {
     "data": {
      "text/plain": [
       "0.1342708333333333"
      ]
     },
     "execution_count": 75,
     "metadata": {},
     "output_type": "execute_result"
    }
   ],
   "source": [
    "score = fitnessFunction({'EP_Insuficiencia_Cardiaca':0},{'MR_metoprolol':1, 'MR_amlodipino':0,'MR_enalapril':0},\n",
    "                 ['SA_presion_arterial','SA_angina_de_pecho'],['SA_danho_rinhones'],[1,1,1],bn0 )\n",
    "score"
   ]
  },
  {
   "cell_type": "code",
   "execution_count": null,
   "metadata": {
    "collapsed": true
   },
   "outputs": [],
   "source": []
  }
 ],
 "metadata": {
  "anaconda-cloud": {},
  "kernelspec": {
   "display_name": "Python [anaconda3]",
   "language": "python",
   "name": "Python [anaconda3]"
  },
  "language_info": {
   "codemirror_mode": {
    "name": "ipython",
    "version": 3
   },
   "file_extension": ".py",
   "mimetype": "text/x-python",
   "name": "python",
   "nbconvert_exporter": "python",
   "pygments_lexer": "ipython3",
   "version": "3.5.2"
  }
 },
 "nbformat": 4,
 "nbformat_minor": 2
}
