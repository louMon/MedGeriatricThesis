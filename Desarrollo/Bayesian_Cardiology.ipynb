{
 "cells": [
  {
   "cell_type": "code",
   "execution_count": 51,
   "metadata": {
    "collapsed": true
   },
   "outputs": [],
   "source": [
    "from pgmpy.models import BayesianModel\n",
    "from pgmpy.factors.discrete import TabularCPD\n",
    "from pgmpy.inference import BeliefPropagation\n",
    "from pgmpy.factors.discrete import DiscreteFactor\n",
    "\n",
    "from utils import *\n",
    "import pandas as pd\n",
    "import numpy as np"
   ]
  },
  {
   "cell_type": "markdown",
   "metadata": {},
   "source": [
    "## Antecedentes"
   ]
  },
  {
   "cell_type": "markdown",
   "metadata": {},
   "source": [
    "### +Enalapril"
   ]
  },
  {
   "cell_type": "code",
   "execution_count": 52,
   "metadata": {
    "collapsed": true
   },
   "outputs": [],
   "source": [
    "arrStateEvidence    = [2]\n",
    "arrVariableEvidence = ['AN_MEDIDA_PRESION']\n",
    "arrSingleProbabilisticEvidence =[[0.90,0.10]]\n",
    "arrDoubleProbabilisticEvidence = [[0.90,0.10]]\n",
    "arrStateVarible  = ['Prescribir', 'No_Prescribir']\n",
    "arrProbabilistic = [0.01,0.99]"
   ]
  },
  {
   "cell_type": "code",
   "execution_count": 53,
   "metadata": {
    "collapsed": false
   },
   "outputs": [],
   "source": [
    "values_enalapril = generateProbabilisticList(arrStateEvidence, arrVariableEvidence,arrSingleProbabilisticEvidence,arrDoubleProbabilisticEvidence,arrStateVarible, arrProbabilistic)"
   ]
  },
  {
   "cell_type": "code",
   "execution_count": 54,
   "metadata": {
    "collapsed": false
   },
   "outputs": [
    {
     "data": {
      "text/plain": [
       "[[0.9, 0.01], [0.1, 0.99]]"
      ]
     },
     "execution_count": 54,
     "metadata": {},
     "output_type": "execute_result"
    }
   ],
   "source": [
    "values_enalapril"
   ]
  },
  {
   "cell_type": "markdown",
   "metadata": {},
   "source": [
    "### +Captopril"
   ]
  },
  {
   "cell_type": "code",
   "execution_count": 55,
   "metadata": {
    "collapsed": true
   },
   "outputs": [],
   "source": [
    "arrStateEvidence    = [2,2]\n",
    "arrVariableEvidence = ['AN_DISFUNCION_VENTRI', 'AN_MEDIDA_PRESION']\n",
    "arrSingleProbabilisticEvidence =[[0.55,0.45],[0.85,0.15]]\n",
    "arrDoubleProbabilisticEvidence = [[0.65,0.35]]\n",
    "arrStateVarible  = ['Prescribir', 'No_Prescribir']\n",
    "arrProbabilistic = [0.01,0.99]"
   ]
  },
  {
   "cell_type": "code",
   "execution_count": 56,
   "metadata": {
    "collapsed": true
   },
   "outputs": [],
   "source": [
    "values_captopril = generateProbabilisticList(arrStateEvidence, arrVariableEvidence,arrSingleProbabilisticEvidence,arrDoubleProbabilisticEvidence,arrStateVarible, arrProbabilistic)"
   ]
  },
  {
   "cell_type": "code",
   "execution_count": 57,
   "metadata": {
    "collapsed": false
   },
   "outputs": [
    {
     "data": {
      "text/plain": [
       "[[0.65, 0.85, 0.55, 0.01], [0.35, 0.15, 0.45, 0.99]]"
      ]
     },
     "execution_count": 57,
     "metadata": {},
     "output_type": "execute_result"
    }
   ],
   "source": [
    "values_captopril"
   ]
  },
  {
   "cell_type": "markdown",
   "metadata": {},
   "source": [
    "### +Clortalidona"
   ]
  },
  {
   "cell_type": "code",
   "execution_count": 58,
   "metadata": {
    "collapsed": true
   },
   "outputs": [],
   "source": [
    "arrStateEvidence    = [2,2,2]\n",
    "arrVariableEvidence = ['AN_HIPONATREMIA', 'AN_HIPOPOTASEMIA','AN_MEDIDA_PRESION']\n",
    "arrSingleProbabilisticEvidence =[[0.05,0.95],[0.05,0.95],[0.45,0.55]]\n",
    "arrDoubleProbabilisticEvidence = [[0.01,0.99],[0.20,0.80],[0.20,0.80]]\n",
    "arrStateVarible  = ['Prescribir', 'No_Prescribir']\n",
    "arrProbabilistic = [0.01,0.99]"
   ]
  },
  {
   "cell_type": "code",
   "execution_count": 59,
   "metadata": {
    "collapsed": false
   },
   "outputs": [],
   "source": [
    "values_clortalidona = generateProbabilisticList(arrStateEvidence, arrVariableEvidence,arrSingleProbabilisticEvidence,arrDoubleProbabilisticEvidence,arrStateVarible, arrProbabilistic)"
   ]
  },
  {
   "cell_type": "code",
   "execution_count": 60,
   "metadata": {
    "collapsed": false
   },
   "outputs": [
    {
     "data": {
      "text/plain": [
       "[[0.01, 0.2, 0.2, 0.45, 0.01, 0.05, 0.05, 0.01],\n",
       " [0.99, 0.8, 0.8, 0.55, 0.99, 0.95, 0.95, 0.99]]"
      ]
     },
     "execution_count": 60,
     "metadata": {},
     "output_type": "execute_result"
    }
   ],
   "source": [
    "values_clortalidona"
   ]
  },
  {
   "cell_type": "markdown",
   "metadata": {},
   "source": [
    "### +Bisoprolol"
   ]
  },
  {
   "cell_type": "code",
   "execution_count": 61,
   "metadata": {
    "collapsed": true
   },
   "outputs": [],
   "source": [
    "arrStateEvidence    = [2,2]\n",
    "arrVariableEvidence = ['AN_BRADICARDIA','AN_MEDIDA_PRESION']\n",
    "arrSingleProbabilisticEvidence =[[0.10,0.90],[0.55,0.45]]\n",
    "arrDoubleProbabilisticEvidence = [[0.15,0.85]]\n",
    "arrStateVarible  = ['Prescribir', 'No_Prescribir']\n",
    "arrProbabilistic = [0.01,0.99]"
   ]
  },
  {
   "cell_type": "code",
   "execution_count": 62,
   "metadata": {
    "collapsed": true
   },
   "outputs": [],
   "source": [
    "values_bisoprolol = generateProbabilisticList(arrStateEvidence, arrVariableEvidence,arrSingleProbabilisticEvidence,arrDoubleProbabilisticEvidence,arrStateVarible, arrProbabilistic)"
   ]
  },
  {
   "cell_type": "code",
   "execution_count": 63,
   "metadata": {
    "collapsed": false
   },
   "outputs": [
    {
     "data": {
      "text/plain": [
       "[[0.15, 0.55, 0.1, 0.01], [0.85, 0.45, 0.9, 0.99]]"
      ]
     },
     "execution_count": 63,
     "metadata": {},
     "output_type": "execute_result"
    }
   ],
   "source": [
    "values_bisoprolol"
   ]
  },
  {
   "cell_type": "markdown",
   "metadata": {},
   "source": [
    "### +Amlodipino"
   ]
  },
  {
   "cell_type": "code",
   "execution_count": 64,
   "metadata": {
    "collapsed": true
   },
   "outputs": [],
   "source": [
    "arrStateEvidence    = [2,2]\n",
    "arrVariableEvidence = ['AN_EXTRENIMIENTO', 'AN_MEDIDA_PRESION']\n",
    "arrSingleProbabilisticEvidence =[[0.10,0.90],[0.69,0.31]]\n",
    "arrDoubleProbabilisticEvidence = [[0.20,0.80]]\n",
    "arrStateVarible  = ['Prescribir', 'No_Prescribir']\n",
    "arrProbabilistic = [0.01,0.99]"
   ]
  },
  {
   "cell_type": "code",
   "execution_count": 65,
   "metadata": {
    "collapsed": true
   },
   "outputs": [],
   "source": [
    "values_amlodipino = generateProbabilisticList(arrStateEvidence, arrVariableEvidence,arrSingleProbabilisticEvidence,arrDoubleProbabilisticEvidence,arrStateVarible, arrProbabilistic)"
   ]
  },
  {
   "cell_type": "code",
   "execution_count": 66,
   "metadata": {
    "collapsed": false
   },
   "outputs": [
    {
     "data": {
      "text/plain": [
       "[[0.2, 0.69, 0.1, 0.01], [0.8, 0.31, 0.9, 0.99]]"
      ]
     },
     "execution_count": 66,
     "metadata": {},
     "output_type": "execute_result"
    }
   ],
   "source": [
    "values_amlodipino"
   ]
  },
  {
   "cell_type": "markdown",
   "metadata": {},
   "source": [
    "### +Losartan"
   ]
  },
  {
   "cell_type": "code",
   "execution_count": 67,
   "metadata": {
    "collapsed": true
   },
   "outputs": [],
   "source": [
    "arrStateEvidence    = [2]\n",
    "arrVariableEvidence = ['AN_MEDIDA_PRESION']\n",
    "arrSingleProbabilisticEvidence =[[0.85,0.15]]\n",
    "arrDoubleProbabilisticEvidence = [[0.85,0.15]]\n",
    "arrStateVarible  = ['Prescribir', 'No_Prescribir']\n",
    "arrProbabilistic = [0.01,0.99]"
   ]
  },
  {
   "cell_type": "code",
   "execution_count": 68,
   "metadata": {
    "collapsed": true
   },
   "outputs": [],
   "source": [
    "values_losartan = generateProbabilisticList(arrStateEvidence, arrVariableEvidence,arrSingleProbabilisticEvidence,arrDoubleProbabilisticEvidence,arrStateVarible, arrProbabilistic)"
   ]
  },
  {
   "cell_type": "code",
   "execution_count": 69,
   "metadata": {
    "collapsed": false
   },
   "outputs": [
    {
     "data": {
      "text/plain": [
       "[[0.85, 0.01], [0.15, 0.99]]"
      ]
     },
     "execution_count": 69,
     "metadata": {},
     "output_type": "execute_result"
    }
   ],
   "source": [
    "values_losartan"
   ]
  },
  {
   "cell_type": "markdown",
   "metadata": {},
   "source": [
    "### +Irbesartan"
   ]
  },
  {
   "cell_type": "code",
   "execution_count": 70,
   "metadata": {
    "collapsed": true
   },
   "outputs": [],
   "source": [
    "arrStateEvidence    = [2]\n",
    "arrVariableEvidence = ['AN_MEDIDA_PRESION']\n",
    "arrSingleProbabilisticEvidence =[[0.83,0.17]]\n",
    "arrDoubleProbabilisticEvidence = [[0.83,0.17]]\n",
    "arrStateVarible  = ['Prescribir', 'No_Prescribir']\n",
    "arrProbabilistic = [0.01,0.99]"
   ]
  },
  {
   "cell_type": "code",
   "execution_count": 71,
   "metadata": {
    "collapsed": true
   },
   "outputs": [],
   "source": [
    "values_irbesartan = generateProbabilisticList(arrStateEvidence, arrVariableEvidence,arrSingleProbabilisticEvidence,arrDoubleProbabilisticEvidence,arrStateVarible, arrProbabilistic)"
   ]
  },
  {
   "cell_type": "code",
   "execution_count": 72,
   "metadata": {
    "collapsed": false
   },
   "outputs": [
    {
     "data": {
      "text/plain": [
       "[[0.83, 0.01], [0.17, 0.99]]"
      ]
     },
     "execution_count": 72,
     "metadata": {},
     "output_type": "execute_result"
    }
   ],
   "source": [
    "values_irbesartan"
   ]
  },
  {
   "cell_type": "markdown",
   "metadata": {},
   "source": [
    "### +Verapamilo"
   ]
  },
  {
   "cell_type": "code",
   "execution_count": 73,
   "metadata": {
    "collapsed": true
   },
   "outputs": [],
   "source": [
    "arrStateEvidence    = [2,2]\n",
    "arrVariableEvidence = ['AN_EXTRENIMIENTO', 'AN_MEDIDA_PRESION']\n",
    "arrSingleProbabilisticEvidence =[[0.10,0.90],[0.65,0.35]]\n",
    "arrDoubleProbabilisticEvidence = [[0.20,0.80]]\n",
    "arrStateVarible  = ['Prescribir', 'No_Prescribir']\n",
    "arrProbabilistic = [0.01,0.99]"
   ]
  },
  {
   "cell_type": "code",
   "execution_count": 74,
   "metadata": {
    "collapsed": true
   },
   "outputs": [],
   "source": [
    "values_verapamilo = generateProbabilisticList(arrStateEvidence, arrVariableEvidence,arrSingleProbabilisticEvidence,arrDoubleProbabilisticEvidence,arrStateVarible, arrProbabilistic)"
   ]
  },
  {
   "cell_type": "code",
   "execution_count": 75,
   "metadata": {
    "collapsed": false
   },
   "outputs": [
    {
     "data": {
      "text/plain": [
       "[[0.2, 0.65, 0.1, 0.01], [0.8, 0.35, 0.9, 0.99]]"
      ]
     },
     "execution_count": 75,
     "metadata": {},
     "output_type": "execute_result"
    }
   ],
   "source": [
    "values_verapamilo"
   ]
  },
  {
   "cell_type": "markdown",
   "metadata": {},
   "source": [
    "## Diagnostico"
   ]
  },
  {
   "cell_type": "markdown",
   "metadata": {},
   "source": [
    "### +Insuficiencia Cardiaca"
   ]
  },
  {
   "cell_type": "code",
   "execution_count": 105,
   "metadata": {
    "collapsed": true
   },
   "outputs": [],
   "source": [
    "arrStateEvidence    = [2,2,2,2,2]\n",
    "arrVariableEvidence = ['MR_ENALAPRIL', 'MR_CLORTALIDONA', 'MR_BISOPROLOL', 'MR_LOSARTAN', 'MR_IRBESARTAN']\n",
    "arrSingleProbabilisticEvidence =[[0.24,0.76],[0.39,0.61],[0.35,0.65],[0.45,0.55],[0.45,0.55]]\n",
    "arrDoubleProbabilisticEvidence = [[0.20,0.80],[0.65,0.35],[0.75,0.25],[0.80,0.20],[0.12,0.88],\n",
    "                                  [0.75,0.25],[0.75,0.25],[0.60,0.40],[0.55,0.45],[0.45,0.55]]\n",
    "arrStateVarible  = ['Presente', 'Ausente']\n",
    "arrProbabilistic = [0.10,0.90]"
   ]
  },
  {
   "cell_type": "code",
   "execution_count": 106,
   "metadata": {
    "collapsed": false
   },
   "outputs": [],
   "source": [
    "values_insuficiencia = generateProbabilisticList(arrStateEvidence, arrVariableEvidence,arrSingleProbabilisticEvidence,arrDoubleProbabilisticEvidence,arrStateVarible, arrProbabilistic)"
   ]
  },
  {
   "cell_type": "code",
   "execution_count": 107,
   "metadata": {
    "collapsed": false
   },
   "outputs": [
    {
     "data": {
      "text/plain": [
       "[[0.1,\n",
       "  0.1,\n",
       "  0.1,\n",
       "  0.1,\n",
       "  0.1,\n",
       "  0.1,\n",
       "  0.1,\n",
       "  0.45,\n",
       "  0.1,\n",
       "  0.1,\n",
       "  0.1,\n",
       "  0.55,\n",
       "  0.1,\n",
       "  0.75,\n",
       "  0.8,\n",
       "  0.45,\n",
       "  0.1,\n",
       "  0.1,\n",
       "  0.1,\n",
       "  0.6,\n",
       "  0.1,\n",
       "  0.75,\n",
       "  0.75,\n",
       "  0.45,\n",
       "  0.1,\n",
       "  0.12,\n",
       "  0.65,\n",
       "  0.35,\n",
       "  0.2,\n",
       "  0.39,\n",
       "  0.24,\n",
       "  0.1],\n",
       " [0.9,\n",
       "  0.9,\n",
       "  0.9,\n",
       "  0.9,\n",
       "  0.9,\n",
       "  0.9,\n",
       "  0.9,\n",
       "  0.55,\n",
       "  0.9,\n",
       "  0.9,\n",
       "  0.9,\n",
       "  0.45,\n",
       "  0.9,\n",
       "  0.25,\n",
       "  0.2,\n",
       "  0.55,\n",
       "  0.9,\n",
       "  0.9,\n",
       "  0.9,\n",
       "  0.4,\n",
       "  0.9,\n",
       "  0.25,\n",
       "  0.25,\n",
       "  0.55,\n",
       "  0.9,\n",
       "  0.88,\n",
       "  0.35,\n",
       "  0.65,\n",
       "  0.8,\n",
       "  0.61,\n",
       "  0.76,\n",
       "  0.9]]"
      ]
     },
     "execution_count": 107,
     "metadata": {},
     "output_type": "execute_result"
    }
   ],
   "source": [
    "values_insuficiencia"
   ]
  },
  {
   "cell_type": "markdown",
   "metadata": {},
   "source": [
    "### +Hipertension Arterial"
   ]
  },
  {
   "cell_type": "code",
   "execution_count": 93,
   "metadata": {
    "collapsed": true
   },
   "outputs": [],
   "source": [
    "arrStateEvidence    = [2,2,2,2,2,2,2,2]\n",
    "arrVariableEvidence = ['MR_ENALAPRIL', 'MR_CLORTALIDONA', 'MR_CAPTOPRIL', 'MR_AMLODIPINO', 'MR_LOSARTAN', 'MR_IRBESARTAN', 'MR_VERAPAMILO', 'MR_BISOPROLOL']\n",
    "arrSingleProbabilisticEvidence =[[0.19,0.81],[0.39,0.61],[0.25,0.75],[0.28,0.72],[0.12,0.88],[0.15,0.85],[0.25,0.75],[0.45,0.55]]\n",
    "\n",
    "arrDoubleProbabilisticEvidence = [[0.16,0.84],[0.75,0.25],[0.15,0.85],[0.24,0.76],[0.28,0.72],[0.19,0.81],[0.41,0.59],\n",
    "                                  [0.14,0.86],[0.19,0.81],[0.28,0.72],[0.30,0.70],[0.20,0.80],[0.37,0.63],                                  \n",
    "                                  [0.15,0.85],[0.21,0.79],[0.27,0.73],[0.18,0.82],[0.29,0.71],                                  \n",
    "                                  [0.11,0.89],[0.14,0.86],[0.85,0.15],[0.26,0.74],\n",
    "                                  [0.90,0.10],[0.22,0.78],[0.27,0.73],\n",
    "                                  [0.25,0.75],[0.28,0.72],\n",
    "                                  [0.21,0.79]]\n",
    "arrStateVarible  = ['Presente', 'Ausente']\n",
    "arrProbabilistic = [0.90,0.10]"
   ]
  },
  {
   "cell_type": "code",
   "execution_count": 94,
   "metadata": {
    "collapsed": false
   },
   "outputs": [],
   "source": [
    "values_hipertension = generateProbabilisticList(arrStateEvidence, arrVariableEvidence,arrSingleProbabilisticEvidence,arrDoubleProbabilisticEvidence,arrStateVarible, arrProbabilistic)"
   ]
  },
  {
   "cell_type": "code",
   "execution_count": 95,
   "metadata": {
    "collapsed": false
   },
   "outputs": [
    {
     "data": {
      "text/plain": [
       "[[0.9,\n",
       "  0.9,\n",
       "  0.9,\n",
       "  0.9,\n",
       "  0.9,\n",
       "  0.9,\n",
       "  0.9,\n",
       "  0.9,\n",
       "  0.9,\n",
       "  0.9,\n",
       "  0.9,\n",
       "  0.9,\n",
       "  0.9,\n",
       "  0.9,\n",
       "  0.9,\n",
       "  0.9,\n",
       "  0.9,\n",
       "  0.9,\n",
       "  0.9,\n",
       "  0.9,\n",
       "  0.9,\n",
       "  0.9,\n",
       "  0.9,\n",
       "  0.9,\n",
       "  0.9,\n",
       "  0.9,\n",
       "  0.9,\n",
       "  0.9,\n",
       "  0.9,\n",
       "  0.9,\n",
       "  0.9,\n",
       "  0.9,\n",
       "  0.9,\n",
       "  0.9,\n",
       "  0.9,\n",
       "  0.9,\n",
       "  0.9,\n",
       "  0.9,\n",
       "  0.9,\n",
       "  0.9,\n",
       "  0.9,\n",
       "  0.9,\n",
       "  0.9,\n",
       "  0.9,\n",
       "  0.9,\n",
       "  0.9,\n",
       "  0.9,\n",
       "  0.9,\n",
       "  0.9,\n",
       "  0.9,\n",
       "  0.9,\n",
       "  0.9,\n",
       "  0.9,\n",
       "  0.9,\n",
       "  0.9,\n",
       "  0.9,\n",
       "  0.9,\n",
       "  0.9,\n",
       "  0.9,\n",
       "  0.9,\n",
       "  0.9,\n",
       "  0.9,\n",
       "  0.9,\n",
       "  0.21,\n",
       "  0.9,\n",
       "  0.9,\n",
       "  0.9,\n",
       "  0.9,\n",
       "  0.9,\n",
       "  0.9,\n",
       "  0.9,\n",
       "  0.9,\n",
       "  0.9,\n",
       "  0.9,\n",
       "  0.9,\n",
       "  0.9,\n",
       "  0.9,\n",
       "  0.9,\n",
       "  0.9,\n",
       "  0.9,\n",
       "  0.9,\n",
       "  0.9,\n",
       "  0.9,\n",
       "  0.9,\n",
       "  0.9,\n",
       "  0.9,\n",
       "  0.9,\n",
       "  0.9,\n",
       "  0.9,\n",
       "  0.9,\n",
       "  0.9,\n",
       "  0.9,\n",
       "  0.9,\n",
       "  0.9,\n",
       "  0.9,\n",
       "  0.28,\n",
       "  0.9,\n",
       "  0.9,\n",
       "  0.9,\n",
       "  0.9,\n",
       "  0.9,\n",
       "  0.9,\n",
       "  0.9,\n",
       "  0.9,\n",
       "  0.9,\n",
       "  0.9,\n",
       "  0.9,\n",
       "  0.9,\n",
       "  0.9,\n",
       "  0.9,\n",
       "  0.9,\n",
       "  0.27,\n",
       "  0.9,\n",
       "  0.9,\n",
       "  0.9,\n",
       "  0.9,\n",
       "  0.9,\n",
       "  0.9,\n",
       "  0.9,\n",
       "  0.26,\n",
       "  0.9,\n",
       "  0.9,\n",
       "  0.9,\n",
       "  0.29,\n",
       "  0.9,\n",
       "  0.37,\n",
       "  0.41,\n",
       "  0.45,\n",
       "  0.9,\n",
       "  0.9,\n",
       "  0.9,\n",
       "  0.9,\n",
       "  0.9,\n",
       "  0.9,\n",
       "  0.9,\n",
       "  0.9,\n",
       "  0.9,\n",
       "  0.9,\n",
       "  0.9,\n",
       "  0.9,\n",
       "  0.9,\n",
       "  0.9,\n",
       "  0.9,\n",
       "  0.9,\n",
       "  0.9,\n",
       "  0.9,\n",
       "  0.9,\n",
       "  0.9,\n",
       "  0.9,\n",
       "  0.9,\n",
       "  0.9,\n",
       "  0.9,\n",
       "  0.9,\n",
       "  0.9,\n",
       "  0.9,\n",
       "  0.9,\n",
       "  0.9,\n",
       "  0.9,\n",
       "  0.9,\n",
       "  0.25,\n",
       "  0.9,\n",
       "  0.9,\n",
       "  0.9,\n",
       "  0.9,\n",
       "  0.9,\n",
       "  0.9,\n",
       "  0.9,\n",
       "  0.9,\n",
       "  0.9,\n",
       "  0.9,\n",
       "  0.9,\n",
       "  0.9,\n",
       "  0.9,\n",
       "  0.9,\n",
       "  0.9,\n",
       "  0.22,\n",
       "  0.9,\n",
       "  0.9,\n",
       "  0.9,\n",
       "  0.9,\n",
       "  0.9,\n",
       "  0.9,\n",
       "  0.9,\n",
       "  0.85,\n",
       "  0.9,\n",
       "  0.9,\n",
       "  0.9,\n",
       "  0.18,\n",
       "  0.9,\n",
       "  0.2,\n",
       "  0.19,\n",
       "  0.25,\n",
       "  0.9,\n",
       "  0.9,\n",
       "  0.9,\n",
       "  0.9,\n",
       "  0.9,\n",
       "  0.9,\n",
       "  0.9,\n",
       "  0.9,\n",
       "  0.9,\n",
       "  0.9,\n",
       "  0.9,\n",
       "  0.9,\n",
       "  0.9,\n",
       "  0.9,\n",
       "  0.9,\n",
       "  0.9,\n",
       "  0.9,\n",
       "  0.9,\n",
       "  0.9,\n",
       "  0.9,\n",
       "  0.9,\n",
       "  0.9,\n",
       "  0.9,\n",
       "  0.14,\n",
       "  0.9,\n",
       "  0.9,\n",
       "  0.9,\n",
       "  0.27,\n",
       "  0.9,\n",
       "  0.3,\n",
       "  0.28,\n",
       "  0.15,\n",
       "  0.9,\n",
       "  0.9,\n",
       "  0.9,\n",
       "  0.9,\n",
       "  0.9,\n",
       "  0.9,\n",
       "  0.9,\n",
       "  0.11,\n",
       "  0.9,\n",
       "  0.9,\n",
       "  0.9,\n",
       "  0.21,\n",
       "  0.9,\n",
       "  0.28,\n",
       "  0.24,\n",
       "  0.12,\n",
       "  0.9,\n",
       "  0.9,\n",
       "  0.9,\n",
       "  0.15,\n",
       "  0.9,\n",
       "  0.19,\n",
       "  0.15,\n",
       "  0.28,\n",
       "  0.9,\n",
       "  0.14,\n",
       "  0.75,\n",
       "  0.25,\n",
       "  0.16,\n",
       "  0.39,\n",
       "  0.19,\n",
       "  0.9],\n",
       " [0.1,\n",
       "  0.1,\n",
       "  0.1,\n",
       "  0.1,\n",
       "  0.1,\n",
       "  0.1,\n",
       "  0.1,\n",
       "  0.1,\n",
       "  0.1,\n",
       "  0.1,\n",
       "  0.1,\n",
       "  0.1,\n",
       "  0.1,\n",
       "  0.1,\n",
       "  0.1,\n",
       "  0.1,\n",
       "  0.1,\n",
       "  0.1,\n",
       "  0.1,\n",
       "  0.1,\n",
       "  0.1,\n",
       "  0.1,\n",
       "  0.1,\n",
       "  0.1,\n",
       "  0.1,\n",
       "  0.1,\n",
       "  0.1,\n",
       "  0.1,\n",
       "  0.1,\n",
       "  0.1,\n",
       "  0.1,\n",
       "  0.1,\n",
       "  0.1,\n",
       "  0.1,\n",
       "  0.1,\n",
       "  0.1,\n",
       "  0.1,\n",
       "  0.1,\n",
       "  0.1,\n",
       "  0.1,\n",
       "  0.1,\n",
       "  0.1,\n",
       "  0.1,\n",
       "  0.1,\n",
       "  0.1,\n",
       "  0.1,\n",
       "  0.1,\n",
       "  0.1,\n",
       "  0.1,\n",
       "  0.1,\n",
       "  0.1,\n",
       "  0.1,\n",
       "  0.1,\n",
       "  0.1,\n",
       "  0.1,\n",
       "  0.1,\n",
       "  0.1,\n",
       "  0.1,\n",
       "  0.1,\n",
       "  0.1,\n",
       "  0.1,\n",
       "  0.1,\n",
       "  0.1,\n",
       "  0.79,\n",
       "  0.1,\n",
       "  0.1,\n",
       "  0.1,\n",
       "  0.1,\n",
       "  0.1,\n",
       "  0.1,\n",
       "  0.1,\n",
       "  0.1,\n",
       "  0.1,\n",
       "  0.1,\n",
       "  0.1,\n",
       "  0.1,\n",
       "  0.1,\n",
       "  0.1,\n",
       "  0.1,\n",
       "  0.1,\n",
       "  0.1,\n",
       "  0.1,\n",
       "  0.1,\n",
       "  0.1,\n",
       "  0.1,\n",
       "  0.1,\n",
       "  0.1,\n",
       "  0.1,\n",
       "  0.1,\n",
       "  0.1,\n",
       "  0.1,\n",
       "  0.1,\n",
       "  0.1,\n",
       "  0.1,\n",
       "  0.1,\n",
       "  0.72,\n",
       "  0.1,\n",
       "  0.1,\n",
       "  0.1,\n",
       "  0.1,\n",
       "  0.1,\n",
       "  0.1,\n",
       "  0.1,\n",
       "  0.1,\n",
       "  0.1,\n",
       "  0.1,\n",
       "  0.1,\n",
       "  0.1,\n",
       "  0.1,\n",
       "  0.1,\n",
       "  0.1,\n",
       "  0.73,\n",
       "  0.1,\n",
       "  0.1,\n",
       "  0.1,\n",
       "  0.1,\n",
       "  0.1,\n",
       "  0.1,\n",
       "  0.1,\n",
       "  0.74,\n",
       "  0.1,\n",
       "  0.1,\n",
       "  0.1,\n",
       "  0.71,\n",
       "  0.1,\n",
       "  0.63,\n",
       "  0.59,\n",
       "  0.55,\n",
       "  0.1,\n",
       "  0.1,\n",
       "  0.1,\n",
       "  0.1,\n",
       "  0.1,\n",
       "  0.1,\n",
       "  0.1,\n",
       "  0.1,\n",
       "  0.1,\n",
       "  0.1,\n",
       "  0.1,\n",
       "  0.1,\n",
       "  0.1,\n",
       "  0.1,\n",
       "  0.1,\n",
       "  0.1,\n",
       "  0.1,\n",
       "  0.1,\n",
       "  0.1,\n",
       "  0.1,\n",
       "  0.1,\n",
       "  0.1,\n",
       "  0.1,\n",
       "  0.1,\n",
       "  0.1,\n",
       "  0.1,\n",
       "  0.1,\n",
       "  0.1,\n",
       "  0.1,\n",
       "  0.1,\n",
       "  0.1,\n",
       "  0.75,\n",
       "  0.1,\n",
       "  0.1,\n",
       "  0.1,\n",
       "  0.1,\n",
       "  0.1,\n",
       "  0.1,\n",
       "  0.1,\n",
       "  0.1,\n",
       "  0.1,\n",
       "  0.1,\n",
       "  0.1,\n",
       "  0.1,\n",
       "  0.1,\n",
       "  0.1,\n",
       "  0.1,\n",
       "  0.78,\n",
       "  0.1,\n",
       "  0.1,\n",
       "  0.1,\n",
       "  0.1,\n",
       "  0.1,\n",
       "  0.1,\n",
       "  0.1,\n",
       "  0.15,\n",
       "  0.1,\n",
       "  0.1,\n",
       "  0.1,\n",
       "  0.82,\n",
       "  0.1,\n",
       "  0.8,\n",
       "  0.81,\n",
       "  0.75,\n",
       "  0.1,\n",
       "  0.1,\n",
       "  0.1,\n",
       "  0.1,\n",
       "  0.1,\n",
       "  0.1,\n",
       "  0.1,\n",
       "  0.1,\n",
       "  0.1,\n",
       "  0.1,\n",
       "  0.1,\n",
       "  0.1,\n",
       "  0.1,\n",
       "  0.1,\n",
       "  0.1,\n",
       "  0.1,\n",
       "  0.1,\n",
       "  0.1,\n",
       "  0.1,\n",
       "  0.1,\n",
       "  0.1,\n",
       "  0.1,\n",
       "  0.1,\n",
       "  0.86,\n",
       "  0.1,\n",
       "  0.1,\n",
       "  0.1,\n",
       "  0.73,\n",
       "  0.1,\n",
       "  0.7,\n",
       "  0.72,\n",
       "  0.85,\n",
       "  0.1,\n",
       "  0.1,\n",
       "  0.1,\n",
       "  0.1,\n",
       "  0.1,\n",
       "  0.1,\n",
       "  0.1,\n",
       "  0.89,\n",
       "  0.1,\n",
       "  0.1,\n",
       "  0.1,\n",
       "  0.79,\n",
       "  0.1,\n",
       "  0.72,\n",
       "  0.76,\n",
       "  0.88,\n",
       "  0.1,\n",
       "  0.1,\n",
       "  0.1,\n",
       "  0.85,\n",
       "  0.1,\n",
       "  0.81,\n",
       "  0.85,\n",
       "  0.72,\n",
       "  0.1,\n",
       "  0.86,\n",
       "  0.25,\n",
       "  0.75,\n",
       "  0.84,\n",
       "  0.61,\n",
       "  0.81,\n",
       "  0.1]]"
      ]
     },
     "execution_count": 95,
     "metadata": {},
     "output_type": "execute_result"
    }
   ],
   "source": [
    "values_hipertension"
   ]
  },
  {
   "cell_type": "markdown",
   "metadata": {},
   "source": [
    "### +Angina de Pecho"
   ]
  },
  {
   "cell_type": "code",
   "execution_count": 99,
   "metadata": {
    "collapsed": true
   },
   "outputs": [],
   "source": [
    "arrStateEvidence    = [2,2,2]\n",
    "arrVariableEvidence = ['MR_AMLODIPINO', 'MR_BISOPROLOL', 'MR_VERAPAMILO']\n",
    "arrSingleProbabilisticEvidence =[[0.19,0.81],[0.29,0.71],[0.21,0.79]]\n",
    "arrDoubleProbabilisticEvidence = [[0.16,0.84],[0.75,0.25],[0.15,0.85]]\n",
    "arrStateVarible  = ['Presente', 'Ausente']\n",
    "arrProbabilistic = [0.90,0.10]"
   ]
  },
  {
   "cell_type": "code",
   "execution_count": 100,
   "metadata": {
    "collapsed": true
   },
   "outputs": [],
   "source": [
    "values_angina = generateProbabilisticList(arrStateEvidence, arrVariableEvidence,arrSingleProbabilisticEvidence,arrDoubleProbabilisticEvidence,arrStateVarible, arrProbabilistic)"
   ]
  },
  {
   "cell_type": "code",
   "execution_count": 101,
   "metadata": {
    "collapsed": false
   },
   "outputs": [
    {
     "data": {
      "text/plain": [
       "[[0.9, 0.15, 0.75, 0.21, 0.16, 0.29, 0.19, 0.9],\n",
       " [0.1, 0.85, 0.25, 0.79, 0.84, 0.71, 0.81, 0.1]]"
      ]
     },
     "execution_count": 101,
     "metadata": {},
     "output_type": "execute_result"
    }
   ],
   "source": [
    "values_angina"
   ]
  },
  {
   "cell_type": "markdown",
   "metadata": {},
   "source": [
    "# Creando la estructura Bayesiana"
   ]
  },
  {
   "cell_type": "code",
   "execution_count": 85,
   "metadata": {
    "collapsed": true
   },
   "outputs": [],
   "source": [
    "bn0 = BayesianModel([('AN_MEDIDA_PRESION', 'MR_ENALAPRIL'),              \n",
    "                     ('AN_MEDIDA_PRESION', 'MR_CAPTOPRIL'), \n",
    "                     ('AN_MEDIDA_PRESION', 'MR_CLORTALIDONA'), \n",
    "                     ('AN_MEDIDA_PRESION', 'MR_BISOPROLOL'), \n",
    "                     ('AN_MEDIDA_PRESION', 'MR_AMLODIPINO'),\n",
    "                     ('AN_MEDIDA_PRESION', 'MR_LOSARTAN'),\n",
    "                     ('AN_MEDIDA_PRESION', 'MR_IRBESARTAN'), \n",
    "                     ('AN_MEDIDA_PRESION', 'MR_VERAPAMILO'),                      \n",
    "                     ('AN_DISFUNCION_VENTRI', 'MR_CAPTOPRIL'), \n",
    "                     ('AN_HIPONATREMIA' , 'MR_CLORTALIDONA'), \n",
    "                     ('AN_HIPOPOTASEMIA', 'MR_CLORTALIDONA'), \n",
    "                     ('AN_BRADICARDIA'  , 'MR_BISOPROLOL'), \n",
    "                     ('AN_EXTRENIMIENTO', 'MR_AMLODIPINO'), \n",
    "                     ('AN_EXTRENIMIENTO', 'MR_VERAPAMILO'),                 \n",
    "                     ('MR_ENALAPRIL'    , 'SA_INSUFICIENCIA_CARDIACA'), \n",
    "                     ('MR_CLORTALIDONA' , 'SA_INSUFICIENCIA_CARDIACA'), \n",
    "                     ('MR_BISOPROLOL'   , 'SA_INSUFICIENCIA_CARDIACA'), \n",
    "                     ('MR_LOSARTAN'     , 'SA_INSUFICIENCIA_CARDIACA'), \n",
    "                     ('MR_IRBESARTAN'   , 'SA_INSUFICIENCIA_CARDIACA'), \n",
    "                     ('MR_ENALAPRIL'   , 'SA_HIPERTENSION_ARTERIAL'), \n",
    "                     ('MR_CLORTALIDONA', 'SA_HIPERTENSION_ARTERIAL'), \n",
    "                     ('MR_CAPTOPRIL'   , 'SA_HIPERTENSION_ARTERIAL'), \n",
    "                     ('MR_AMLODIPINO'  , 'SA_HIPERTENSION_ARTERIAL'), \n",
    "                     ('MR_LOSARTAN'    , 'SA_HIPERTENSION_ARTERIAL'),\n",
    "                     ('MR_IRBESARTAN'  , 'SA_HIPERTENSION_ARTERIAL'), \n",
    "                     ('MR_VERAPAMILO'  , 'SA_HIPERTENSION_ARTERIAL'), \n",
    "                     ('MR_BISOPROLOL'  , 'SA_HIPERTENSION_ARTERIAL'), \n",
    "                     ('MR_AMLODIPINO', 'SA_ANGINA_PECHO'), \n",
    "                     ('MR_BISOPROLOL', 'SA_ANGINA_PECHO'), \n",
    "                     ('MR_VERAPAMILO', 'SA_ANGINA_PECHO')\n",
    "                    ])\n"
   ]
  },
  {
   "cell_type": "code",
   "execution_count": 86,
   "metadata": {
    "collapsed": true
   },
   "outputs": [],
   "source": [
    "cpt_medida_presion    = TabularCPD('AN_MEDIDA_PRESION', 2, [[0.5], [0.5]])\n",
    "cpt_disfuncion_ventri = TabularCPD('AN_DISFUNCION_VENTRI', 2, [[0.5], [0.5]])\n",
    "cpt_hiponatremia      = TabularCPD('AN_HIPONATREMIA', 2,[[0.5], [0.5]])\n",
    "cpt_hipopotasemia     = TabularCPD('AN_HIPOPOTASEMIA',2, [[0.5], [0.5]])\n",
    "cpt_bradicardia       = TabularCPD('AN_BRADICARDIA', 2, [[0.5], [0.5]])\n",
    "cpt_extrenimiento     = TabularCPD('AN_EXTRENIMIENTO',2, [[0.5], [0.5]])"
   ]
  },
  {
   "cell_type": "code",
   "execution_count": 87,
   "metadata": {
    "collapsed": true
   },
   "outputs": [],
   "source": [
    "cpt_enalapril    = TabularCPD('MR_ENALAPRIL'   , 2 , values_enalapril, evidence= ['AN_MEDIDA_PRESION'],evidence_card=[2])\n",
    "cpt_captopril    = TabularCPD('MR_CAPTOPRIL'   , 2 , values_captopril, evidence= ['AN_DISFUNCION_VENTRI','AN_MEDIDA_PRESION'],evidence_card=[2,2])\n",
    "cpt_clortalidona = TabularCPD('MR_CLORTALIDONA', 2 , values_clortalidona, evidence= ['AN_HIPONATREMIA','AN_HIPOPOTASEMIA','AN_MEDIDA_PRESION'],evidence_card=[2,2,2])\n",
    "cpt_bisoprolol   = TabularCPD('MR_BISOPROLOL'  , 2 , values_bisoprolol, evidence= ['AN_BRADICARDIA','AN_MEDIDA_PRESION'],evidence_card=[2,2])\n",
    "cpt_amlodipino   = TabularCPD('MR_AMLODIPINO'  , 2 , values_amlodipino, evidence= ['AN_EXTRENIMIENTO','AN_MEDIDA_PRESION'],evidence_card=[2,2])\n",
    "cpt_losartan     = TabularCPD('MR_LOSARTAN'    , 2 , values_losartan  , evidence= ['AN_MEDIDA_PRESION'],evidence_card=[2])\n",
    "cpt_irbesartan   = TabularCPD('MR_IRBESARTAN'  , 2 , values_irbesartan, evidence= ['AN_MEDIDA_PRESION'],evidence_card=[2])\n",
    "cpt_verapamilo   = TabularCPD('MR_VERAPAMILO'  , 2 , values_verapamilo, evidence= ['AN_EXTRENIMIENTO','AN_MEDIDA_PRESION'],evidence_card=[2,2])\n"
   ]
  },
  {
   "cell_type": "code",
   "execution_count": 102,
   "metadata": {
    "collapsed": false
   },
   "outputs": [],
   "source": [
    "cpt_insuficiencia  = TabularCPD('SA_INSUFICIENCIA_CARDIACA' , 2 , values_insuficiencia,evidence= ['MR_ENALAPRIL','MR_CLORTALIDONA','MR_BISOPROLOL','MR_LOSARTAN','MR_IRBESARTAN'],evidence_card=[2,2,2,2,2])\n",
    "cpt_hipertension   = TabularCPD('SA_HIPERTENSION_ARTERIAL' , 2 , values_hipertension , evidence=['MR_ENALAPRIL','MR_CLORTALIDONA','MR_CAPTOPRIL','MR_AMLODIPINO','MR_LOSARTAN','MR_IRBESARTAN','MR_VERAPAMILO','MR_BISOPROLOL'],evidence_card=[2,2,2,2,2,2,2,2])\n",
    "cpt_angina_pecho   = TabularCPD('SA_ANGINA_PECHO', 2 , values_angina, evidence= ['MR_AMLODIPINO','MR_BISOPROLOL','MR_VERAPAMILO'],evidence_card=[2,2,2])\n"
   ]
  },
  {
   "cell_type": "code",
   "execution_count": 103,
   "metadata": {
    "collapsed": false
   },
   "outputs": [],
   "source": [
    "bn0.add_cpds(cpt_medida_presion, cpt_disfuncion_ventri, cpt_hiponatremia, cpt_hipopotasemia, cpt_bradicardia,cpt_extrenimiento,\n",
    "             cpt_enalapril, cpt_captopril, cpt_clortalidona , cpt_bisoprolol,cpt_amlodipino, cpt_losartan ,cpt_irbesartan, cpt_verapamilo, \n",
    "             cpt_insuficiencia, cpt_hipertension, cpt_angina_pecho)"
   ]
  },
  {
   "cell_type": "code",
   "execution_count": 104,
   "metadata": {
    "collapsed": false
   },
   "outputs": [
    {
     "ename": "ValueError",
     "evalue": "Sum of probabilites of states for node SA_INSUFICIENCIA_CARDIACA is not equal to 1.",
     "output_type": "error",
     "traceback": [
      "\u001b[1;31m---------------------------------------------------------------------------\u001b[0m",
      "\u001b[1;31mValueError\u001b[0m                                Traceback (most recent call last)",
      "\u001b[1;32m<ipython-input-104-1948cd6acb03>\u001b[0m in \u001b[0;36m<module>\u001b[1;34m()\u001b[0m\n\u001b[1;32m----> 1\u001b[1;33m \u001b[0mbn0\u001b[0m\u001b[1;33m.\u001b[0m\u001b[0mcheck_model\u001b[0m\u001b[1;33m(\u001b[0m\u001b[1;33m)\u001b[0m\u001b[1;33m\u001b[0m\u001b[0m\n\u001b[0m",
      "\u001b[1;32m/home/lourdes/anaconda3/lib/python3.5/site-packages/pgmpy/models/BayesianModel.py\u001b[0m in \u001b[0;36mcheck_model\u001b[1;34m(self)\u001b[0m\n\u001b[0;32m    360\u001b[0m                                    atol=0.01):\n\u001b[0;32m    361\u001b[0m                     raise ValueError('Sum of probabilites of states for node %s'\n\u001b[1;32m--> 362\u001b[1;33m                                      ' is not equal to 1.' % node)\n\u001b[0m\u001b[0;32m    363\u001b[0m         \u001b[1;32mreturn\u001b[0m \u001b[1;32mTrue\u001b[0m\u001b[1;33m\u001b[0m\u001b[0m\n\u001b[0;32m    364\u001b[0m \u001b[1;33m\u001b[0m\u001b[0m\n",
      "\u001b[1;31mValueError\u001b[0m: Sum of probabilites of states for node SA_INSUFICIENCIA_CARDIACA is not equal to 1."
     ]
    }
   ],
   "source": [
    "bn0.check_model()"
   ]
  },
  {
   "cell_type": "code",
   "execution_count": null,
   "metadata": {
    "collapsed": true
   },
   "outputs": [],
   "source": []
  }
 ],
 "metadata": {
  "kernelspec": {
   "display_name": "Python [anaconda3]",
   "language": "python",
   "name": "Python [anaconda3]"
  },
  "language_info": {
   "codemirror_mode": {
    "name": "ipython",
    "version": 3
   },
   "file_extension": ".py",
   "mimetype": "text/x-python",
   "name": "python",
   "nbconvert_exporter": "python",
   "pygments_lexer": "ipython3",
   "version": "3.5.2"
  }
 },
 "nbformat": 4,
 "nbformat_minor": 0
}
