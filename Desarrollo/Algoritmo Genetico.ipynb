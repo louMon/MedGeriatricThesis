{
 "cells": [
  {
   "cell_type": "code",
   "execution_count": 4,
   "metadata": {
    "collapsed": true
   },
   "outputs": [],
   "source": [
    "from pgmpy.models import BayesianModel\n",
    "from pgmpy.factors.discrete import TabularCPD\n",
    "from pgmpy.inference import BeliefPropagation\n",
    "from pgmpy.factors.discrete import DiscreteFactor\n",
    "\n",
    "from utils import *\n",
    "import pandas as pd\n",
    "import numpy as np"
   ]
  },
  {
   "cell_type": "markdown",
   "metadata": {},
   "source": [
    "# Algoritmo genetico para obtener la mejor combinacion de medicamentos dada una patologia\n",
    "\n"
   ]
  },
  {
   "cell_type": "markdown",
   "metadata": {},
   "source": [
    "** Setear los parametros del individuo (background, sintomas, efectos secundarios) **"
   ]
  },
  {
   "cell_type": "code",
   "execution_count": 5,
   "metadata": {
    "collapsed": false
   },
   "outputs": [],
   "source": [
    "class PathologyIndividual:\n",
    "    \"Clase destinada a las patologias, antecedentes del paciente, sintomas de la patologia y efectos de los medicamentos \"\n",
    "\n",
    "    def __init__(self, pathology, diccBackground, diccMedicines,arrStates,arrSymtopm, arrWeigth, arrEffects, bayesianNetwork):\n",
    "        self.pathology = pathology\n",
    "        self.diccBackground ={}\n",
    "        self.diccMedicines  ={}\n",
    "        \n",
    "        self.arrStates       = arrStates[:]\n",
    "        self.arrSymtopm      = arrSymtopm[:]\n",
    "        self.arrWeigth       = arrWeigth[:]\n",
    "        self.arrEffects      = arrEffects[:]\n",
    "        self.bayesianNetwork = bayesianNetwork\n",
    "        \n",
    "        for index in diccBackground:  \n",
    "            self.diccBackground[index]  = diccBackground[index]\n",
    "        \n",
    "        for index in diccMedicines:           \n",
    "            self.diccMedicines[index]  = diccMedicines[index]\n"
   ]
  },
  {
   "cell_type": "markdown",
   "metadata": {},
   "source": [
    "\n",
    "**Clase abstracta de un individuo de algoritmo genético**"
   ]
  },
  {
   "cell_type": "code",
   "execution_count": 6,
   "metadata": {
    "collapsed": true
   },
   "outputs": [],
   "source": [
    "class Individual:\n",
    "    \"Clase abstracta para individuos de un algoritmo evolutivo.\"\n",
    "\n",
    "    def __init__(self, chromosome):\n",
    "        self.chromosome = chromosome\n",
    "\n",
    "    def crossover(self, other):\n",
    "        \"Retorna un nuevo individuo cruzando self y other.\"\n",
    "        raise NotImplementedError\n",
    "        \n",
    "    def mutate(self):\n",
    "        \"Cambia los valores de algunos genes.\"\n",
    "        raise NotImplementedError"
   ]
  },
  {
   "cell_type": "markdown",
   "metadata": {},
   "source": [
    "<b>Clase concreta de un individuo del problema de combinacion de medicamentos</b>"
   ]
  },
  {
   "cell_type": "code",
   "execution_count": 30,
   "metadata": {
    "collapsed": false
   },
   "outputs": [],
   "source": [
    "import random\n",
    "\n",
    "class Individual_medicines(Individual):\n",
    "    \"Clase que implementa el individuo en el problema de la busqueda de medicamentos que maximice la ausencia de los sintomas.\"\n",
    "\n",
    "    def __init__(self, chromosome):\n",
    "        self.chromosome = chromosome[:]\n",
    "        self.fitness    = -1\n",
    "\n",
    "    def crossover_onepoint(self, other):\n",
    "        \"Retorna dos nuevos individuos del cruzamiento de un punto entre self y other \"\n",
    "        #print(\"Entro a onepoint\")\n",
    "        c = random.randrange(len(self.chromosome))\n",
    "        #print(self.chromosome)\n",
    "        #print(other.chromosome)\n",
    "        #print(c)\n",
    "        ind1 = Individual_medicines(self.chromosome[:c] + other.chromosome[c:])\n",
    "        ind2 = Individual_medicines(other.chromosome[:c] + self.chromosome[c:])\n",
    "        #print(\"Primer hijo\")\n",
    "        #print(ind1.chromosome)\n",
    "        #print(\"Segundo hijo\")\n",
    "        #print(ind2.chromosome)\n",
    "        return [ind1, ind2]   \n",
    "    \n",
    "    def crossover_uniform(self, other):\n",
    "        chromosome1 = []\n",
    "        chromosome2 = []\n",
    "        \"Retorna dos nuevos individuos del cruzamiento uniforme entre self y other \"\n",
    "        for i in range(len(self.chromosome)):\n",
    "            if random.uniform(0, 1) < 0.5:\n",
    "                chromosome1.append(self.chromosome[i])\n",
    "                chromosome2.append(other.chromosome[i])\n",
    "            else:\n",
    "                chromosome1.append(other.chromosome[i])\n",
    "                chromosome2.append(self.chromosome[i])\n",
    "        ind1 = Individual_medicines(chromosome1)\n",
    "        ind2 = Individual_medicines(chromosome2)\n",
    "        return [ind1, ind2]     \n",
    "\n",
    "    def mutate_position(self, arrStates):\n",
    "        \"Cambia aleatoriamente el estado del medicamento (prescribir, prescribir bajas condiciones, no prescribir)\"\n",
    "        #print(\"Entro a mutate\")\n",
    "        for i,val in enumerate(self.chromosome):\n",
    "            if (random.uniform(0, 1) < 0.25):\n",
    "                new_value = changeState(val, arrStates[i])\n",
    "                self.chromosome[i] = new_value\n",
    "                #print(self.chromosome[i])       \n",
    "        #print(self.chromosome)\n",
    "        return self.chromosome\n",
    "    "
   ]
  },
  {
   "cell_type": "code",
   "execution_count": 24,
   "metadata": {
    "collapsed": true
   },
   "outputs": [],
   "source": [
    "def changeState(val, numStates):\n",
    "    arrStates = []\n",
    "    for i in range(0,numStates):\n",
    "        arrStates.append(i)\n",
    "    arrStates.remove(val)\n",
    "    new_value = random.choice(arrStates)\n",
    "    return new_value\n",
    "    "
   ]
  },
  {
   "cell_type": "markdown",
   "metadata": {},
   "source": [
    "<b>Funcion de fitness para evaluar un individuo del problema de combinacion de medicamentos</b>"
   ]
  },
  {
   "cell_type": "code",
   "execution_count": 9,
   "metadata": {
    "collapsed": true
   },
   "outputs": [],
   "source": [
    "def createEvidence(dicc1, dicc2):\n",
    "    evidence = dicc1.copy()\n",
    "    evidence.update(dicc2)\n",
    "    return evidence"
   ]
  },
  {
   "cell_type": "code",
   "execution_count": 10,
   "metadata": {
    "collapsed": true
   },
   "outputs": [],
   "source": [
    "def setStatesChromosome(diccMedicines, individuo):\n",
    "    chromosome = individuo.chromosome\n",
    "    n = len(chromosome)\n",
    "    i = 0\n",
    "    for key in diccMedicines:\n",
    "        diccMedicines[key] = chromosome[i]\n",
    "        i+=1\n",
    "    return diccMedicines\n",
    "        "
   ]
  },
  {
   "cell_type": "code",
   "execution_count": 11,
   "metadata": {
    "collapsed": true
   },
   "outputs": [],
   "source": [
    "def fitnessFunction(params):\n",
    "    \"\"\"Retorna el fitness de un cromosoma en el problema de combinacion de medicamentos \"\"\"\n",
    "    index, pathologyInd, individuo = params\n",
    "    \n",
    "    bp = BeliefPropagation(pathologyInd.bayesianNetwork)\n",
    "    mergeSymEff      = pathologyInd.arrSymtopm + pathologyInd.arrEffects  \n",
    "    \n",
    "    newDiccMedicines = setStatesChromosome(pathologyInd.diccMedicines, individuo) \n",
    "    \n",
    "    evidence = createEvidence(pathologyInd.diccBackground,pathologyInd.diccMedicines) \n",
    "    \n",
    "    phi      = bp.query(variables=mergeSymEff, evidence = evidence)\n",
    "    sumAbsen = 0\n",
    "    sumTotal = 0\n",
    "    \n",
    "    for i,val in enumerate(mergeSymEff):\n",
    "        arrProb = phi[val].values\n",
    "        large = len(arrProb)\n",
    "        sumAbsen += arrProb[large-1]*pathologyInd.arrWeigth[i]\n",
    "        sumTotal += 1*pathologyInd.arrWeigth[i]  \n",
    "    fitness = sumAbsen / sumTotal\n",
    "    #print(fitness)  \n",
    "    individuo.fitness = fitness\n",
    "    print(individuo.fitness)  \n",
    "    #fitness = sumAbsen / sumTotal\n",
    "    return [index, fitness]\n",
    "    "
   ]
  },
  {
   "cell_type": "markdown",
   "metadata": {},
   "source": [
    "<b>Funcion para evaluar toda una población de individuos con la funcion de fitnes especificada</b>"
   ]
  },
  {
   "cell_type": "code",
   "execution_count": 12,
   "metadata": {
    "collapsed": true
   },
   "outputs": [],
   "source": [
    "import multiprocessing"
   ]
  },
  {
   "cell_type": "code",
   "execution_count": 13,
   "metadata": {
    "collapsed": true
   },
   "outputs": [],
   "source": [
    "def evaluate_population(pathologyInd, population, fitness_fn):\n",
    "    \"\"\" Evalua una poblacion de individuos con la funcion de fitness pasada \"\"\"\n",
    "    popsize    = len(population)\n",
    "\n",
    "    pool_size = 10\n",
    "    param_arr = []\n",
    "    for i in range(popsize):\n",
    "        if population[i].fitness == -1:    # si el individuo no esta evaluado\n",
    "            param_arr.append([i, pathologyInd, population[i]])\n",
    "\n",
    "    pool = multiprocessing.Pool(pool_size)\n",
    "    pool_results = pool.map(fitness_fn, param_arr)\n",
    "    \n",
    "    # assign results to population\n",
    "    for fitness_arr in pool_results:\n",
    "        population[fitness_arr[0]].fitness = fitness_arr[1]\n",
    "    pool.close()\n",
    "    pool.join()\n",
    "\n",
    "    #for i in range(len(population)):\n",
    "    #    print(population[i].fitness)"
   ]
  },
  {
   "cell_type": "markdown",
   "metadata": {},
   "source": [
    "<b>Funcion que selecciona con el metodo de torneo un par de individuos de population para cruzamiento </b>"
   ]
  },
  {
   "cell_type": "code",
   "execution_count": 14,
   "metadata": {
    "collapsed": false
   },
   "outputs": [],
   "source": [
    "def getArrayRivals(popsize,ts):\n",
    "    rival = []\n",
    "    for i in range(ts): \n",
    "        rival_index = random.randint(0,popsize-1)\n",
    "        if rival_index not in rival: \n",
    "            rival.append(rival_index)\n",
    "    return rival"
   ]
  },
  {
   "cell_type": "code",
   "execution_count": 15,
   "metadata": {
    "collapsed": true
   },
   "outputs": [],
   "source": [
    "def chooseParent(population,ts):\n",
    "    popsize = len(population)    \n",
    "    rivalParent = getArrayRivals(popsize,ts)   \n",
    "    #print(rivalParent)\n",
    "    maxFitness = 0\n",
    "    iParent=0\n",
    "    for index in rivalParent:\n",
    "        #print(population[index].fitness)\n",
    "        if (population[index].fitness > maxFitness):\n",
    "            maxFitness = population[index].fitness \n",
    "            iParent = index\n",
    "    #print(iParent)        \n",
    "    return iParent\n",
    "    "
   ]
  },
  {
   "cell_type": "code",
   "execution_count": 16,
   "metadata": {
    "collapsed": true
   },
   "outputs": [],
   "source": [
    "#Seleccion de los mejores individios o conjuntos de medicamentos\n",
    "def select_parents_tourney(population,ts):\n",
    "    population_select = population.copy()\n",
    "    # Escoje el primer padre\n",
    "    iParent1 = chooseParent(population_select,ts)\n",
    "    #Desconsiderar el padre ya escogido\n",
    "    population_select.pop(iParent1)\n",
    "    # Escoje el segundo padre\n",
    "    iParent2 = chooseParent(population_select,ts)    \n",
    "      \n",
    "    return (population[iParent1], population[iParent2])"
   ]
  },
  {
   "cell_type": "markdown",
   "metadata": {},
   "source": [
    "<b>Funcion que selecciona sobrevivientes para la sgte generacion, dada la poblacion actual y poblacion de hijos </b>"
   ]
  },
  {
   "cell_type": "code",
   "execution_count": 17,
   "metadata": {
    "collapsed": true
   },
   "outputs": [],
   "source": [
    "def select_survivors(population, offspring_population, numsurvivors):\n",
    "    next_population = []\n",
    "    population.extend(offspring_population) # une las dos poblaciones\n",
    "    isurvivors = sorted(range(len(population)), key=lambda i: population[i].fitness, reverse=True)[:numsurvivors]\n",
    "    for i in range(numsurvivors): next_population.append(population[isurvivors[i]])\n",
    "    return next_population"
   ]
  },
  {
   "cell_type": "markdown",
   "metadata": {},
   "source": [
    "<b>Algoritmo Genetico</b>   \n",
    "Recibe una clase parametro para el individuo, funcion de fitness, numero de generaciones (ngen) y taza de mutación (pmut)"
   ]
  },
  {
   "cell_type": "code",
   "execution_count": 27,
   "metadata": {
    "collapsed": true
   },
   "outputs": [],
   "source": [
    "def genetic_algorithm(pathologyInd, population, fitness_fn, ngen=100, pmut=0.1,ts=2):\n",
    "    \"Algoritmo Genetico \"\n",
    "    \n",
    "    popsize    = len(population)\n",
    "    evaluate_population(pathologyInd,population, fitness_fn)  # evalua la poblacion inicial\n",
    "    ibest       = sorted(range(len(population)), key=lambda i: population[i].fitness, reverse=True)[:1]\n",
    "    bestfitness = [population[ibest[0]].fitness]\n",
    "    print(\"Poblacion inicial, best_fitness = {}\".format(population[ibest[0]].fitness))\n",
    "    print(population)\n",
    "    for g in range(ngen):   # Por cada generacion\n",
    "        print(\"Generacion\" + str(g))\n",
    "        ## Selecciona las parejas de padres para cruzamiento \n",
    "        mating_pool = []\n",
    "        for i in range(int(popsize/2)): mating_pool.append(select_parents_tourney(population,ts)) \n",
    "        print('Luego del mating pool')\n",
    "        print(mating_pool)\n",
    "        ## Crea la poblacion descendencia cruzando las parejas del mating pool con Recombinación de 1 punto\n",
    "        offspring_population = []\n",
    "        for i in range(len(mating_pool)): \n",
    "            offspring_population+= mating_pool[i][0].crossover_onepoint(mating_pool[i][1])\n",
    "            #offspring_population.extend( mating_pool[i][0].crossover_uniform(mating_pool[i][1]) )\n",
    "        print('Antes de la mutacion')\n",
    "        print(offspring_population)\n",
    "        \n",
    "        ## Aplica el operador de mutacion con probabilidad pmut en cada hijo generado\n",
    "        for i in range(len(offspring_population)):\n",
    "            if random.uniform(0, 1) < pmut: \n",
    "                print(offspring_population[i])\n",
    "                offspring_population[i] = offspring_population[i].mutate_position(pathologyInd.arrStates)\n",
    "        \n",
    "        print('Luego de la mutacion')\n",
    "        print(offspring_population)\n",
    "        ## Evalua la poblacion descendencia\n",
    "        evaluate_population(pathologyInd, offspring_population, fitness_fn)  # evalua la poblacion inicial\n",
    "        \n",
    "        ## Selecciona popsize individuos para la sgte. generación de la union de la pob. actual y  pob. descendencia\n",
    "        population = select_survivors(population, offspring_population, popsize)\n",
    "\n",
    "        ## Almacena la historia del fitness del mejor individuo\n",
    "        ibest = sorted(range(len(population)), key=lambda i: population[i].fitness, reverse=True)[:1]\n",
    "        bestfitness.append(population[ibest[0]].fitness)\n",
    "        print(\"generacion {}, best_fitness = {}\".format(g, population[ibest[0]].fitness))\n",
    "    \n",
    "    return population[ibest[0]], bestfitness  "
   ]
  },
  {
   "cell_type": "markdown",
   "metadata": {},
   "source": [
    " <b>Algoritmo de Busqueda Genetica para el problema de combinacion de medicamentos en adultos mayores</b>   "
   ]
  },
  {
   "cell_type": "code",
   "execution_count": 28,
   "metadata": {
    "collapsed": false
   },
   "outputs": [],
   "source": [
    "def genetic_search_medicines(ts,pathologyName, background, medicines, states, symtopms, weights, effects, bayesianNetwork, fitness_fn, num_medicines=11, popsize=20, ngen=100, pmut=0.5):\n",
    "    import random\n",
    "    population = []\n",
    "\n",
    "    ## Crea la poblacion inicial con cromosomas aleatorios\n",
    "    for i in range(popsize):\n",
    "        chromosome = [random.randint(0,1) for j in range(1,(num_medicines+1))]##aqui le quite el +1\n",
    "        random.shuffle(chromosome)\n",
    "        population.append( Individual_medicines(chromosome) )\n",
    "    \n",
    "    pathologyInd = PathologyIndividual(pathologyName, background, medicines,states, symtopms, weights, effects, bayesianNetwork)\n",
    "\n",
    "    ## llama al algoritmo genetico para encontrar una solucion al problema de la combinacion de medicamentos\n",
    "    return genetic_algorithm(pathologyInd, population, fitness_fn, ngen, pmut,ts)\n",
    "        "
   ]
  },
  {
   "cell_type": "markdown",
   "metadata": {},
   "source": [
    "# Probando el Algoritmo genetico"
   ]
  },
  {
   "cell_type": "code",
   "execution_count": 31,
   "metadata": {
    "collapsed": false
   },
   "outputs": [
    {
     "name": "stdout",
     "output_type": "stream",
     "text": [
      "0.446\n",
      "0.446\n",
      "0.286\n",
      "0.446\n",
      "0.406\n",
      "0.446\n",
      "0.406\n",
      "0.446\n",
      "0.446\n",
      "0.446\n",
      "0.486\n",
      "0.446\n",
      "0.446\n",
      "0.446\n",
      "0.446\n",
      "0.446\n",
      "0.486\n",
      "0.446\n",
      "0.446\n",
      "0.406\n",
      "Poblacion inicial, best_fitness = 0.48600000000000004\n",
      "[<__main__.Individual_medicines object at 0x7f892f7cc828>, <__main__.Individual_medicines object at 0x7f892de09128>, <__main__.Individual_medicines object at 0x7f892f7c9748>, <__main__.Individual_medicines object at 0x7f892f7c9710>, <__main__.Individual_medicines object at 0x7f892f7cd588>, <__main__.Individual_medicines object at 0x7f892f7cdc88>, <__main__.Individual_medicines object at 0x7f892f7cdcf8>, <__main__.Individual_medicines object at 0x7f892f7cdac8>, <__main__.Individual_medicines object at 0x7f892f7cdcc0>, <__main__.Individual_medicines object at 0x7f892f7cdf98>, <__main__.Individual_medicines object at 0x7f892f7cdef0>, <__main__.Individual_medicines object at 0x7f892f7cdd30>, <__main__.Individual_medicines object at 0x7f892f7cdc50>, <__main__.Individual_medicines object at 0x7f892f7cd470>, <__main__.Individual_medicines object at 0x7f892f7cdb70>, <__main__.Individual_medicines object at 0x7f892f7cd550>, <__main__.Individual_medicines object at 0x7f892f7cd4a8>, <__main__.Individual_medicines object at 0x7f892f7cd9e8>, <__main__.Individual_medicines object at 0x7f892f7cd6d8>, <__main__.Individual_medicines object at 0x7f892f7cdd68>]\n",
      "0\n",
      "Luego del mating pool\n",
      "[(<__main__.Individual_medicines object at 0x7f892f7cdac8>, <__main__.Individual_medicines object at 0x7f892f7cd470>), (<__main__.Individual_medicines object at 0x7f892f7cdd68>, <__main__.Individual_medicines object at 0x7f892f7cdef0>), (<__main__.Individual_medicines object at 0x7f892f7c9748>, <__main__.Individual_medicines object at 0x7f892f7cdb70>), (<__main__.Individual_medicines object at 0x7f892f7cdd68>, <__main__.Individual_medicines object at 0x7f892f7cdef0>), (<__main__.Individual_medicines object at 0x7f892f7cdc50>, <__main__.Individual_medicines object at 0x7f892f7cdc88>), (<__main__.Individual_medicines object at 0x7f892f7cd470>, <__main__.Individual_medicines object at 0x7f892f7cdc88>), (<__main__.Individual_medicines object at 0x7f892f7cdef0>, <__main__.Individual_medicines object at 0x7f892f7cd588>), (<__main__.Individual_medicines object at 0x7f892f7cd9e8>, <__main__.Individual_medicines object at 0x7f892f7cdac8>), (<__main__.Individual_medicines object at 0x7f892f7cdef0>, <__main__.Individual_medicines object at 0x7f892de09128>), (<__main__.Individual_medicines object at 0x7f892f7cd6d8>, <__main__.Individual_medicines object at 0x7f892f7cd6d8>)]\n",
      "Antes de la mutacion\n",
      "[<__main__.Individual_medicines object at 0x7f892de0f1d0>, <__main__.Individual_medicines object at 0x7f892de0f048>, <__main__.Individual_medicines object at 0x7f892dd1f2b0>, <__main__.Individual_medicines object at 0x7f892dd71588>, <__main__.Individual_medicines object at 0x7f892dd71630>, <__main__.Individual_medicines object at 0x7f892dd71828>, <__main__.Individual_medicines object at 0x7f892dd71780>, <__main__.Individual_medicines object at 0x7f892dd717f0>, <__main__.Individual_medicines object at 0x7f892dd71748>, <__main__.Individual_medicines object at 0x7f892dd5f240>, <__main__.Individual_medicines object at 0x7f892dd8c2e8>, <__main__.Individual_medicines object at 0x7f892dd20390>, <__main__.Individual_medicines object at 0x7f892dd20358>, <__main__.Individual_medicines object at 0x7f892dd8a400>, <__main__.Individual_medicines object at 0x7f892dd22080>, <__main__.Individual_medicines object at 0x7f892dd220b8>, <__main__.Individual_medicines object at 0x7f892dd225c0>, <__main__.Individual_medicines object at 0x7f892dd22048>, <__main__.Individual_medicines object at 0x7f892dd22588>, <__main__.Individual_medicines object at 0x7f892dd1e048>]\n",
      "<__main__.Individual_medicines object at 0x7f892de0f1d0>\n",
      "<__main__.Individual_medicines object at 0x7f892dd1f2b0>\n",
      "<__main__.Individual_medicines object at 0x7f892dd71588>\n",
      "<__main__.Individual_medicines object at 0x7f892dd71630>\n",
      "<__main__.Individual_medicines object at 0x7f892dd71780>\n",
      "<__main__.Individual_medicines object at 0x7f892dd71748>\n",
      "<__main__.Individual_medicines object at 0x7f892dd20390>\n",
      "<__main__.Individual_medicines object at 0x7f892dd20358>\n",
      "<__main__.Individual_medicines object at 0x7f892dd8a400>\n",
      "<__main__.Individual_medicines object at 0x7f892dd22080>\n",
      "<__main__.Individual_medicines object at 0x7f892dd225c0>\n",
      "<__main__.Individual_medicines object at 0x7f892dd22048>\n",
      "<__main__.Individual_medicines object at 0x7f892dd22588>\n",
      "Luego de la mutacion\n",
      "[[1, 2, 1, 1, 1, 1, 1, 1, 0, 1, 1], <__main__.Individual_medicines object at 0x7f892de0f048>, [2, 1, 0, 0, 1, 1, 1, 1, 1, 1, 1], [1, 0, 0, 1, 1, 1, 0, 1, 0, 1, 0], [1, 0, 1, 0, 1, 0, 0, 0, 1, 0, 0], <__main__.Individual_medicines object at 0x7f892dd71828>, [1, 1, 0, 1, 1, 1, 0, 1, 0, 0, 0], <__main__.Individual_medicines object at 0x7f892dd717f0>, [0, 1, 1, 1, 0, 0, 0, 1, 0, 1, 0], <__main__.Individual_medicines object at 0x7f892dd5f240>, <__main__.Individual_medicines object at 0x7f892dd8c2e8>, [1, 1, 1, 1, 1, 0, 1, 1, 0, 0, 0], [1, 1, 1, 0, 0, 1, 0, 0, 0, 1, 0], [1, 0, 1, 1, 1, 1, 0, 1, 0, 0, 1], [0, 2, 0, 0, 1, 1, 0, 1, 0, 1, 1], <__main__.Individual_medicines object at 0x7f892dd220b8>, [1, 1, 1, 1, 1, 1, 0, 1, 1, 0, 1], [1, 1, 1, 1, 0, 0, 0, 0, 1, 0, 0], [1, 0, 0, 0, 0, 0, 1, 0, 1, 1, 0], <__main__.Individual_medicines object at 0x7f892dd1e048>]\n"
     ]
    },
    {
     "ename": "AttributeError",
     "evalue": "'list' object has no attribute 'fitness'",
     "output_type": "error",
     "traceback": [
      "\u001b[1;31m---------------------------------------------------------------------------\u001b[0m",
      "\u001b[1;31mAttributeError\u001b[0m                            Traceback (most recent call last)",
      "\u001b[1;32m<ipython-input-31-d8f7252085f5>\u001b[0m in \u001b[0;36m<module>\u001b[1;34m()\u001b[0m\n\u001b[0;32m      5\u001b[0m \u001b[0mbn0\u001b[0m \u001b[1;33m=\u001b[0m \u001b[0mreader\u001b[0m\u001b[1;33m.\u001b[0m\u001b[0mget_model\u001b[0m\u001b[1;33m(\u001b[0m\u001b[1;33m)\u001b[0m\u001b[1;33m\u001b[0m\u001b[0m\n\u001b[0;32m      6\u001b[0m \u001b[1;31m# busca solucion para el problema de medicamentos. Usa 10 individuos, 100 generaciones y taza de mutación de 0.25\u001b[0m\u001b[1;33m\u001b[0m\u001b[1;33m\u001b[0m\u001b[0m\n\u001b[1;32m----> 7\u001b[1;33m \u001b[0mbest_ind\u001b[0m\u001b[1;33m,\u001b[0m \u001b[0mbestfitness\u001b[0m \u001b[1;33m=\u001b[0m \u001b[0mgenetic_search_medicines\u001b[0m\u001b[1;33m(\u001b[0m\u001b[1;36m4\u001b[0m\u001b[1;33m,\u001b[0m \u001b[1;34m'Hipertension Arterial'\u001b[0m\u001b[1;33m,\u001b[0m\u001b[1;33m{\u001b[0m\u001b[1;34m'EP_Insuficiencia_Cardiaca'\u001b[0m\u001b[1;33m:\u001b[0m\u001b[1;36m0\u001b[0m\u001b[1;33m}\u001b[0m\u001b[1;33m,\u001b[0m \u001b[1;33m{\u001b[0m\u001b[1;34m'MR_metropolol'\u001b[0m\u001b[1;33m:\u001b[0m\u001b[1;36m1\u001b[0m\u001b[1;33m,\u001b[0m \u001b[1;34m'MR_hidro'\u001b[0m\u001b[1;33m:\u001b[0m\u001b[1;36m1\u001b[0m\u001b[1;33m,\u001b[0m\u001b[1;34m'MR_amlodipino'\u001b[0m\u001b[1;33m:\u001b[0m\u001b[1;36m0\u001b[0m\u001b[1;33m,\u001b[0m\u001b[1;34m'MR_enalapril'\u001b[0m\u001b[1;33m:\u001b[0m\u001b[1;36m0\u001b[0m\u001b[1;33m,\u001b[0m\u001b[1;34m'MR_captopril'\u001b[0m\u001b[1;33m:\u001b[0m\u001b[1;36m0\u001b[0m\u001b[1;33m,\u001b[0m \u001b[1;34m'MR_carvedilol'\u001b[0m\u001b[1;33m:\u001b[0m\u001b[1;36m0\u001b[0m\u001b[1;33m,\u001b[0m\u001b[1;34m'MR_furosemida'\u001b[0m\u001b[1;33m:\u001b[0m \u001b[1;36m0\u001b[0m\u001b[1;33m,\u001b[0m\u001b[1;34m'MR_losartan'\u001b[0m\u001b[1;33m:\u001b[0m\u001b[1;36m0\u001b[0m\u001b[1;33m,\u001b[0m \u001b[1;34m'MR_prazosin'\u001b[0m\u001b[1;33m:\u001b[0m\u001b[1;36m0\u001b[0m\u001b[1;33m,\u001b[0m\u001b[1;34m'MR_propanolol'\u001b[0m\u001b[1;33m:\u001b[0m\u001b[1;36m0\u001b[0m\u001b[1;33m,\u001b[0m\u001b[1;34m'MR_verapamilo'\u001b[0m\u001b[1;33m:\u001b[0m\u001b[1;36m0\u001b[0m\u001b[1;33m}\u001b[0m\u001b[1;33m,\u001b[0m\u001b[1;33m[\u001b[0m\u001b[1;36m3\u001b[0m\u001b[1;33m,\u001b[0m\u001b[1;36m3\u001b[0m\u001b[1;33m,\u001b[0m\u001b[1;36m2\u001b[0m\u001b[1;33m,\u001b[0m\u001b[1;36m2\u001b[0m\u001b[1;33m,\u001b[0m\u001b[1;36m2\u001b[0m\u001b[1;33m,\u001b[0m\u001b[1;36m2\u001b[0m\u001b[1;33m,\u001b[0m\u001b[1;36m2\u001b[0m\u001b[1;33m,\u001b[0m\u001b[1;36m2\u001b[0m\u001b[1;33m,\u001b[0m\u001b[1;36m2\u001b[0m\u001b[1;33m,\u001b[0m\u001b[1;36m2\u001b[0m\u001b[1;33m,\u001b[0m\u001b[1;36m2\u001b[0m\u001b[1;33m]\u001b[0m\u001b[1;33m,\u001b[0m\u001b[1;33m[\u001b[0m\u001b[1;34m'SA_presion_arterial'\u001b[0m\u001b[1;33m,\u001b[0m\u001b[1;34m'SA_angina_de_pecho'\u001b[0m\u001b[1;33m]\u001b[0m\u001b[1;33m,\u001b[0m \u001b[1;33m[\u001b[0m\u001b[1;36m0.5\u001b[0m\u001b[1;33m,\u001b[0m\u001b[1;36m1\u001b[0m\u001b[1;33m,\u001b[0m\u001b[1;36m1\u001b[0m\u001b[1;33m]\u001b[0m\u001b[1;33m,\u001b[0m \u001b[1;33m[\u001b[0m\u001b[1;34m'SA_danho_rinhones'\u001b[0m\u001b[1;33m]\u001b[0m\u001b[1;33m,\u001b[0m\u001b[0mbn0\u001b[0m\u001b[1;33m,\u001b[0m\u001b[0mfitnessFunction\u001b[0m\u001b[1;33m)\u001b[0m\u001b[1;33m\u001b[0m\u001b[0m\n\u001b[0m\u001b[0;32m      8\u001b[0m \u001b[0mplt\u001b[0m\u001b[1;33m.\u001b[0m\u001b[0mplot\u001b[0m\u001b[1;33m(\u001b[0m\u001b[0mbestfitness\u001b[0m\u001b[1;33m)\u001b[0m\u001b[1;33m\u001b[0m\u001b[0m\n\u001b[0;32m      9\u001b[0m \u001b[0mplt\u001b[0m\u001b[1;33m.\u001b[0m\u001b[0mshow\u001b[0m\u001b[1;33m(\u001b[0m\u001b[1;33m)\u001b[0m\u001b[1;33m\u001b[0m\u001b[0m\n",
      "\u001b[1;32m<ipython-input-28-7637173fbfed>\u001b[0m in \u001b[0;36mgenetic_search_medicines\u001b[1;34m(ts, pathologyName, background, medicines, states, symtopms, weights, effects, bayesianNetwork, fitness_fn, num_medicines, popsize, ngen, pmut)\u001b[0m\n\u001b[0;32m     12\u001b[0m \u001b[1;33m\u001b[0m\u001b[0m\n\u001b[0;32m     13\u001b[0m     \u001b[1;31m## llama al algoritmo genetico para encontrar una solucion al problema de la combinacion de medicamentos\u001b[0m\u001b[1;33m\u001b[0m\u001b[1;33m\u001b[0m\u001b[0m\n\u001b[1;32m---> 14\u001b[1;33m     \u001b[1;32mreturn\u001b[0m \u001b[0mgenetic_algorithm\u001b[0m\u001b[1;33m(\u001b[0m\u001b[0mpathologyInd\u001b[0m\u001b[1;33m,\u001b[0m \u001b[0mpopulation\u001b[0m\u001b[1;33m,\u001b[0m \u001b[0mfitness_fn\u001b[0m\u001b[1;33m,\u001b[0m \u001b[0mngen\u001b[0m\u001b[1;33m,\u001b[0m \u001b[0mpmut\u001b[0m\u001b[1;33m,\u001b[0m\u001b[0mts\u001b[0m\u001b[1;33m)\u001b[0m\u001b[1;33m\u001b[0m\u001b[0m\n\u001b[0m\u001b[0;32m     15\u001b[0m \u001b[1;33m\u001b[0m\u001b[0m\n",
      "\u001b[1;32m<ipython-input-27-42f875bcf71a>\u001b[0m in \u001b[0;36mgenetic_algorithm\u001b[1;34m(pathologyInd, population, fitness_fn, ngen, pmut, ts)\u001b[0m\n\u001b[0;32m     30\u001b[0m         \u001b[0mprint\u001b[0m\u001b[1;33m(\u001b[0m\u001b[0moffspring_population\u001b[0m\u001b[1;33m)\u001b[0m\u001b[1;33m\u001b[0m\u001b[0m\n\u001b[0;32m     31\u001b[0m         \u001b[1;31m## Evalua la poblacion descendencia\u001b[0m\u001b[1;33m\u001b[0m\u001b[1;33m\u001b[0m\u001b[0m\n\u001b[1;32m---> 32\u001b[1;33m         \u001b[0mevaluate_population\u001b[0m\u001b[1;33m(\u001b[0m\u001b[0mpathologyInd\u001b[0m\u001b[1;33m,\u001b[0m \u001b[0moffspring_population\u001b[0m\u001b[1;33m,\u001b[0m \u001b[0mfitness_fn\u001b[0m\u001b[1;33m)\u001b[0m  \u001b[1;31m# evalua la poblacion inicial\u001b[0m\u001b[1;33m\u001b[0m\u001b[0m\n\u001b[0m\u001b[0;32m     33\u001b[0m \u001b[1;33m\u001b[0m\u001b[0m\n\u001b[0;32m     34\u001b[0m         \u001b[1;31m## Selecciona popsize individuos para la sgte. generación de la union de la pob. actual y  pob. descendencia\u001b[0m\u001b[1;33m\u001b[0m\u001b[1;33m\u001b[0m\u001b[0m\n",
      "\u001b[1;32m<ipython-input-13-1f5adc71e2cf>\u001b[0m in \u001b[0;36mevaluate_population\u001b[1;34m(pathologyInd, population, fitness_fn)\u001b[0m\n\u001b[0;32m      6\u001b[0m     \u001b[0mparam_arr\u001b[0m \u001b[1;33m=\u001b[0m \u001b[1;33m[\u001b[0m\u001b[1;33m]\u001b[0m\u001b[1;33m\u001b[0m\u001b[0m\n\u001b[0;32m      7\u001b[0m     \u001b[1;32mfor\u001b[0m \u001b[0mi\u001b[0m \u001b[1;32min\u001b[0m \u001b[0mrange\u001b[0m\u001b[1;33m(\u001b[0m\u001b[0mpopsize\u001b[0m\u001b[1;33m)\u001b[0m\u001b[1;33m:\u001b[0m\u001b[1;33m\u001b[0m\u001b[0m\n\u001b[1;32m----> 8\u001b[1;33m         \u001b[1;32mif\u001b[0m \u001b[0mpopulation\u001b[0m\u001b[1;33m[\u001b[0m\u001b[0mi\u001b[0m\u001b[1;33m]\u001b[0m\u001b[1;33m.\u001b[0m\u001b[0mfitness\u001b[0m \u001b[1;33m==\u001b[0m \u001b[1;33m-\u001b[0m\u001b[1;36m1\u001b[0m\u001b[1;33m:\u001b[0m    \u001b[1;31m# si el individuo no esta evaluado\u001b[0m\u001b[1;33m\u001b[0m\u001b[0m\n\u001b[0m\u001b[0;32m      9\u001b[0m             \u001b[0mparam_arr\u001b[0m\u001b[1;33m.\u001b[0m\u001b[0mappend\u001b[0m\u001b[1;33m(\u001b[0m\u001b[1;33m[\u001b[0m\u001b[0mi\u001b[0m\u001b[1;33m,\u001b[0m \u001b[0mpathologyInd\u001b[0m\u001b[1;33m,\u001b[0m \u001b[0mpopulation\u001b[0m\u001b[1;33m[\u001b[0m\u001b[0mi\u001b[0m\u001b[1;33m]\u001b[0m\u001b[1;33m]\u001b[0m\u001b[1;33m)\u001b[0m\u001b[1;33m\u001b[0m\u001b[0m\n\u001b[0;32m     10\u001b[0m \u001b[1;33m\u001b[0m\u001b[0m\n",
      "\u001b[1;31mAttributeError\u001b[0m: 'list' object has no attribute 'fitness'"
     ]
    }
   ],
   "source": [
    "import matplotlib.pyplot as plt\n",
    "from pgmpy.readwrite import BIFReader\n",
    "\n",
    "reader = BIFReader('hipertension.bif')\n",
    "bn0 = reader.get_model()\n",
    "# busca solucion para el problema de medicamentos. Usa 10 individuos, 100 generaciones y taza de mutación de 0.25\n",
    "best_ind, bestfitness = genetic_search_medicines(4, 'Hipertension Arterial',{'EP_Insuficiencia_Cardiaca':0}, {'MR_metropolol':1, 'MR_hidro':1,'MR_amlodipino':0,'MR_enalapril':0,'MR_captopril':0, 'MR_carvedilol':0,'MR_furosemida': 0,'MR_losartan':0, 'MR_prazosin':0,'MR_propanolol':0,'MR_verapamilo':0},[3,3,2,2,2,2,2,2,2,2,2],['SA_presion_arterial','SA_angina_de_pecho'], [0.5,1,1], ['SA_danho_rinhones'],bn0,fitnessFunction)\n",
    "plt.plot(bestfitness)\n",
    "plt.show()"
   ]
  },
  {
   "cell_type": "code",
   "execution_count": 15,
   "metadata": {
    "collapsed": false
   },
   "outputs": [],
   "source": [
    "pathologyInd = PathologyIndividual('Hipertension Arterial',{'EP_Insuficiencia_Cardiaca':0}, {'MR_metropolol':1, 'MR_hidro':1,'MR_amlodipino':0,'MR_enalapril':0,'MR_captopril':0, 'MR_carvedilol':0,'MR_furosemida': 0,'MR_losartan':0, 'MR_prazosin':0,'MR_propanolol':0,'MR_verapamilo':0},[3,3,2,2,2,2,2,2,2,2,2],['SA_presion_arterial','SA_angina_de_pecho'], [0.5,1,1], ['SA_danho_rinhones'],bn0)\n",
    "    "
   ]
  },
  {
   "cell_type": "code",
   "execution_count": 16,
   "metadata": {
    "collapsed": false
   },
   "outputs": [
    {
     "data": {
      "text/plain": [
       "'Hipertension Arterial'"
      ]
     },
     "execution_count": 16,
     "metadata": {},
     "output_type": "execute_result"
    }
   ],
   "source": [
    "pathologyInd.pathology"
   ]
  },
  {
   "cell_type": "code",
   "execution_count": 11,
   "metadata": {
    "collapsed": false
   },
   "outputs": [
    {
     "name": "stdout",
     "output_type": "stream",
     "text": [
      "[0, 1, 1, 1, 0, 0, 0, 0, 1, 1, 1]\n",
      "[0, 1, 0, 0, 0, 0, 0, 1, 1, 0, 0]\n",
      "[1, 0, 1, 1, 1, 1, 0, 0, 1, 0, 1]\n",
      "[1, 0, 1, 0, 1, 1, 1, 1, 0, 1, 1]\n",
      "[0, 1, 1, 0, 0, 1, 0, 0, 0, 0, 1]\n",
      "[1, 1, 1, 0, 1, 0, 1, 1, 0, 0, 0]\n",
      "[1, 1, 1, 1, 1, 1, 0, 0, 0, 0, 1]\n",
      "[1, 1, 1, 1, 0, 1, 0, 0, 1, 1, 0]\n",
      "[0, 0, 0, 1, 0, 1, 1, 0, 1, 0, 0]\n",
      "[0, 0, 0, 0, 1, 0, 1, 1, 1, 1, 0]\n",
      "[1, 1, 0, 0, 1, 0, 0, 0, 1, 0, 0]\n",
      "[0, 1, 0, 0, 1, 1, 0, 1, 1, 0, 1]\n",
      "[1, 1, 0, 0, 1, 0, 1, 0, 0, 1, 0]\n",
      "[1, 0, 0, 1, 1, 0, 0, 1, 0, 1, 1]\n",
      "[1, 1, 0, 0, 0, 1, 1, 0, 0, 0, 1]\n",
      "[1, 1, 1, 1, 0, 1, 0, 1, 0, 1, 1]\n",
      "[1, 0, 1, 1, 0, 1, 1, 1, 0, 0, 0]\n",
      "[0, 0, 1, 0, 1, 1, 0, 0, 0, 0, 0]\n",
      "[0, 1, 1, 1, 0, 0, 1, 1, 1, 1, 0]\n",
      "[1, 0, 0, 1, 0, 0, 1, 1, 1, 1, 0]\n"
     ]
    }
   ],
   "source": [
    "import random\n",
    "population = []\n",
    "num_medicines=11\n",
    "for i in range(20):\n",
    "    chromosome = [random.randint(0,1) for j in range(1,(num_medicines+1))]\n",
    "    random.shuffle(chromosome)\n",
    "    population.append( Individual_medicines(chromosome))\n",
    "    print(Individual_medicines(chromosome).chromosome)"
   ]
  },
  {
   "cell_type": "code",
   "execution_count": null,
   "metadata": {
    "collapsed": true
   },
   "outputs": [],
   "source": []
  },
  {
   "cell_type": "code",
   "execution_count": null,
   "metadata": {
    "collapsed": true
   },
   "outputs": [],
   "source": []
  }
 ],
 "metadata": {
  "anaconda-cloud": {},
  "kernelspec": {
   "display_name": "Python [anaconda3]",
   "language": "python",
   "name": "Python [anaconda3]"
  },
  "language_info": {
   "codemirror_mode": {
    "name": "ipython",
    "version": 3
   },
   "file_extension": ".py",
   "mimetype": "text/x-python",
   "name": "python",
   "nbconvert_exporter": "python",
   "pygments_lexer": "ipython3",
   "version": "3.5.2"
  }
 },
 "nbformat": 4,
 "nbformat_minor": 2
}
