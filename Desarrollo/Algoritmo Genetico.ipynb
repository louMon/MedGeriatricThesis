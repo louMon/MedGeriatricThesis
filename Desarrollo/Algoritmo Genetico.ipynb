{
 "cells": [
  {
   "cell_type": "code",
   "execution_count": 1,
   "metadata": {
    "collapsed": true
   },
   "outputs": [],
   "source": [
    "from pgmpy.models import BayesianModel\n",
    "from pgmpy.factors.discrete import TabularCPD\n",
    "from pgmpy.inference import BeliefPropagation\n",
    "from pgmpy.factors.discrete import DiscreteFactor\n",
    "\n",
    "from utils import *\n",
    "import pandas as pd\n",
    "import numpy as np\n",
    "import multiprocessing\n",
    "import random"
   ]
  },
  {
   "cell_type": "markdown",
   "metadata": {},
   "source": [
    "# Algoritmo genetico para obtener la mejor combinacion de medicamentos dada una patologia\n",
    "\n"
   ]
  },
  {
   "cell_type": "markdown",
   "metadata": {},
   "source": [
    "** Setear los parametros del individuo (background, sintomas, efectos secundarios) **"
   ]
  },
  {
   "cell_type": "code",
   "execution_count": 2,
   "metadata": {
    "collapsed": false
   },
   "outputs": [],
   "source": [
    "class PathologyIndividual:\n",
    "    \"Clase destinada a las patologias, antecedentes del paciente, sintomas de la patologia y efectos de los medicamentos \"\n",
    "\n",
    "    def __init__(self, pathology, diccBackground, diccMedicines,arrStates,arrSymtopm, arrWeigth, arrEffects, bayesianNetwork):\n",
    "        self.pathology = pathology\n",
    "        self.diccBackground ={}\n",
    "        self.diccMedicines  ={}\n",
    "        \n",
    "        self.arrStates       = arrStates[:]\n",
    "        self.arrSymtopm      = arrSymtopm[:]\n",
    "        self.arrWeigth       = arrWeigth[:]\n",
    "        self.arrEffects      = arrEffects[:]\n",
    "        self.bayesianNetwork = bayesianNetwork\n",
    "        \n",
    "        for index in diccBackground:  \n",
    "            self.diccBackground[index]  = diccBackground[index]\n",
    "        \n",
    "        for index in diccMedicines:           \n",
    "            self.diccMedicines[index]  = diccMedicines[index]\n"
   ]
  },
  {
   "cell_type": "markdown",
   "metadata": {},
   "source": [
    "\n",
    "**Clase abstracta de un individuo de algoritmo genético**"
   ]
  },
  {
   "cell_type": "code",
   "execution_count": 3,
   "metadata": {
    "collapsed": true
   },
   "outputs": [],
   "source": [
    "class Individual:\n",
    "    \"Clase abstracta para individuos de un algoritmo evolutivo.\"\n",
    "\n",
    "    def __init__(self, chromosome):\n",
    "        self.chromosome = chromosome\n",
    "\n",
    "    def crossover(self, other):\n",
    "        \"Retorna un nuevo individuo cruzando self y other.\"\n",
    "        raise NotImplementedError\n",
    "        \n",
    "    def mutate(self):\n",
    "        \"Cambia los valores de algunos genes.\"\n",
    "        raise NotImplementedError"
   ]
  },
  {
   "cell_type": "markdown",
   "metadata": {},
   "source": [
    "<b>Clase concreta de un individuo del problema de combinacion de medicamentos</b>"
   ]
  },
  {
   "cell_type": "code",
   "execution_count": 4,
   "metadata": {
    "collapsed": false
   },
   "outputs": [],
   "source": [
    "class Individual_medicines(Individual):\n",
    "    \"Clase que implementa el individuo en el problema de la busqueda de medicamentos que maximice la ausencia de los sintomas.\"\n",
    "\n",
    "    def __init__(self, chromosome):\n",
    "        self.chromosome = chromosome[:]\n",
    "        self.fitness    = -1\n",
    "\n",
    "    def crossover_onepoint(self, other):\n",
    "        \"Retorna dos nuevos individuos del cruzamiento de un punto entre self y other \"\n",
    "        c = random.randrange(len(self.chromosome))\n",
    "        ind1 = Individual_medicines(self.chromosome[:c] + other.chromosome[c:])\n",
    "        ind2 = Individual_medicines(other.chromosome[:c] + self.chromosome[c:])\n",
    "        return [ind1, ind2]   \n",
    "    \n",
    "    def crossover_uniform(self, other):\n",
    "        chromosome1 = []\n",
    "        chromosome2 = []\n",
    "        \"Retorna dos nuevos individuos del cruzamiento uniforme entre self y other \"\n",
    "        for i in range(len(self.chromosome)):\n",
    "            if random.uniform(0, 1) < 0.5:\n",
    "                chromosome1.append(self.chromosome[i])\n",
    "                chromosome2.append(other.chromosome[i])\n",
    "            else:\n",
    "                chromosome1.append(other.chromosome[i])\n",
    "                chromosome2.append(self.chromosome[i])\n",
    "        ind1 = Individual_medicines(chromosome1)\n",
    "        ind2 = Individual_medicines(chromosome2)\n",
    "        return [ind1, ind2]     \n",
    "\n",
    "    def mutate_position(self, arrStates):\n",
    "        \"Cambia aleatoriamente el estado del medicamento (prescribir, prescribir bajas condiciones, no prescribir)\"\n",
    "        for i,val in enumerate(self.chromosome):\n",
    "            if (random.uniform(0, 1) < 0.25):\n",
    "                new_value = changeState(val, arrStates[i])\n",
    "                self.chromosome[i] = new_value\n",
    "        return self.chromosome\n",
    "    "
   ]
  },
  {
   "cell_type": "markdown",
   "metadata": {},
   "source": [
    "<b>Funcion de fitness para evaluar un individuo del problema de combinacion de medicamentos</b>"
   ]
  },
  {
   "cell_type": "code",
   "execution_count": 5,
   "metadata": {
    "collapsed": true
   },
   "outputs": [],
   "source": [
    "def fitnessFunction(params):\n",
    "    \"\"\"Retorna el fitness de un cromosoma en el problema de combinacion de medicamentos \"\"\"\n",
    "    index, pathologyInd, individuo = params\n",
    "\n",
    "    bp = BeliefPropagation(pathologyInd.bayesianNetwork)\n",
    "    \n",
    "    mergeSymEff      = pathologyInd.arrSymtopm + pathologyInd.arrEffects    \n",
    "    newDiccMedicines = setStatesChromosome(pathologyInd.diccMedicines, individuo) \n",
    "    \n",
    "    evidence = createEvidence(pathologyInd.diccBackground,pathologyInd.diccMedicines)   \n",
    "    phi      = bp.query(variables=mergeSymEff, evidence = evidence)\n",
    "\n",
    "    sumAbsen = 0\n",
    "    sumTotal = 0\n",
    "    \n",
    "    for i,val in enumerate(mergeSymEff):\n",
    "        arrProb = phi[val].values\n",
    "        large = len(arrProb)\n",
    "        sumAbsen += arrProb[large-1]*pathologyInd.arrWeigth[i]\n",
    "        sumTotal += 1*pathologyInd.arrWeigth[i]  \n",
    "    fitness = sumAbsen / sumTotal\n",
    "    individuo.fitness = fitness\n",
    "\n",
    "    return [index, fitness]\n",
    "    "
   ]
  },
  {
   "cell_type": "markdown",
   "metadata": {},
   "source": [
    "<b>Funcion para evaluar toda una población de individuos con la funcion de fitnes especificada</b>"
   ]
  },
  {
   "cell_type": "code",
   "execution_count": 6,
   "metadata": {
    "collapsed": true
   },
   "outputs": [],
   "source": [
    "def evaluate_population(pathologyInd, population, fitness_fn):\n",
    "    \"\"\" Evalua una poblacion de individuos con la funcion de fitness pasada \"\"\"\n",
    "    popsize    = len(population)\n",
    "\n",
    "    pool_size = 12\n",
    "    param_arr = []\n",
    "    for i in range(popsize):\n",
    "        # si el individuo no esta evaluado\n",
    "        if population[i].fitness == -1:  \n",
    "            param_arr.append([i, pathologyInd, population[i]])\n",
    "\n",
    "    pool = multiprocessing.Pool(pool_size)\n",
    "    pool_results = pool.map(fitness_fn, param_arr)\n",
    "    \n",
    "    for fitness_arr in pool_results:\n",
    "        population[fitness_arr[0]].fitness = fitness_arr[1]\n",
    "    pool.close()\n",
    "    pool.join()"
   ]
  },
  {
   "cell_type": "markdown",
   "metadata": {},
   "source": [
    "<b>Funcion que selecciona con el metodo de torneo un par de individuos de population para cruzamiento </b>"
   ]
  },
  {
   "cell_type": "code",
   "execution_count": 7,
   "metadata": {
    "collapsed": true
   },
   "outputs": [],
   "source": [
    "#Seleccion de los mejores individios o conjuntos de medicamentos\n",
    "def select_parents_tourney(population,ts):\n",
    "    population_select = population.copy()\n",
    "    # Escoje el primer padre\n",
    "    iParent1 = chooseParent(population_select,ts)\n",
    "    #Desconsiderar el padre ya escogido\n",
    "    population_select.pop(iParent1)\n",
    "    # Escoje el segundo padre\n",
    "    iParent2 = chooseParent(population_select,ts)    \n",
    "      \n",
    "    return (population[iParent1], population[iParent2])"
   ]
  },
  {
   "cell_type": "markdown",
   "metadata": {},
   "source": [
    "<b>Funcion que selecciona sobrevivientes para la sgte generacion, dada la poblacion actual y poblacion de hijos </b>"
   ]
  },
  {
   "cell_type": "code",
   "execution_count": 8,
   "metadata": {
    "collapsed": true
   },
   "outputs": [],
   "source": [
    "def select_survivors(population, offspring_population, numsurvivors):\n",
    "    next_population = []\n",
    "    population.extend(offspring_population) # une las dos poblaciones\n",
    "    isurvivors = sorted(range(len(population)), key=lambda i: population[i].fitness, reverse=True)[:numsurvivors]\n",
    "    for i in range(numsurvivors): next_population.append(population[isurvivors[i]])\n",
    "    return next_population"
   ]
  },
  {
   "cell_type": "markdown",
   "metadata": {},
   "source": [
    "<b>Algoritmo Genetico</b>   \n",
    "Recibe una clase parametro para el individuo, funcion de fitness, numero de generaciones (ngen) y taza de mutación (pmut)"
   ]
  },
  {
   "cell_type": "code",
   "execution_count": 9,
   "metadata": {
    "collapsed": true
   },
   "outputs": [],
   "source": [
    "def genetic_algorithm(pathologyInd, population, fitness_fn, ngen=100, pmut=0.1,ts=2):\n",
    "    \"Algoritmo Genetico \"\n",
    "    \n",
    "    popsize    = len(population)\n",
    "    # evalua la poblacion inicial\n",
    "    evaluate_population(pathologyInd,population, fitness_fn)\n",
    "    ibest       = sorted(range(len(population)), key=lambda i: population[i].fitness, reverse=True)[:1]\n",
    "    bestfitness = [population[ibest[0]].fitness]\n",
    "    print(\"Poblacion inicial, best_fitness = {}\".format(population[ibest[0]].fitness))\n",
    "    for g in range(ngen):\n",
    "        \n",
    "        ## Selecciona las parejas de padres para cruzamiento \n",
    "        mating_pool = []\n",
    "        for i in range(int(popsize/2)): mating_pool.append(select_parents_tourney(population,ts)) \n",
    "\n",
    "        ## Crea la poblacion descendencia cruzando las parejas del mating pool con Recombinación de 1 punto\n",
    "        offspring_population = []\n",
    "        for i in range(len(mating_pool)): \n",
    "            offspring_population+= mating_pool[i][0].crossover_onepoint(mating_pool[i][1])\n",
    "        \n",
    "        ## Aplica el operador de mutacion con probabilidad pmut en cada hijo generado\n",
    "        for i in range(len(offspring_population)):\n",
    "            if random.uniform(0, 1) < pmut: \n",
    "                offspring_population[i].chromosome = offspring_population[i].mutate_position(pathologyInd.arrStates)\n",
    "\n",
    "        ## Evalua la poblacion descendencia\n",
    "        evaluate_population(pathologyInd, offspring_population, fitness_fn)  # evalua la poblacion inicial\n",
    "        \n",
    "        ## Selecciona poblacion de individuos para la sgte. generación\n",
    "        population = select_survivors(population, offspring_population, popsize)\n",
    "\n",
    "        ## Almacena la historia del fitness del mejor individuo\n",
    "        ibest = sorted(range(len(population)), key=lambda i: population[i].fitness, reverse=True)[:1]\n",
    "        bestfitness.append(population[ibest[0]].fitness)\n",
    "        print(\"generacion {}, best_fitness = {}\".format(g, population[ibest[0]].fitness))\n",
    "        print(\"Combinacion de medicamentos= {}\".format(population[ibest[0]].chromosome))\n",
    "    \n",
    "    return population[ibest[0]], bestfitness  "
   ]
  },
  {
   "cell_type": "markdown",
   "metadata": {},
   "source": [
    " <b>Algoritmo de Busqueda Genetica para el problema de combinacion de medicamentos en adultos mayores</b>   "
   ]
  },
  {
   "cell_type": "code",
   "execution_count": 10,
   "metadata": {
    "collapsed": false
   },
   "outputs": [],
   "source": [
    "def genetic_search_medicines(ts,pathologyName, background, medicines, states, symtopms, weights, effects, bayesianNetwork, fitness_fn, num_medicines=11, popsize=20, ngen=30, pmut=0.25):\n",
    "    import random\n",
    "    population = []\n",
    "\n",
    "    ## Crea la poblacion inicial con cromosomas aleatorios\n",
    "    for i in range(popsize):\n",
    "        chromosome = [random.randint(0,1) for j in range(1,(num_medicines+1))]##aqui le quite el +1\n",
    "        random.shuffle(chromosome)\n",
    "        population.append( Individual_medicines(chromosome) )\n",
    "    \n",
    "    pathologyInd = PathologyIndividual(pathologyName, background, medicines,states, symtopms, weights, effects, bayesianNetwork)\n",
    "\n",
    "    ## llama al algoritmo genetico para encontrar una solucion al problema de la combinacion de medicamentos\n",
    "    return genetic_algorithm(pathologyInd, population, fitness_fn, ngen, pmut,ts)\n",
    "        "
   ]
  },
  {
   "cell_type": "markdown",
   "metadata": {},
   "source": [
    "# Probando el Algoritmo genetico"
   ]
  },
  {
   "cell_type": "code",
   "execution_count": 15,
   "metadata": {
    "collapsed": false,
    "scrolled": true
   },
   "outputs": [
    {
     "name": "stdout",
     "output_type": "stream",
     "text": [
      "Poblacion inicial, best_fitness = 0.48600000000000004\n",
      "generacion 0, best_fitness = 0.48600000000000004\n",
      "combinacion de medicamentos= [0, 0, 1, 1, 1, 0, 1, 0, 0, 1, 1]\n",
      "generacion 1, best_fitness = 0.48600000000000004\n",
      "combinacion de medicamentos= [0, 0, 1, 1, 1, 0, 1, 0, 0, 1, 1]\n",
      "generacion 2, best_fitness = 0.48600000000000004\n",
      "combinacion de medicamentos= [0, 0, 1, 1, 1, 0, 1, 0, 0, 1, 1]\n",
      "generacion 3, best_fitness = 0.48600000000000004\n",
      "combinacion de medicamentos= [0, 0, 1, 1, 1, 0, 1, 0, 0, 1, 1]\n",
      "generacion 4, best_fitness = 0.48600000000000004\n",
      "combinacion de medicamentos= [0, 0, 1, 1, 1, 0, 1, 0, 0, 1, 1]\n",
      "generacion 5, best_fitness = 0.48600000000000004\n",
      "combinacion de medicamentos= [0, 0, 1, 1, 1, 0, 1, 0, 0, 1, 1]\n",
      "generacion 6, best_fitness = 0.48600000000000004\n",
      "combinacion de medicamentos= [0, 0, 1, 1, 1, 0, 1, 0, 0, 1, 1]\n",
      "generacion 7, best_fitness = 0.48600000000000004\n",
      "combinacion de medicamentos= [0, 0, 1, 1, 1, 0, 1, 0, 0, 1, 1]\n",
      "generacion 8, best_fitness = 0.48600000000000004\n",
      "combinacion de medicamentos= [0, 0, 1, 1, 1, 0, 1, 0, 0, 1, 1]\n",
      "generacion 9, best_fitness = 0.48600000000000004\n",
      "combinacion de medicamentos= [0, 0, 1, 1, 1, 0, 1, 0, 0, 1, 1]\n",
      "generacion 10, best_fitness = 0.48600000000000004\n",
      "combinacion de medicamentos= [0, 0, 1, 1, 1, 0, 1, 0, 0, 1, 1]\n",
      "generacion 11, best_fitness = 0.48600000000000004\n",
      "combinacion de medicamentos= [0, 0, 1, 1, 1, 0, 1, 0, 0, 1, 1]\n",
      "generacion 12, best_fitness = 0.48600000000000004\n",
      "combinacion de medicamentos= [0, 0, 1, 1, 1, 0, 1, 0, 0, 1, 1]\n",
      "generacion 13, best_fitness = 0.48600000000000004\n",
      "combinacion de medicamentos= [0, 0, 1, 1, 1, 0, 1, 0, 0, 1, 1]\n",
      "generacion 14, best_fitness = 0.48600000000000004\n",
      "combinacion de medicamentos= [0, 0, 1, 1, 1, 0, 1, 0, 0, 1, 1]\n",
      "generacion 15, best_fitness = 0.48600000000000004\n",
      "combinacion de medicamentos= [0, 0, 1, 1, 1, 0, 1, 0, 0, 1, 1]\n",
      "generacion 16, best_fitness = 0.48600000000000004\n",
      "combinacion de medicamentos= [0, 0, 1, 1, 1, 0, 1, 0, 0, 1, 1]\n",
      "generacion 17, best_fitness = 0.48600000000000004\n",
      "combinacion de medicamentos= [0, 0, 1, 1, 1, 0, 1, 0, 0, 1, 1]\n",
      "generacion 18, best_fitness = 0.66\n",
      "combinacion de medicamentos= [1, 1, 1, 1, 0, 1, 1, 1, 1, 1, 1]\n",
      "generacion 19, best_fitness = 0.66\n",
      "combinacion de medicamentos= [1, 1, 1, 1, 0, 1, 1, 1, 1, 1, 1]\n",
      "generacion 20, best_fitness = 0.66\n",
      "combinacion de medicamentos= [1, 1, 1, 1, 0, 1, 1, 1, 1, 1, 1]\n",
      "generacion 21, best_fitness = 0.66\n",
      "combinacion de medicamentos= [1, 1, 1, 1, 0, 1, 1, 1, 1, 1, 1]\n",
      "generacion 22, best_fitness = 0.66\n",
      "combinacion de medicamentos= [1, 1, 1, 1, 0, 1, 1, 1, 1, 1, 1]\n",
      "generacion 23, best_fitness = 0.66\n",
      "combinacion de medicamentos= [1, 1, 1, 1, 0, 1, 1, 1, 1, 1, 1]\n",
      "generacion 24, best_fitness = 0.66\n",
      "combinacion de medicamentos= [1, 1, 1, 1, 0, 1, 1, 1, 1, 1, 1]\n",
      "generacion 25, best_fitness = 0.66\n",
      "combinacion de medicamentos= [1, 1, 1, 1, 0, 1, 1, 1, 1, 1, 1]\n",
      "generacion 26, best_fitness = 0.66\n",
      "combinacion de medicamentos= [1, 1, 1, 1, 0, 1, 1, 1, 1, 1, 1]\n",
      "generacion 27, best_fitness = 0.66\n",
      "combinacion de medicamentos= [1, 1, 1, 1, 0, 1, 1, 1, 1, 1, 1]\n",
      "generacion 28, best_fitness = 0.66\n",
      "combinacion de medicamentos= [1, 1, 1, 1, 0, 1, 1, 1, 1, 1, 1]\n",
      "generacion 29, best_fitness = 0.66\n",
      "combinacion de medicamentos= [1, 1, 1, 1, 0, 1, 1, 1, 1, 1, 1]\n"
     ]
    }
   ],
   "source": [
    "import matplotlib.pyplot as plt\n",
    "from pgmpy.readwrite import BIFReader\n",
    "\n",
    "reader = BIFReader('hipertension.bif')\n",
    "bn0 = reader.get_model()\n",
    "# busca solucion para el problema de medicamentos. Usa 10 individuos, 100 generaciones y taza de mutación de 0.25\n",
    "best_ind, bestfitness = genetic_search_medicines(3, 'Hipertension Arterial',{'EP_Insuficiencia_Cardiaca':0}, {'MR_metropolol':1,'MR_amlodipino':0,'MR_enalapril':0,'MR_captopril':0, 'MR_carvedilol':0,'MR_furosemida': 0,'MR_losartan':0, 'MR_prazosin':0,'MR_propanolol':0,'MR_verapamilo':0},[2,2,2,2,2,2,2,2,2,2,2],['SA_presion_arterial','SA_angina_de_pecho'], [0.5,1,1], ['SA_danho_rinhones'],bn0,fitnessFunction)\n",
    "plt.plot(bestfitness)\n",
    "plt.show()"
   ]
  },
  {
   "cell_type": "code",
   "execution_count": null,
   "metadata": {
    "collapsed": false
   },
   "outputs": [],
   "source": [
    "pathologyInd = PathologyIndividual('Hipertension Arterial',{'EP_Insuficiencia_Cardiaca':0}, {'MR_metropolol':1, 'MR_hidro':1,'MR_amlodipino':0,'MR_enalapril':0,'MR_captopril':0, 'MR_carvedilol':0,'MR_furosemida': 0,'MR_losartan':0, 'MR_prazosin':0,'MR_propanolol':0,'MR_verapamilo':0},[3,3,2,2,2,2,2,2,2,2,2],['SA_presion_arterial','SA_angina_de_pecho'], [0.5,1,1], ['SA_danho_rinhones'],bn0)\n",
    "    "
   ]
  },
  {
   "cell_type": "code",
   "execution_count": null,
   "metadata": {
    "collapsed": false
   },
   "outputs": [],
   "source": [
    "pathologyInd.pathology"
   ]
  },
  {
   "cell_type": "code",
   "execution_count": null,
   "metadata": {
    "collapsed": false
   },
   "outputs": [],
   "source": [
    "import random\n",
    "population = []\n",
    "num_medicines=11\n",
    "for i in range(20):\n",
    "    chromosome = [random.randint(0,1) for j in range(1,(num_medicines+1))]\n",
    "    random.shuffle(chromosome)\n",
    "    population.append( Individual_medicines(chromosome))\n",
    "    print(Individual_medicines(chromosome).chromosome)"
   ]
  },
  {
   "cell_type": "code",
   "execution_count": null,
   "metadata": {
    "collapsed": true
   },
   "outputs": [],
   "source": []
  },
  {
   "cell_type": "code",
   "execution_count": null,
   "metadata": {
    "collapsed": true
   },
   "outputs": [],
   "source": []
  }
 ],
 "metadata": {
  "anaconda-cloud": {},
  "kernelspec": {
   "display_name": "Python [anaconda3]",
   "language": "python",
   "name": "Python [anaconda3]"
  },
  "language_info": {
   "codemirror_mode": {
    "name": "ipython",
    "version": 3
   },
   "file_extension": ".py",
   "mimetype": "text/x-python",
   "name": "python",
   "nbconvert_exporter": "python",
   "pygments_lexer": "ipython3",
   "version": "3.5.2"
  }
 },
 "nbformat": 4,
 "nbformat_minor": 2
}
