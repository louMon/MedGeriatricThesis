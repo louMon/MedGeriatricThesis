{
 "cells": [
  {
   "cell_type": "code",
   "execution_count": 1,
   "metadata": {
    "collapsed": true
   },
   "outputs": [],
   "source": [
    "from pgmpy.models import BayesianModel\n",
    "from pgmpy.factors.discrete import TabularCPD\n",
    "from pgmpy.inference import BeliefPropagation\n",
    "from pgmpy.factors.discrete import DiscreteFactor\n",
    "\n",
    "from utils import *\n",
    "import pandas as pd\n",
    "import numpy as np"
   ]
  },
  {
   "cell_type": "markdown",
   "metadata": {},
   "source": [
    "# Algoritmo genetico para obtener la mejor combinacion de medicamentos dada una patologia\n",
    "\n"
   ]
  },
  {
   "cell_type": "markdown",
   "metadata": {},
   "source": [
    "** Setear los parametros del individuo (background, sintomas, efectos secundarios) **"
   ]
  },
  {
   "cell_type": "code",
   "execution_count": 19,
   "metadata": {
    "collapsed": false
   },
   "outputs": [],
   "source": [
    "class PathologyIndividual:\n",
    "    \"Clase destinada a las patologias, antecedentes del paciente, sintomas de la patologia y efectos de los medicamentos \"\n",
    "\n",
    "    def __init__(self, pathology, diccBackground, diccMedicines,arrStates,arrSymtopm, arrWeigth, arrEffects, bayesianNetwork):\n",
    "        self.pathology = pathology\n",
    "        self.diccBackground ={}\n",
    "        self.diccMedicines  ={}\n",
    "        \n",
    "        self.arrStates       = arrStates[:]\n",
    "        self.arrSymtopm      = arrSymtopm[:]\n",
    "        self.arrWeigth       = arrWeigth[:]\n",
    "        self.arrEffects      = arrEffects[:]\n",
    "        self.bayesianNetwork = bayesianNetwork\n",
    "        \n",
    "        for index in diccBackground:  \n",
    "            self.diccBackground[index]  = diccBackground[index]\n",
    "        \n",
    "        for index in diccMedicines:           \n",
    "            self.diccMedicines[index]  = diccMedicines[index]\n"
   ]
  },
  {
   "cell_type": "markdown",
   "metadata": {},
   "source": [
    "\n",
    "**Clase abstracta de un individuo de algoritmo genético**"
   ]
  },
  {
   "cell_type": "code",
   "execution_count": 3,
   "metadata": {
    "collapsed": true
   },
   "outputs": [],
   "source": [
    "class Individual:\n",
    "    \"Clase abstracta para individuos de un algoritmo evolutivo.\"\n",
    "\n",
    "    def __init__(self, chromosome):\n",
    "        self.chromosome = chromosome\n",
    "\n",
    "    def crossover(self, other):\n",
    "        \"Retorna un nuevo individuo cruzando self y other.\"\n",
    "        raise NotImplementedError\n",
    "        \n",
    "    def mutate(self):\n",
    "        \"Cambia los valores de algunos genes.\"\n",
    "        raise NotImplementedError"
   ]
  },
  {
   "cell_type": "markdown",
   "metadata": {},
   "source": [
    "<b>Clase concreta de un individuo del problema de combinacion de medicamentos</b>"
   ]
  },
  {
   "cell_type": "code",
   "execution_count": 21,
   "metadata": {
    "collapsed": false
   },
   "outputs": [],
   "source": [
    "import random\n",
    "\n",
    "class Individual_medicines(Individual):\n",
    "    \"Clase que implementa el individuo en el problema de la busqueda de medicamentos que maximice la ausencia de los sintomas.\"\n",
    "\n",
    "    def __init__(self, chromosome):\n",
    "        self.chromosome = chromosome[:]\n",
    "        self.fitness    = -1\n",
    "\n",
    "    def crossover_onepoint(self, other):\n",
    "        \"Retorna dos nuevos individuos del cruzamiento de un punto entre self y other \"\n",
    "        #print(\"Entro a onepoint\")\n",
    "        c = random.randrange(len(self.chromosome))\n",
    "        #print(c)\n",
    "        ind1 = Individual_medicines(self.chromosome[:c] + other.chromosome[c:])\n",
    "        ind2 = Individual_medicines(other.chromosome[:c] + self.chromosome[c:])\n",
    "        #print(ind1, ind2)\n",
    "        return [ind1, ind2]   \n",
    "    \n",
    "    def crossover_uniform(self, other):\n",
    "        chromosome1 = []\n",
    "        chromosome2 = []\n",
    "        \"Retorna dos nuevos individuos del cruzamiento uniforme entre self y other \"\n",
    "        for i in range(len(self.chromosome)):\n",
    "            if random.uniform(0, 1) < 0.5:\n",
    "                chromosome1.append(self.chromosome[i])\n",
    "                chromosome2.append(other.chromosome[i])\n",
    "            else:\n",
    "                chromosome1.append(other.chromosome[i])\n",
    "                chromosome2.append(self.chromosome[i])\n",
    "        ind1 = Individual_medicines(chromosome1)\n",
    "        ind2 = Individual_medicines(chromosome2)\n",
    "        return [ind1, ind2]     \n",
    "\n",
    "    def mutate_position(self, arrStates):\n",
    "        \"Cambia aleatoriamente el estado del medicamento (prescribir, prescribir bajas condiciones, no prescribir)\"\n",
    "        #print(\"Entro a mutate\")\n",
    "        for i,val in enumerate(self.chromosome):\n",
    "            if (random.uniform(0, 1) < 0.25):\n",
    "                new_value = changeState(val, arrStates[i])\n",
    "                self.chromosome[i] = new_value\n",
    "                \n",
    "        return self.chromosome\n",
    "    "
   ]
  },
  {
   "cell_type": "code",
   "execution_count": null,
   "metadata": {
    "collapsed": false
   },
   "outputs": [],
   "source": [
    "new = changeState(1, 3)"
   ]
  },
  {
   "cell_type": "code",
   "execution_count": null,
   "metadata": {
    "collapsed": true
   },
   "outputs": [],
   "source": [
    "def changeState(val, numStates):\n",
    "    arrStates = []\n",
    "    for i in range(0,numStates):\n",
    "        arrStates.append(i)\n",
    "    #print(arrStates)\n",
    "    arrStates.remove(val)\n",
    "    new_value = random.choice(arrStates)\n",
    "    return new_value\n",
    "    "
   ]
  },
  {
   "cell_type": "markdown",
   "metadata": {},
   "source": [
    "<b>Funcion de fitness para evaluar un individuo del problema de combinacion de medicamentos</b>"
   ]
  },
  {
   "cell_type": "code",
   "execution_count": 173,
   "metadata": {
    "collapsed": true
   },
   "outputs": [],
   "source": [
    "def createEvidence(dicc1, dicc2):\n",
    "    evidence = dicc1.copy()\n",
    "    evidence.update(dicc2)\n",
    "    return evidence"
   ]
  },
  {
   "cell_type": "code",
   "execution_count": 174,
   "metadata": {
    "collapsed": true
   },
   "outputs": [],
   "source": [
    "def setStatesChromosome(diccMedicines, chromosome):\n",
    "    n = len(chromosome)\n",
    "    i = 0\n",
    "    for key in diccMedicines:\n",
    "        diccMedicines[key] = chromosome[i]\n",
    "        i+=1\n",
    "    return diccMedicines\n",
    "        "
   ]
  },
  {
   "cell_type": "code",
   "execution_count": 175,
   "metadata": {
    "collapsed": true
   },
   "outputs": [],
   "source": [
    "from multiprocessing import Process"
   ]
  },
  {
   "cell_type": "code",
   "execution_count": null,
   "metadata": {
    "collapsed": true
   },
   "outputs": [],
   "source": [
    "processes = list()\n",
    "for individual in population:\n",
    "    p = Process(target=fitnessFunction, args=())\n",
    "    processes.append(p)\n",
    "    p.start()\n",
    "p.join()\n",
    "\n",
    "processes   #(para ver)"
   ]
  },
  {
   "cell_type": "code",
   "execution_count": 178,
   "metadata": {
    "collapsed": true
   },
   "outputs": [],
   "source": [
    "def evaluate_population(pathologyInd, population, fitness_fn):\n",
    "    \"\"\" Evalua una poblacion de individuos con la funcion de fitness pasada \"\"\"\n",
    "    popsize    = len(population)\n",
    "    processes = list()\n",
    "    for i in range(popsize):\n",
    "        if population[i].fitness == -1:    # si el individuo no esta evaluado\n",
    "            print('entro')\n",
    "            p = Process(target=fitness_fn, args=(pathologyInd, population[i]))\n",
    "            processes.append(p)\n",
    "            p.start()\n",
    "    p.join()\n",
    "    print(processes)   #(para ver)\n",
    "    p.terminate()"
   ]
  },
  {
   "cell_type": "code",
   "execution_count": 179,
   "metadata": {
    "collapsed": false
   },
   "outputs": [
    {
     "name": "stdout",
     "output_type": "stream",
     "text": [
      "entro\n",
      "entro\n",
      "entro\n",
      "entro\n",
      "entro\n",
      "entro\n",
      "entro\n",
      "entro\n",
      "entro\n",
      "entro\n",
      "entro\n",
      "entro\n",
      "entro\n",
      "entro\n",
      "entro\n",
      "entro\n",
      "entro\n",
      "entro\n",
      "entro\n",
      "[<Process(Process-131, started)>, <Process(Process-132, started)>, <Process(Process-133, started)>, <Process(Process-134, started)>, <Process(Process-135, started)>, <Process(Process-136, started)>, <Process(Process-137, stopped)>, <Process(Process-138, started)>, <Process(Process-139, started)>, <Process(Process-140, started)>, <Process(Process-141, started)>, <Process(Process-142, started)>, <Process(Process-143, stopped)>, <Process(Process-144, started)>, <Process(Process-145, started)>, <Process(Process-146, started)>, <Process(Process-147, started)>, <Process(Process-148, started)>, <Process(Process-149, stopped)>]\n",
      "-1\n",
      "-1\n",
      "-1\n",
      "-1\n",
      "-1\n",
      "-1\n",
      "-1\n",
      "-1\n",
      "-1\n",
      "-1\n",
      "0.446\n",
      "-1\n",
      "-1\n",
      "-1\n",
      "-1\n",
      "-1\n",
      "-1\n",
      "-1\n",
      "-1\n",
      "-1\n"
     ]
    }
   ],
   "source": [
    "evaluate_population(pathologyInd,population, fitnessFunction)\n",
    "for i in range(len(population)):\n",
    "    print(population[i].fitness)"
   ]
  },
  {
   "cell_type": "code",
   "execution_count": 176,
   "metadata": {
    "collapsed": true
   },
   "outputs": [],
   "source": [
    "def fitnessFunction(pathologyInd, individuo):\n",
    "    \"\"\"Retorna el fitness de un cromosoma en el problema de combinacion de medicamentos \"\"\"\n",
    "    bp = BeliefPropagation(pathologyInd.bayesianNetwork)\n",
    "    mergeSymEff      = pathologyInd.arrSymtopm + pathologyInd.arrEffects    \n",
    "    newDiccMedicines = setStatesChromosome(pathologyInd.diccMedicines, individuo.chromosome)   \n",
    "    evidence = createEvidence(pathologyInd.diccBackground,pathologyInd.diccMedicines) \n",
    "    phi      = bp.query(variables=mergeSymEff, evidence = evidence)\n",
    "    sumAbsen = 0\n",
    "    sumTotal = 0\n",
    "    \n",
    "    for i,val in enumerate(mergeSymEff):\n",
    "        arrProb = phi[val].values\n",
    "        large = len(arrProb)\n",
    "        sumAbsen += arrProb[large-1]*pathologyInd.arrWeigth[i]\n",
    "        sumTotal += 1*pathologyInd.arrWeigth[i]  \n",
    "    fitness = sumAbsen / sumTotal\n",
    "    #print(fitness)  \n",
    "    individuo.fitness = fitness\n",
    "    #print(individuo.fitness)"
   ]
  },
  {
   "cell_type": "code",
   "execution_count": 177,
   "metadata": {
    "collapsed": false
   },
   "outputs": [],
   "source": [
    "fitnessFunction(pathologyInd, population[10])"
   ]
  },
  {
   "cell_type": "markdown",
   "metadata": {},
   "source": [
    "<b>Funcion para evaluar toda una población de individuos con la funcion de fitnes especificada</b>"
   ]
  },
  {
   "cell_type": "code",
   "execution_count": 169,
   "metadata": {
    "collapsed": true
   },
   "outputs": [],
   "source": [
    "#anterior\n",
    "def evaluate_population(pathologyInd, population, fitness_fn):\n",
    "    \"\"\" Evalua una poblacion de individuos con la funcion de fitness pasada \"\"\"\n",
    "    popsize    = len(population)\n",
    "    for i in range(popsize):\n",
    "        if population[i].fitness == -1:    # si el individuo no esta evaluado\n",
    "            population[i].fitness = fitness_fn(pathologyInd, population[i].chromosome)"
   ]
  },
  {
   "cell_type": "markdown",
   "metadata": {},
   "source": [
    "<b>Funcion que selecciona con el metodo de torneo un par de individuos de population para cruzamiento </b>"
   ]
  },
  {
   "cell_type": "code",
   "execution_count": 87,
   "metadata": {
    "collapsed": false
   },
   "outputs": [],
   "source": [
    "def getArrayRivals(popsize,ts):\n",
    "    rival = []\n",
    "    for i in range(ts): \n",
    "        rival_index = random.randint(0,popsize-1)\n",
    "        if rival_index not in rival: \n",
    "            rival.append(rival_index)\n",
    "    return rival"
   ]
  },
  {
   "cell_type": "code",
   "execution_count": 91,
   "metadata": {
    "collapsed": true
   },
   "outputs": [],
   "source": [
    "def chooseParent(population,ts):\n",
    "    popsize = len(population)    \n",
    "    rivalParent = getArrayRivals(popsize,ts)   \n",
    "    print(rivalParent)\n",
    "    maxFitness = 0\n",
    "    iParent=0\n",
    "    for index in rivalParent:\n",
    "        print(population[index].fitness)\n",
    "        if (population[index].fitness > maxFitness):\n",
    "            maxFitness = population[index].fitness \n",
    "            iParent = index\n",
    "    print(iParent)        \n",
    "    return iParent\n",
    "    "
   ]
  },
  {
   "cell_type": "code",
   "execution_count": 92,
   "metadata": {
    "collapsed": true
   },
   "outputs": [],
   "source": [
    "#Seleccion de los mejores individios o conjuntos de medicamentos\n",
    "def select_parents_tourney(population,ts):\n",
    "    population_select = population.copy()\n",
    "    # Escoje el primer padre\n",
    "    iParent1 = chooseParent(population_select,ts)\n",
    "    #Desconsiderar el padre ya escogido\n",
    "    population_select.pop(iParent1)\n",
    "    # Escoje el segundo padre\n",
    "    iParent2 = chooseParent(population_select,ts)    \n",
    "      \n",
    "    return (population[iParent1], population[iParent2])"
   ]
  },
  {
   "cell_type": "code",
   "execution_count": 93,
   "metadata": {
    "collapsed": false
   },
   "outputs": [
    {
     "name": "stdout",
     "output_type": "stream",
     "text": [
      "[1, 5, 10, 14]\n",
      "-1\n",
      "-1\n",
      "-1\n",
      "-1\n",
      "0\n",
      "[1, 8, 13, 3]\n",
      "-1\n",
      "-1\n",
      "-1\n",
      "-1\n",
      "0\n"
     ]
    }
   ],
   "source": [
    "#evaluate_population(pathologyInd,population, fitnessFunction)\n",
    "a, b = select_parents_tourney(population,4)"
   ]
  },
  {
   "cell_type": "markdown",
   "metadata": {},
   "source": [
    "<b>Funcion que selecciona sobrevivientes para la sgte generacion, dada la poblacion actual y poblacion de hijos </b>"
   ]
  },
  {
   "cell_type": "code",
   "execution_count": null,
   "metadata": {
    "collapsed": true
   },
   "outputs": [],
   "source": [
    "def select_survivors(population, offspring_population, numsurvivors):\n",
    "    next_population = []\n",
    "    population.extend(offspring_population) # une las dos poblaciones\n",
    "    isurvivors = sorted(range(len(population)), key=lambda i: population[i].fitness, reverse=True)[:numsurvivors]\n",
    "    for i in range(numsurvivors): next_population.append(population[isurvivors[i]])\n",
    "    return next_population"
   ]
  },
  {
   "cell_type": "markdown",
   "metadata": {},
   "source": [
    "<b>Algoritmo Genetico</b>   \n",
    "Recibe una clase parametro para el individuo, funcion de fitness, numero de generaciones (ngen) y taza de mutación (pmut)"
   ]
  },
  {
   "cell_type": "code",
   "execution_count": null,
   "metadata": {
    "collapsed": true
   },
   "outputs": [],
   "source": [
    "def genetic_algorithm(pathologyInd, population, fitness_fn, ngen=100, pmut=0.1,ts=2):\n",
    "    \"Algoritmo Genetico \"\n",
    "    \n",
    "    popsize    = len(population)\n",
    "    evaluate_population(pathologyInd,population, fitness_fn)  # evalua la poblacion inicial\n",
    "    ibest       = sorted(range(len(population)), key=lambda i: population[i].fitness, reverse=True)[:1]\n",
    "    bestfitness = [population[ibest[0]].fitness]\n",
    "    print(\"Poblacion inicial, best_fitness = {}\".format(population[ibest[0]].fitness))\n",
    "    \n",
    "    for g in range(ngen):   # Por cada generacion\n",
    "        \n",
    "        ## Selecciona las parejas de padres para cruzamiento \n",
    "        mating_pool = []\n",
    "        for i in range(int(popsize/2)): mating_pool.append(select_parents_tourney(population,ts)) \n",
    "        print('Luego del mating pool')\n",
    "        print(mating_pool)\n",
    "        ## Crea la poblacion descendencia cruzando las parejas del mating pool con Recombinación de 1 punto\n",
    "        offspring_population = []\n",
    "        for i in range(len(mating_pool)): \n",
    "            offspring_population.extend( mating_pool[i][0].crossover_onepoint(mating_pool[i][1]) )\n",
    "            #offspring_population.extend( mating_pool[i][0].crossover_uniform(mating_pool[i][1]) )\n",
    "        #print('Antes de la mutacion')\n",
    "        #print(offspring_population)\n",
    "        ## Aplica el operador de mutacion con probabilidad pmut en cada hijo generado\n",
    "        for i in range(len(offspring_population)):\n",
    "            if random.uniform(0, 1) < pmut: \n",
    "                offspring_population[i] = offspring_population[i].mutate_position(pathologyInd.arrStates)\n",
    "        #print('Luego de la mutacion')\n",
    "        #print(offspring_population)\n",
    "        ## Evalua la poblacion descendencia\n",
    "        evaluate_population(pathologyInd, offspring_population, fitness_fn)  # evalua la poblacion inicial\n",
    "        \n",
    "        ## Selecciona popsize individuos para la sgte. generación de la union de la pob. actual y  pob. descendencia\n",
    "        population = select_survivors(population, offspring_population, popsize)\n",
    "\n",
    "        ## Almacena la historia del fitness del mejor individuo\n",
    "        ibest = sorted(range(len(population)), key=lambda i: population[i].fitness, reverse=True)[:1]\n",
    "        bestfitness.append(population[ibest[0]].fitness)\n",
    "        print(\"generacion {}, best_fitness = {}\".format(g, population[ibest[0]].fitness))\n",
    "    \n",
    "    return population[ibest[0]], bestfitness  "
   ]
  },
  {
   "cell_type": "markdown",
   "metadata": {},
   "source": [
    " <b>Algoritmo de Busqueda Genetica para el problema de combinacion de medicamentos en adultos mayores</b>   "
   ]
  },
  {
   "cell_type": "code",
   "execution_count": null,
   "metadata": {
    "collapsed": false
   },
   "outputs": [],
   "source": [
    "def genetic_search_medicines(ts,pathologyName, background, medicines, states, symtopms, weights, effects, bayesianNetwork, fitness_fn, num_medicines=10, popsize=20, ngen=100, pmut=0.5):\n",
    "    import random\n",
    "    population = []\n",
    "\n",
    "    ## Crea la poblacion inicial con cromosomas aleatorios\n",
    "    for i in range(popsize):\n",
    "        chromosome = [random.randint(0,1) for j in range(1,(num_medicines+1))]##aqui le quite el +1\n",
    "        random.shuffle(chromosome)\n",
    "        population.append( Individual_medicines(chromosome) )\n",
    "    \n",
    "    pathologyInd = PathologyIndividual(pathologyName, background, medicines,states, symtopms, weights, effects, bayesianNetwork)\n",
    "\n",
    "    ## llama al algoritmo genetico para encontrar una solucion al problema de la combinacion de medicamentos\n",
    "    return genetic_algorithm(pathologyInd, population, fitness_fn, ngen, pmut,ts)\n",
    "        "
   ]
  },
  {
   "cell_type": "markdown",
   "metadata": {},
   "source": [
    "# Probando el Algoritmo genetico"
   ]
  },
  {
   "cell_type": "code",
   "execution_count": 5,
   "metadata": {
    "collapsed": false
   },
   "outputs": [],
   "source": [
    "import matplotlib.pyplot as plt\n",
    "from pgmpy.readwrite import BIFReader\n",
    "\n",
    "reader = BIFReader('hipertension.bif')\n",
    "bn0 = reader.get_model()\n",
    "# busca solucion para el problema de medicamentos. Usa 10 individuos, 100 generaciones y taza de mutación de 0.25\n",
    "#best_ind, bestfitness = genetic_search_medicines(4, 'Hipertension Arterial',{'EP_Insuficiencia_Cardiaca':0}, {'MR_metropolol':1, 'MR_amlodipino':0,'MR_enalapril':0,'MR_captopril':0, 'MR_carvedilol':0,'MR_furosemida': 0,'MR_losartan':0, 'MR_prazosin':0,'MR_propanolol':0,'MR_verapamilo':0},[3,2,2,2,2,2,2,2,2,2],['SA_presion_arterial','SA_angina_de_pecho'], [0.5,1,1], ['SA_danho_rinhones'],bn0,fitnessFunction)\n",
    "#plt.plot(bestfitness)\n",
    "#plt.show()"
   ]
  },
  {
   "cell_type": "code",
   "execution_count": 13,
   "metadata": {
    "collapsed": false
   },
   "outputs": [],
   "source": [
    "pathologyInd = PathologyIndividual('Hipertension Arterial',{'EP_Insuficiencia_Cardiaca':0}, {'MR_metropolol':1, 'MR_hidro':1,'MR_amlodipino':0,'MR_enalapril':0,'MR_captopril':0, 'MR_carvedilol':0,'MR_furosemida': 0,'MR_losartan':0, 'MR_prazosin':0,'MR_propanolol':0,'MR_verapamilo':0},[3,3,2,2,2,2,2,2,2,2,2],['SA_presion_arterial','SA_angina_de_pecho'], [0.5,1,1], ['SA_danho_rinhones'],bn0)\n",
    "    "
   ]
  },
  {
   "cell_type": "code",
   "execution_count": 20,
   "metadata": {
    "collapsed": false
   },
   "outputs": [
    {
     "data": {
      "text/plain": [
       "'Hipertension Arterial'"
      ]
     },
     "execution_count": 20,
     "metadata": {},
     "output_type": "execute_result"
    }
   ],
   "source": [
    "pathologyInd.pathology"
   ]
  },
  {
   "cell_type": "code",
   "execution_count": 148,
   "metadata": {
    "collapsed": false
   },
   "outputs": [
    {
     "name": "stdout",
     "output_type": "stream",
     "text": [
      "[0, 1, 1, 0, 1, 0, 1, 0, 0, 0, 1]\n",
      "[1, 0, 1, 1, 1, 1, 0, 1, 0, 0, 1]\n",
      "[1, 0, 1, 0, 0, 1, 1, 0, 0, 0, 0]\n",
      "[1, 0, 1, 0, 0, 1, 1, 1, 0, 1, 1]\n",
      "[0, 1, 1, 0, 1, 1, 0, 0, 1, 0, 1]\n",
      "[0, 1, 0, 0, 1, 0, 1, 0, 1, 0, 0]\n",
      "[0, 0, 0, 1, 0, 1, 1, 1, 0, 0, 1]\n",
      "[1, 0, 1, 1, 0, 1, 0, 0, 0, 0, 0]\n",
      "[1, 0, 0, 1, 1, 1, 0, 0, 1, 1, 1]\n",
      "[1, 0, 1, 1, 1, 1, 0, 0, 1, 1, 1]\n",
      "[0, 1, 0, 1, 1, 0, 0, 1, 1, 1, 0]\n",
      "[1, 1, 0, 0, 0, 0, 1, 1, 0, 1, 1]\n",
      "[1, 1, 0, 0, 0, 1, 1, 1, 1, 0, 1]\n",
      "[0, 0, 1, 0, 0, 1, 0, 0, 1, 0, 0]\n",
      "[0, 0, 1, 0, 0, 0, 1, 1, 0, 1, 1]\n",
      "[1, 1, 0, 1, 0, 1, 1, 0, 1, 0, 0]\n",
      "[1, 1, 1, 0, 1, 0, 0, 0, 0, 0, 1]\n",
      "[1, 1, 0, 1, 0, 1, 1, 1, 1, 1, 0]\n",
      "[0, 0, 0, 1, 0, 1, 0, 1, 0, 1, 1]\n",
      "[1, 1, 1, 1, 0, 0, 1, 0, 1, 0, 0]\n"
     ]
    }
   ],
   "source": [
    "import random\n",
    "population = []\n",
    "num_medicines=11\n",
    "for i in range(20):\n",
    "    chromosome = [random.randint(0,1) for j in range(1,(num_medicines+1))]\n",
    "    random.shuffle(chromosome)\n",
    "    population.append( Individual_medicines(chromosome))\n",
    "    print(Individual_medicines(chromosome).chromosome)"
   ]
  },
  {
   "cell_type": "code",
   "execution_count": null,
   "metadata": {
    "collapsed": true
   },
   "outputs": [],
   "source": []
  },
  {
   "cell_type": "code",
   "execution_count": null,
   "metadata": {
    "collapsed": true
   },
   "outputs": [],
   "source": []
  }
 ],
 "metadata": {
  "anaconda-cloud": {},
  "kernelspec": {
   "display_name": "Python [anaconda3]",
   "language": "python",
   "name": "Python [anaconda3]"
  },
  "language_info": {
   "codemirror_mode": {
    "name": "ipython",
    "version": 3
   },
   "file_extension": ".py",
   "mimetype": "text/x-python",
   "name": "python",
   "nbconvert_exporter": "python",
   "pygments_lexer": "ipython3",
   "version": "3.5.2"
  }
 },
 "nbformat": 4,
 "nbformat_minor": 2
}
