{
 "cells": [
  {
   "cell_type": "markdown",
   "metadata": {},
   "source": [
    "# Red Bayesiana para predecir la combinacion de medicamentos mas adecuada en pacientes geriatricos\n",
    "El objetivo del presente proyecto es poder crear una red Bayesiana, la cual modele probabilisticamente un dominio para predicción de medicamentos para diversas patologias y segun la naturaleza del paciente. \n",
    "A continuacion, se muestran algunas de las variables aleatórias involucradas en el dominio\n",
    "\n",
    "## Variables destinadas a los antecedentes del paciente geriatrico\n",
    "\n",
    "<b>EP_Insuficiencia_Cardiaca</b>: Background o Antecedentes de enfermedades de los pacientes geriatricos(Presente, Ausente)\n",
    "\n",
    "<b>EP_Asma_Bronquial</b>: Background o Antecedentes de enfermedades de los pacientes geriatricos. (Presente, Ausente)\n",
    "\n",
    "<b>EP_Diabetes</b>: Background o Antecedentes de enfermedades de los pacientes geriatricos. (Presente,Ausente)\n",
    "\n",
    "<b>EP_Gota</b>: Background o Antecedentes de enfermedades de los pacientes geriatricos. (Presente,Ausente)\n",
    "\n",
    "<b>MP_Ibuprofeno</b>: Background o Antecedentes de los medicamentos que consumen los pacientes geriatricos. (Prescrito,No Prescrito)\n",
    "\n",
    "## Variables destinadas a los posibles medicamentos a recetar\n",
    "\n",
    "<b>MR_metropolol</b>: Metropolol (Prescribir Normal, Prescribir condicion Diabetes, No Prescribir)\n",
    "\n",
    "!!!!<b>MR_hidroclorothiazida</b>: Hidroclorothiazida (Prescribir Normal, Prescribir condicion Diabetes, No Prescribir)\n",
    "\n",
    "<b>MR_amlodipino</b>: Amlodipino (Prescribir, No Prescribir)\n",
    "\n",
    "<b>MR_losartan</b>: Losartan (Prescribir, No Prescribir)\n",
    "\n",
    "<b>MR_enalapril</b>: Enalapril (Prescribir, No Prescribir)\n",
    "\n",
    "<b>MR_furosemida</b>: Furosemida (Prescribir, No Prescribir)\n",
    "\n",
    "<b>MR_prazosin</b>: Prazosin (Prescribir, No Prescribir)\n",
    "\n",
    "<b>MR_verapamilo</b>: Verapamilo (Prescribir, No Prescribir)\n",
    "\n",
    "<b>MR_propanolol</b>: Propanolol (Prescribir, No Prescribir)\n",
    "\n",
    "<b>MR_carvedilol</b>: Carvedilol (Prescribir, No Prescribir)\n",
    "\n",
    "\n",
    "## Variables destinadas a los sintomas y efectos secundarios resultantes\n",
    "\n",
    "<b>SA_angina_de_pecho</b>: Angina de Pecho (Presente, Ausente)\n",
    "\n",
    "<b>SA_presion_arterial</b>: Presion arterial (Alta, Normal,Baja)\n",
    "\n",
    "<b>SA_danho_rinhones</b>: Danho en Rinhones (Presente, Ausente)\n"
   ]
  },
  {
   "cell_type": "code",
   "execution_count": 1,
   "metadata": {
    "collapsed": false
   },
   "outputs": [],
   "source": [
    "from pgmpy.models import BayesianModel\n",
    "from pgmpy.factors.discrete import TabularCPD\n",
    "from pgmpy.inference import BeliefPropagation\n",
    "from pgmpy.factors.discrete import DiscreteFactor\n",
    "\n",
    "from utils import *\n",
    "import pandas as pd\n",
    "import numpy as np\n"
   ]
  },
  {
   "cell_type": "markdown",
   "metadata": {},
   "source": [
    "### Conexion con la base de datos para la extraccion de las probabilidades"
   ]
  },
  {
   "cell_type": "code",
   "execution_count": null,
   "metadata": {
    "collapsed": false
   },
   "outputs": [],
   "source": [
    "import psycopg2"
   ]
  },
  {
   "cell_type": "code",
   "execution_count": null,
   "metadata": {
    "collapsed": true
   },
   "outputs": [],
   "source": [
    "conn = psycopg2.connect(host=\"localhost\",database=\"medicalSecure_development\", user=\"pguser\", password=\"1795lula\")"
   ]
  },
  {
   "cell_type": "code",
   "execution_count": null,
   "metadata": {
    "collapsed": false
   },
   "outputs": [],
   "source": [
    "cur = conn.cursor()"
   ]
  },
  {
   "cell_type": "code",
   "execution_count": null,
   "metadata": {
    "collapsed": false
   },
   "outputs": [],
   "source": [
    "# execute our Query\n",
    "cur.execute(\"SELECT dni, name FROM people\")"
   ]
  },
  {
   "cell_type": "code",
   "execution_count": null,
   "metadata": {
    "collapsed": false
   },
   "outputs": [],
   "source": [
    "records = cur.fetchall()"
   ]
  },
  {
   "cell_type": "code",
   "execution_count": null,
   "metadata": {
    "collapsed": false
   },
   "outputs": [],
   "source": [
    "print(records)"
   ]
  },
  {
   "cell_type": "markdown",
   "metadata": {},
   "source": [
    "\n",
    "# Creacion de la tabla de verdad que brinda evidencia de los medicamentos hacia algun sintoma\n",
    "\n"
   ]
  },
  {
   "cell_type": "markdown",
   "metadata": {},
   "source": [
    "Base: Numero que indica la cantidad a repetirse\n",
    "\n",
    "Por ejemplo:\n",
    "\n",
    "- tamanho base 4: [ 1 1 0 0 ]               \n",
    "\n",
    "- tamanho base 8: [ 1 1 1 1 0 0 0 0]      \n",
    "\n",
    "- tamanho base 6: [ 2 2 1 1 0 0]       "
   ]
  },
  {
   "cell_type": "markdown",
   "metadata": {},
   "source": [
    "# Seteo de probabilidades\n",
    "\n",
    "<b>Combinaciones de 4 a mas medicamentos:</b> La probabilidad de la presencia del sintoma es muy alta\n",
    "\n",
    "<b>Combinaciones entre 2 a 3:</b> La probabilidad de la ausencia del sintoma variara de acuerdo a la efectividad del medicamento y a la naturaleza del paciente\n",
    "\n",
    "<b>Solo un medicamento: </b> La probabilidad de la ausencia del sintoma variara de acuerdo a la efectividad del medicamento y a la naturaleza del paciente"
   ]
  },
  {
   "cell_type": "code",
   "execution_count": 29,
   "metadata": {
    "collapsed": true
   },
   "outputs": [],
   "source": [
    "def formDoubleEvidence(arrVariableEvidence):\n",
    "    arrDoubleEvidence = []\n",
    "    for i,val_i in enumerate(arrVariableEvidence):\n",
    "        for j, val_j in enumerate(arrVariableEvidence):\n",
    "            if(val_i != val_j):\n",
    "                if(j>=i):\n",
    "                    aux = []\n",
    "                    aux.append(val_i)\n",
    "                    aux.append(val_j)\n",
    "                    arrDoubleEvidence.append(aux)     \n",
    "    return arrDoubleEvidence"
   ]
  },
  {
   "cell_type": "code",
   "execution_count": 30,
   "metadata": {
    "collapsed": false
   },
   "outputs": [],
   "source": [
    "arr = formDoubleEvidence(arrVariableEvidence)"
   ]
  },
  {
   "cell_type": "code",
   "execution_count": 31,
   "metadata": {
    "collapsed": false
   },
   "outputs": [
    {
     "name": "stdout",
     "output_type": "stream",
     "text": [
      "[['EP_Asma_Bronquial', 'EP_Diabetes'], ['EP_Asma_Bronquial', 'EP_Insuficiencia_Cardiaca'], ['EP_Asma_Bronquial', 'EP_Infarto_Miocardio'], ['EP_Asma_Bronquial', 'EP_Bradicardia'], ['EP_Diabetes', 'EP_Insuficiencia_Cardiaca'], ['EP_Diabetes', 'EP_Infarto_Miocardio'], ['EP_Diabetes', 'EP_Bradicardia'], ['EP_Insuficiencia_Cardiaca', 'EP_Infarto_Miocardio'], ['EP_Insuficiencia_Cardiaca', 'EP_Bradicardia'], ['EP_Infarto_Miocardio', 'EP_Bradicardia']]\n"
     ]
    }
   ],
   "source": [
    "print(arr)"
   ]
  },
  {
   "cell_type": "markdown",
   "metadata": {},
   "source": [
    "# Aplicando lo realizado anteriormente"
   ]
  },
  {
   "cell_type": "markdown",
   "metadata": {},
   "source": [
    "\n",
    "## Variable Metoprolol"
   ]
  },
  {
   "cell_type": "code",
   "execution_count": 2,
   "metadata": {
    "collapsed": true
   },
   "outputs": [],
   "source": [
    "arrStateEvidence    = [2,2,2,2,2]\n",
    "arrVariableEvidence = ['EP_Asma_Bronquial','EP_Diabetes', 'EP_Insuficiencia_Cardiaca','EP_Infarto_Miocardio', 'EP_Bradicardia']\n",
    "arrSingleProbabilisticEvidence =[[0.20,0.80],[0.30,0.70],[0.40,0.60],[0.20,0.80],[0.20,0.80]]\n",
    "arrStateVarible  = ['Prescribir', 'No_Prescribir']\n",
    "arrProbabilistic = [0.10,0.90]"
   ]
  },
  {
   "cell_type": "code",
   "execution_count": 3,
   "metadata": {
    "collapsed": false
   },
   "outputs": [
    {
     "name": "stdout",
     "output_type": "stream",
     "text": [
      "['EP_Asma_Bronquial', 'EP_Diabetes', 'EP_Insuficiencia_Cardiaca', 'EP_Infarto_Miocardio', 'EP_Bradicardia']\n",
      "EP_Asma_Bronquial\n",
      "[1]\n",
      "EP_Asma_Bronquial\n",
      "[1, 0]\n",
      "EP_Asma_Bronquial\n",
      "[1, 0, 0]\n",
      "EP_Asma_Bronquial\n",
      "[1, 0, 0, 0]\n",
      "EP_Asma_Bronquial\n",
      "[1, 0, 0, 0, 0]\n",
      "['EP_Asma_Bronquial', 'EP_Diabetes', 'EP_Insuficiencia_Cardiaca', 'EP_Infarto_Miocardio', 'EP_Bradicardia']\n",
      "EP_Diabetes\n",
      "[0]\n",
      "EP_Diabetes\n",
      "[0, 1]\n",
      "EP_Diabetes\n",
      "[0, 1, 0]\n",
      "EP_Diabetes\n",
      "[0, 1, 0, 0]\n",
      "EP_Diabetes\n",
      "[0, 1, 0, 0, 0]\n",
      "['EP_Asma_Bronquial', 'EP_Diabetes', 'EP_Insuficiencia_Cardiaca', 'EP_Infarto_Miocardio', 'EP_Bradicardia']\n",
      "EP_Insuficiencia_Cardiaca\n",
      "[0]\n",
      "EP_Insuficiencia_Cardiaca\n",
      "[0, 0]\n",
      "EP_Insuficiencia_Cardiaca\n",
      "[0, 0, 1]\n",
      "EP_Insuficiencia_Cardiaca\n",
      "[0, 0, 1, 0]\n",
      "EP_Insuficiencia_Cardiaca\n",
      "[0, 0, 1, 0, 0]\n",
      "['EP_Asma_Bronquial', 'EP_Diabetes', 'EP_Insuficiencia_Cardiaca', 'EP_Infarto_Miocardio', 'EP_Bradicardia']\n",
      "EP_Infarto_Miocardio\n",
      "[0]\n",
      "EP_Infarto_Miocardio\n",
      "[0, 0]\n",
      "EP_Infarto_Miocardio\n",
      "[0, 0, 0]\n",
      "EP_Infarto_Miocardio\n",
      "[0, 0, 0, 1]\n",
      "EP_Infarto_Miocardio\n",
      "[0, 0, 0, 1, 0]\n",
      "['EP_Asma_Bronquial', 'EP_Diabetes', 'EP_Insuficiencia_Cardiaca', 'EP_Infarto_Miocardio', 'EP_Bradicardia']\n",
      "EP_Bradicardia\n",
      "[0]\n",
      "EP_Bradicardia\n",
      "[0, 0]\n",
      "EP_Bradicardia\n",
      "[0, 0, 0]\n",
      "EP_Bradicardia\n",
      "[0, 0, 0, 0]\n",
      "EP_Bradicardia\n",
      "[0, 0, 0, 0, 1]\n",
      "[['EP_Asma_Bronquial', 'EP_Diabetes'], ['EP_Asma_Bronquial', 'EP_Insuficiencia_Cardiaca'], ['EP_Asma_Bronquial', 'EP_Infarto_Miocardio'], ['EP_Asma_Bronquial', 'EP_Bradicardia'], ['EP_Diabetes', 'EP_Insuficiencia_Cardiaca'], ['EP_Diabetes', 'EP_Infarto_Miocardio'], ['EP_Diabetes', 'EP_Bradicardia'], ['EP_Insuficiencia_Cardiaca', 'EP_Infarto_Miocardio'], ['EP_Insuficiencia_Cardiaca', 'EP_Bradicardia'], ['EP_Infarto_Miocardio', 'EP_Bradicardia']]\n",
      "['EP_Asma_Bronquial', 'EP_Diabetes']\n",
      "[0]\n",
      "['EP_Asma_Bronquial', 'EP_Diabetes']\n",
      "[0, 0]\n",
      "['EP_Asma_Bronquial', 'EP_Diabetes']\n",
      "[0, 0, 0]\n",
      "['EP_Asma_Bronquial', 'EP_Diabetes']\n",
      "[0, 0, 0, 0]\n",
      "['EP_Asma_Bronquial', 'EP_Diabetes']\n",
      "[0, 0, 0, 0, 0]\n",
      "['EP_Asma_Bronquial', 'EP_Diabetes']\n",
      "[0, 0, 0, 0, 0, 0]\n",
      "['EP_Asma_Bronquial', 'EP_Diabetes']\n",
      "[0, 0, 0, 0, 0, 0, 0]\n",
      "['EP_Asma_Bronquial', 'EP_Diabetes']\n",
      "[0, 0, 0, 0, 0, 0, 0, 0]\n",
      "['EP_Asma_Bronquial', 'EP_Diabetes']\n",
      "[0, 0, 0, 0, 0, 0, 0, 0, 0]\n",
      "['EP_Asma_Bronquial', 'EP_Diabetes']\n",
      "[0, 0, 0, 0, 0, 0, 0, 0, 0, 0]\n",
      "['EP_Asma_Bronquial', 'EP_Diabetes']==0 & ['EP_Asma_Bronquial', 'EP_Insuficiencia_Cardiaca']==0 & ['EP_Asma_Bronquial', 'EP_Infarto_Miocardio']==0 & ['EP_Asma_Bronquial', 'EP_Bradicardia']==0 & ['EP_Diabetes', 'EP_Insuficiencia_Cardiaca']==0 & ['EP_Diabetes', 'EP_Infarto_Miocardio']==0 & ['EP_Diabetes', 'EP_Bradicardia']==0 & ['EP_Insuficiencia_Cardiaca', 'EP_Infarto_Miocardio']==0 & ['EP_Insuficiencia_Cardiaca', 'EP_Bradicardia']==0 & ['EP_Infarto_Miocardio', 'EP_Bradicardia']==0\n"
     ]
    },
    {
     "ename": "TypeError",
     "evalue": "argument of type 'int' is not iterable",
     "output_type": "error",
     "traceback": [
      "\u001b[1;31m---------------------------------------------------------------------------\u001b[0m",
      "\u001b[1;31mAttributeError\u001b[0m                            Traceback (most recent call last)",
      "\u001b[1;32m/home/lourdes/anaconda3/lib/python3.5/site-packages/pandas/core/computation/ops.py\u001b[0m in \u001b[0;36m_in\u001b[1;34m(x, y)\u001b[0m\n\u001b[0;32m    234\u001b[0m     \u001b[1;32mtry\u001b[0m\u001b[1;33m:\u001b[0m\u001b[1;33m\u001b[0m\u001b[0m\n\u001b[1;32m--> 235\u001b[1;33m         \u001b[1;32mreturn\u001b[0m \u001b[0mx\u001b[0m\u001b[1;33m.\u001b[0m\u001b[0misin\u001b[0m\u001b[1;33m(\u001b[0m\u001b[0my\u001b[0m\u001b[1;33m)\u001b[0m\u001b[1;33m\u001b[0m\u001b[0m\n\u001b[0m\u001b[0;32m    236\u001b[0m     \u001b[1;32mexcept\u001b[0m \u001b[0mAttributeError\u001b[0m\u001b[1;33m:\u001b[0m\u001b[1;33m\u001b[0m\u001b[0m\n",
      "\u001b[1;31mAttributeError\u001b[0m: 'list' object has no attribute 'isin'",
      "\nDuring handling of the above exception, another exception occurred:\n",
      "\u001b[1;31mTypeError\u001b[0m                                 Traceback (most recent call last)",
      "\u001b[1;32m<ipython-input-3-5e4f8523a6c1>\u001b[0m in \u001b[0;36m<module>\u001b[1;34m()\u001b[0m\n\u001b[1;32m----> 1\u001b[1;33m \u001b[0mvalues_metoprolol\u001b[0m \u001b[1;33m=\u001b[0m \u001b[0mgenerateProbabilisticList\u001b[0m\u001b[1;33m(\u001b[0m\u001b[0marrStateEvidence\u001b[0m\u001b[1;33m,\u001b[0m \u001b[0marrVariableEvidence\u001b[0m\u001b[1;33m,\u001b[0m\u001b[0marrSingleProbabilisticEvidence\u001b[0m\u001b[1;33m,\u001b[0m\u001b[0marrStateVarible\u001b[0m\u001b[1;33m,\u001b[0m \u001b[0marrProbabilistic\u001b[0m\u001b[1;33m)\u001b[0m\u001b[1;33m\u001b[0m\u001b[0m\n\u001b[0m",
      "\u001b[1;32m/home/lourdes/Projects/Tesis/MedGeriatricThesis/Desarrollo/utils.py\u001b[0m in \u001b[0;36mgenerateProbabilisticList\u001b[1;34m(arrStateEvidence, arrVariableEvidence, arrProbabilisticEvidence, arrStateVarible, arrProbabilistic)\u001b[0m\n\u001b[0;32m    211\u001b[0m         \u001b[0mquery_string\u001b[0m \u001b[1;33m=\u001b[0m \u001b[0mformQuery\u001b[0m\u001b[1;33m(\u001b[0m\u001b[0marrDoubleVaribleEvidence\u001b[0m\u001b[1;33m,\u001b[0m \u001b[0mval\u001b[0m\u001b[1;33m)\u001b[0m\u001b[1;33m\u001b[0m\u001b[0m\n\u001b[0;32m    212\u001b[0m         \u001b[0mprint\u001b[0m\u001b[1;33m(\u001b[0m\u001b[0mquery_string\u001b[0m\u001b[1;33m)\u001b[0m\u001b[1;33m\u001b[0m\u001b[0m\n\u001b[1;32m--> 213\u001b[1;33m         \u001b[0mef_evidence\u001b[0m  \u001b[1;33m=\u001b[0m \u001b[0mdf_ANT\u001b[0m\u001b[1;33m.\u001b[0m\u001b[0mquery\u001b[0m\u001b[1;33m(\u001b[0m\u001b[0mquery_string\u001b[0m\u001b[1;33m)\u001b[0m\u001b[1;33m\u001b[0m\u001b[0m\n\u001b[0m\u001b[0;32m    214\u001b[0m         \u001b[0marr_index\u001b[0m    \u001b[1;33m=\u001b[0m \u001b[0mgetIndexToSet\u001b[0m\u001b[1;33m(\u001b[0m\u001b[0mef_evidence\u001b[0m\u001b[1;33m.\u001b[0m\u001b[0mindex\u001b[0m\u001b[1;33m)\u001b[0m\u001b[1;33m\u001b[0m\u001b[0m\n\u001b[0;32m    215\u001b[0m         \u001b[0mdicc\u001b[0m \u001b[1;33m=\u001b[0m \u001b[0mformSingleProbability\u001b[0m\u001b[1;33m(\u001b[0m\u001b[0marrStateVarible\u001b[0m\u001b[1;33m,\u001b[0m\u001b[0marrProbabilisticEvidence\u001b[0m\u001b[1;33m[\u001b[0m\u001b[0mi\u001b[0m\u001b[1;33m]\u001b[0m\u001b[1;33m)\u001b[0m\u001b[1;33m\u001b[0m\u001b[0m\n",
      "\u001b[1;32m/home/lourdes/anaconda3/lib/python3.5/site-packages/pandas/core/frame.py\u001b[0m in \u001b[0;36mquery\u001b[1;34m(self, expr, inplace, **kwargs)\u001b[0m\n\u001b[0;32m   2845\u001b[0m         \u001b[0mkwargs\u001b[0m\u001b[1;33m[\u001b[0m\u001b[1;34m'level'\u001b[0m\u001b[1;33m]\u001b[0m \u001b[1;33m=\u001b[0m \u001b[0mkwargs\u001b[0m\u001b[1;33m.\u001b[0m\u001b[0mpop\u001b[0m\u001b[1;33m(\u001b[0m\u001b[1;34m'level'\u001b[0m\u001b[1;33m,\u001b[0m \u001b[1;36m0\u001b[0m\u001b[1;33m)\u001b[0m \u001b[1;33m+\u001b[0m \u001b[1;36m1\u001b[0m\u001b[1;33m\u001b[0m\u001b[0m\n\u001b[0;32m   2846\u001b[0m         \u001b[0mkwargs\u001b[0m\u001b[1;33m[\u001b[0m\u001b[1;34m'target'\u001b[0m\u001b[1;33m]\u001b[0m \u001b[1;33m=\u001b[0m \u001b[1;32mNone\u001b[0m\u001b[1;33m\u001b[0m\u001b[0m\n\u001b[1;32m-> 2847\u001b[1;33m         \u001b[0mres\u001b[0m \u001b[1;33m=\u001b[0m \u001b[0mself\u001b[0m\u001b[1;33m.\u001b[0m\u001b[0meval\u001b[0m\u001b[1;33m(\u001b[0m\u001b[0mexpr\u001b[0m\u001b[1;33m,\u001b[0m \u001b[1;33m**\u001b[0m\u001b[0mkwargs\u001b[0m\u001b[1;33m)\u001b[0m\u001b[1;33m\u001b[0m\u001b[0m\n\u001b[0m\u001b[0;32m   2848\u001b[0m \u001b[1;33m\u001b[0m\u001b[0m\n\u001b[0;32m   2849\u001b[0m         \u001b[1;32mtry\u001b[0m\u001b[1;33m:\u001b[0m\u001b[1;33m\u001b[0m\u001b[0m\n",
      "\u001b[1;32m/home/lourdes/anaconda3/lib/python3.5/site-packages/pandas/core/frame.py\u001b[0m in \u001b[0;36meval\u001b[1;34m(self, expr, inplace, **kwargs)\u001b[0m\n\u001b[0;32m   2960\u001b[0m             \u001b[0mkwargs\u001b[0m\u001b[1;33m[\u001b[0m\u001b[1;34m'target'\u001b[0m\u001b[1;33m]\u001b[0m \u001b[1;33m=\u001b[0m \u001b[0mself\u001b[0m\u001b[1;33m\u001b[0m\u001b[0m\n\u001b[0;32m   2961\u001b[0m         \u001b[0mkwargs\u001b[0m\u001b[1;33m[\u001b[0m\u001b[1;34m'resolvers'\u001b[0m\u001b[1;33m]\u001b[0m \u001b[1;33m=\u001b[0m \u001b[0mkwargs\u001b[0m\u001b[1;33m.\u001b[0m\u001b[0mget\u001b[0m\u001b[1;33m(\u001b[0m\u001b[1;34m'resolvers'\u001b[0m\u001b[1;33m,\u001b[0m \u001b[1;33m(\u001b[0m\u001b[1;33m)\u001b[0m\u001b[1;33m)\u001b[0m \u001b[1;33m+\u001b[0m \u001b[0mtuple\u001b[0m\u001b[1;33m(\u001b[0m\u001b[0mresolvers\u001b[0m\u001b[1;33m)\u001b[0m\u001b[1;33m\u001b[0m\u001b[0m\n\u001b[1;32m-> 2962\u001b[1;33m         \u001b[1;32mreturn\u001b[0m \u001b[0m_eval\u001b[0m\u001b[1;33m(\u001b[0m\u001b[0mexpr\u001b[0m\u001b[1;33m,\u001b[0m \u001b[0minplace\u001b[0m\u001b[1;33m=\u001b[0m\u001b[0minplace\u001b[0m\u001b[1;33m,\u001b[0m \u001b[1;33m**\u001b[0m\u001b[0mkwargs\u001b[0m\u001b[1;33m)\u001b[0m\u001b[1;33m\u001b[0m\u001b[0m\n\u001b[0m\u001b[0;32m   2963\u001b[0m \u001b[1;33m\u001b[0m\u001b[0m\n\u001b[0;32m   2964\u001b[0m     \u001b[1;32mdef\u001b[0m \u001b[0mselect_dtypes\u001b[0m\u001b[1;33m(\u001b[0m\u001b[0mself\u001b[0m\u001b[1;33m,\u001b[0m \u001b[0minclude\u001b[0m\u001b[1;33m=\u001b[0m\u001b[1;32mNone\u001b[0m\u001b[1;33m,\u001b[0m \u001b[0mexclude\u001b[0m\u001b[1;33m=\u001b[0m\u001b[1;32mNone\u001b[0m\u001b[1;33m)\u001b[0m\u001b[1;33m:\u001b[0m\u001b[1;33m\u001b[0m\u001b[0m\n",
      "\u001b[1;32m/home/lourdes/anaconda3/lib/python3.5/site-packages/pandas/core/computation/eval.py\u001b[0m in \u001b[0;36meval\u001b[1;34m(expr, parser, engine, truediv, local_dict, global_dict, resolvers, level, target, inplace)\u001b[0m\n\u001b[0;32m    289\u001b[0m \u001b[1;33m\u001b[0m\u001b[0m\n\u001b[0;32m    290\u001b[0m         parsed_expr = Expr(expr, engine=engine, parser=parser, env=env,\n\u001b[1;32m--> 291\u001b[1;33m                            truediv=truediv)\n\u001b[0m\u001b[0;32m    292\u001b[0m \u001b[1;33m\u001b[0m\u001b[0m\n\u001b[0;32m    293\u001b[0m         \u001b[1;31m# construct the engine and evaluate the parsed expression\u001b[0m\u001b[1;33m\u001b[0m\u001b[1;33m\u001b[0m\u001b[0m\n",
      "\u001b[1;32m/home/lourdes/anaconda3/lib/python3.5/site-packages/pandas/core/computation/expr.py\u001b[0m in \u001b[0;36m__init__\u001b[1;34m(self, expr, engine, parser, env, truediv, level)\u001b[0m\n\u001b[0;32m    737\u001b[0m         \u001b[0mself\u001b[0m\u001b[1;33m.\u001b[0m\u001b[0menv\u001b[0m\u001b[1;33m.\u001b[0m\u001b[0mscope\u001b[0m\u001b[1;33m[\u001b[0m\u001b[1;34m'truediv'\u001b[0m\u001b[1;33m]\u001b[0m \u001b[1;33m=\u001b[0m \u001b[0mtruediv\u001b[0m\u001b[1;33m\u001b[0m\u001b[0m\n\u001b[0;32m    738\u001b[0m         \u001b[0mself\u001b[0m\u001b[1;33m.\u001b[0m\u001b[0m_visitor\u001b[0m \u001b[1;33m=\u001b[0m \u001b[0m_parsers\u001b[0m\u001b[1;33m[\u001b[0m\u001b[0mparser\u001b[0m\u001b[1;33m]\u001b[0m\u001b[1;33m(\u001b[0m\u001b[0mself\u001b[0m\u001b[1;33m.\u001b[0m\u001b[0menv\u001b[0m\u001b[1;33m,\u001b[0m \u001b[0mself\u001b[0m\u001b[1;33m.\u001b[0m\u001b[0mengine\u001b[0m\u001b[1;33m,\u001b[0m \u001b[0mself\u001b[0m\u001b[1;33m.\u001b[0m\u001b[0mparser\u001b[0m\u001b[1;33m)\u001b[0m\u001b[1;33m\u001b[0m\u001b[0m\n\u001b[1;32m--> 739\u001b[1;33m         \u001b[0mself\u001b[0m\u001b[1;33m.\u001b[0m\u001b[0mterms\u001b[0m \u001b[1;33m=\u001b[0m \u001b[0mself\u001b[0m\u001b[1;33m.\u001b[0m\u001b[0mparse\u001b[0m\u001b[1;33m(\u001b[0m\u001b[1;33m)\u001b[0m\u001b[1;33m\u001b[0m\u001b[0m\n\u001b[0m\u001b[0;32m    740\u001b[0m \u001b[1;33m\u001b[0m\u001b[0m\n\u001b[0;32m    741\u001b[0m     \u001b[1;33m@\u001b[0m\u001b[0mproperty\u001b[0m\u001b[1;33m\u001b[0m\u001b[0m\n",
      "\u001b[1;32m/home/lourdes/anaconda3/lib/python3.5/site-packages/pandas/core/computation/expr.py\u001b[0m in \u001b[0;36mparse\u001b[1;34m(self)\u001b[0m\n\u001b[0;32m    754\u001b[0m     \u001b[1;32mdef\u001b[0m \u001b[0mparse\u001b[0m\u001b[1;33m(\u001b[0m\u001b[0mself\u001b[0m\u001b[1;33m)\u001b[0m\u001b[1;33m:\u001b[0m\u001b[1;33m\u001b[0m\u001b[0m\n\u001b[0;32m    755\u001b[0m         \u001b[1;34m\"\"\"Parse an expression\"\"\"\u001b[0m\u001b[1;33m\u001b[0m\u001b[0m\n\u001b[1;32m--> 756\u001b[1;33m         \u001b[1;32mreturn\u001b[0m \u001b[0mself\u001b[0m\u001b[1;33m.\u001b[0m\u001b[0m_visitor\u001b[0m\u001b[1;33m.\u001b[0m\u001b[0mvisit\u001b[0m\u001b[1;33m(\u001b[0m\u001b[0mself\u001b[0m\u001b[1;33m.\u001b[0m\u001b[0mexpr\u001b[0m\u001b[1;33m)\u001b[0m\u001b[1;33m\u001b[0m\u001b[0m\n\u001b[0m\u001b[0;32m    757\u001b[0m \u001b[1;33m\u001b[0m\u001b[0m\n\u001b[0;32m    758\u001b[0m     \u001b[1;33m@\u001b[0m\u001b[0mproperty\u001b[0m\u001b[1;33m\u001b[0m\u001b[0m\n",
      "\u001b[1;32m/home/lourdes/anaconda3/lib/python3.5/site-packages/pandas/core/computation/expr.py\u001b[0m in \u001b[0;36mvisit\u001b[1;34m(self, node, **kwargs)\u001b[0m\n\u001b[0;32m    319\u001b[0m         \u001b[0mmethod\u001b[0m \u001b[1;33m=\u001b[0m \u001b[1;34m'visit_'\u001b[0m \u001b[1;33m+\u001b[0m \u001b[0mnode\u001b[0m\u001b[1;33m.\u001b[0m\u001b[0m__class__\u001b[0m\u001b[1;33m.\u001b[0m\u001b[0m__name__\u001b[0m\u001b[1;33m\u001b[0m\u001b[0m\n\u001b[0;32m    320\u001b[0m         \u001b[0mvisitor\u001b[0m \u001b[1;33m=\u001b[0m \u001b[0mgetattr\u001b[0m\u001b[1;33m(\u001b[0m\u001b[0mself\u001b[0m\u001b[1;33m,\u001b[0m \u001b[0mmethod\u001b[0m\u001b[1;33m)\u001b[0m\u001b[1;33m\u001b[0m\u001b[0m\n\u001b[1;32m--> 321\u001b[1;33m         \u001b[1;32mreturn\u001b[0m \u001b[0mvisitor\u001b[0m\u001b[1;33m(\u001b[0m\u001b[0mnode\u001b[0m\u001b[1;33m,\u001b[0m \u001b[1;33m**\u001b[0m\u001b[0mkwargs\u001b[0m\u001b[1;33m)\u001b[0m\u001b[1;33m\u001b[0m\u001b[0m\n\u001b[0m\u001b[0;32m    322\u001b[0m \u001b[1;33m\u001b[0m\u001b[0m\n\u001b[0;32m    323\u001b[0m     \u001b[1;32mdef\u001b[0m \u001b[0mvisit_Module\u001b[0m\u001b[1;33m(\u001b[0m\u001b[0mself\u001b[0m\u001b[1;33m,\u001b[0m \u001b[0mnode\u001b[0m\u001b[1;33m,\u001b[0m \u001b[1;33m**\u001b[0m\u001b[0mkwargs\u001b[0m\u001b[1;33m)\u001b[0m\u001b[1;33m:\u001b[0m\u001b[1;33m\u001b[0m\u001b[0m\n",
      "\u001b[1;32m/home/lourdes/anaconda3/lib/python3.5/site-packages/pandas/core/computation/expr.py\u001b[0m in \u001b[0;36mvisit_Module\u001b[1;34m(self, node, **kwargs)\u001b[0m\n\u001b[0;32m    325\u001b[0m             \u001b[1;32mraise\u001b[0m \u001b[0mSyntaxError\u001b[0m\u001b[1;33m(\u001b[0m\u001b[1;34m'only a single expression is allowed'\u001b[0m\u001b[1;33m)\u001b[0m\u001b[1;33m\u001b[0m\u001b[0m\n\u001b[0;32m    326\u001b[0m         \u001b[0mexpr\u001b[0m \u001b[1;33m=\u001b[0m \u001b[0mnode\u001b[0m\u001b[1;33m.\u001b[0m\u001b[0mbody\u001b[0m\u001b[1;33m[\u001b[0m\u001b[1;36m0\u001b[0m\u001b[1;33m]\u001b[0m\u001b[1;33m\u001b[0m\u001b[0m\n\u001b[1;32m--> 327\u001b[1;33m         \u001b[1;32mreturn\u001b[0m \u001b[0mself\u001b[0m\u001b[1;33m.\u001b[0m\u001b[0mvisit\u001b[0m\u001b[1;33m(\u001b[0m\u001b[0mexpr\u001b[0m\u001b[1;33m,\u001b[0m \u001b[1;33m**\u001b[0m\u001b[0mkwargs\u001b[0m\u001b[1;33m)\u001b[0m\u001b[1;33m\u001b[0m\u001b[0m\n\u001b[0m\u001b[0;32m    328\u001b[0m \u001b[1;33m\u001b[0m\u001b[0m\n\u001b[0;32m    329\u001b[0m     \u001b[1;32mdef\u001b[0m \u001b[0mvisit_Expr\u001b[0m\u001b[1;33m(\u001b[0m\u001b[0mself\u001b[0m\u001b[1;33m,\u001b[0m \u001b[0mnode\u001b[0m\u001b[1;33m,\u001b[0m \u001b[1;33m**\u001b[0m\u001b[0mkwargs\u001b[0m\u001b[1;33m)\u001b[0m\u001b[1;33m:\u001b[0m\u001b[1;33m\u001b[0m\u001b[0m\n",
      "\u001b[1;32m/home/lourdes/anaconda3/lib/python3.5/site-packages/pandas/core/computation/expr.py\u001b[0m in \u001b[0;36mvisit\u001b[1;34m(self, node, **kwargs)\u001b[0m\n\u001b[0;32m    319\u001b[0m         \u001b[0mmethod\u001b[0m \u001b[1;33m=\u001b[0m \u001b[1;34m'visit_'\u001b[0m \u001b[1;33m+\u001b[0m \u001b[0mnode\u001b[0m\u001b[1;33m.\u001b[0m\u001b[0m__class__\u001b[0m\u001b[1;33m.\u001b[0m\u001b[0m__name__\u001b[0m\u001b[1;33m\u001b[0m\u001b[0m\n\u001b[0;32m    320\u001b[0m         \u001b[0mvisitor\u001b[0m \u001b[1;33m=\u001b[0m \u001b[0mgetattr\u001b[0m\u001b[1;33m(\u001b[0m\u001b[0mself\u001b[0m\u001b[1;33m,\u001b[0m \u001b[0mmethod\u001b[0m\u001b[1;33m)\u001b[0m\u001b[1;33m\u001b[0m\u001b[0m\n\u001b[1;32m--> 321\u001b[1;33m         \u001b[1;32mreturn\u001b[0m \u001b[0mvisitor\u001b[0m\u001b[1;33m(\u001b[0m\u001b[0mnode\u001b[0m\u001b[1;33m,\u001b[0m \u001b[1;33m**\u001b[0m\u001b[0mkwargs\u001b[0m\u001b[1;33m)\u001b[0m\u001b[1;33m\u001b[0m\u001b[0m\n\u001b[0m\u001b[0;32m    322\u001b[0m \u001b[1;33m\u001b[0m\u001b[0m\n\u001b[0;32m    323\u001b[0m     \u001b[1;32mdef\u001b[0m \u001b[0mvisit_Module\u001b[0m\u001b[1;33m(\u001b[0m\u001b[0mself\u001b[0m\u001b[1;33m,\u001b[0m \u001b[0mnode\u001b[0m\u001b[1;33m,\u001b[0m \u001b[1;33m**\u001b[0m\u001b[0mkwargs\u001b[0m\u001b[1;33m)\u001b[0m\u001b[1;33m:\u001b[0m\u001b[1;33m\u001b[0m\u001b[0m\n",
      "\u001b[1;32m/home/lourdes/anaconda3/lib/python3.5/site-packages/pandas/core/computation/expr.py\u001b[0m in \u001b[0;36mvisit_Expr\u001b[1;34m(self, node, **kwargs)\u001b[0m\n\u001b[0;32m    328\u001b[0m \u001b[1;33m\u001b[0m\u001b[0m\n\u001b[0;32m    329\u001b[0m     \u001b[1;32mdef\u001b[0m \u001b[0mvisit_Expr\u001b[0m\u001b[1;33m(\u001b[0m\u001b[0mself\u001b[0m\u001b[1;33m,\u001b[0m \u001b[0mnode\u001b[0m\u001b[1;33m,\u001b[0m \u001b[1;33m**\u001b[0m\u001b[0mkwargs\u001b[0m\u001b[1;33m)\u001b[0m\u001b[1;33m:\u001b[0m\u001b[1;33m\u001b[0m\u001b[0m\n\u001b[1;32m--> 330\u001b[1;33m         \u001b[1;32mreturn\u001b[0m \u001b[0mself\u001b[0m\u001b[1;33m.\u001b[0m\u001b[0mvisit\u001b[0m\u001b[1;33m(\u001b[0m\u001b[0mnode\u001b[0m\u001b[1;33m.\u001b[0m\u001b[0mvalue\u001b[0m\u001b[1;33m,\u001b[0m \u001b[1;33m**\u001b[0m\u001b[0mkwargs\u001b[0m\u001b[1;33m)\u001b[0m\u001b[1;33m\u001b[0m\u001b[0m\n\u001b[0m\u001b[0;32m    331\u001b[0m \u001b[1;33m\u001b[0m\u001b[0m\n\u001b[0;32m    332\u001b[0m     \u001b[1;32mdef\u001b[0m \u001b[0m_rewrite_membership_op\u001b[0m\u001b[1;33m(\u001b[0m\u001b[0mself\u001b[0m\u001b[1;33m,\u001b[0m \u001b[0mnode\u001b[0m\u001b[1;33m,\u001b[0m \u001b[0mleft\u001b[0m\u001b[1;33m,\u001b[0m \u001b[0mright\u001b[0m\u001b[1;33m)\u001b[0m\u001b[1;33m:\u001b[0m\u001b[1;33m\u001b[0m\u001b[0m\n",
      "\u001b[1;32m/home/lourdes/anaconda3/lib/python3.5/site-packages/pandas/core/computation/expr.py\u001b[0m in \u001b[0;36mvisit\u001b[1;34m(self, node, **kwargs)\u001b[0m\n\u001b[0;32m    319\u001b[0m         \u001b[0mmethod\u001b[0m \u001b[1;33m=\u001b[0m \u001b[1;34m'visit_'\u001b[0m \u001b[1;33m+\u001b[0m \u001b[0mnode\u001b[0m\u001b[1;33m.\u001b[0m\u001b[0m__class__\u001b[0m\u001b[1;33m.\u001b[0m\u001b[0m__name__\u001b[0m\u001b[1;33m\u001b[0m\u001b[0m\n\u001b[0;32m    320\u001b[0m         \u001b[0mvisitor\u001b[0m \u001b[1;33m=\u001b[0m \u001b[0mgetattr\u001b[0m\u001b[1;33m(\u001b[0m\u001b[0mself\u001b[0m\u001b[1;33m,\u001b[0m \u001b[0mmethod\u001b[0m\u001b[1;33m)\u001b[0m\u001b[1;33m\u001b[0m\u001b[0m\n\u001b[1;32m--> 321\u001b[1;33m         \u001b[1;32mreturn\u001b[0m \u001b[0mvisitor\u001b[0m\u001b[1;33m(\u001b[0m\u001b[0mnode\u001b[0m\u001b[1;33m,\u001b[0m \u001b[1;33m**\u001b[0m\u001b[0mkwargs\u001b[0m\u001b[1;33m)\u001b[0m\u001b[1;33m\u001b[0m\u001b[0m\n\u001b[0m\u001b[0;32m    322\u001b[0m \u001b[1;33m\u001b[0m\u001b[0m\n\u001b[0;32m    323\u001b[0m     \u001b[1;32mdef\u001b[0m \u001b[0mvisit_Module\u001b[0m\u001b[1;33m(\u001b[0m\u001b[0mself\u001b[0m\u001b[1;33m,\u001b[0m \u001b[0mnode\u001b[0m\u001b[1;33m,\u001b[0m \u001b[1;33m**\u001b[0m\u001b[0mkwargs\u001b[0m\u001b[1;33m)\u001b[0m\u001b[1;33m:\u001b[0m\u001b[1;33m\u001b[0m\u001b[0m\n",
      "\u001b[1;32m/home/lourdes/anaconda3/lib/python3.5/site-packages/pandas/core/computation/expr.py\u001b[0m in \u001b[0;36mvisit_BoolOp\u001b[1;34m(self, node, **kwargs)\u001b[0m\n\u001b[0;32m    681\u001b[0m \u001b[1;33m\u001b[0m\u001b[0m\n\u001b[0;32m    682\u001b[0m         \u001b[0moperands\u001b[0m \u001b[1;33m=\u001b[0m \u001b[0mnode\u001b[0m\u001b[1;33m.\u001b[0m\u001b[0mvalues\u001b[0m\u001b[1;33m\u001b[0m\u001b[0m\n\u001b[1;32m--> 683\u001b[1;33m         \u001b[1;32mreturn\u001b[0m \u001b[0mreduce\u001b[0m\u001b[1;33m(\u001b[0m\u001b[0mvisitor\u001b[0m\u001b[1;33m,\u001b[0m \u001b[0moperands\u001b[0m\u001b[1;33m)\u001b[0m\u001b[1;33m\u001b[0m\u001b[0m\n\u001b[0m\u001b[0;32m    684\u001b[0m \u001b[1;33m\u001b[0m\u001b[0m\n\u001b[0;32m    685\u001b[0m \u001b[1;33m\u001b[0m\u001b[0m\n",
      "\u001b[1;32m/home/lourdes/anaconda3/lib/python3.5/site-packages/pandas/core/computation/expr.py\u001b[0m in \u001b[0;36mvisitor\u001b[1;34m(x, y)\u001b[0m\n\u001b[0;32m    673\u001b[0m     \u001b[1;32mdef\u001b[0m \u001b[0mvisit_BoolOp\u001b[0m\u001b[1;33m(\u001b[0m\u001b[0mself\u001b[0m\u001b[1;33m,\u001b[0m \u001b[0mnode\u001b[0m\u001b[1;33m,\u001b[0m \u001b[1;33m**\u001b[0m\u001b[0mkwargs\u001b[0m\u001b[1;33m)\u001b[0m\u001b[1;33m:\u001b[0m\u001b[1;33m\u001b[0m\u001b[0m\n\u001b[0;32m    674\u001b[0m         \u001b[1;32mdef\u001b[0m \u001b[0mvisitor\u001b[0m\u001b[1;33m(\u001b[0m\u001b[0mx\u001b[0m\u001b[1;33m,\u001b[0m \u001b[0my\u001b[0m\u001b[1;33m)\u001b[0m\u001b[1;33m:\u001b[0m\u001b[1;33m\u001b[0m\u001b[0m\n\u001b[1;32m--> 675\u001b[1;33m             \u001b[0mlhs\u001b[0m \u001b[1;33m=\u001b[0m \u001b[0mself\u001b[0m\u001b[1;33m.\u001b[0m\u001b[0m_try_visit_binop\u001b[0m\u001b[1;33m(\u001b[0m\u001b[0mx\u001b[0m\u001b[1;33m)\u001b[0m\u001b[1;33m\u001b[0m\u001b[0m\n\u001b[0m\u001b[0;32m    676\u001b[0m             \u001b[0mrhs\u001b[0m \u001b[1;33m=\u001b[0m \u001b[0mself\u001b[0m\u001b[1;33m.\u001b[0m\u001b[0m_try_visit_binop\u001b[0m\u001b[1;33m(\u001b[0m\u001b[0my\u001b[0m\u001b[1;33m)\u001b[0m\u001b[1;33m\u001b[0m\u001b[0m\n\u001b[0;32m    677\u001b[0m \u001b[1;33m\u001b[0m\u001b[0m\n",
      "\u001b[1;32m/home/lourdes/anaconda3/lib/python3.5/site-packages/pandas/core/computation/expr.py\u001b[0m in \u001b[0;36m_try_visit_binop\u001b[1;34m(self, bop)\u001b[0m\n\u001b[0;32m    669\u001b[0m         \u001b[1;32mif\u001b[0m \u001b[0misinstance\u001b[0m\u001b[1;33m(\u001b[0m\u001b[0mbop\u001b[0m\u001b[1;33m,\u001b[0m \u001b[1;33m(\u001b[0m\u001b[0mOp\u001b[0m\u001b[1;33m,\u001b[0m \u001b[0mTerm\u001b[0m\u001b[1;33m)\u001b[0m\u001b[1;33m)\u001b[0m\u001b[1;33m:\u001b[0m\u001b[1;33m\u001b[0m\u001b[0m\n\u001b[0;32m    670\u001b[0m             \u001b[1;32mreturn\u001b[0m \u001b[0mbop\u001b[0m\u001b[1;33m\u001b[0m\u001b[0m\n\u001b[1;32m--> 671\u001b[1;33m         \u001b[1;32mreturn\u001b[0m \u001b[0mself\u001b[0m\u001b[1;33m.\u001b[0m\u001b[0mvisit\u001b[0m\u001b[1;33m(\u001b[0m\u001b[0mbop\u001b[0m\u001b[1;33m)\u001b[0m\u001b[1;33m\u001b[0m\u001b[0m\n\u001b[0m\u001b[0;32m    672\u001b[0m \u001b[1;33m\u001b[0m\u001b[0m\n\u001b[0;32m    673\u001b[0m     \u001b[1;32mdef\u001b[0m \u001b[0mvisit_BoolOp\u001b[0m\u001b[1;33m(\u001b[0m\u001b[0mself\u001b[0m\u001b[1;33m,\u001b[0m \u001b[0mnode\u001b[0m\u001b[1;33m,\u001b[0m \u001b[1;33m**\u001b[0m\u001b[0mkwargs\u001b[0m\u001b[1;33m)\u001b[0m\u001b[1;33m:\u001b[0m\u001b[1;33m\u001b[0m\u001b[0m\n",
      "\u001b[1;32m/home/lourdes/anaconda3/lib/python3.5/site-packages/pandas/core/computation/expr.py\u001b[0m in \u001b[0;36mvisit\u001b[1;34m(self, node, **kwargs)\u001b[0m\n\u001b[0;32m    319\u001b[0m         \u001b[0mmethod\u001b[0m \u001b[1;33m=\u001b[0m \u001b[1;34m'visit_'\u001b[0m \u001b[1;33m+\u001b[0m \u001b[0mnode\u001b[0m\u001b[1;33m.\u001b[0m\u001b[0m__class__\u001b[0m\u001b[1;33m.\u001b[0m\u001b[0m__name__\u001b[0m\u001b[1;33m\u001b[0m\u001b[0m\n\u001b[0;32m    320\u001b[0m         \u001b[0mvisitor\u001b[0m \u001b[1;33m=\u001b[0m \u001b[0mgetattr\u001b[0m\u001b[1;33m(\u001b[0m\u001b[0mself\u001b[0m\u001b[1;33m,\u001b[0m \u001b[0mmethod\u001b[0m\u001b[1;33m)\u001b[0m\u001b[1;33m\u001b[0m\u001b[0m\n\u001b[1;32m--> 321\u001b[1;33m         \u001b[1;32mreturn\u001b[0m \u001b[0mvisitor\u001b[0m\u001b[1;33m(\u001b[0m\u001b[0mnode\u001b[0m\u001b[1;33m,\u001b[0m \u001b[1;33m**\u001b[0m\u001b[0mkwargs\u001b[0m\u001b[1;33m)\u001b[0m\u001b[1;33m\u001b[0m\u001b[0m\n\u001b[0m\u001b[0;32m    322\u001b[0m \u001b[1;33m\u001b[0m\u001b[0m\n\u001b[0;32m    323\u001b[0m     \u001b[1;32mdef\u001b[0m \u001b[0mvisit_Module\u001b[0m\u001b[1;33m(\u001b[0m\u001b[0mself\u001b[0m\u001b[1;33m,\u001b[0m \u001b[0mnode\u001b[0m\u001b[1;33m,\u001b[0m \u001b[1;33m**\u001b[0m\u001b[0mkwargs\u001b[0m\u001b[1;33m)\u001b[0m\u001b[1;33m:\u001b[0m\u001b[1;33m\u001b[0m\u001b[0m\n",
      "\u001b[1;32m/home/lourdes/anaconda3/lib/python3.5/site-packages/pandas/core/computation/expr.py\u001b[0m in \u001b[0;36mvisit_Compare\u001b[1;34m(self, node, **kwargs)\u001b[0m\n\u001b[0;32m    654\u001b[0m             \u001b[0mop\u001b[0m \u001b[1;33m=\u001b[0m \u001b[0mself\u001b[0m\u001b[1;33m.\u001b[0m\u001b[0mtranslate_In\u001b[0m\u001b[1;33m(\u001b[0m\u001b[0mops\u001b[0m\u001b[1;33m[\u001b[0m\u001b[1;36m0\u001b[0m\u001b[1;33m]\u001b[0m\u001b[1;33m)\u001b[0m\u001b[1;33m\u001b[0m\u001b[0m\n\u001b[0;32m    655\u001b[0m             \u001b[0mbinop\u001b[0m \u001b[1;33m=\u001b[0m \u001b[0mast\u001b[0m\u001b[1;33m.\u001b[0m\u001b[0mBinOp\u001b[0m\u001b[1;33m(\u001b[0m\u001b[0mop\u001b[0m\u001b[1;33m=\u001b[0m\u001b[0mop\u001b[0m\u001b[1;33m,\u001b[0m \u001b[0mleft\u001b[0m\u001b[1;33m=\u001b[0m\u001b[0mnode\u001b[0m\u001b[1;33m.\u001b[0m\u001b[0mleft\u001b[0m\u001b[1;33m,\u001b[0m \u001b[0mright\u001b[0m\u001b[1;33m=\u001b[0m\u001b[0mcomps\u001b[0m\u001b[1;33m[\u001b[0m\u001b[1;36m0\u001b[0m\u001b[1;33m]\u001b[0m\u001b[1;33m)\u001b[0m\u001b[1;33m\u001b[0m\u001b[0m\n\u001b[1;32m--> 656\u001b[1;33m             \u001b[1;32mreturn\u001b[0m \u001b[0mself\u001b[0m\u001b[1;33m.\u001b[0m\u001b[0mvisit\u001b[0m\u001b[1;33m(\u001b[0m\u001b[0mbinop\u001b[0m\u001b[1;33m)\u001b[0m\u001b[1;33m\u001b[0m\u001b[0m\n\u001b[0m\u001b[0;32m    657\u001b[0m \u001b[1;33m\u001b[0m\u001b[0m\n\u001b[0;32m    658\u001b[0m         \u001b[1;31m# recursive case: we have a chained comparison, a CMP b CMP c, etc.\u001b[0m\u001b[1;33m\u001b[0m\u001b[1;33m\u001b[0m\u001b[0m\n",
      "\u001b[1;32m/home/lourdes/anaconda3/lib/python3.5/site-packages/pandas/core/computation/expr.py\u001b[0m in \u001b[0;36mvisit\u001b[1;34m(self, node, **kwargs)\u001b[0m\n\u001b[0;32m    319\u001b[0m         \u001b[0mmethod\u001b[0m \u001b[1;33m=\u001b[0m \u001b[1;34m'visit_'\u001b[0m \u001b[1;33m+\u001b[0m \u001b[0mnode\u001b[0m\u001b[1;33m.\u001b[0m\u001b[0m__class__\u001b[0m\u001b[1;33m.\u001b[0m\u001b[0m__name__\u001b[0m\u001b[1;33m\u001b[0m\u001b[0m\n\u001b[0;32m    320\u001b[0m         \u001b[0mvisitor\u001b[0m \u001b[1;33m=\u001b[0m \u001b[0mgetattr\u001b[0m\u001b[1;33m(\u001b[0m\u001b[0mself\u001b[0m\u001b[1;33m,\u001b[0m \u001b[0mmethod\u001b[0m\u001b[1;33m)\u001b[0m\u001b[1;33m\u001b[0m\u001b[0m\n\u001b[1;32m--> 321\u001b[1;33m         \u001b[1;32mreturn\u001b[0m \u001b[0mvisitor\u001b[0m\u001b[1;33m(\u001b[0m\u001b[0mnode\u001b[0m\u001b[1;33m,\u001b[0m \u001b[1;33m**\u001b[0m\u001b[0mkwargs\u001b[0m\u001b[1;33m)\u001b[0m\u001b[1;33m\u001b[0m\u001b[0m\n\u001b[0m\u001b[0;32m    322\u001b[0m \u001b[1;33m\u001b[0m\u001b[0m\n\u001b[0;32m    323\u001b[0m     \u001b[1;32mdef\u001b[0m \u001b[0mvisit_Module\u001b[0m\u001b[1;33m(\u001b[0m\u001b[0mself\u001b[0m\u001b[1;33m,\u001b[0m \u001b[0mnode\u001b[0m\u001b[1;33m,\u001b[0m \u001b[1;33m**\u001b[0m\u001b[0mkwargs\u001b[0m\u001b[1;33m)\u001b[0m\u001b[1;33m:\u001b[0m\u001b[1;33m\u001b[0m\u001b[0m\n",
      "\u001b[1;32m/home/lourdes/anaconda3/lib/python3.5/site-packages/pandas/core/computation/expr.py\u001b[0m in \u001b[0;36mvisit_BinOp\u001b[1;34m(self, node, **kwargs)\u001b[0m\n\u001b[0;32m    425\u001b[0m         \u001b[0mop\u001b[0m\u001b[1;33m,\u001b[0m \u001b[0mop_class\u001b[0m\u001b[1;33m,\u001b[0m \u001b[0mleft\u001b[0m\u001b[1;33m,\u001b[0m \u001b[0mright\u001b[0m \u001b[1;33m=\u001b[0m \u001b[0mself\u001b[0m\u001b[1;33m.\u001b[0m\u001b[0m_maybe_transform_eq_ne\u001b[0m\u001b[1;33m(\u001b[0m\u001b[0mnode\u001b[0m\u001b[1;33m)\u001b[0m\u001b[1;33m\u001b[0m\u001b[0m\n\u001b[0;32m    426\u001b[0m         \u001b[0mleft\u001b[0m\u001b[1;33m,\u001b[0m \u001b[0mright\u001b[0m \u001b[1;33m=\u001b[0m \u001b[0mself\u001b[0m\u001b[1;33m.\u001b[0m\u001b[0m_maybe_downcast_constants\u001b[0m\u001b[1;33m(\u001b[0m\u001b[0mleft\u001b[0m\u001b[1;33m,\u001b[0m \u001b[0mright\u001b[0m\u001b[1;33m)\u001b[0m\u001b[1;33m\u001b[0m\u001b[0m\n\u001b[1;32m--> 427\u001b[1;33m         \u001b[1;32mreturn\u001b[0m \u001b[0mself\u001b[0m\u001b[1;33m.\u001b[0m\u001b[0m_maybe_evaluate_binop\u001b[0m\u001b[1;33m(\u001b[0m\u001b[0mop\u001b[0m\u001b[1;33m,\u001b[0m \u001b[0mop_class\u001b[0m\u001b[1;33m,\u001b[0m \u001b[0mleft\u001b[0m\u001b[1;33m,\u001b[0m \u001b[0mright\u001b[0m\u001b[1;33m)\u001b[0m\u001b[1;33m\u001b[0m\u001b[0m\n\u001b[0m\u001b[0;32m    428\u001b[0m \u001b[1;33m\u001b[0m\u001b[0m\n\u001b[0;32m    429\u001b[0m     \u001b[1;32mdef\u001b[0m \u001b[0mvisit_Div\u001b[0m\u001b[1;33m(\u001b[0m\u001b[0mself\u001b[0m\u001b[1;33m,\u001b[0m \u001b[0mnode\u001b[0m\u001b[1;33m,\u001b[0m \u001b[1;33m**\u001b[0m\u001b[0mkwargs\u001b[0m\u001b[1;33m)\u001b[0m\u001b[1;33m:\u001b[0m\u001b[1;33m\u001b[0m\u001b[0m\n",
      "\u001b[1;32m/home/lourdes/anaconda3/lib/python3.5/site-packages/pandas/core/computation/expr.py\u001b[0m in \u001b[0;36m_maybe_evaluate_binop\u001b[1;34m(self, op, op_class, lhs, rhs, eval_in_python, maybe_eval_in_python)\u001b[0m\n\u001b[0;32m    412\u001b[0m         \u001b[1;32mif\u001b[0m \u001b[0mres\u001b[0m\u001b[1;33m.\u001b[0m\u001b[0mop\u001b[0m \u001b[1;32min\u001b[0m \u001b[0meval_in_python\u001b[0m\u001b[1;33m:\u001b[0m\u001b[1;33m\u001b[0m\u001b[0m\n\u001b[0;32m    413\u001b[0m             \u001b[1;31m# \"in\"/\"not in\" ops are always evaluated in python\u001b[0m\u001b[1;33m\u001b[0m\u001b[1;33m\u001b[0m\u001b[0m\n\u001b[1;32m--> 414\u001b[1;33m             \u001b[1;32mreturn\u001b[0m \u001b[0mself\u001b[0m\u001b[1;33m.\u001b[0m\u001b[0m_maybe_eval\u001b[0m\u001b[1;33m(\u001b[0m\u001b[0mres\u001b[0m\u001b[1;33m,\u001b[0m \u001b[0meval_in_python\u001b[0m\u001b[1;33m)\u001b[0m\u001b[1;33m\u001b[0m\u001b[0m\n\u001b[0m\u001b[0;32m    415\u001b[0m         \u001b[1;32melif\u001b[0m \u001b[0mself\u001b[0m\u001b[1;33m.\u001b[0m\u001b[0mengine\u001b[0m \u001b[1;33m!=\u001b[0m \u001b[1;34m'pytables'\u001b[0m\u001b[1;33m:\u001b[0m\u001b[1;33m\u001b[0m\u001b[0m\n\u001b[0;32m    416\u001b[0m             if (getattr(lhs, 'return_type', None) == object or\n",
      "\u001b[1;32m/home/lourdes/anaconda3/lib/python3.5/site-packages/pandas/core/computation/expr.py\u001b[0m in \u001b[0;36m_maybe_eval\u001b[1;34m(self, binop, eval_in_python)\u001b[0m\n\u001b[0;32m    388\u001b[0m         \u001b[1;31m# call will be evaluated using isin (in python space)\u001b[0m\u001b[1;33m\u001b[0m\u001b[1;33m\u001b[0m\u001b[0m\n\u001b[0;32m    389\u001b[0m         return binop.evaluate(self.env, self.engine, self.parser,\n\u001b[1;32m--> 390\u001b[1;33m                               self.term_type, eval_in_python)\n\u001b[0m\u001b[0;32m    391\u001b[0m \u001b[1;33m\u001b[0m\u001b[0m\n\u001b[0;32m    392\u001b[0m     def _maybe_evaluate_binop(self, op, op_class, lhs, rhs,\n",
      "\u001b[1;32m/home/lourdes/anaconda3/lib/python3.5/site-packages/pandas/core/computation/ops.py\u001b[0m in \u001b[0;36mevaluate\u001b[1;34m(self, env, engine, parser, term_type, eval_in_python)\u001b[0m\n\u001b[0;32m    392\u001b[0m             \u001b[1;31m# base cases\u001b[0m\u001b[1;33m\u001b[0m\u001b[1;33m\u001b[0m\u001b[0m\n\u001b[0;32m    393\u001b[0m             \u001b[1;32mif\u001b[0m \u001b[0mself\u001b[0m\u001b[1;33m.\u001b[0m\u001b[0mop\u001b[0m \u001b[1;32min\u001b[0m \u001b[0meval_in_python\u001b[0m\u001b[1;33m:\u001b[0m\u001b[1;33m\u001b[0m\u001b[0m\n\u001b[1;32m--> 394\u001b[1;33m                 \u001b[0mres\u001b[0m \u001b[1;33m=\u001b[0m \u001b[0mself\u001b[0m\u001b[1;33m.\u001b[0m\u001b[0mfunc\u001b[0m\u001b[1;33m(\u001b[0m\u001b[0mleft\u001b[0m\u001b[1;33m.\u001b[0m\u001b[0mvalue\u001b[0m\u001b[1;33m,\u001b[0m \u001b[0mright\u001b[0m\u001b[1;33m.\u001b[0m\u001b[0mvalue\u001b[0m\u001b[1;33m)\u001b[0m\u001b[1;33m\u001b[0m\u001b[0m\n\u001b[0m\u001b[0;32m    395\u001b[0m             \u001b[1;32melse\u001b[0m\u001b[1;33m:\u001b[0m\u001b[1;33m\u001b[0m\u001b[0m\n\u001b[0;32m    396\u001b[0m                 res = pd.eval(self, local_dict=env, engine=engine,\n",
      "\u001b[1;32m/home/lourdes/anaconda3/lib/python3.5/site-packages/pandas/core/computation/ops.py\u001b[0m in \u001b[0;36m_in\u001b[1;34m(x, y)\u001b[0m\n\u001b[0;32m    240\u001b[0m             \u001b[1;32mexcept\u001b[0m \u001b[0mAttributeError\u001b[0m\u001b[1;33m:\u001b[0m\u001b[1;33m\u001b[0m\u001b[0m\n\u001b[0;32m    241\u001b[0m                 \u001b[1;32mpass\u001b[0m\u001b[1;33m\u001b[0m\u001b[0m\n\u001b[1;32m--> 242\u001b[1;33m         \u001b[1;32mreturn\u001b[0m \u001b[0mx\u001b[0m \u001b[1;32min\u001b[0m \u001b[0my\u001b[0m\u001b[1;33m\u001b[0m\u001b[0m\n\u001b[0m\u001b[0;32m    243\u001b[0m \u001b[1;33m\u001b[0m\u001b[0m\n\u001b[0;32m    244\u001b[0m \u001b[1;33m\u001b[0m\u001b[0m\n",
      "\u001b[1;31mTypeError\u001b[0m: argument of type 'int' is not iterable"
     ]
    }
   ],
   "source": [
    "##Hacerlo con la lista simple, no con la double\n",
    "values_metoprolol = generateProbabilisticList(arrStateEvidence, arrVariableEvidence,arrSingleProbabilisticEvidence,arrStateVarible, arrProbabilistic)"
   ]
  },
  {
   "cell_type": "code",
   "execution_count": null,
   "metadata": {
    "collapsed": false
   },
   "outputs": [],
   "source": [
    "values_metoprolol"
   ]
  },
  {
   "cell_type": "markdown",
   "metadata": {},
   "source": [
    "## Variable Hidroclorothiazida"
   ]
  },
  {
   "cell_type": "markdown",
   "metadata": {},
   "source": [
    "** Para el caso de un medicamento hacia una patologia, se debera cambiar la forma con se interactuan**"
   ]
  },
  {
   "cell_type": "code",
   "execution_count": null,
   "metadata": {
    "collapsed": true
   },
   "outputs": [],
   "source": [
    "arrStateEvidence    = [2,2,2]\n",
    "arrVariableEvidence = ['EP_Diabetes', 'EP_Gota', 'MP_ibuprofeno']\n",
    "arrSingleProbabilisticEvidence =[[0.80,0.20],[0.40,0.60],[0.05,0.95]]\n",
    "arrStateVarible  = ['Prescribir', 'No_Prescribir']\n",
    "arrProbabilistic = [0.10,0.90]"
   ]
  },
  {
   "cell_type": "code",
   "execution_count": null,
   "metadata": {
    "collapsed": true
   },
   "outputs": [],
   "source": [
    "values_hidroclorothiazida = generateProbabilisticList(arrStateEvidence, arrVariableEvidence,arrSingleProbabilisticEvidence,arrStateVarible, arrProbabilistic)"
   ]
  },
  {
   "cell_type": "code",
   "execution_count": null,
   "metadata": {
    "collapsed": false
   },
   "outputs": [],
   "source": [
    "values_hidroclorothiazida"
   ]
  },
  {
   "cell_type": "markdown",
   "metadata": {},
   "source": [
    "## Variable Angina"
   ]
  },
  {
   "cell_type": "code",
   "execution_count": null,
   "metadata": {
    "collapsed": true
   },
   "outputs": [],
   "source": [
    "arrStateEvidence    = [2,2,2]\n",
    "arrVariableEvidence = ['MR_amlodipino', 'MR_losartan', 'MR_metropolol']\n",
    "arrSingleProbabilisticEvidence =[[0.20,0.80],[0.70,0.30],[0.40,0.60]]\n",
    "arrStateVarible  = ['Presente', 'Ausente']\n",
    "arrProbabilistic = [0.30,0.70]"
   ]
  },
  {
   "cell_type": "code",
   "execution_count": null,
   "metadata": {
    "collapsed": true
   },
   "outputs": [],
   "source": [
    "values_angina = generateProbabilisticList(arrStateEvidence, arrVariableEvidence,arrSingleProbabilisticEvidence, arrStateVarible, arrProbabilistic)"
   ]
  },
  {
   "cell_type": "code",
   "execution_count": null,
   "metadata": {
    "collapsed": false
   },
   "outputs": [],
   "source": [
    "values_angina"
   ]
  },
  {
   "cell_type": "markdown",
   "metadata": {},
   "source": [
    "## Variable Presion_Arterial"
   ]
  },
  {
   "cell_type": "code",
   "execution_count": null,
   "metadata": {
    "collapsed": true
   },
   "outputs": [],
   "source": [
    "arrStateEvidence    = [2,2,2,2,2,2,2,2,2,2]\n",
    "arrVariableEvidence         = ['MR_amlodipino','MR_captopril' ,'MR_carvedilol','MR_enalapril','MR_furosemida','MR_losartan' ,'MR_metropolol', 'MR_prazosin',  'MR_propanolol', 'MR_verapamilo']\n",
    "arrSingleProbabilisticEvidence =[[0.20,0.70,0.10],[0.10,0.80,0.10],[0.05,0.85,0.10],[0.10,0.75,0.15],[0.25,0.75,0.00],[0.25,0.75,0.00],[0.10,0.80,0.10],[0.05,0.95,0.00],[0.20,0.75,0.05],[0.15,0.80,0.05]]\n",
    "arrStateVarible  = ['Alta','Normal','Baja']\n",
    "arrProbabilistic = [0.33,0.34,0.33]"
   ]
  },
  {
   "cell_type": "code",
   "execution_count": null,
   "metadata": {
    "collapsed": false
   },
   "outputs": [],
   "source": [
    "values_presion_arterial = generateProbabilisticList(arrStateEvidence, arrVariableEvidence,arrSingleProbabilisticEvidence,arrStateVarible, arrProbabilistic)"
   ]
  },
  {
   "cell_type": "code",
   "execution_count": null,
   "metadata": {
    "collapsed": false
   },
   "outputs": [],
   "source": [
    "print(values_presion_arterial)"
   ]
  },
  {
   "cell_type": "markdown",
   "metadata": {},
   "source": [
    "## Variable Danho en Rinhones "
   ]
  },
  {
   "cell_type": "code",
   "execution_count": null,
   "metadata": {
    "collapsed": true
   },
   "outputs": [],
   "source": [
    "\n",
    "arrStateEvidence    = [2,2,2,2,2,2,2,2,2,2]\n",
    "arrVariableEvidence =           ['MR_amlodipino','MR_captopril','MR_carvedilol','MR_enalapril','MR_furosemida', 'MR_losartan', 'MR_metropolol','MR_prazosin', 'MR_propanolol','MR_verapamilo']\n",
    "arrSingleProbabilisticEvidence =[[0.20,0.80]    ,[0.40,0.60]   ,[0.10,0.90]    ,[0.35,0.65]   , [0.30,0.70]   , [0.60,0.40]  ,[0.32,0.68]    ,[0.25,0.75]  ,[0.30,0.70]  ,  [0.45,0.55]]\n",
    "arrStateVarible  = ['Presente', 'Ausente']\n",
    "arrProbabilistic = [0.75,0.25]"
   ]
  },
  {
   "cell_type": "code",
   "execution_count": null,
   "metadata": {
    "collapsed": false
   },
   "outputs": [],
   "source": [
    "values_danho_rinhones = generateProbabilisticList(arrStateEvidence, arrVariableEvidence,arrSingleProbabilisticEvidence, arrStateVarible, arrProbabilistic)"
   ]
  },
  {
   "cell_type": "code",
   "execution_count": null,
   "metadata": {
    "collapsed": false
   },
   "outputs": [],
   "source": [
    "print(values_danho_rinhones)"
   ]
  },
  {
   "cell_type": "markdown",
   "metadata": {},
   "source": [
    "# Creando la estructura de la RB"
   ]
  },
  {
   "cell_type": "code",
   "execution_count": null,
   "metadata": {
    "collapsed": false
   },
   "outputs": [],
   "source": [
    "bn0 = BayesianModel([('EP_Insuficiencia_Cardiaca', 'MR_metropolol'),              \n",
    "                    ('EP_Asma_Bronquial'         , 'MR_metropolol'), \n",
    "                    ('EP_Diabetes'               , 'MR_metropolol'), \n",
    "                    ('EP_Diabetes'  , 'MR_hidro'), \n",
    "                    ('MP_ibuprofeno', 'MR_hidro'), \n",
    "                    ('EP_Gota'      , 'MR_hidro'), \n",
    "                    ('MR_metropolol', 'SA_angina_de_pecho'),\n",
    "                    ('MR_metropolol', 'SA_danho_rinhones'),\n",
    "                    ('MR_metropolol', 'SA_presion_arterial'),\n",
    "                    #('MR_hidro', 'SA_danho_rinhones'),\n",
    "                    #('MR_hidro', 'SA_presion_arterial'),\n",
    "                    ('MR_amlodipino', 'SA_angina_de_pecho'),\n",
    "                    ('MR_amlodipino', 'SA_danho_rinhones'),\n",
    "                    ('MR_amlodipino', 'SA_presion_arterial'),\n",
    "                    ('MR_losartan'  , 'SA_angina_de_pecho'),\n",
    "                    ('MR_losartan'  , 'SA_danho_rinhones'),\n",
    "                    ('MR_losartan'  , 'SA_presion_arterial'),\n",
    "                    ('MR_enalapril' , 'SA_danho_rinhones'),\n",
    "                    ('MR_enalapril' , 'SA_presion_arterial'),\n",
    "                    ('MR_furosemida', 'SA_presion_arterial'),\n",
    "                    ('MR_furosemida', 'SA_danho_rinhones'),\n",
    "                    ('MR_prazosin'  , 'SA_presion_arterial'),\n",
    "                    ('MR_prazosin'  , 'SA_danho_rinhones'),\n",
    "                    ('MR_verapamilo', 'SA_presion_arterial'),\n",
    "                    ('MR_verapamilo', 'SA_danho_rinhones'),\n",
    "                    ('MR_captopril', 'SA_presion_arterial'),\n",
    "                    ('MR_captopril', 'SA_danho_rinhones'),\n",
    "                    ('MR_propanolol', 'SA_presion_arterial'),\n",
    "                    ('MR_propanolol', 'SA_danho_rinhones'),\n",
    "                    ('MR_carvedilol', 'SA_presion_arterial'),\n",
    "                    ('MR_carvedilol', 'SA_danho_rinhones')\n",
    "                    ])"
   ]
  },
  {
   "cell_type": "markdown",
   "metadata": {},
   "source": [
    "# Definiendo los parametros del modelo (CPTs)\n",
    "En pgmpy las columnas son los valores de los padres (evidencias) y las filas son los estados de las variables "
   ]
  },
  {
   "cell_type": "code",
   "execution_count": null,
   "metadata": {
    "collapsed": false
   },
   "outputs": [],
   "source": [
    "#Antecendentes de los pacientes geriatricos\n",
    "\n",
    "cpt_Insuficiencia_Cardiaca = TabularCPD('EP_Insuficiencia_Cardiaca', 2, [[0.5], [0.5]])\n",
    "cpt_Asma_Bronquial = TabularCPD('EP_Asma_Bronquial', 2, [[0.5], [0.5]])\n",
    "cpt_Diabetes= TabularCPD('EP_Diabetes', 2,[[0.5], [0.5]])\n",
    "cpt_Ibuprofeno= TabularCPD('MP_ibuprofeno',2, [[0.5], [0.5]])\n",
    "cpt_Gota= TabularCPD('EP_Gota', 2, [[0.5], [0.5]])"
   ]
  },
  {
   "cell_type": "code",
   "execution_count": null,
   "metadata": {
    "collapsed": false
   },
   "outputs": [],
   "source": [
    "#Medicamentos a recetar\n",
    "\n",
    "cpt_metoprolol = TabularCPD('MR_metropolol', 2, values_metoprolol, evidence= ['EP_Asma_Bronquial','EP_Diabetes','EP_Insuficiencia_Cardiaca'],evidence_card=[2,2,2])\n",
    "cpt_hidroclorothiazida = TabularCPD('MR_hidro', 2,values_hidroclorothiazida,evidence=['EP_Diabetes','EP_Gota','MP_ibuprofeno'],evidence_card=[2,2,2])\n",
    "cpt_amlodipino = TabularCPD('MR_amlodipino', 2,[[0.5], [0.5]])\n",
    "cpt_losartan   = TabularCPD('MR_losartan'  , 2,[[0.5], [0.5]])\n",
    "cpt_enalapril  = TabularCPD('MR_enalapril' , 2,[[0.5], [0.5]])\n",
    "cpt_furosemida = TabularCPD('MR_furosemida', 2,[[0.5], [0.5]])\n",
    "cpt_prazosin   = TabularCPD('MR_prazosin'  , 2,[[0.5], [0.5]])\n",
    "cpt_verapamilo = TabularCPD('MR_verapamilo', 2,[[0.5], [0.5]])\n",
    "cpt_captopril  = TabularCPD('MR_captopril' , 2,[[0.5], [0.5]])\n",
    "cpt_propanolol = TabularCPD('MR_propanolol', 2,[[0.5], [0.5]])\n",
    "cpt_carvedilol = TabularCPD('MR_carvedilol', 2,[[0.5], [0.5]])\n",
    "\n"
   ]
  },
  {
   "cell_type": "code",
   "execution_count": null,
   "metadata": {
    "collapsed": false
   },
   "outputs": [],
   "source": [
    "#Sintomas resultantes\n",
    "cpt_angina_pecho     = TabularCPD('SA_angina_de_pecho' ,2,values_angina    ,['MR_amlodipino','MR_losartan','MR_metropolol'], [2,2,2])\n",
    "cpt_danho_rinhones   = TabularCPD('SA_danho_rinhones'  ,2,values_danho_rinhones  ,['MR_amlodipino','MR_enalapril','MR_captopril' ,'MR_carvedilol','MR_furosemida','MR_losartan','MR_metropolol','MR_prazosin','MR_propanolol','MR_verapamilo'],[2,2,2,2,2,2,2,2,2,2])\n",
    "cpt_presion_arterial = TabularCPD('SA_presion_arterial',3,values_presion_arterial,['MR_amlodipino','MR_enalapril','MR_captopril' ,'MR_carvedilol','MR_furosemida','MR_losartan','MR_metropolol','MR_prazosin','MR_propanolol','MR_verapamilo'],[2,2,2,2,2,2,2,2,2,2])"
   ]
  },
  {
   "cell_type": "markdown",
   "metadata": {},
   "source": [
    "## Asociando los CPTs con la estructura del modelo\n"
   ]
  },
  {
   "cell_type": "code",
   "execution_count": null,
   "metadata": {
    "collapsed": false
   },
   "outputs": [],
   "source": [
    "bn0.add_cpds(cpt_Insuficiencia_Cardiaca, cpt_Asma_Bronquial, cpt_Diabetes, cpt_Ibuprofeno, cpt_Gota,\n",
    "             cpt_metoprolol, cpt_amlodipino,  cpt_hidroclorothiazida,cpt_enalapril,cpt_furosemida, cpt_losartan ,cpt_propanolol,\n",
    "             cpt_prazosin, cpt_verapamilo, cpt_captopril,cpt_carvedilol, cpt_angina_pecho, cpt_danho_rinhones, cpt_presion_arterial)"
   ]
  },
  {
   "cell_type": "markdown",
   "metadata": {},
   "source": [
    "## Chequeando consistencia de la Red Bayesiana\n",
    "Chequea que todos los CPTs sean válidos para el modelo"
   ]
  },
  {
   "cell_type": "code",
   "execution_count": null,
   "metadata": {
    "collapsed": false
   },
   "outputs": [],
   "source": [
    "bn0.check_model()"
   ]
  },
  {
   "cell_type": "markdown",
   "metadata": {},
   "source": [
    "## Haciendo inferencias en la RB con algoritmo BeliefPropagation\n"
   ]
  },
  {
   "cell_type": "code",
   "execution_count": null,
   "metadata": {
    "collapsed": false
   },
   "outputs": [],
   "source": [
    "type(bn0)"
   ]
  },
  {
   "cell_type": "code",
   "execution_count": null,
   "metadata": {
    "collapsed": false
   },
   "outputs": [],
   "source": [
    "bn0"
   ]
  },
  {
   "cell_type": "markdown",
   "metadata": {},
   "source": [
    "** Exportar red bayesiana respectiva ** "
   ]
  },
  {
   "cell_type": "code",
   "execution_count": null,
   "metadata": {
    "collapsed": true
   },
   "outputs": [],
   "source": [
    "from pgmpy.readwrite import BIFWriter"
   ]
  },
  {
   "cell_type": "code",
   "execution_count": null,
   "metadata": {
    "collapsed": false,
    "scrolled": true
   },
   "outputs": [],
   "source": [
    "bp = BeliefPropagation(bn0)"
   ]
  },
  {
   "cell_type": "code",
   "execution_count": null,
   "metadata": {
    "collapsed": false
   },
   "outputs": [],
   "source": [
    "#write the model\n",
    "#using ProbModelXML\n",
    "#writer = ProbModelXMLWriter(bn0)\n",
    "#writer.write_file('probmodelxml.pgmx')\n",
    "#using BIF\n",
    "model_data = BIFWriter(bn0)\n",
    "model_data.write_bif('hipertension.bif')"
   ]
  },
  {
   "cell_type": "code",
   "execution_count": null,
   "metadata": {
    "collapsed": false
   },
   "outputs": [],
   "source": [
    "model_data"
   ]
  },
  {
   "cell_type": "markdown",
   "metadata": {},
   "source": [
    "** Leyendo la red bayesiana importada **"
   ]
  },
  {
   "cell_type": "code",
   "execution_count": null,
   "metadata": {
    "collapsed": true
   },
   "outputs": [],
   "source": [
    "reader = BIFReader('hipertension.bif')\n",
    "model = reader.get_model()"
   ]
  },
  {
   "cell_type": "code",
   "execution_count": null,
   "metadata": {
    "collapsed": false
   },
   "outputs": [],
   "source": [
    "model.check_model()"
   ]
  },
  {
   "cell_type": "code",
   "execution_count": null,
   "metadata": {
    "collapsed": true
   },
   "outputs": [],
   "source": [
    "bp = BeliefPropagation(model)"
   ]
  },
  {
   "cell_type": "code",
   "execution_count": null,
   "metadata": {
    "collapsed": false
   },
   "outputs": [],
   "source": [
    "bp.calibrate()"
   ]
  },
  {
   "cell_type": "code",
   "execution_count": null,
   "metadata": {
    "collapsed": false
   },
   "outputs": [],
   "source": [
    "phi = bp.query(variables=['SA_danho_rinhones','SA_presion_arterial'], \n",
    "                            evidence={'EP_Insuficiencia_Cardiaca':1, 'EP_Asma_Bronquial':1, 'EP_Diabetes':1, \n",
    "                                      'MR_metropolol':1, 'MR_amlodipino':0,'MR_enalapril':0,'MR_captopril':0,\n",
    "                                      'MR_carvedilol':0,'MR_furosemida': 0,'MR_hidro':0,'MR_losartan':0,\n",
    "                                      'MR_prazosin':0,'MR_propanolol':0,'MR_verapamilo':0})"
   ]
  },
  {
   "cell_type": "code",
   "execution_count": null,
   "metadata": {
    "collapsed": false
   },
   "outputs": [],
   "source": [
    "array =phi['SA_presion_arterial'].values"
   ]
  },
  {
   "cell_type": "code",
   "execution_count": null,
   "metadata": {
    "collapsed": false
   },
   "outputs": [],
   "source": [
    "array[0]"
   ]
  },
  {
   "cell_type": "code",
   "execution_count": null,
   "metadata": {
    "collapsed": false
   },
   "outputs": [],
   "source": [
    "print(createEvidence({'MR_metropolol':1, 'MR_amlodipino':0,'MR_enalapril':0},{'EP_Insuficiencia_Cardiaca':1}))"
   ]
  },
  {
   "cell_type": "code",
   "execution_count": null,
   "metadata": {
    "collapsed": true
   },
   "outputs": [],
   "source": [
    "def createEvidence(dicc1, dicc2):\n",
    "    evidence = dicc1.copy()\n",
    "    evidence.update(dicc2)\n",
    "    return evidence"
   ]
  },
  {
   "cell_type": "code",
   "execution_count": null,
   "metadata": {
    "collapsed": false
   },
   "outputs": [],
   "source": [
    "\n",
    "def fitnessFunction(diccBackground, diccMedicines, arrSymtopm, arrEfects, arrWeight,bn):\n",
    "    bp = BeliefPropagation(bn)\n",
    "    mergeSymEff = arrSymtopm + arrEfects\n",
    "    evidence = createEvidence(diccBackground,diccMedicines)   \n",
    "    phi = bp.query(variables=mergeSymEff, evidence = evidence)\n",
    "    sumAbsen = 0\n",
    "    sumTotal = 0\n",
    "    print('Probabilidad de ausencia')\n",
    "    for i,val in enumerate(mergeSymEff):\n",
    "        arrProb = phi[val].values\n",
    "        large = len(arrProb)\n",
    "        print(arrProb[large-1])\n",
    "        sumAbsen += arrProb[large-1]*arrWeight[i]\n",
    "        sumTotal += 1*arrWeight[i]\n",
    "        \n",
    "    print('Score')\n",
    "    score = sumAbsen / sumTotal\n",
    "    return score\n",
    "    #Se busca maximizar la ausencia\n",
    "           "
   ]
  },
  {
   "cell_type": "code",
   "execution_count": null,
   "metadata": {
    "collapsed": false
   },
   "outputs": [],
   "source": [
    "score = fitnessFunction({'EP_Insuficiencia_Cardiaca':0},{'MR_metropolol':1, 'MR_amlodipino':0,'MR_enalapril':0},\n",
    "                 ['SA_presion_arterial','SA_angina_de_pecho'],['SA_danho_rinhones'],[1,1,1],bn0 )\n",
    "score"
   ]
  }
 ],
 "metadata": {
  "anaconda-cloud": {},
  "kernelspec": {
   "display_name": "Python [anaconda3]",
   "language": "python",
   "name": "Python [anaconda3]"
  },
  "language_info": {
   "codemirror_mode": {
    "name": "ipython",
    "version": 3
   },
   "file_extension": ".py",
   "mimetype": "text/x-python",
   "name": "python",
   "nbconvert_exporter": "python",
   "pygments_lexer": "ipython3",
   "version": "3.5.2"
  }
 },
 "nbformat": 4,
 "nbformat_minor": 2
}
