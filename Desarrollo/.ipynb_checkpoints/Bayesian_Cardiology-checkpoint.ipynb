{
 "cells": [
  {
   "cell_type": "code",
   "execution_count": 1,
   "metadata": {
    "collapsed": true
   },
   "outputs": [],
   "source": [
    "from pgmpy.models import BayesianModel\n",
    "from pgmpy.factors.discrete import TabularCPD\n",
    "from pgmpy.inference import BeliefPropagation\n",
    "from pgmpy.factors.discrete import DiscreteFactor\n",
    "\n",
    "from utils import *\n",
    "import pandas as pd\n",
    "import numpy as np"
   ]
  },
  {
   "cell_type": "markdown",
   "metadata": {},
   "source": [
    "## Antecedentes"
   ]
  },
  {
   "cell_type": "markdown",
   "metadata": {},
   "source": [
    "### +Enalapril"
   ]
  },
  {
   "cell_type": "code",
   "execution_count": 2,
   "metadata": {
    "collapsed": true
   },
   "outputs": [],
   "source": [
    "arrStateEvidence    = [2]\n",
    "arrVariableEvidence = ['AN_MEDIDA_PRESION']\n",
    "arrSingleProbabilisticEvidence =[[0.90,0.10]]\n",
    "arrDoubleProbabilisticEvidence = [[0.90,0.10]]\n",
    "arrStateVarible  = ['Prescribir', 'No_Prescribir']\n",
    "arrProbabilistic = [0.01,0.99]"
   ]
  },
  {
   "cell_type": "code",
   "execution_count": 3,
   "metadata": {
    "collapsed": false
   },
   "outputs": [],
   "source": [
    "values_enalapril = generateProbabilisticList(arrStateEvidence, arrVariableEvidence,arrSingleProbabilisticEvidence,arrDoubleProbabilisticEvidence,arrStateVarible, arrProbabilistic)"
   ]
  },
  {
   "cell_type": "code",
   "execution_count": 4,
   "metadata": {
    "collapsed": false
   },
   "outputs": [
    {
     "data": {
      "text/plain": [
       "[[0.9, 0.01], [0.1, 0.99]]"
      ]
     },
     "execution_count": 4,
     "metadata": {},
     "output_type": "execute_result"
    }
   ],
   "source": [
    "values_enalapril"
   ]
  },
  {
   "cell_type": "markdown",
   "metadata": {},
   "source": [
    "### +Captopril"
   ]
  },
  {
   "cell_type": "code",
   "execution_count": 5,
   "metadata": {
    "collapsed": true
   },
   "outputs": [],
   "source": [
    "arrStateEvidence    = [2,2]\n",
    "arrVariableEvidence = ['AN_DISFUNCION_VENTRI', 'AN_MEDIDA_PRESION']\n",
    "arrSingleProbabilisticEvidence =[[0.55,0.45],[0.85,0.15]]\n",
    "arrDoubleProbabilisticEvidence = [[0.65,0.35]]\n",
    "arrStateVarible  = ['Prescribir', 'No_Prescribir']\n",
    "arrProbabilistic = [0.01,0.99]"
   ]
  },
  {
   "cell_type": "code",
   "execution_count": 6,
   "metadata": {
    "collapsed": false
   },
   "outputs": [],
   "source": [
    "values_captopril = generateProbabilisticList(arrStateEvidence, arrVariableEvidence,arrSingleProbabilisticEvidence,arrDoubleProbabilisticEvidence,arrStateVarible, arrProbabilistic)"
   ]
  },
  {
   "cell_type": "code",
   "execution_count": 7,
   "metadata": {
    "collapsed": false
   },
   "outputs": [
    {
     "data": {
      "text/plain": [
       "[[0.65, 0.85, 0.55, 0.01], [0.35, 0.15, 0.45, 0.99]]"
      ]
     },
     "execution_count": 7,
     "metadata": {},
     "output_type": "execute_result"
    }
   ],
   "source": [
    "values_captopril"
   ]
  },
  {
   "cell_type": "markdown",
   "metadata": {},
   "source": [
    "### +Clortalidona"
   ]
  },
  {
   "cell_type": "code",
   "execution_count": 8,
   "metadata": {
    "collapsed": true
   },
   "outputs": [],
   "source": [
    "arrStateEvidence    = [2,2,2]\n",
    "arrVariableEvidence = ['AN_HIPONATREMIA', 'AN_HIPOPOTASEMIA','AN_MEDIDA_PRESION']\n",
    "arrSingleProbabilisticEvidence =[[0.05,0.95],[0.05,0.95],[0.45,0.55]]\n",
    "arrDoubleProbabilisticEvidence = [[0.01,0.99],[0.20,0.80],[0.20,0.80]]\n",
    "arrStateVarible  = ['Prescribir', 'No_Prescribir']\n",
    "arrProbabilistic = [0.01,0.99]"
   ]
  },
  {
   "cell_type": "code",
   "execution_count": 9,
   "metadata": {
    "collapsed": false
   },
   "outputs": [],
   "source": [
    "values_clortalidona = generateProbabilisticList(arrStateEvidence, arrVariableEvidence,arrSingleProbabilisticEvidence,arrDoubleProbabilisticEvidence,arrStateVarible, arrProbabilistic)"
   ]
  },
  {
   "cell_type": "code",
   "execution_count": 10,
   "metadata": {
    "collapsed": false
   },
   "outputs": [
    {
     "data": {
      "text/plain": [
       "[[0.01, 0.2, 0.2, 0.45, 0.01, 0.05, 0.05, 0.01],\n",
       " [0.99, 0.8, 0.8, 0.55, 0.99, 0.95, 0.95, 0.99]]"
      ]
     },
     "execution_count": 10,
     "metadata": {},
     "output_type": "execute_result"
    }
   ],
   "source": [
    "values_clortalidona"
   ]
  },
  {
   "cell_type": "markdown",
   "metadata": {},
   "source": [
    "### +Bisoprolol"
   ]
  },
  {
   "cell_type": "code",
   "execution_count": 11,
   "metadata": {
    "collapsed": true
   },
   "outputs": [],
   "source": [
    "arrStateEvidence    = [2,2]\n",
    "arrVariableEvidence = ['AN_BRADICARDIA','AN_MEDIDA_PRESION']\n",
    "arrSingleProbabilisticEvidence =[[0.10,0.90],[0.55,0.45]]\n",
    "arrDoubleProbabilisticEvidence = [[0.15,0.85]]\n",
    "arrStateVarible  = ['Prescribir', 'No_Prescribir']\n",
    "arrProbabilistic = [0.01,0.99]"
   ]
  },
  {
   "cell_type": "code",
   "execution_count": 12,
   "metadata": {
    "collapsed": false
   },
   "outputs": [],
   "source": [
    "values_bisoprolol = generateProbabilisticList(arrStateEvidence, arrVariableEvidence,arrSingleProbabilisticEvidence,arrDoubleProbabilisticEvidence,arrStateVarible, arrProbabilistic)"
   ]
  },
  {
   "cell_type": "code",
   "execution_count": 13,
   "metadata": {
    "collapsed": false
   },
   "outputs": [
    {
     "data": {
      "text/plain": [
       "[[0.15, 0.55, 0.1, 0.01], [0.85, 0.45, 0.9, 0.99]]"
      ]
     },
     "execution_count": 13,
     "metadata": {},
     "output_type": "execute_result"
    }
   ],
   "source": [
    "values_bisoprolol"
   ]
  },
  {
   "cell_type": "markdown",
   "metadata": {},
   "source": [
    "### +Amlodipino"
   ]
  },
  {
   "cell_type": "code",
   "execution_count": 14,
   "metadata": {
    "collapsed": true
   },
   "outputs": [],
   "source": [
    "arrStateEvidence    = [2,2]\n",
    "arrVariableEvidence = ['AN_EXTRENIMIENTO', 'AN_MEDIDA_PRESION']\n",
    "arrSingleProbabilisticEvidence =[[0.10,0.90],[0.69,0.31]]\n",
    "arrDoubleProbabilisticEvidence = [[0.20,0.80]]\n",
    "arrStateVarible  = ['Prescribir', 'No_Prescribir']\n",
    "arrProbabilistic = [0.01,0.99]"
   ]
  },
  {
   "cell_type": "code",
   "execution_count": 15,
   "metadata": {
    "collapsed": false
   },
   "outputs": [],
   "source": [
    "values_amlodipino = generateProbabilisticList(arrStateEvidence, arrVariableEvidence,arrSingleProbabilisticEvidence,arrDoubleProbabilisticEvidence,arrStateVarible, arrProbabilistic)"
   ]
  },
  {
   "cell_type": "code",
   "execution_count": 16,
   "metadata": {
    "collapsed": false
   },
   "outputs": [
    {
     "data": {
      "text/plain": [
       "[[0.2, 0.69, 0.1, 0.01], [0.8, 0.31, 0.9, 0.99]]"
      ]
     },
     "execution_count": 16,
     "metadata": {},
     "output_type": "execute_result"
    }
   ],
   "source": [
    "values_amlodipino"
   ]
  },
  {
   "cell_type": "markdown",
   "metadata": {},
   "source": [
    "### +Losartan"
   ]
  },
  {
   "cell_type": "code",
   "execution_count": 17,
   "metadata": {
    "collapsed": true
   },
   "outputs": [],
   "source": [
    "arrStateEvidence    = [2]\n",
    "arrVariableEvidence = ['AN_MEDIDA_PRESION']\n",
    "arrSingleProbabilisticEvidence =[[0.85,0.15]]\n",
    "arrDoubleProbabilisticEvidence = [[0.85,0.15]]\n",
    "arrStateVarible  = ['Prescribir', 'No_Prescribir']\n",
    "arrProbabilistic = [0.01,0.99]"
   ]
  },
  {
   "cell_type": "code",
   "execution_count": 18,
   "metadata": {
    "collapsed": false
   },
   "outputs": [],
   "source": [
    "values_losartan = generateProbabilisticList(arrStateEvidence, arrVariableEvidence,arrSingleProbabilisticEvidence,arrDoubleProbabilisticEvidence,arrStateVarible, arrProbabilistic)"
   ]
  },
  {
   "cell_type": "code",
   "execution_count": 19,
   "metadata": {
    "collapsed": false
   },
   "outputs": [
    {
     "data": {
      "text/plain": [
       "[[0.85, 0.01], [0.15, 0.99]]"
      ]
     },
     "execution_count": 19,
     "metadata": {},
     "output_type": "execute_result"
    }
   ],
   "source": [
    "values_losartan"
   ]
  },
  {
   "cell_type": "markdown",
   "metadata": {},
   "source": [
    "### +Irbesartan"
   ]
  },
  {
   "cell_type": "code",
   "execution_count": 20,
   "metadata": {
    "collapsed": true
   },
   "outputs": [],
   "source": [
    "arrStateEvidence    = [2]\n",
    "arrVariableEvidence = ['AN_MEDIDA_PRESION']\n",
    "arrSingleProbabilisticEvidence =[[0.83,0.17]]\n",
    "arrDoubleProbabilisticEvidence = [[0.83,0.17]]\n",
    "arrStateVarible  = ['Prescribir', 'No_Prescribir']\n",
    "arrProbabilistic = [0.01,0.99]"
   ]
  },
  {
   "cell_type": "code",
   "execution_count": 21,
   "metadata": {
    "collapsed": false
   },
   "outputs": [],
   "source": [
    "values_irbesartan = generateProbabilisticList(arrStateEvidence, arrVariableEvidence,arrSingleProbabilisticEvidence,arrDoubleProbabilisticEvidence,arrStateVarible, arrProbabilistic)"
   ]
  },
  {
   "cell_type": "code",
   "execution_count": 22,
   "metadata": {
    "collapsed": false
   },
   "outputs": [
    {
     "data": {
      "text/plain": [
       "[[0.83, 0.01], [0.17, 0.99]]"
      ]
     },
     "execution_count": 22,
     "metadata": {},
     "output_type": "execute_result"
    }
   ],
   "source": [
    "values_irbesartan"
   ]
  },
  {
   "cell_type": "markdown",
   "metadata": {},
   "source": [
    "### +Verapamilo"
   ]
  },
  {
   "cell_type": "code",
   "execution_count": 23,
   "metadata": {
    "collapsed": true
   },
   "outputs": [],
   "source": [
    "arrStateEvidence    = [2,2]\n",
    "arrVariableEvidence = ['AN_EXTRENIMIENTO', 'AN_MEDIDA_PRESION']\n",
    "arrSingleProbabilisticEvidence =[[0.10,0.90],[0.65,0.35]]\n",
    "arrDoubleProbabilisticEvidence = [[0.20,0.80]]\n",
    "arrStateVarible  = ['Prescribir', 'No_Prescribir']\n",
    "arrProbabilistic = [0.01,0.99]"
   ]
  },
  {
   "cell_type": "code",
   "execution_count": 24,
   "metadata": {
    "collapsed": false
   },
   "outputs": [],
   "source": [
    "values_verapamilo = generateProbabilisticList(arrStateEvidence, arrVariableEvidence,arrSingleProbabilisticEvidence,arrDoubleProbabilisticEvidence,arrStateVarible, arrProbabilistic)"
   ]
  },
  {
   "cell_type": "code",
   "execution_count": 25,
   "metadata": {
    "collapsed": false
   },
   "outputs": [
    {
     "data": {
      "text/plain": [
       "[[0.2, 0.65, 0.1, 0.01], [0.8, 0.35, 0.9, 0.99]]"
      ]
     },
     "execution_count": 25,
     "metadata": {},
     "output_type": "execute_result"
    }
   ],
   "source": [
    "values_verapamilo"
   ]
  },
  {
   "cell_type": "markdown",
   "metadata": {},
   "source": [
    "## Diagnostico"
   ]
  },
  {
   "cell_type": "markdown",
   "metadata": {},
   "source": [
    "### +Insuficiencia Cardiaca"
   ]
  },
  {
   "cell_type": "code",
   "execution_count": 26,
   "metadata": {
    "collapsed": true
   },
   "outputs": [],
   "source": [
    "arrStateEvidence    = [2,2,2,2,2]\n",
    "arrVariableEvidence = [ 'MR_BISOPROLOL', 'MR_CLORTALIDONA', 'MR_ENALAPRIL','MR_IRBESARTAN', 'MR_LOSARTAN']\n",
    "arrSingleProbabilisticEvidence =[[0.35,0.65],[0.39,0.61],[0.24,0.76],[0.55,0.45],[0.48,0.52]]\n",
    "arrDoubleProbabilisticEvidence = [[0.60,0.40],[0.55,0.45],[0.48,0.52],[0.24,0.76],[0.33,0.67],\n",
    "                                  [0.65,0.35],[0.30,0.70],[0.25,0.75],[0.21,0.79],[0.80,0.20]]\n",
    "arrStateVarible  = ['Presente', 'Ausente']\n",
    "arrProbabilistic = [0.90,0.10]"
   ]
  },
  {
   "cell_type": "code",
   "execution_count": 27,
   "metadata": {
    "collapsed": false
   },
   "outputs": [],
   "source": [
    "values_insuficiencia = generateProbabilisticList(arrStateEvidence, arrVariableEvidence,arrSingleProbabilisticEvidence,arrDoubleProbabilisticEvidence,arrStateVarible, arrProbabilistic)"
   ]
  },
  {
   "cell_type": "code",
   "execution_count": 28,
   "metadata": {
    "collapsed": false
   },
   "outputs": [
    {
     "data": {
      "text/plain": [
       "[[0.9,\n",
       "  0.9,\n",
       "  0.9,\n",
       "  0.9,\n",
       "  0.9,\n",
       "  0.9,\n",
       "  0.9,\n",
       "  0.8,\n",
       "  0.9,\n",
       "  0.9,\n",
       "  0.9,\n",
       "  0.21,\n",
       "  0.9,\n",
       "  0.3,\n",
       "  0.24,\n",
       "  0.48,\n",
       "  0.9,\n",
       "  0.9,\n",
       "  0.9,\n",
       "  0.25,\n",
       "  0.9,\n",
       "  0.65,\n",
       "  0.48,\n",
       "  0.55,\n",
       "  0.9,\n",
       "  0.33,\n",
       "  0.55,\n",
       "  0.24,\n",
       "  0.6,\n",
       "  0.39,\n",
       "  0.35,\n",
       "  0.9],\n",
       " [0.1,\n",
       "  0.1,\n",
       "  0.1,\n",
       "  0.1,\n",
       "  0.1,\n",
       "  0.1,\n",
       "  0.1,\n",
       "  0.2,\n",
       "  0.1,\n",
       "  0.1,\n",
       "  0.1,\n",
       "  0.79,\n",
       "  0.1,\n",
       "  0.7,\n",
       "  0.76,\n",
       "  0.52,\n",
       "  0.1,\n",
       "  0.1,\n",
       "  0.1,\n",
       "  0.75,\n",
       "  0.1,\n",
       "  0.35,\n",
       "  0.52,\n",
       "  0.45,\n",
       "  0.1,\n",
       "  0.67,\n",
       "  0.45,\n",
       "  0.76,\n",
       "  0.4,\n",
       "  0.61,\n",
       "  0.65,\n",
       "  0.1]]"
      ]
     },
     "execution_count": 28,
     "metadata": {},
     "output_type": "execute_result"
    }
   ],
   "source": [
    "values_insuficiencia"
   ]
  },
  {
   "cell_type": "markdown",
   "metadata": {},
   "source": [
    "### +Hipertension Arterial"
   ]
  },
  {
   "cell_type": "code",
   "execution_count": 29,
   "metadata": {
    "collapsed": true
   },
   "outputs": [],
   "source": [
    "arrStateEvidence    = [2,2,2,2,2,2,2,2]\n",
    "arrVariableEvidence = ['MR_AMLODIPINO','MR_BISOPROLOL', 'MR_CAPTOPRIL','MR_CLORTALIDONA','MR_ENALAPRIL','MR_IRBESARTAN', 'MR_LOSARTAN',  'MR_VERAPAMILO']\n",
    "\n",
    "arrSingleProbabilisticEvidence =[[0.17,0.83],[0.36,0.64],[0.21,0.79],[0.31,0.69],[0.16,0.84],[0.18,0.82],[0.13,0.87],[0.22,0.78]]\n",
    "\n",
    "arrDoubleProbabilisticEvidence = [[0.24,0.76],[0.25,0.75],[0.85,0.15],[0.21,0.79],[0.22,0.78],[0.11,0.89],[0.78,0.22],\n",
    "                                  [0.26,0.74],[0.20,0.80],[0.21,0.79],[0.28,0.72],[0.19,0.81],[0.30,0.70],                                  \n",
    "                                  [0.25,0.75],[0.85,0.15],[0.27,0.73],[0.16,0.84],[0.28,0.72],                                  \n",
    "                                  [0.21,0.79],[0.18,0.82],[0.21,0.79],[0.24,0.76],\n",
    "                                  [0.29,0.71],[0.19,0.81],[0.16,0.84],\n",
    "                                  [0.85,0.15],[0.14,0.86],\n",
    "                                  [0.14,0.86]]\n",
    "arrStateVarible  = ['Presente', 'Ausente']\n",
    "arrProbabilistic = [0.90,0.10]"
   ]
  },
  {
   "cell_type": "code",
   "execution_count": 30,
   "metadata": {
    "collapsed": false
   },
   "outputs": [],
   "source": [
    "values_hipertension = generateProbabilisticList(arrStateEvidence, arrVariableEvidence,arrSingleProbabilisticEvidence,arrDoubleProbabilisticEvidence,arrStateVarible, arrProbabilistic)"
   ]
  },
  {
   "cell_type": "code",
   "execution_count": 31,
   "metadata": {
    "collapsed": false
   },
   "outputs": [
    {
     "data": {
      "text/plain": [
       "[[0.9,\n",
       "  0.9,\n",
       "  0.9,\n",
       "  0.9,\n",
       "  0.9,\n",
       "  0.9,\n",
       "  0.9,\n",
       "  0.9,\n",
       "  0.9,\n",
       "  0.9,\n",
       "  0.9,\n",
       "  0.9,\n",
       "  0.9,\n",
       "  0.9,\n",
       "  0.9,\n",
       "  0.9,\n",
       "  0.9,\n",
       "  0.9,\n",
       "  0.9,\n",
       "  0.9,\n",
       "  0.9,\n",
       "  0.9,\n",
       "  0.9,\n",
       "  0.9,\n",
       "  0.9,\n",
       "  0.9,\n",
       "  0.9,\n",
       "  0.9,\n",
       "  0.9,\n",
       "  0.9,\n",
       "  0.9,\n",
       "  0.9,\n",
       "  0.9,\n",
       "  0.9,\n",
       "  0.9,\n",
       "  0.9,\n",
       "  0.9,\n",
       "  0.9,\n",
       "  0.9,\n",
       "  0.9,\n",
       "  0.9,\n",
       "  0.9,\n",
       "  0.9,\n",
       "  0.9,\n",
       "  0.9,\n",
       "  0.9,\n",
       "  0.9,\n",
       "  0.9,\n",
       "  0.9,\n",
       "  0.9,\n",
       "  0.9,\n",
       "  0.9,\n",
       "  0.9,\n",
       "  0.9,\n",
       "  0.9,\n",
       "  0.9,\n",
       "  0.9,\n",
       "  0.9,\n",
       "  0.9,\n",
       "  0.9,\n",
       "  0.9,\n",
       "  0.9,\n",
       "  0.9,\n",
       "  0.14,\n",
       "  0.9,\n",
       "  0.9,\n",
       "  0.9,\n",
       "  0.9,\n",
       "  0.9,\n",
       "  0.9,\n",
       "  0.9,\n",
       "  0.9,\n",
       "  0.9,\n",
       "  0.9,\n",
       "  0.9,\n",
       "  0.9,\n",
       "  0.9,\n",
       "  0.9,\n",
       "  0.9,\n",
       "  0.9,\n",
       "  0.9,\n",
       "  0.9,\n",
       "  0.9,\n",
       "  0.9,\n",
       "  0.9,\n",
       "  0.9,\n",
       "  0.9,\n",
       "  0.9,\n",
       "  0.9,\n",
       "  0.9,\n",
       "  0.9,\n",
       "  0.9,\n",
       "  0.9,\n",
       "  0.9,\n",
       "  0.9,\n",
       "  0.14,\n",
       "  0.9,\n",
       "  0.9,\n",
       "  0.9,\n",
       "  0.9,\n",
       "  0.9,\n",
       "  0.9,\n",
       "  0.9,\n",
       "  0.9,\n",
       "  0.9,\n",
       "  0.9,\n",
       "  0.9,\n",
       "  0.9,\n",
       "  0.9,\n",
       "  0.9,\n",
       "  0.9,\n",
       "  0.16,\n",
       "  0.9,\n",
       "  0.9,\n",
       "  0.9,\n",
       "  0.9,\n",
       "  0.9,\n",
       "  0.9,\n",
       "  0.9,\n",
       "  0.24,\n",
       "  0.9,\n",
       "  0.9,\n",
       "  0.9,\n",
       "  0.28,\n",
       "  0.9,\n",
       "  0.3,\n",
       "  0.78,\n",
       "  0.22,\n",
       "  0.9,\n",
       "  0.9,\n",
       "  0.9,\n",
       "  0.9,\n",
       "  0.9,\n",
       "  0.9,\n",
       "  0.9,\n",
       "  0.9,\n",
       "  0.9,\n",
       "  0.9,\n",
       "  0.9,\n",
       "  0.9,\n",
       "  0.9,\n",
       "  0.9,\n",
       "  0.9,\n",
       "  0.9,\n",
       "  0.9,\n",
       "  0.9,\n",
       "  0.9,\n",
       "  0.9,\n",
       "  0.9,\n",
       "  0.9,\n",
       "  0.9,\n",
       "  0.9,\n",
       "  0.9,\n",
       "  0.9,\n",
       "  0.9,\n",
       "  0.9,\n",
       "  0.9,\n",
       "  0.9,\n",
       "  0.9,\n",
       "  0.85,\n",
       "  0.9,\n",
       "  0.9,\n",
       "  0.9,\n",
       "  0.9,\n",
       "  0.9,\n",
       "  0.9,\n",
       "  0.9,\n",
       "  0.9,\n",
       "  0.9,\n",
       "  0.9,\n",
       "  0.9,\n",
       "  0.9,\n",
       "  0.9,\n",
       "  0.9,\n",
       "  0.9,\n",
       "  0.19,\n",
       "  0.9,\n",
       "  0.9,\n",
       "  0.9,\n",
       "  0.9,\n",
       "  0.9,\n",
       "  0.9,\n",
       "  0.9,\n",
       "  0.21,\n",
       "  0.9,\n",
       "  0.9,\n",
       "  0.9,\n",
       "  0.16,\n",
       "  0.9,\n",
       "  0.19,\n",
       "  0.11,\n",
       "  0.13,\n",
       "  0.9,\n",
       "  0.9,\n",
       "  0.9,\n",
       "  0.9,\n",
       "  0.9,\n",
       "  0.9,\n",
       "  0.9,\n",
       "  0.9,\n",
       "  0.9,\n",
       "  0.9,\n",
       "  0.9,\n",
       "  0.9,\n",
       "  0.9,\n",
       "  0.9,\n",
       "  0.9,\n",
       "  0.29,\n",
       "  0.9,\n",
       "  0.9,\n",
       "  0.9,\n",
       "  0.9,\n",
       "  0.9,\n",
       "  0.9,\n",
       "  0.9,\n",
       "  0.18,\n",
       "  0.9,\n",
       "  0.9,\n",
       "  0.9,\n",
       "  0.27,\n",
       "  0.9,\n",
       "  0.28,\n",
       "  0.22,\n",
       "  0.18,\n",
       "  0.9,\n",
       "  0.9,\n",
       "  0.9,\n",
       "  0.9,\n",
       "  0.9,\n",
       "  0.9,\n",
       "  0.9,\n",
       "  0.21,\n",
       "  0.9,\n",
       "  0.9,\n",
       "  0.9,\n",
       "  0.85,\n",
       "  0.9,\n",
       "  0.21,\n",
       "  0.21,\n",
       "  0.16,\n",
       "  0.9,\n",
       "  0.9,\n",
       "  0.9,\n",
       "  0.25,\n",
       "  0.9,\n",
       "  0.2,\n",
       "  0.85,\n",
       "  0.31,\n",
       "  0.9,\n",
       "  0.26,\n",
       "  0.25,\n",
       "  0.21,\n",
       "  0.24,\n",
       "  0.36,\n",
       "  0.17,\n",
       "  0.9],\n",
       " [0.1,\n",
       "  0.1,\n",
       "  0.1,\n",
       "  0.1,\n",
       "  0.1,\n",
       "  0.1,\n",
       "  0.1,\n",
       "  0.1,\n",
       "  0.1,\n",
       "  0.1,\n",
       "  0.1,\n",
       "  0.1,\n",
       "  0.1,\n",
       "  0.1,\n",
       "  0.1,\n",
       "  0.1,\n",
       "  0.1,\n",
       "  0.1,\n",
       "  0.1,\n",
       "  0.1,\n",
       "  0.1,\n",
       "  0.1,\n",
       "  0.1,\n",
       "  0.1,\n",
       "  0.1,\n",
       "  0.1,\n",
       "  0.1,\n",
       "  0.1,\n",
       "  0.1,\n",
       "  0.1,\n",
       "  0.1,\n",
       "  0.1,\n",
       "  0.1,\n",
       "  0.1,\n",
       "  0.1,\n",
       "  0.1,\n",
       "  0.1,\n",
       "  0.1,\n",
       "  0.1,\n",
       "  0.1,\n",
       "  0.1,\n",
       "  0.1,\n",
       "  0.1,\n",
       "  0.1,\n",
       "  0.1,\n",
       "  0.1,\n",
       "  0.1,\n",
       "  0.1,\n",
       "  0.1,\n",
       "  0.1,\n",
       "  0.1,\n",
       "  0.1,\n",
       "  0.1,\n",
       "  0.1,\n",
       "  0.1,\n",
       "  0.1,\n",
       "  0.1,\n",
       "  0.1,\n",
       "  0.1,\n",
       "  0.1,\n",
       "  0.1,\n",
       "  0.1,\n",
       "  0.1,\n",
       "  0.86,\n",
       "  0.1,\n",
       "  0.1,\n",
       "  0.1,\n",
       "  0.1,\n",
       "  0.1,\n",
       "  0.1,\n",
       "  0.1,\n",
       "  0.1,\n",
       "  0.1,\n",
       "  0.1,\n",
       "  0.1,\n",
       "  0.1,\n",
       "  0.1,\n",
       "  0.1,\n",
       "  0.1,\n",
       "  0.1,\n",
       "  0.1,\n",
       "  0.1,\n",
       "  0.1,\n",
       "  0.1,\n",
       "  0.1,\n",
       "  0.1,\n",
       "  0.1,\n",
       "  0.1,\n",
       "  0.1,\n",
       "  0.1,\n",
       "  0.1,\n",
       "  0.1,\n",
       "  0.1,\n",
       "  0.1,\n",
       "  0.1,\n",
       "  0.86,\n",
       "  0.1,\n",
       "  0.1,\n",
       "  0.1,\n",
       "  0.1,\n",
       "  0.1,\n",
       "  0.1,\n",
       "  0.1,\n",
       "  0.1,\n",
       "  0.1,\n",
       "  0.1,\n",
       "  0.1,\n",
       "  0.1,\n",
       "  0.1,\n",
       "  0.1,\n",
       "  0.1,\n",
       "  0.84,\n",
       "  0.1,\n",
       "  0.1,\n",
       "  0.1,\n",
       "  0.1,\n",
       "  0.1,\n",
       "  0.1,\n",
       "  0.1,\n",
       "  0.76,\n",
       "  0.1,\n",
       "  0.1,\n",
       "  0.1,\n",
       "  0.72,\n",
       "  0.1,\n",
       "  0.7,\n",
       "  0.22,\n",
       "  0.78,\n",
       "  0.1,\n",
       "  0.1,\n",
       "  0.1,\n",
       "  0.1,\n",
       "  0.1,\n",
       "  0.1,\n",
       "  0.1,\n",
       "  0.1,\n",
       "  0.1,\n",
       "  0.1,\n",
       "  0.1,\n",
       "  0.1,\n",
       "  0.1,\n",
       "  0.1,\n",
       "  0.1,\n",
       "  0.1,\n",
       "  0.1,\n",
       "  0.1,\n",
       "  0.1,\n",
       "  0.1,\n",
       "  0.1,\n",
       "  0.1,\n",
       "  0.1,\n",
       "  0.1,\n",
       "  0.1,\n",
       "  0.1,\n",
       "  0.1,\n",
       "  0.1,\n",
       "  0.1,\n",
       "  0.1,\n",
       "  0.1,\n",
       "  0.15,\n",
       "  0.1,\n",
       "  0.1,\n",
       "  0.1,\n",
       "  0.1,\n",
       "  0.1,\n",
       "  0.1,\n",
       "  0.1,\n",
       "  0.1,\n",
       "  0.1,\n",
       "  0.1,\n",
       "  0.1,\n",
       "  0.1,\n",
       "  0.1,\n",
       "  0.1,\n",
       "  0.1,\n",
       "  0.81,\n",
       "  0.1,\n",
       "  0.1,\n",
       "  0.1,\n",
       "  0.1,\n",
       "  0.1,\n",
       "  0.1,\n",
       "  0.1,\n",
       "  0.79,\n",
       "  0.1,\n",
       "  0.1,\n",
       "  0.1,\n",
       "  0.84,\n",
       "  0.1,\n",
       "  0.81,\n",
       "  0.89,\n",
       "  0.87,\n",
       "  0.1,\n",
       "  0.1,\n",
       "  0.1,\n",
       "  0.1,\n",
       "  0.1,\n",
       "  0.1,\n",
       "  0.1,\n",
       "  0.1,\n",
       "  0.1,\n",
       "  0.1,\n",
       "  0.1,\n",
       "  0.1,\n",
       "  0.1,\n",
       "  0.1,\n",
       "  0.1,\n",
       "  0.71,\n",
       "  0.1,\n",
       "  0.1,\n",
       "  0.1,\n",
       "  0.1,\n",
       "  0.1,\n",
       "  0.1,\n",
       "  0.1,\n",
       "  0.82,\n",
       "  0.1,\n",
       "  0.1,\n",
       "  0.1,\n",
       "  0.73,\n",
       "  0.1,\n",
       "  0.72,\n",
       "  0.78,\n",
       "  0.82,\n",
       "  0.1,\n",
       "  0.1,\n",
       "  0.1,\n",
       "  0.1,\n",
       "  0.1,\n",
       "  0.1,\n",
       "  0.1,\n",
       "  0.79,\n",
       "  0.1,\n",
       "  0.1,\n",
       "  0.1,\n",
       "  0.15,\n",
       "  0.1,\n",
       "  0.79,\n",
       "  0.79,\n",
       "  0.84,\n",
       "  0.1,\n",
       "  0.1,\n",
       "  0.1,\n",
       "  0.75,\n",
       "  0.1,\n",
       "  0.8,\n",
       "  0.15,\n",
       "  0.69,\n",
       "  0.1,\n",
       "  0.74,\n",
       "  0.75,\n",
       "  0.79,\n",
       "  0.76,\n",
       "  0.64,\n",
       "  0.83,\n",
       "  0.1]]"
      ]
     },
     "execution_count": 31,
     "metadata": {},
     "output_type": "execute_result"
    }
   ],
   "source": [
    "values_hipertension"
   ]
  },
  {
   "cell_type": "markdown",
   "metadata": {},
   "source": [
    "### +Angina de Pecho"
   ]
  },
  {
   "cell_type": "code",
   "execution_count": 32,
   "metadata": {
    "collapsed": true
   },
   "outputs": [],
   "source": [
    "arrStateEvidence    = [2,2,2]\n",
    "arrVariableEvidence = ['MR_AMLODIPINO','MR_BISOPROLOL','MR_VERAPAMILO']\n",
    "arrSingleProbabilisticEvidence =[[0.21,0.79],[0.29,0.71],[0.19,0.81]]\n",
    "arrDoubleProbabilisticEvidence = [[0.15,0.85],[0.75,0.25],[0.16,0.84]]\n",
    "arrStateVarible  = ['Presente', 'Ausente']\n",
    "arrProbabilistic = [0.90,0.10]"
   ]
  },
  {
   "cell_type": "code",
   "execution_count": 33,
   "metadata": {
    "collapsed": false
   },
   "outputs": [],
   "source": [
    "values_angina = generateProbabilisticList(arrStateEvidence, arrVariableEvidence,arrSingleProbabilisticEvidence,arrDoubleProbabilisticEvidence,arrStateVarible, arrProbabilistic)"
   ]
  },
  {
   "cell_type": "code",
   "execution_count": 34,
   "metadata": {
    "collapsed": false
   },
   "outputs": [
    {
     "data": {
      "text/plain": [
       "[[0.9, 0.16, 0.75, 0.19, 0.15, 0.29, 0.21, 0.9],\n",
       " [0.1, 0.84, 0.25, 0.81, 0.85, 0.71, 0.79, 0.1]]"
      ]
     },
     "execution_count": 34,
     "metadata": {},
     "output_type": "execute_result"
    }
   ],
   "source": [
    "values_angina"
   ]
  },
  {
   "cell_type": "markdown",
   "metadata": {},
   "source": [
    "# Creando la estructura Bayesiana"
   ]
  },
  {
   "cell_type": "code",
   "execution_count": 35,
   "metadata": {
    "collapsed": true
   },
   "outputs": [],
   "source": [
    "bn0 = BayesianModel([('AN_MEDIDA_PRESION', 'MR_ENALAPRIL'),              \n",
    "                     ('AN_MEDIDA_PRESION', 'MR_CAPTOPRIL'), \n",
    "                     ('AN_MEDIDA_PRESION', 'MR_CLORTALIDONA'), \n",
    "                     ('AN_MEDIDA_PRESION', 'MR_BISOPROLOL'), \n",
    "                     ('AN_MEDIDA_PRESION', 'MR_AMLODIPINO'),\n",
    "                     ('AN_MEDIDA_PRESION', 'MR_LOSARTAN'),\n",
    "                     ('AN_MEDIDA_PRESION', 'MR_IRBESARTAN'), \n",
    "                     ('AN_MEDIDA_PRESION', 'MR_VERAPAMILO'),                      \n",
    "                     ('AN_DISFUNCION_VENTRI', 'MR_CAPTOPRIL'), \n",
    "                     ('AN_HIPONATREMIA' , 'MR_CLORTALIDONA'), \n",
    "                     ('AN_HIPOPOTASEMIA', 'MR_CLORTALIDONA'), \n",
    "                     ('AN_BRADICARDIA'  , 'MR_BISOPROLOL'), \n",
    "                     ('AN_EXTRENIMIENTO', 'MR_AMLODIPINO'), \n",
    "                     ('AN_EXTRENIMIENTO', 'MR_VERAPAMILO'),                 \n",
    "                     ('MR_ENALAPRIL'    , 'SA_INSUFICIENCIA_CARDIACA'), \n",
    "                     ('MR_CLORTALIDONA' , 'SA_INSUFICIENCIA_CARDIACA'), \n",
    "                     ('MR_BISOPROLOL'   , 'SA_INSUFICIENCIA_CARDIACA'), \n",
    "                     ('MR_LOSARTAN'     , 'SA_INSUFICIENCIA_CARDIACA'), \n",
    "                     ('MR_IRBESARTAN'   , 'SA_INSUFICIENCIA_CARDIACA'), \n",
    "                     ('MR_ENALAPRIL'   , 'SA_HIPERTENSION_ARTERIAL'), \n",
    "                     ('MR_CLORTALIDONA', 'SA_HIPERTENSION_ARTERIAL'), \n",
    "                     ('MR_CAPTOPRIL'   , 'SA_HIPERTENSION_ARTERIAL'), \n",
    "                     ('MR_AMLODIPINO'  , 'SA_HIPERTENSION_ARTERIAL'), \n",
    "                     ('MR_LOSARTAN'    , 'SA_HIPERTENSION_ARTERIAL'),\n",
    "                     ('MR_IRBESARTAN'  , 'SA_HIPERTENSION_ARTERIAL'), \n",
    "                     ('MR_VERAPAMILO'  , 'SA_HIPERTENSION_ARTERIAL'), \n",
    "                     ('MR_BISOPROLOL'  , 'SA_HIPERTENSION_ARTERIAL'), \n",
    "                     ('MR_AMLODIPINO', 'SA_ANGINA_PECHO'), \n",
    "                     ('MR_BISOPROLOL', 'SA_ANGINA_PECHO'), \n",
    "                     ('MR_VERAPAMILO', 'SA_ANGINA_PECHO')\n",
    "                    ])\n"
   ]
  },
  {
   "cell_type": "code",
   "execution_count": 36,
   "metadata": {
    "collapsed": true
   },
   "outputs": [],
   "source": [
    "cpt_medida_presion    = TabularCPD('AN_MEDIDA_PRESION', 2, [[0.5], [0.5]])\n",
    "cpt_disfuncion_ventri = TabularCPD('AN_DISFUNCION_VENTRI', 2, [[0.5], [0.5]])\n",
    "cpt_hiponatremia      = TabularCPD('AN_HIPONATREMIA', 2,[[0.5], [0.5]])\n",
    "cpt_hipopotasemia     = TabularCPD('AN_HIPOPOTASEMIA',2, [[0.5], [0.5]])\n",
    "cpt_bradicardia       = TabularCPD('AN_BRADICARDIA', 2, [[0.5], [0.5]])\n",
    "cpt_extrenimiento     = TabularCPD('AN_EXTRENIMIENTO',2, [[0.5], [0.5]])"
   ]
  },
  {
   "cell_type": "code",
   "execution_count": 37,
   "metadata": {
    "collapsed": true
   },
   "outputs": [],
   "source": [
    "cpt_enalapril    = TabularCPD('MR_ENALAPRIL'   , 2 , values_enalapril, evidence= ['AN_MEDIDA_PRESION'],evidence_card=[2])\n",
    "cpt_captopril    = TabularCPD('MR_CAPTOPRIL'   , 2 , values_captopril, evidence= ['AN_DISFUNCION_VENTRI','AN_MEDIDA_PRESION'],evidence_card=[2,2])\n",
    "cpt_clortalidona = TabularCPD('MR_CLORTALIDONA', 2 , values_clortalidona, evidence= ['AN_HIPONATREMIA','AN_HIPOPOTASEMIA','AN_MEDIDA_PRESION'],evidence_card=[2,2,2])\n",
    "cpt_bisoprolol   = TabularCPD('MR_BISOPROLOL'  , 2 , values_bisoprolol, evidence= ['AN_BRADICARDIA','AN_MEDIDA_PRESION'],evidence_card=[2,2])\n",
    "cpt_amlodipino   = TabularCPD('MR_AMLODIPINO'  , 2 , values_amlodipino, evidence= ['AN_EXTRENIMIENTO','AN_MEDIDA_PRESION'],evidence_card=[2,2])\n",
    "cpt_losartan     = TabularCPD('MR_LOSARTAN'    , 2 , values_losartan  , evidence= ['AN_MEDIDA_PRESION'],evidence_card=[2])\n",
    "cpt_irbesartan   = TabularCPD('MR_IRBESARTAN'  , 2 , values_irbesartan, evidence= ['AN_MEDIDA_PRESION'],evidence_card=[2])\n",
    "cpt_verapamilo   = TabularCPD('MR_VERAPAMILO'  , 2 , values_verapamilo, evidence= ['AN_EXTRENIMIENTO','AN_MEDIDA_PRESION'],evidence_card=[2,2])\n"
   ]
  },
  {
   "cell_type": "code",
   "execution_count": 38,
   "metadata": {
    "collapsed": false
   },
   "outputs": [],
   "source": [
    "cpt_insuficiencia  = TabularCPD('SA_INSUFICIENCIA_CARDIACA' , 2 , values_insuficiencia,evidence= ['MR_ENALAPRIL','MR_CLORTALIDONA','MR_BISOPROLOL','MR_LOSARTAN','MR_IRBESARTAN'],evidence_card=[2,2,2,2,2])\n",
    "cpt_hipertension   = TabularCPD('SA_HIPERTENSION_ARTERIAL' , 2 , values_hipertension , evidence=['MR_ENALAPRIL','MR_CLORTALIDONA','MR_CAPTOPRIL','MR_AMLODIPINO','MR_LOSARTAN','MR_IRBESARTAN','MR_VERAPAMILO','MR_BISOPROLOL'],evidence_card=[2,2,2,2,2,2,2,2])\n",
    "cpt_angina_pecho   = TabularCPD('SA_ANGINA_PECHO', 2 , values_angina, evidence= ['MR_AMLODIPINO','MR_BISOPROLOL','MR_VERAPAMILO'],evidence_card=[2,2,2])\n"
   ]
  },
  {
   "cell_type": "code",
   "execution_count": 39,
   "metadata": {
    "collapsed": false
   },
   "outputs": [],
   "source": [
    "bn0.add_cpds(cpt_medida_presion, cpt_disfuncion_ventri, cpt_hiponatremia, cpt_hipopotasemia, cpt_bradicardia,cpt_extrenimiento,\n",
    "             cpt_enalapril, cpt_captopril, cpt_clortalidona , cpt_bisoprolol,cpt_amlodipino, cpt_losartan ,cpt_irbesartan, cpt_verapamilo, \n",
    "             cpt_insuficiencia, cpt_hipertension, cpt_angina_pecho)"
   ]
  },
  {
   "cell_type": "code",
   "execution_count": 40,
   "metadata": {
    "collapsed": false
   },
   "outputs": [
    {
     "data": {
      "text/plain": [
       "True"
      ]
     },
     "execution_count": 40,
     "metadata": {},
     "output_type": "execute_result"
    }
   ],
   "source": [
    "bn0.check_model()"
   ]
  },
  {
   "cell_type": "code",
   "execution_count": 41,
   "metadata": {
    "collapsed": true
   },
   "outputs": [],
   "source": [
    "bp = BeliefPropagation(bn0)"
   ]
  },
  {
   "cell_type": "code",
   "execution_count": 1,
   "metadata": {
    "collapsed": true
   },
   "outputs": [],
   "source": [
    "from pgmpy.readwrite import BIFWriter\n",
    "from pgmpy.readwrite import BIFReader"
   ]
  },
  {
   "cell_type": "code",
   "execution_count": 43,
   "metadata": {
    "collapsed": true
   },
   "outputs": [],
   "source": [
    "model_data = BIFWriter(bn0)\n",
    "model_data.write_bif('cardiologia.bif')"
   ]
  },
  {
   "cell_type": "code",
   "execution_count": 2,
   "metadata": {
    "collapsed": true
   },
   "outputs": [],
   "source": [
    "reader = BIFReader('cardiologia.bif')"
   ]
  },
  {
   "cell_type": "code",
   "execution_count": null,
   "metadata": {
    "collapsed": true
   },
   "outputs": [],
   "source": []
  },
  {
   "cell_type": "code",
   "execution_count": 42,
   "metadata": {
    "collapsed": false
   },
   "outputs": [
    {
     "ename": "NameError",
     "evalue": "name 'reader' is not defined",
     "output_type": "error",
     "traceback": [
      "\u001b[1;31m---------------------------------------------------------------------------\u001b[0m",
      "\u001b[1;31mNameError\u001b[0m                                 Traceback (most recent call last)",
      "\u001b[1;32m<ipython-input-42-635a29681b69>\u001b[0m in \u001b[0;36m<module>\u001b[1;34m()\u001b[0m\n\u001b[1;32m----> 1\u001b[1;33m \u001b[0mbn0\u001b[0m \u001b[1;33m=\u001b[0m \u001b[0mreader\u001b[0m\u001b[1;33m.\u001b[0m\u001b[0mget_model\u001b[0m\u001b[1;33m(\u001b[0m\u001b[1;33m)\u001b[0m\u001b[1;33m\u001b[0m\u001b[0m\n\u001b[0m",
      "\u001b[1;31mNameError\u001b[0m: name 'reader' is not defined"
     ]
    }
   ],
   "source": [
    "bn0 = reader.get_model()"
   ]
  },
  {
   "cell_type": "code",
   "execution_count": 43,
   "metadata": {
    "collapsed": false
   },
   "outputs": [],
   "source": [
    "bp = BeliefPropagation(bn0)"
   ]
  },
  {
   "cell_type": "markdown",
   "metadata": {},
   "source": [
    "## Primer caso"
   ]
  },
  {
   "cell_type": "code",
   "execution_count": 46,
   "metadata": {
    "collapsed": true
   },
   "outputs": [],
   "source": [
    "phi = bp.query(variables=['SA_HIPERTENSION_ARTERIAL'], \n",
    "                            evidence={'AN_BRADICARDIA': 0, 'AN_DISFUNCION_VENTRI': 1, 'AN_HIPONATREMIA': 1, 'AN_HIPOPOTASEMIA': 1, 'AN_EXTRENIMIENTO': 0, 'AN_MEDIDA_PRESION': 0\n",
    "                                      'MR_AMLODIPINO':1,'MR_BISOPROLOL':1,'MR_CAPTOPRIL':1,'MR_CLORTALIDONA': 0,\n",
    "                                      'MR_ENALAPRIL':0,'MR_IRBESARTAN':1,'MR_LOSARTAN':1,'MR_VERAPAMILO':1})"
   ]
  },
  {
   "cell_type": "code",
   "execution_count": 47,
   "metadata": {
    "collapsed": false
   },
   "outputs": [
    {
     "data": {
      "text/plain": [
       "array([0.14, 0.86])"
      ]
     },
     "execution_count": 47,
     "metadata": {},
     "output_type": "execute_result"
    }
   ],
   "source": [
    "phi['SA_HIPERTENSION_ARTERIAL'].values"
   ]
  },
  {
   "cell_type": "code",
   "execution_count": 51,
   "metadata": {
    "collapsed": false
   },
   "outputs": [
    {
     "name": "stdout",
     "output_type": "stream",
     "text": [
      "Probabilidad de ausencia\n",
      "Score\n",
      "0.86\n"
     ]
    }
   ],
   "source": [
    "score = fitnessFunction({'AN_BRADICARDIA': 0, 'AN_DISFUNCION_VENTRI': 1, 'AN_HIPONATREMIA': 1, 'AN_HIPOPOTASEMIA': 1, 'AN_EXTRENIMIENTO': 0, 'AN_MEDIDA_PRESION': 0},\n",
    "                        {'MR_VERAPAMILO': 1, 'MR_AMLODIPINO': 1, 'MR_CLORTALIDONA': 0, 'MR_ENALAPRIL': 0, 'MR_IRBESARTAN': 1, 'MR_LOSARTAN': 1, 'MR_BISOPROLOL': 1, 'MR_CAPTOPRIL': 1},\n",
    "                        ['SA_INSUFICIENCIA_CARDIACA','SA_HIPERTENSION_ARTERIAL','SA_ANGINA_PECHO'],[0,1,0],bn0 )"
   ]
  },
  {
   "cell_type": "code",
   "execution_count": null,
   "metadata": {
    "collapsed": true
   },
   "outputs": [],
   "source": []
  },
  {
   "cell_type": "code",
   "execution_count": null,
   "metadata": {
    "collapsed": true
   },
   "outputs": [],
   "source": []
  },
  {
   "cell_type": "code",
   "execution_count": null,
   "metadata": {
    "collapsed": true
   },
   "outputs": [],
   "source": []
  },
  {
   "cell_type": "code",
   "execution_count": 8,
   "metadata": {
    "collapsed": false
   },
   "outputs": [],
   "source": [
    "phi = bp.query(variables=['SA_INSUFICIENCIA_CARDIACA','SA_HIPERTENSION_ARTERIAL','SA_ANGINA_PECHO'], \n",
    "                            evidence={'AN_MEDIDA_PRESION':0, 'AN_DISFUNCION_VENTRI':1, 'AN_HIPONATREMIA':1, \n",
    "                                      'AN_HIPOPOTASEMIA':0, 'AN_BRADICARDIA':1,'AN_EXTRENIMIENTO':0,\n",
    "                                      'MR_AMLODIPINO':0,'MR_BISOPROLOL':1,'MR_CAPTOPRIL':1,'MR_CLORTALIDONA': 0,\n",
    "                                      'MR_ENALAPRIL':1,'MR_IRBESARTAN':1,'MR_LOSARTAN':1,'MR_VERAPAMILO':1})\n",
    "                                      "
   ]
  },
  {
   "cell_type": "code",
   "execution_count": 9,
   "metadata": {
    "collapsed": false
   },
   "outputs": [
    {
     "data": {
      "text/plain": [
       "array([0.55, 0.45])"
      ]
     },
     "execution_count": 9,
     "metadata": {},
     "output_type": "execute_result"
    }
   ],
   "source": [
    "phi['SA_INSUFICIENCIA_CARDIACA'].values"
   ]
  },
  {
   "cell_type": "code",
   "execution_count": 10,
   "metadata": {
    "collapsed": false
   },
   "outputs": [
    {
     "data": {
      "text/plain": [
       "array([0.16, 0.84])"
      ]
     },
     "execution_count": 10,
     "metadata": {},
     "output_type": "execute_result"
    }
   ],
   "source": [
    "phi['SA_HIPERTENSION_ARTERIAL'].values"
   ]
  },
  {
   "cell_type": "code",
   "execution_count": 11,
   "metadata": {
    "collapsed": false
   },
   "outputs": [
    {
     "data": {
      "text/plain": [
       "array([0.19, 0.81])"
      ]
     },
     "execution_count": 11,
     "metadata": {},
     "output_type": "execute_result"
    }
   ],
   "source": [
    "phi['SA_ANGINA_PECHO'].values"
   ]
  },
  {
   "cell_type": "code",
   "execution_count": 48,
   "metadata": {
    "collapsed": true
   },
   "outputs": [],
   "source": [
    "def fitnessFunction(diccBackground, diccMedicines, arrSymtopms, arrWeight,bn):\n",
    "    bp = BeliefPropagation(bn)\n",
    "    mergeSymEff = arrSymtopms\n",
    "    evidence = createEvidence(diccBackground,diccMedicines)   \n",
    "    phi = bp.query(variables=mergeSymEff, evidence = evidence)\n",
    "    sumAbsen = 0\n",
    "    sumTotal = 0\n",
    "    print('Probabilidad de ausencia')\n",
    "    for i,val in enumerate(mergeSymEff):\n",
    "        arrProb = phi[val].values\n",
    "        print(arrProb)\n",
    "        large = len(arrProb)\n",
    "        sumAbsen += arrProb[large-1]*arrWeight[i]\n",
    "        sumTotal += 1*arrWeight[i]\n",
    "        \n",
    "    print('Score')\n",
    "    score = sumAbsen / sumTotal\n",
    "    print(score)\n",
    "    return score"
   ]
  },
  {
   "cell_type": "code",
   "execution_count": 18,
   "metadata": {
    "collapsed": false
   },
   "outputs": [
    {
     "name": "stdout",
     "output_type": "stream",
     "text": [
      "Probabilidad de ausencia\n",
      "Score\n",
      "0.8720689655172412\n"
     ]
    }
   ],
   "source": [
    "score = fitnessFunction({'AN_MEDIDA_PRESION':0, 'AN_DISFUNCION_VENTRI':1, 'AN_HIPONATREMIA':1, 'AN_HIPOPOTASEMIA':0, 'AN_BRADICARDIA':0,'AN_EXTRENIMIENTO':0},\n",
    "                        {'MR_ENALAPRIL' :1, 'MR_CAPTOPRIL':1,'MR_CLORTALIDONA':1,'MR_BISOPROLOL':0,\n",
    "                         'MR_AMLODIPINO':1, 'MR_LOSARTAN' :1,'MR_IRBESARTAN'  :1,'MR_VERAPAMILO':0},\n",
    "                        ['SA_ANGINA_PECHO','SA_INSUFICIENCIA_CARDIACA','SA_HIPERTENSION_ARTERIAL'],[0.65,0,0.80],bn0 )"
   ]
  },
  {
   "cell_type": "code",
   "execution_count": null,
   "metadata": {
    "collapsed": true
   },
   "outputs": [],
   "source": [
    "#Verificar la salida de postman junto con lo de la red bayesiana.\n",
    "#Imprimir los medicamentos que estan siendo seleccionados"
   ]
  }
 ],
 "metadata": {
  "kernelspec": {
   "display_name": "Python [anaconda3]",
   "language": "python",
   "name": "Python [anaconda3]"
  },
  "language_info": {
   "codemirror_mode": {
    "name": "ipython",
    "version": 3
   },
   "file_extension": ".py",
   "mimetype": "text/x-python",
   "name": "python",
   "nbconvert_exporter": "python",
   "pygments_lexer": "ipython3",
   "version": "3.5.2"
  }
 },
 "nbformat": 4,
 "nbformat_minor": 0
}
