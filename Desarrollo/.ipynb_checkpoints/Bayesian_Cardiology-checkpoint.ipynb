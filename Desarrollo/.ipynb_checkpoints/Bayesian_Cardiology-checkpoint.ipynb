{
 "cells": [
  {
   "cell_type": "code",
   "execution_count": 1,
   "metadata": {
    "collapsed": true
   },
   "outputs": [],
   "source": [
    "from pgmpy.models import BayesianModel\n",
    "from pgmpy.factors.discrete import TabularCPD\n",
    "from pgmpy.inference import BeliefPropagation\n",
    "from pgmpy.factors.discrete import DiscreteFactor\n",
    "\n",
    "from utils import *\n",
    "import pandas as pd\n",
    "import numpy as np"
   ]
  },
  {
   "cell_type": "markdown",
   "metadata": {},
   "source": [
    "## Antecedentes"
   ]
  },
  {
   "cell_type": "markdown",
   "metadata": {},
   "source": [
    "### +Enalapril"
   ]
  },
  {
   "cell_type": "code",
   "execution_count": 10,
   "metadata": {
    "collapsed": true
   },
   "outputs": [],
   "source": [
    "arrStateEvidence    = [2]\n",
    "arrVariableEvidence = ['AN_MEDIDA_PRESION']\n",
    "arrSingleProbabilisticEvidence =[[0.90,0.10]]\n",
    "arrDoubleProbabilisticEvidence = [[0.90,0.10]]\n",
    "arrStateVarible  = ['Prescribir', 'No_Prescribir']\n",
    "arrProbabilistic = [0.01,0.99]"
   ]
  },
  {
   "cell_type": "code",
   "execution_count": 11,
   "metadata": {
    "collapsed": false
   },
   "outputs": [],
   "source": [
    "values_enalapril = generateProbabilisticList(arrStateEvidence, arrVariableEvidence,arrSingleProbabilisticEvidence,arrDoubleProbabilisticEvidence,arrStateVarible, arrProbabilistic)"
   ]
  },
  {
   "cell_type": "code",
   "execution_count": 12,
   "metadata": {
    "collapsed": false
   },
   "outputs": [
    {
     "data": {
      "text/plain": [
       "[[0.9, 0.01], [0.1, 0.99]]"
      ]
     },
     "execution_count": 12,
     "metadata": {},
     "output_type": "execute_result"
    }
   ],
   "source": [
    "values_enalapril"
   ]
  },
  {
   "cell_type": "markdown",
   "metadata": {},
   "source": [
    "### +Captopril"
   ]
  },
  {
   "cell_type": "code",
   "execution_count": 13,
   "metadata": {
    "collapsed": true
   },
   "outputs": [],
   "source": [
    "arrStateEvidence    = [2,2]\n",
    "arrVariableEvidence = ['AN_DISFUNCION_VENTRI', 'AN_MEDIDA_PRESION']\n",
    "arrSingleProbabilisticEvidence =[[0.55,0.45],[0.85,0.15]]\n",
    "arrDoubleProbabilisticEvidence = [[0.65,0.35]]\n",
    "arrStateVarible  = ['Prescribir', 'No_Prescribir']\n",
    "arrProbabilistic = [0.01,0.90]"
   ]
  },
  {
   "cell_type": "code",
   "execution_count": 14,
   "metadata": {
    "collapsed": true
   },
   "outputs": [],
   "source": [
    "values_captopril = generateProbabilisticList(arrStateEvidence, arrVariableEvidence,arrSingleProbabilisticEvidence,arrDoubleProbabilisticEvidence,arrStateVarible, arrProbabilistic)"
   ]
  },
  {
   "cell_type": "code",
   "execution_count": 15,
   "metadata": {
    "collapsed": false
   },
   "outputs": [
    {
     "data": {
      "text/plain": [
       "[[0.65, 0.85, 0.55, 0.01], [0.35, 0.15, 0.45, 0.9]]"
      ]
     },
     "execution_count": 15,
     "metadata": {},
     "output_type": "execute_result"
    }
   ],
   "source": [
    "values_captopril"
   ]
  },
  {
   "cell_type": "markdown",
   "metadata": {},
   "source": [
    "### +Clortalidona"
   ]
  },
  {
   "cell_type": "code",
   "execution_count": 19,
   "metadata": {
    "collapsed": true
   },
   "outputs": [],
   "source": [
    "arrStateEvidence    = [2,2,2]\n",
    "arrVariableEvidence = ['AN_HIPONATREMIA', 'AN_HIPOPOTASEMIA','AN_MEDIDA_PRESION']\n",
    "arrSingleProbabilisticEvidence =[[0.05,0.95],[0.05,0.95],[0.45,0.55]]\n",
    "arrDoubleProbabilisticEvidence = [[0.01,0.99],[0.20,0.80],[0.20,0.80]]\n",
    "arrStateVarible  = ['Prescribir', 'No_Prescribir']\n",
    "arrProbabilistic = [0.01,0.90]"
   ]
  },
  {
   "cell_type": "code",
   "execution_count": 20,
   "metadata": {
    "collapsed": false
   },
   "outputs": [],
   "source": [
    "values_clortalidona = generateProbabilisticList(arrStateEvidence, arrVariableEvidence,arrSingleProbabilisticEvidence,arrDoubleProbabilisticEvidence,arrStateVarible, arrProbabilistic)"
   ]
  },
  {
   "cell_type": "code",
   "execution_count": 21,
   "metadata": {
    "collapsed": false
   },
   "outputs": [
    {
     "data": {
      "text/plain": [
       "[[0.01, 0.2, 0.2, 0.45, 0.01, 0.05, 0.05, 0.01],\n",
       " [0.9, 0.8, 0.8, 0.55, 0.99, 0.95, 0.95, 0.9]]"
      ]
     },
     "execution_count": 21,
     "metadata": {},
     "output_type": "execute_result"
    }
   ],
   "source": [
    "values_clortalidona"
   ]
  },
  {
   "cell_type": "markdown",
   "metadata": {},
   "source": [
    "### +Bisoprolol"
   ]
  },
  {
   "cell_type": "code",
   "execution_count": 22,
   "metadata": {
    "collapsed": true
   },
   "outputs": [],
   "source": [
    "arrStateEvidence    = [2,2]\n",
    "arrVariableEvidence = ['AN_BRADICARDIA','AN_MEDIDA_PRESION']\n",
    "arrSingleProbabilisticEvidence =[[0.10,0.90],[0.55,0.45]]\n",
    "arrDoubleProbabilisticEvidence = [[0.15,0.85]]\n",
    "arrStateVarible  = ['Prescribir', 'No_Prescribir']\n",
    "arrProbabilistic = [0.01,0.90]"
   ]
  },
  {
   "cell_type": "code",
   "execution_count": 23,
   "metadata": {
    "collapsed": true
   },
   "outputs": [],
   "source": [
    "values_bisoprolol = generateProbabilisticList(arrStateEvidence, arrVariableEvidence,arrSingleProbabilisticEvidence,arrDoubleProbabilisticEvidence,arrStateVarible, arrProbabilistic)"
   ]
  },
  {
   "cell_type": "code",
   "execution_count": 24,
   "metadata": {
    "collapsed": false
   },
   "outputs": [
    {
     "data": {
      "text/plain": [
       "[[0.15, 0.55, 0.1, 0.01], [0.85, 0.45, 0.9, 0.9]]"
      ]
     },
     "execution_count": 24,
     "metadata": {},
     "output_type": "execute_result"
    }
   ],
   "source": [
    "values_bisoprolol"
   ]
  },
  {
   "cell_type": "markdown",
   "metadata": {},
   "source": [
    "### +Amlodipino"
   ]
  },
  {
   "cell_type": "code",
   "execution_count": 25,
   "metadata": {
    "collapsed": true
   },
   "outputs": [],
   "source": [
    "arrStateEvidence    = [2,2]\n",
    "arrVariableEvidence = ['AN_EXTRENIMIENTO', 'AN_MEDIDA_PRESION']\n",
    "arrSingleProbabilisticEvidence =[[0.10,0.90],[0.69,0.31]]\n",
    "arrDoubleProbabilisticEvidence = [[0.20,0.80]]\n",
    "arrStateVarible  = ['Prescribir', 'No_Prescribir']\n",
    "arrProbabilistic = [0.01,0.90]"
   ]
  },
  {
   "cell_type": "code",
   "execution_count": 26,
   "metadata": {
    "collapsed": true
   },
   "outputs": [],
   "source": [
    "values_amlodipino = generateProbabilisticList(arrStateEvidence, arrVariableEvidence,arrSingleProbabilisticEvidence,arrDoubleProbabilisticEvidence,arrStateVarible, arrProbabilistic)"
   ]
  },
  {
   "cell_type": "code",
   "execution_count": 27,
   "metadata": {
    "collapsed": false
   },
   "outputs": [
    {
     "data": {
      "text/plain": [
       "[[0.2, 0.69, 0.1, 0.01], [0.8, 0.31, 0.9, 0.9]]"
      ]
     },
     "execution_count": 27,
     "metadata": {},
     "output_type": "execute_result"
    }
   ],
   "source": [
    "values_amlodipino"
   ]
  },
  {
   "cell_type": "markdown",
   "metadata": {},
   "source": [
    "### +Losartan"
   ]
  },
  {
   "cell_type": "code",
   "execution_count": 29,
   "metadata": {
    "collapsed": true
   },
   "outputs": [],
   "source": [
    "arrStateEvidence    = [2]\n",
    "arrVariableEvidence = ['AN_MEDIDA_PRESION']\n",
    "arrSingleProbabilisticEvidence =[[0.85,0.15]]\n",
    "arrDoubleProbabilisticEvidence = [[0.85,0.15]]\n",
    "arrStateVarible  = ['Prescribir', 'No_Prescribir']\n",
    "arrProbabilistic = [0.01,0.90]"
   ]
  },
  {
   "cell_type": "code",
   "execution_count": 30,
   "metadata": {
    "collapsed": true
   },
   "outputs": [],
   "source": [
    "values_losartan = generateProbabilisticList(arrStateEvidence, arrVariableEvidence,arrSingleProbabilisticEvidence,arrDoubleProbabilisticEvidence,arrStateVarible, arrProbabilistic)"
   ]
  },
  {
   "cell_type": "code",
   "execution_count": 31,
   "metadata": {
    "collapsed": false
   },
   "outputs": [
    {
     "data": {
      "text/plain": [
       "[[0.85, 0.01], [0.15, 0.9]]"
      ]
     },
     "execution_count": 31,
     "metadata": {},
     "output_type": "execute_result"
    }
   ],
   "source": [
    "values_losartan"
   ]
  },
  {
   "cell_type": "markdown",
   "metadata": {},
   "source": [
    "### +Irbesartan"
   ]
  },
  {
   "cell_type": "code",
   "execution_count": 33,
   "metadata": {
    "collapsed": true
   },
   "outputs": [],
   "source": [
    "arrStateEvidence    = [2]\n",
    "arrVariableEvidence = ['AN_MEDIDA_PRESION']\n",
    "arrSingleProbabilisticEvidence =[[0.83,0.17]]\n",
    "arrDoubleProbabilisticEvidence = [[0.83,0.17]]\n",
    "arrStateVarible  = ['Prescribir', 'No_Prescribir']\n",
    "arrProbabilistic = [0.01,0.90]"
   ]
  },
  {
   "cell_type": "code",
   "execution_count": 34,
   "metadata": {
    "collapsed": true
   },
   "outputs": [],
   "source": [
    "values_irbesartan = generateProbabilisticList(arrStateEvidence, arrVariableEvidence,arrSingleProbabilisticEvidence,arrDoubleProbabilisticEvidence,arrStateVarible, arrProbabilistic)"
   ]
  },
  {
   "cell_type": "code",
   "execution_count": 35,
   "metadata": {
    "collapsed": false
   },
   "outputs": [
    {
     "data": {
      "text/plain": [
       "[[0.83, 0.01], [0.17, 0.9]]"
      ]
     },
     "execution_count": 35,
     "metadata": {},
     "output_type": "execute_result"
    }
   ],
   "source": [
    "values_irbesartan"
   ]
  },
  {
   "cell_type": "markdown",
   "metadata": {},
   "source": [
    "### +Verapamilo"
   ]
  },
  {
   "cell_type": "code",
   "execution_count": 36,
   "metadata": {
    "collapsed": true
   },
   "outputs": [],
   "source": [
    "arrStateEvidence    = [2,2]\n",
    "arrVariableEvidence = ['AN_EXTRENIMIENTO', 'AN_MEDIDA_PRESION']\n",
    "arrSingleProbabilisticEvidence =[[0.10,0.90],[0.65,0.35]]\n",
    "arrDoubleProbabilisticEvidence = [[0.20,0.80]]\n",
    "arrStateVarible  = ['Prescribir', 'No_Prescribir']\n",
    "arrProbabilistic = [0.01,0.90]"
   ]
  },
  {
   "cell_type": "code",
   "execution_count": 37,
   "metadata": {
    "collapsed": true
   },
   "outputs": [],
   "source": [
    "values_verapamilo = generateProbabilisticList(arrStateEvidence, arrVariableEvidence,arrSingleProbabilisticEvidence,arrDoubleProbabilisticEvidence,arrStateVarible, arrProbabilistic)"
   ]
  },
  {
   "cell_type": "code",
   "execution_count": 38,
   "metadata": {
    "collapsed": false
   },
   "outputs": [
    {
     "data": {
      "text/plain": [
       "[[0.2, 0.65, 0.1, 0.01], [0.8, 0.35, 0.9, 0.9]]"
      ]
     },
     "execution_count": 38,
     "metadata": {},
     "output_type": "execute_result"
    }
   ],
   "source": [
    "values_verapamilo"
   ]
  },
  {
   "cell_type": "markdown",
   "metadata": {},
   "source": [
    "## Diagnostico"
   ]
  },
  {
   "cell_type": "markdown",
   "metadata": {},
   "source": [
    "### +Insuficiencia Cardiaca"
   ]
  },
  {
   "cell_type": "code",
   "execution_count": 44,
   "metadata": {
    "collapsed": true
   },
   "outputs": [],
   "source": [
    "arrStateEvidence    = [2,2,2,2,2]\n",
    "arrVariableEvidence = ['MR_ENALAPRIL', 'MR_CLORTALIDONA', 'MR_BISOPROLOL', 'MR_LOSARTAN', 'MR_IRBESARTAN']\n",
    "arrSingleProbabilisticEvidence =[[0.24,0.76],[0.39,0.61],[0.35,0.65],[0.45,0.55],[0.45,0.55]]\n",
    "arrDoubleProbabilisticEvidence = [[0.20,0.80],[0.65,0.35],[0.75,0.25],[0.80,0.20],[0.22,0.88],\n",
    "                                  [0.75,0.25],[0.75,0.25],[0.60,0.40],[0.55,0.45],[0.45,0.55]]\n",
    "arrStateVarible  = ['Presente', 'Ausente']\n",
    "arrProbabilistic = [0.01,0.90]"
   ]
  },
  {
   "cell_type": "code",
   "execution_count": 45,
   "metadata": {
    "collapsed": false
   },
   "outputs": [],
   "source": [
    "values_insuficiencia = generateProbabilisticList(arrStateEvidence, arrVariableEvidence,arrSingleProbabilisticEvidence,arrDoubleProbabilisticEvidence,arrStateVarible, arrProbabilistic)"
   ]
  },
  {
   "cell_type": "code",
   "execution_count": 46,
   "metadata": {
    "collapsed": false
   },
   "outputs": [
    {
     "data": {
      "text/plain": [
       "[[0.01,\n",
       "  0.01,\n",
       "  0.01,\n",
       "  0.01,\n",
       "  0.01,\n",
       "  0.01,\n",
       "  0.01,\n",
       "  0.45,\n",
       "  0.01,\n",
       "  0.01,\n",
       "  0.01,\n",
       "  0.55,\n",
       "  0.01,\n",
       "  0.75,\n",
       "  0.8,\n",
       "  0.45,\n",
       "  0.01,\n",
       "  0.01,\n",
       "  0.01,\n",
       "  0.6,\n",
       "  0.01,\n",
       "  0.75,\n",
       "  0.75,\n",
       "  0.45,\n",
       "  0.01,\n",
       "  0.22,\n",
       "  0.65,\n",
       "  0.35,\n",
       "  0.2,\n",
       "  0.39,\n",
       "  0.24,\n",
       "  0.01],\n",
       " [0.9,\n",
       "  0.9,\n",
       "  0.9,\n",
       "  0.9,\n",
       "  0.9,\n",
       "  0.9,\n",
       "  0.9,\n",
       "  0.55,\n",
       "  0.9,\n",
       "  0.9,\n",
       "  0.9,\n",
       "  0.45,\n",
       "  0.9,\n",
       "  0.25,\n",
       "  0.2,\n",
       "  0.55,\n",
       "  0.9,\n",
       "  0.9,\n",
       "  0.9,\n",
       "  0.4,\n",
       "  0.9,\n",
       "  0.25,\n",
       "  0.25,\n",
       "  0.55,\n",
       "  0.9,\n",
       "  0.88,\n",
       "  0.35,\n",
       "  0.65,\n",
       "  0.8,\n",
       "  0.61,\n",
       "  0.76,\n",
       "  0.9]]"
      ]
     },
     "execution_count": 46,
     "metadata": {},
     "output_type": "execute_result"
    }
   ],
   "source": [
    "values_insuficiencia"
   ]
  },
  {
   "cell_type": "markdown",
   "metadata": {},
   "source": [
    "### +Hipertension Arterial"
   ]
  },
  {
   "cell_type": "code",
   "execution_count": null,
   "metadata": {
    "collapsed": true
   },
   "outputs": [],
   "source": [
    "arrStateEvidence    = [2,2,2,2,2,2,2,2]\n",
    "arrVariableEvidence = ['MR_ENALAPRIL', 'MR_CLORTALIDONA', 'MR_CAPTOPRIL', 'MR_AMLODIPINO', 'MR_LOSARTAN', 'MR_IRBESARTAN', 'MR_VERAPAMILO', 'MR_BISOPROLOL']\n",
    "arrSingleProbabilisticEvidence =[[0.19,0.81],[0.39,0.61],[0.25,0.75],[0.28,0.72],[0.12,0.88],[0.15,0.85],[0.25,0.75],[0.45,0.55]]\n",
    "arrDoubleProbabilisticEvidence = [[0.18,0.82],[0.79,0.21],[0.15,0.85],[0.25,0.75],[0.28,0.72],[0.21,0.79],[0.41,0.59],\n",
    "                                  \n",
    "                                  [0.15,0.85],[0.18,0.82],[0.35,0.65],[0.,0.42],[0.,0.55],[0.55,0.45],[0.45,0.55],\n",
    "                                  [0.75,0.25],[0.75,0.25],[0.60,0.40],[0.55,0.45],[0.45,0.55],[0.55,0.45],[0.45,0.55],\n",
    "                                  [0.75,0.25],[0.75,0.25],[0.60,0.40],[0.55,0.45],[0.45,0.55],[0.55,0.45],[0.45,0.55]]\n",
    "arrStateVarible  = ['Prescribir', 'No_Prescribir']\n",
    "arrProbabilistic = [0.01,0.90]"
   ]
  }
 ],
 "metadata": {
  "kernelspec": {
   "display_name": "Python [anaconda3]",
   "language": "python",
   "name": "Python [anaconda3]"
  },
  "language_info": {
   "codemirror_mode": {
    "name": "ipython",
    "version": 3
   },
   "file_extension": ".py",
   "mimetype": "text/x-python",
   "name": "python",
   "nbconvert_exporter": "python",
   "pygments_lexer": "ipython3",
   "version": "3.5.2"
  }
 },
 "nbformat": 4,
 "nbformat_minor": 0
}
